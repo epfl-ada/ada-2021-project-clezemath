{
 "cells": [
  {
   "cell_type": "markdown",
   "id": "e5308f83-0d11-42ae-aa59-8caf3cb5590d",
   "metadata": {},
   "source": [
    "## 1 - Initial analysis of the cropped Quotebank dataset"
   ]
  },
  {
   "cell_type": "markdown",
   "id": "c7388651-9c58-4068-8c07-181a92d93607",
   "metadata": {},
   "source": [
    "We have filtered out all the rows corresponding to quotes that did not contain any of the keywords related to gun control. The remaining rows have been added to a new file: 'quotes-cropped.json', which will be one of our main datasets for this project. It is much more reasonnable in size (550 Mo) than the full Quotebank dataset. This will allow us to work with Jupyter lab with all the data we need."
   ]
  },
  {
   "cell_type": "code",
   "execution_count": 1,
   "id": "56a87d83-3e4e-444a-b0a0-5db2482dd30f",
   "metadata": {},
   "outputs": [],
   "source": [
    "#Import usefull libraries\n",
    "import pandas as pd\n",
    "import numpy as np\n",
    "import matplotlib.pyplot as plt\n",
    "%matplotlib inline\n",
    "import seaborn as sns\n",
    "\n",
    "# Disable some pandas warnings we don't need\n",
    "pd.options.mode.chained_assignment = None\n",
    "\n",
    "# New dataframe with the data ('quotes-cropped.jspon')\n",
    "df_original = pd.read_json('quotes-cropped.json', lines=True)"
   ]
  },
  {
   "cell_type": "markdown",
   "id": "5bc949b8-e100-4882-8a3f-2906cb22d843",
   "metadata": {},
   "source": [
    "We will start by plotting the number of quotes containing at least one of our keywords over time (i.e. between 2015 and 2020). Even though some quotes will be irrelevant (e.g. \"we were **shooting** a movie\"), we assume the distribution of these irrelevant quotes to be close to uniform for the moment.\n",
    "\n",
    "Our plot should therefore give a good first impression on how much people/the media has been speaking about gun control during these five years."
   ]
  },
  {
   "cell_type": "code",
   "execution_count": 2,
   "id": "32f46169-5c0b-48f3-a83d-744ddaabf813",
   "metadata": {},
   "outputs": [
    {
     "data": {
      "text/html": [
       "<div>\n",
       "<style scoped>\n",
       "    .dataframe tbody tr th:only-of-type {\n",
       "        vertical-align: middle;\n",
       "    }\n",
       "\n",
       "    .dataframe tbody tr th {\n",
       "        vertical-align: top;\n",
       "    }\n",
       "\n",
       "    .dataframe thead th {\n",
       "        text-align: right;\n",
       "    }\n",
       "</style>\n",
       "<table border=\"1\" class=\"dataframe\">\n",
       "  <thead>\n",
       "    <tr style=\"text-align: right;\">\n",
       "      <th></th>\n",
       "      <th>date</th>\n",
       "      <th>quotation</th>\n",
       "    </tr>\n",
       "  </thead>\n",
       "  <tbody>\n",
       "    <tr>\n",
       "      <th>65127</th>\n",
       "      <td>2015-01-01 00:07:32</td>\n",
       "      <td>When we are face a suspect holding one of thes...</td>\n",
       "    </tr>\n",
       "    <tr>\n",
       "      <th>77653</th>\n",
       "      <td>2015-01-01 00:08:12</td>\n",
       "      <td>I expect much of the same from Edinburgh at Mu...</td>\n",
       "    </tr>\n",
       "    <tr>\n",
       "      <th>97745</th>\n",
       "      <td>2015-01-01 00:13:41</td>\n",
       "      <td>Of course the negative is if you need your gun...</td>\n",
       "    </tr>\n",
       "    <tr>\n",
       "      <th>45716</th>\n",
       "      <td>2015-01-01 00:13:41</td>\n",
       "      <td>Me personally, being a mother, when I sell a g...</td>\n",
       "    </tr>\n",
       "    <tr>\n",
       "      <th>79888</th>\n",
       "      <td>2015-01-01 00:14:39</td>\n",
       "      <td>We had a very good first half, and I thought w...</td>\n",
       "    </tr>\n",
       "  </tbody>\n",
       "</table>\n",
       "</div>"
      ],
      "text/plain": [
       "                     date                                          quotation\n",
       "65127 2015-01-01 00:07:32  When we are face a suspect holding one of thes...\n",
       "77653 2015-01-01 00:08:12  I expect much of the same from Edinburgh at Mu...\n",
       "97745 2015-01-01 00:13:41  Of course the negative is if you need your gun...\n",
       "45716 2015-01-01 00:13:41  Me personally, being a mother, when I sell a g...\n",
       "79888 2015-01-01 00:14:39  We had a very good first half, and I thought w..."
      ]
     },
     "execution_count": 2,
     "metadata": {},
     "output_type": "execute_result"
    }
   ],
   "source": [
    "# Keep only the columns that we need for our initial analysis\n",
    "df = df_original[['date','quotation']]\n",
    "\n",
    "# Convert data column to datetime format\n",
    "df['date'] = pd.to_datetime(df['date'])\n",
    "\n",
    "# Sort dataframe by date\n",
    "df = df.sort_values(by=['date'])\n",
    "\n",
    "df.head()"
   ]
  },
  {
   "cell_type": "markdown",
   "id": "ec9deb0e-e34f-4481-a100-c2404d28d2fe",
   "metadata": {},
   "source": [
    "Now that we have sorted the dataframe by date, we can move on to the plot."
   ]
  },
  {
   "cell_type": "code",
   "execution_count": 3,
   "id": "606f1697-e3ab-449b-942d-496d7af8ac97",
   "metadata": {},
   "outputs": [
    {
     "data": {
      "image/png": "[encoded data removed]",
      "text/plain": [
       "<Figure size 1080x360 with 1 Axes>"
      ]
     },
     "metadata": {
      "needs_background": "light"
     },
     "output_type": "display_data"
    }
   ],
   "source": [
    "# Plotting number of quotes that contain keywords on the timeframe of the dataset\n",
    "plt.figure(figsize=(15,5))\n",
    "\n",
    "plt.hist(df['date'],bins=2000)\n",
    "\n",
    "plt.title('Occurences of quotes containing at least one of the keywords between 2015 and 2020')\n",
    "plt.xlabel('Time')\n",
    "plt.ylabel('Number of occurences')\n",
    "plt.show()"
   ]
  },
  {
   "cell_type": "markdown",
   "id": "3a07302f-646a-4fc8-98af-06f0000f2de4",
   "metadata": {},
   "source": [
    "This histogram gives a good idea of how much people have been speaking of guns/firearms/shootings in the last 5 years in the media. But it has a major flaw: each quote has the same \"weight\" (one quote accounts for one occurence). But some quotes occure more often then others ('numOccurences' colum in the dataframe). We should take this extra information into account if we want a better view on the data."
   ]
  },
  {
   "cell_type": "code",
   "execution_count": 4,
   "id": "6747fc7f-bdab-482e-bb74-37eea6e1a7ca",
   "metadata": {},
   "outputs": [
    {
     "data": {
      "text/html": [
       "<div>\n",
       "<style scoped>\n",
       "    .dataframe tbody tr th:only-of-type {\n",
       "        vertical-align: middle;\n",
       "    }\n",
       "\n",
       "    .dataframe tbody tr th {\n",
       "        vertical-align: top;\n",
       "    }\n",
       "\n",
       "    .dataframe thead th {\n",
       "        text-align: right;\n",
       "    }\n",
       "</style>\n",
       "<table border=\"1\" class=\"dataframe\">\n",
       "  <thead>\n",
       "    <tr style=\"text-align: right;\">\n",
       "      <th></th>\n",
       "      <th>date</th>\n",
       "      <th>numOccurrences</th>\n",
       "    </tr>\n",
       "  </thead>\n",
       "  <tbody>\n",
       "    <tr>\n",
       "      <th>412337</th>\n",
       "      <td>2018-05-10 22:23:23</td>\n",
       "      <td>6</td>\n",
       "    </tr>\n",
       "    <tr>\n",
       "      <th>359237</th>\n",
       "      <td>2018-07-23 11:30:10</td>\n",
       "      <td>2</td>\n",
       "    </tr>\n",
       "    <tr>\n",
       "      <th>563645</th>\n",
       "      <td>2019-08-05 17:57:56</td>\n",
       "      <td>2</td>\n",
       "    </tr>\n",
       "    <tr>\n",
       "      <th>86123</th>\n",
       "      <td>2015-08-27 12:07:51</td>\n",
       "      <td>1</td>\n",
       "    </tr>\n",
       "    <tr>\n",
       "      <th>583189</th>\n",
       "      <td>2020-02-26 14:20:14</td>\n",
       "      <td>3</td>\n",
       "    </tr>\n",
       "    <tr>\n",
       "      <th>481648</th>\n",
       "      <td>2019-03-06 09:30:00</td>\n",
       "      <td>2</td>\n",
       "    </tr>\n",
       "    <tr>\n",
       "      <th>58505</th>\n",
       "      <td>2015-03-11 23:39:00</td>\n",
       "      <td>2</td>\n",
       "    </tr>\n",
       "    <tr>\n",
       "      <th>187752</th>\n",
       "      <td>2017-09-04 17:47:22</td>\n",
       "      <td>1</td>\n",
       "    </tr>\n",
       "    <tr>\n",
       "      <th>580258</th>\n",
       "      <td>2020-03-31 05:00:00</td>\n",
       "      <td>1</td>\n",
       "    </tr>\n",
       "    <tr>\n",
       "      <th>329791</th>\n",
       "      <td>2018-08-26 22:19:37</td>\n",
       "      <td>1</td>\n",
       "    </tr>\n",
       "    <tr>\n",
       "      <th>231333</th>\n",
       "      <td>2017-08-06 16:01:28</td>\n",
       "      <td>3</td>\n",
       "    </tr>\n",
       "    <tr>\n",
       "      <th>370426</th>\n",
       "      <td>2018-03-13 10:11:35</td>\n",
       "      <td>1</td>\n",
       "    </tr>\n",
       "    <tr>\n",
       "      <th>50692</th>\n",
       "      <td>2015-05-15 16:52:04</td>\n",
       "      <td>1</td>\n",
       "    </tr>\n",
       "    <tr>\n",
       "      <th>535502</th>\n",
       "      <td>2019-11-15 13:00:00</td>\n",
       "      <td>1</td>\n",
       "    </tr>\n",
       "    <tr>\n",
       "      <th>144361</th>\n",
       "      <td>2016-09-02 15:34:41</td>\n",
       "      <td>1</td>\n",
       "    </tr>\n",
       "  </tbody>\n",
       "</table>\n",
       "</div>"
      ],
      "text/plain": [
       "                      date  numOccurrences\n",
       "412337 2018-05-10 22:23:23               6\n",
       "359237 2018-07-23 11:30:10               2\n",
       "563645 2019-08-05 17:57:56               2\n",
       "86123  2015-08-27 12:07:51               1\n",
       "583189 2020-02-26 14:20:14               3\n",
       "481648 2019-03-06 09:30:00               2\n",
       "58505  2015-03-11 23:39:00               2\n",
       "187752 2017-09-04 17:47:22               1\n",
       "580258 2020-03-31 05:00:00               1\n",
       "329791 2018-08-26 22:19:37               1\n",
       "231333 2017-08-06 16:01:28               3\n",
       "370426 2018-03-13 10:11:35               1\n",
       "50692  2015-05-15 16:52:04               1\n",
       "535502 2019-11-15 13:00:00               1\n",
       "144361 2016-09-02 15:34:41               1"
      ]
     },
     "execution_count": 4,
     "metadata": {},
     "output_type": "execute_result"
    }
   ],
   "source": [
    "# Define a new dataframe for this specific study\n",
    "df = df_original[['date','numOccurrences']]\n",
    "df.sample(n=15)"
   ]
  },
  {
   "cell_type": "markdown",
   "id": "8d860adf-71d8-4dd5-a5c8-62aa79872271",
   "metadata": {},
   "source": [
    "This sample shows well how some quotes can have very different number of occurences, and therefore highlights how important it is for us to take this parameter into account.\n",
    "\n",
    "We will now define a new dataframe that contains the number of quotes (multiplied by their respective occurences) containing at least one of the keywords per day."
   ]
  },
  {
   "cell_type": "code",
   "execution_count": 5,
   "id": "f3fcc9c3-f4fc-4f18-8f0e-5133e4ee75a3",
   "metadata": {},
   "outputs": [
    {
     "data": {
      "text/html": [
       "<div>\n",
       "<style scoped>\n",
       "    .dataframe tbody tr th:only-of-type {\n",
       "        vertical-align: middle;\n",
       "    }\n",
       "\n",
       "    .dataframe tbody tr th {\n",
       "        vertical-align: top;\n",
       "    }\n",
       "\n",
       "    .dataframe thead th {\n",
       "        text-align: right;\n",
       "    }\n",
       "</style>\n",
       "<table border=\"1\" class=\"dataframe\">\n",
       "  <thead>\n",
       "    <tr style=\"text-align: right;\">\n",
       "      <th></th>\n",
       "      <th>date</th>\n",
       "      <th>sum</th>\n",
       "    </tr>\n",
       "  </thead>\n",
       "  <tbody>\n",
       "    <tr>\n",
       "      <th>1582</th>\n",
       "      <td>2015-01-01</td>\n",
       "      <td>141</td>\n",
       "    </tr>\n",
       "    <tr>\n",
       "      <th>1489</th>\n",
       "      <td>2015-01-02</td>\n",
       "      <td>167</td>\n",
       "    </tr>\n",
       "    <tr>\n",
       "      <th>1597</th>\n",
       "      <td>2015-01-03</td>\n",
       "      <td>135</td>\n",
       "    </tr>\n",
       "    <tr>\n",
       "      <th>1568</th>\n",
       "      <td>2015-01-04</td>\n",
       "      <td>145</td>\n",
       "    </tr>\n",
       "    <tr>\n",
       "      <th>1235</th>\n",
       "      <td>2015-01-05</td>\n",
       "      <td>221</td>\n",
       "    </tr>\n",
       "    <tr>\n",
       "      <th>1127</th>\n",
       "      <td>2015-01-06</td>\n",
       "      <td>254</td>\n",
       "    </tr>\n",
       "    <tr>\n",
       "      <th>517</th>\n",
       "      <td>2015-01-07</td>\n",
       "      <td>390</td>\n",
       "    </tr>\n",
       "    <tr>\n",
       "      <th>620</th>\n",
       "      <td>2015-01-08</td>\n",
       "      <td>367</td>\n",
       "    </tr>\n",
       "    <tr>\n",
       "      <th>1009</th>\n",
       "      <td>2015-01-09</td>\n",
       "      <td>292</td>\n",
       "    </tr>\n",
       "    <tr>\n",
       "      <th>1182</th>\n",
       "      <td>2015-01-10</td>\n",
       "      <td>236</td>\n",
       "    </tr>\n",
       "  </tbody>\n",
       "</table>\n",
       "</div>"
      ],
      "text/plain": [
       "           date  sum\n",
       "1582 2015-01-01  141\n",
       "1489 2015-01-02  167\n",
       "1597 2015-01-03  135\n",
       "1568 2015-01-04  145\n",
       "1235 2015-01-05  221\n",
       "1127 2015-01-06  254\n",
       "517  2015-01-07  390\n",
       "620  2015-01-08  367\n",
       "1009 2015-01-09  292\n",
       "1182 2015-01-10  236"
      ]
     },
     "execution_count": 5,
     "metadata": {},
     "output_type": "execute_result"
    }
   ],
   "source": [
    "# We sum all the occurences of each date, and create a \"sum\" column in the dataframe\n",
    "df = df['date'].dt.date.value_counts().rename('sum').to_frame()\n",
    "\n",
    "# The dates are now the indices of the rows. We make them a column again.\n",
    "df.index.name = 'date'\n",
    "df.reset_index(inplace=True)\n",
    "\n",
    "# Convert data column to datetime format\n",
    "df['date'] = pd.to_datetime(df['date'])\n",
    "\n",
    "# Sort dataframe by date\n",
    "df = df.sort_values(by=['date'])\n",
    "\n",
    "df.head(n=10)"
   ]
  },
  {
   "cell_type": "markdown",
   "id": "0d6a34c6-6fdd-4be2-83c5-11eaf4054e02",
   "metadata": {},
   "source": [
    "We now have our desired dataframe: one row is one day, and for each day we have the number of quotes (multiplied by their occurences) that contain at least a keyword."
   ]
  },
  {
   "cell_type": "code",
   "execution_count": 6,
   "id": "87dadadb-c468-4778-ab40-ef14697ce599",
   "metadata": {},
   "outputs": [
    {
     "data": {
      "image/png": "[encoded data removed]",
      "text/plain": [
       "<Figure size 1080x360 with 1 Axes>"
      ]
     },
     "metadata": {
      "needs_background": "light"
     },
     "output_type": "display_data"
    }
   ],
   "source": [
    "# Plotting number of quotes that contain keywords on the timeframe of the dataset\n",
    "plt.figure(figsize=(15,5))\n",
    "\n",
    "# We will use this in a comparitive plot in part 3\n",
    "backup1 = df[['date','sum']]\n",
    "\n",
    "plt.bar(df['date'],df['sum'])\n",
    "\n",
    "plt.title('Occurences of quotes containing at least one of the keywords between 2015 and 2020')\n",
    "plt.xlabel('Time')\n",
    "plt.ylabel('Number of occurences')\n",
    "plt.show()"
   ]
  },
  {
   "cell_type": "markdown",
   "id": "283a28b5-2020-44b8-83d3-5931bbd2c237",
   "metadata": {},
   "source": [
    "In the end, we see that this is plot is extremly similar to what we have obtained in the previous histogram! This is probably what data science is about sometimes... But at least we have cleared a possible source of error out of the way. We will be using this specific dataframe in the rest of the analysis."
   ]
  },
  {
   "cell_type": "markdown",
   "id": "c824c176-3d2b-4bf2-b8fe-9abbb22a9562",
   "metadata": {},
   "source": [
    "## 2 - Initial analysis of the \"Mother Jone's\" dataset"
   ]
  },
  {
   "cell_type": "markdown",
   "id": "4a63f027-c9af-4078-8901-ad80d46689f9",
   "metadata": {},
   "source": [
    "We have also proceeded to some initial analysis of the \"Mother Jone's US Mass Shootings\" dataset. Indeed, this dataset will give us some basic information about most shootings, such as: date, location, number of fatalities, number of injured, age of shooter, weapon type/legality..."
   ]
  },
  {
   "cell_type": "code",
   "execution_count": 7,
   "id": "e3c4f81d-3a9a-4626-9f0d-b77fc95fe763",
   "metadata": {},
   "outputs": [
    {
     "data": {
      "text/html": [
       "<div>\n",
       "<style scoped>\n",
       "    .dataframe tbody tr th:only-of-type {\n",
       "        vertical-align: middle;\n",
       "    }\n",
       "\n",
       "    .dataframe tbody tr th {\n",
       "        vertical-align: top;\n",
       "    }\n",
       "\n",
       "    .dataframe thead th {\n",
       "        text-align: right;\n",
       "    }\n",
       "</style>\n",
       "<table border=\"1\" class=\"dataframe\">\n",
       "  <thead>\n",
       "    <tr style=\"text-align: right;\">\n",
       "      <th></th>\n",
       "      <th>case</th>\n",
       "      <th>location</th>\n",
       "      <th>date</th>\n",
       "      <th>summary</th>\n",
       "      <th>fatalities</th>\n",
       "      <th>injured</th>\n",
       "      <th>total_victims</th>\n",
       "      <th>location.1</th>\n",
       "      <th>age_of_shooter</th>\n",
       "      <th>prior_signs_mental_health_issues</th>\n",
       "      <th>...</th>\n",
       "      <th>gender</th>\n",
       "      <th>sources</th>\n",
       "      <th>mental_health_sources</th>\n",
       "      <th>sources_additional_age</th>\n",
       "      <th>latitude</th>\n",
       "      <th>longitude</th>\n",
       "      <th>type</th>\n",
       "      <th>year</th>\n",
       "      <th>town</th>\n",
       "      <th>state</th>\n",
       "    </tr>\n",
       "  </thead>\n",
       "  <tbody>\n",
       "    <tr>\n",
       "      <th>12</th>\n",
       "      <td>Gilroy garlic festival shooting</td>\n",
       "      <td>Gilroy, California</td>\n",
       "      <td>2019-07-28</td>\n",
       "      <td>Santino William LeGan, 19, fired indiscriminat...</td>\n",
       "      <td>3</td>\n",
       "      <td>12</td>\n",
       "      <td>15</td>\n",
       "      <td>Other</td>\n",
       "      <td>19</td>\n",
       "      <td>TBD</td>\n",
       "      <td>...</td>\n",
       "      <td>M</td>\n",
       "      <td>https://www.cbsnews.com/live-news/garlic-festi...</td>\n",
       "      <td>-</td>\n",
       "      <td>-</td>\n",
       "      <td>36.997191</td>\n",
       "      <td>-121.584819</td>\n",
       "      <td>Mass</td>\n",
       "      <td>2019</td>\n",
       "      <td>Gilroy</td>\n",
       "      <td>California</td>\n",
       "    </tr>\n",
       "  </tbody>\n",
       "</table>\n",
       "<p>1 rows × 26 columns</p>\n",
       "</div>"
      ],
      "text/plain": [
       "                               case            location       date  \\\n",
       "12  Gilroy garlic festival shooting  Gilroy, California 2019-07-28   \n",
       "\n",
       "                                              summary  fatalities  injured  \\\n",
       "12  Santino William LeGan, 19, fired indiscriminat...           3       12   \n",
       "\n",
       "    total_victims location.1 age_of_shooter prior_signs_mental_health_issues  \\\n",
       "12             15      Other             19                              TBD   \n",
       "\n",
       "    ... gender                                            sources  \\\n",
       "12  ...      M  https://www.cbsnews.com/live-news/garlic-festi...   \n",
       "\n",
       "   mental_health_sources sources_additional_age   latitude   longitude  type  \\\n",
       "12                     -                      -  36.997191 -121.584819  Mass   \n",
       "\n",
       "    year    town       state  \n",
       "12  2019  Gilroy  California  \n",
       "\n",
       "[1 rows x 26 columns]"
      ]
     },
     "execution_count": 7,
     "metadata": {},
     "output_type": "execute_result"
    }
   ],
   "source": [
    "# Reading the csv file\n",
    "df = pd.read_csv('./Data/MassShootings.csv')\n",
    "\n",
    "# Drop unrelevant columns (for our initial analysis)\n",
    "# df = df.drop(columns = ['year', 'summary', 'prior_signs_mental_health_issues', 'mental_health_details', 'mental_health_sources', 'sources_additional_age', 'latitude', 'longitude'])\n",
    "\n",
    "# Two new columns: location splitted into town and state\n",
    "df[['town', 'state']] = df['location'].str.split(', ', expand = True)\n",
    "\n",
    "# Convert date column to datetime format for better handling\n",
    "df['date'] = pd.to_datetime(df['date'])\n",
    "\n",
    "# Quotebank dataset is limited to years 2015-2021. Need to use same time span:\n",
    "df = df.drop(df[df['date'].dt.year < 2015].index)\n",
    "df = df.drop(df[df['date'].dt.year > 2020].index)\n",
    "\n",
    "df.sample(n=1)"
   ]
  },
  {
   "cell_type": "markdown",
   "id": "3ac08211-90ea-495e-b62e-b3fdb1e5f0c1",
   "metadata": {},
   "source": [
    "To give us a first glimpse at the data, we can plot the fatalities per shooting accross time, as well as the distribution of the number of fatalities per shooting."
   ]
  },
  {
   "cell_type": "code",
   "execution_count": 8,
   "id": "16184470-fe4e-4dbb-b1a9-31dc0fb4b023",
   "metadata": {},
   "outputs": [
    {
     "data": {
      "image/png": "[encoded data removed]",
      "text/plain": [
       "<Figure size 936x360 with 2 Axes>"
      ]
     },
     "metadata": {
      "needs_background": "light"
     },
     "output_type": "display_data"
    }
   ],
   "source": [
    "fig, ax = plt.subplots(1,2,figsize=(13,5))\n",
    "\n",
    "# Plot shootings in (time, number of fatalities) format\n",
    "ax[0].scatter(df['date'], df['fatalities'])\n",
    "ax[0].set_title('Fatalities per shooting across the timeframe')\n",
    "ax[0].set_xlabel('Date')\n",
    "ax[0].set_ylabel('Fatalities');\n",
    "\n",
    "# Plot the distribution of the number of fatalities\n",
    "ax[1] = df['fatalities'].hist(bins= 50)\n",
    "ax[1].set_xlabel('Fatalities per shooting')\n",
    "ax[1].set_ylabel('Number of shootings')\n",
    "ax[1].set_title('Fatalities per shooting');"
   ]
  },
  {
   "cell_type": "markdown",
   "id": "948c961d-efd9-48f8-b123-135f56e06423",
   "metadata": {},
   "source": [
    "There isn't much data, but we can say it seems to follow a power law: most of the shootings have a small number of fatalities (<10), but some outliers are not unusual either, some shootings having over 40 fatalities."
   ]
  },
  {
   "cell_type": "code",
   "execution_count": 9,
   "id": "d33665c4-8bca-4946-9840-c936be73efac",
   "metadata": {},
   "outputs": [
    {
     "data": {
      "image/png": "[encoded data removed]",
      "text/plain": [
       "<Figure size 936x1080 with 3 Axes>"
      ]
     },
     "metadata": {
      "needs_background": "light"
     },
     "output_type": "display_data"
    }
   ],
   "source": [
    "# NOTE PERSO: JE ME DEMANDE A QUEL POINT CES 3 PLOTS SONT NECESSAIRES. \n",
    "# LAISSONS PEUT ETRE JUSTE POUR TOTAL VICTIMS OU POUR FATALITIES, MAIS LES 3 C'EST UN PEU REDONDANT\n",
    "# EVENTUELLEMENT SUPERPOSER LES 3??\n",
    "\n",
    "# The distribution of of fatalities, injured, total per month is plotted here\n",
    "fig, ax = plt.subplots(3,1,figsize=(13, 15))\n",
    "\n",
    "# Add x-axis and y-axis\n",
    "ax[0].bar(df['date'], df['fatalities'], width = 30, color = '#317873') #chosing the width to be equal to a month\n",
    "ax[1].bar(df['date'], df['injured'], width = 30, color = '#5f9ea0')\n",
    "ax[2].bar(df['date'], df['total_victims'], width = 30,  color = '#a0d6b4')\n",
    "\n",
    "# Set title and labels for axes\n",
    "ax[0].set(xlabel=\"Date\", ylabel=\"Fatalities\", title=\"Number of fatalities related to shooting\")\n",
    "ax[1].set(xlabel=\"Date\", ylabel=\"injured\", title=\"Number of injured related to shooting\")\n",
    "ax[2].set(xlabel=\"Date\", ylabel=\"total victims\", title=\"Total victims related to shooting\")\n",
    "\n",
    "plt.show()"
   ]
  },
  {
   "cell_type": "markdown",
   "id": "517a1ce2-088a-47b4-89c4-dc265667d327",
   "metadata": {},
   "source": [
    "There are many paramters to explore, and one of them is location of the event. With the following plot, we can clearly see that states have been very unequally affected by mass shootings. We can try to find some relevant correlations further on, such as average salary in the state, state political position (more of a 'blue state' or a 'red state'), etc. It will also be interesting to see how the location influences the media outrage after the shooting."
   ]
  },
  {
   "cell_type": "code",
   "execution_count": 10,
   "id": "20ba7f68-4771-418e-8c01-96312ecb2720",
   "metadata": {},
   "outputs": [
    {
     "data": {
      "image/png": "[encoded data removed]",
      "text/plain": [
       "<Figure size 1080x288 with 1 Axes>"
      ]
     },
     "metadata": {
      "needs_background": "light"
     },
     "output_type": "display_data"
    }
   ],
   "source": [
    "# Ploting the number of fatalities per state\n",
    "\n",
    "fig, ax = plt.subplots(figsize=(15, 4))\n",
    "ax = sns.barplot(y = df['fatalities'], x = df['state'], estimator = sum, ci = None)\n",
    "\n",
    "ax.set_xlabel(\"State\")\n",
    "ax.set_ylabel(\"Fatalities\")\n",
    "ax.set_title(\"Number of fatalities due to shootings for each state, between 2015 and 2020\")\n",
    "plt.xticks(rotation=45)\n",
    "plt.show()"
   ]
  },
  {
   "cell_type": "markdown",
   "id": "3d28e1e4-284a-40b3-9c6e-1250df23aa47",
   "metadata": {},
   "source": [
    "We can also look at some key statistics, using the .decribe() function. INUTILE? IL ME SEMBLE AUSSI QU'ON SE CONCENTRE BEAUCOUP SUR LES FATALITIES ET PEU SUR LES AUTRES VARIABLES AUSSIN NON? "
   ]
  },
  {
   "cell_type": "code",
   "execution_count": 11,
   "id": "52d3cd9d-e026-44be-95c6-2f8b76a031e2",
   "metadata": {},
   "outputs": [
    {
     "data": {
      "text/plain": [
       "count    48.000000\n",
       "mean      8.250000\n",
       "std      10.798936\n",
       "min       3.000000\n",
       "25%       3.000000\n",
       "50%       5.000000\n",
       "75%       9.000000\n",
       "max      58.000000\n",
       "Name: fatalities, dtype: float64"
      ]
     },
     "execution_count": 11,
     "metadata": {},
     "output_type": "execute_result"
    }
   ],
   "source": [
    "df['fatalities'].describe()"
   ]
  },
  {
   "cell_type": "markdown",
   "id": "d76e95bd-9694-49a6-bcc2-da33fb81b7be",
   "metadata": {},
   "source": [
    "Finally, we will use this dataframe in comparitive plots in part 3. Therefore we save it to a new dataframe (in case we want to overwrite df further on):"
   ]
  },
  {
   "cell_type": "code",
   "execution_count": 12,
   "id": "d67a84be-c92f-48b2-b560-0cc83b989927",
   "metadata": {},
   "outputs": [],
   "source": [
    "backup2 = df[['date','fatalities']]"
   ]
  },
  {
   "cell_type": "markdown",
   "id": "495fe526-fc83-4131-a5f4-e176f9fbcaa0",
   "metadata": {},
   "source": [
    "## 3 - Linking the two datasets"
   ]
  },
  {
   "cell_type": "markdown",
   "id": "e89631c1-1f41-427d-8048-b7a6f2be3da8",
   "metadata": {},
   "source": [
    "We will start by plotting a single timeline graph with the number of fatalities due to shootings over time, as well as the occurence of gun-related words in the media."
   ]
  },
  {
   "cell_type": "code",
   "execution_count": 13,
   "id": "0dcb1d67-3397-40a4-ac98-de26ef2a6fc6",
   "metadata": {},
   "outputs": [
    {
     "data": {
      "image/png": "[encoded data removed]",
      "text/plain": [
       "<Figure size 936x432 with 2 Axes>"
      ]
     },
     "metadata": {
      "needs_background": "light"
     },
     "output_type": "display_data"
    }
   ],
   "source": [
    "fig, ax1 = plt.subplots(figsize=(13,6))\n",
    "\n",
    "# Plotting the quotes over time (green)\n",
    "color = 'tab:green'\n",
    "ax1.set_title('Distribution of shootings in the USA (red) and quotes concerning guns (green) between 2015 and 2020')\n",
    "ax1.set_xlabel('Date')\n",
    "ax1.set_ylabel('Quotes', color=color)\n",
    "ax1.bar(backup1['date'], backup1['sum'], color=color, alpha=0.3, width = 3)\n",
    "ax1.tick_params(axis='y', labelcolor=color)\n",
    "\n",
    "# Same x-axis, but different y axis\n",
    "ax2 = ax1.twinx()\n",
    "\n",
    "# Plotting the fatalities due to shootings over time (red)\n",
    "color = 'tab:red'\n",
    "ax2.set_ylabel('Fatalities', color=color)  # we already handled the x-label with ax1\n",
    "ax2.bar(backup2['date'], backup2['fatalities'], color=color, alpha=0.9, width = 3)\n",
    "ax2.tick_params(axis='y', labelcolor=color)\n",
    "\n",
    "plt.show()"
   ]
  },
  {
   "cell_type": "markdown",
   "id": "a1e00dcc-220c-4223-bdb0-7b0d76602cc1",
   "metadata": {},
   "source": [
    "We can see several interesting events in this first plot. For example, the largest peak in fatalities happens around october 2017. It is followed by the second largest peak in quotes talking about guns."
   ]
  },
  {
   "cell_type": "code",
   "execution_count": 14,
   "id": "80f9a412-f016-437a-a70b-cc6f7053b32d",
   "metadata": {},
   "outputs": [
    {
     "name": "stdout",
     "output_type": "stream",
     "text": [
      "The largest shooting was:\n",
      "date          2017-10-01 00:00:00\n",
      "fatalities                     58\n",
      "Name: 0, dtype: object\n",
      "\n",
      "The corresponding peak in quotes discussing guns was:\n",
      "date    2017-10-03 00:00:00\n",
      "sum                    2351\n",
      "Name: 1, dtype: object\n"
     ]
    }
   ],
   "source": [
    "# Print the largest shooting (most fatalities)\n",
    "backup2 = backup2.sort_values(by='fatalities',ascending=False)\n",
    "backup2 = backup2.reset_index(drop=True)\n",
    "print(\"The largest shooting was:\")\n",
    "print(backup2.iloc[0])\n",
    "\n",
    "# Quotes following the shooting (two days after)\n",
    "backup1 = backup1.sort_values(by='sum',ascending=False)\n",
    "print(\"\\nThe corresponding peak in quotes discussing guns was:\")\n",
    "print(backup1.iloc[1])"
   ]
  },
  {
   "cell_type": "markdown",
   "id": "6593afbc-da15-45a1-acf9-a6a215420908",
   "metadata": {},
   "source": [
    "With the above print, we see that this peak is maximal exactly two days after the shooting.\n",
    " \n",
    "Another interesting observation we can make is that the largest peak in quotes concerning guns takes place after a smaller shooting, in early 2018:"
   ]
  },
  {
   "cell_type": "code",
   "execution_count": 15,
   "id": "a760548d-256f-425f-8478-ea11a0c76ee6",
   "metadata": {},
   "outputs": [
    {
     "data": {
      "image/png": "[encoded data removed]",
      "text/plain": [
       "<Figure size 648x288 with 2 Axes>"
      ]
     },
     "metadata": {
      "needs_background": "light"
     },
     "output_type": "display_data"
    }
   ],
   "source": [
    "# We want to zoom in by looking only at 2018\n",
    "backup1_2018 = backup1[(backup1['date'].dt.year==2018)]\n",
    "backup2_2018 = backup2[(backup2['date'].dt.year==2018)]\n",
    "\n",
    "fig, ax1 = plt.subplots(figsize=(9,4))\n",
    "\n",
    "# Plotting the quotes over time (green barplot)\n",
    "color = 'tab:green'\n",
    "ax1.set_title('Distribution of shootings in the USA (red) and quotes concerning guns (green) in 2018')\n",
    "ax1.set_xlabel('Date')\n",
    "ax1.set_ylabel('Quotes', color=color)\n",
    "ax1.bar(backup1_2018['date'], backup1_2018['sum'], color=color, alpha=0.3, width = 3)\n",
    "ax1.tick_params(axis='y', labelcolor=color)\n",
    "\n",
    "# Same x-axis, but different y axis\n",
    "ax2 = ax1.twinx()\n",
    "\n",
    "# Plotting the fatalities due to shootings over time (red barplot)\n",
    "color = 'tab:red'\n",
    "ax2.set_ylabel('Fatalities', color=color)  # we already handled the x-label with ax1\n",
    "ax2.bar(backup2_2018['date'], backup2_2018['fatalities'], color=color, alpha=0.9, width = 3)\n",
    "ax2.tick_params(axis='y', labelcolor=color)\n",
    "\n",
    "plt.show()"
   ]
  },
  {
   "cell_type": "markdown",
   "id": "9537078d-4238-4d4a-99a0-0e36cfaf6aa3",
   "metadata": {},
   "source": [
    "It seams that this particular event has made much more noise then the others and over a larger period of time. The fact that it was certainly not the shooting with the most fatalities (\"only\" 17, compared to 58 for the max) shows that the number of fatalities is clearly not the only parameter that influences the media coverage of the event as well as the amplitude of the discussion on gun control afterwards.\n",
    "\n",
    "This makes us want to investigate further: what are the other factors that can explain these differences? Some ideas: \n",
    "- Location of the shooting (what state, but also what type of place: e.g. at a school, workplace...)\n",
    "- Wheather of not the weapon was bought legally\n",
    "- Age, gender and ethnicity of the shooter and/or the victims\n",
    "- The type of weapon that was used (semi-automatic...)\n",
    "- etc."
   ]
  },
  {
   "cell_type": "markdown",
   "id": "b0e591fb-e3f1-482e-99ec-5f8c23904814",
   "metadata": {},
   "source": [
    "Just to give us an idea, we can look at the corresponding case in the dataframe and get all the details we know about it:"
   ]
  },
  {
   "cell_type": "code",
   "execution_count": 16,
   "id": "0f84c157-1646-4a5e-a428-c3ce552d4603",
   "metadata": {},
   "outputs": [
    {
     "data": {
      "text/plain": [
       "case                                    Marjory Stoneman Douglas High School shooting\n",
       "location                                                            Parkland, Florida\n",
       "date                                                              2018-02-14 00:00:00\n",
       "summary                             Nikolas J. Cruz, 19, heavily armed with an AR-...\n",
       "fatalities                                                                         17\n",
       "injured                                                                            17\n",
       "total_victims                                                                      34\n",
       "location.1                                                                     School\n",
       "age_of_shooter                                                                     19\n",
       "prior_signs_mental_health_issues                                                  Yes\n",
       "mental_health_details               Cruz had a long history of behavioral problems...\n",
       "weapons_obtained_legally                                                          Yes\n",
       "where_obtained                                                    A Florida pawn shop\n",
       "weapon_type                                                       semiautomatic rifle\n",
       "weapon_details                                                                  AR-15\n",
       "race                                                                            White\n",
       "gender                                                                              M\n",
       "sources                             https://www.nytimes.com/2018/02/14/us/parkland...\n",
       "mental_health_sources               https://www.nytimes.com/2018/02/15/us/nikolas-...\n",
       "sources_additional_age              https://www.nytimes.com/2018/02/14/us/parkland...\n",
       "latitude                                                                     26.30483\n",
       "longitude                                                                  -80.269511\n",
       "type                                                                             Mass\n",
       "year                                                                             2018\n",
       "town                                                                         Parkland\n",
       "state                                                                         Florida\n",
       "Name: 27, dtype: object"
      ]
     },
     "execution_count": 16,
     "metadata": {},
     "output_type": "execute_result"
    }
   ],
   "source": [
    "df = df[(df['date'].dt.year==2018)]\n",
    "df = df.sort_values(by='fatalities', ascending=False)\n",
    "df.iloc[0]"
   ]
  },
  {
   "cell_type": "code",
   "execution_count": null,
   "id": "58016097-ee77-41a7-8a4f-9361a8c59123",
   "metadata": {},
   "outputs": [],
   "source": []
  }
 ],
 "metadata": {
  "kernelspec": {
   "display_name": "Python 3 (ipykernel)",
   "language": "python",
   "name": "python3"
  },
  "language_info": {
   "codemirror_mode": {
    "name": "ipython",
    "version": 3
   },
   "file_extension": ".py",
   "mimetype": "text/x-python",
   "name": "python",
   "nbconvert_exporter": "python",
   "pygments_lexer": "ipython3",
   "version": "3.8.11"
  }
 },
 "nbformat": 4,
 "nbformat_minor": 5
}
