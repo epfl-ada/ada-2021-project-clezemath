{
 "cells": [
  {
   "cell_type": "markdown",
   "metadata": {},
   "source": [
    "## 1 - Initial analysis of the cropped Quotebank dataset"
   ]
  },
  {
   "cell_type": "markdown",
   "metadata": {},
   "source": [
    "We have filtered out all the rows corresponding to quotes that did not contain any of the keywords related to gun control. The remaining rows have been added to a new file: 'quotes-cropped.json', which will be one of our main datasets for this project. It is much more reasonnable in size (550 Mo) than the full Quotebank dataset. This will allow us to work with Jupyter lab with all the data we need."
   ]
  },
  {
   "cell_type": "code",
   "execution_count": 21,
   "metadata": {},
   "outputs": [
    {
     "name": "stdout",
     "output_type": "stream",
     "text": [
      "Requirement already satisfied: tld in c:\\users\\doo\\anaconda3\\lib\\site-packages (0.12.6)\n"
     ]
    }
   ],
   "source": [
    "#Import usefull libraries\n",
    "import pandas as pd\n",
    "import numpy as np\n",
    "import matplotlib.pyplot as plt\n",
    "%matplotlib inline\n",
    "import seaborn as sns\n",
    "!pip install tld\n",
    "from tld import get_tld\n",
    "import json\n",
    "import bz2\n",
    "# Disable some pandas warnings we don't need\n",
    "pd.options.mode.chained_assignment = None"
   ]
  },
  {
   "cell_type": "markdown",
   "metadata": {},
   "source": [
    "Since we only consider those quotes from American online newspapers, we should be able to determine which country the websites\n",
    "belong to.\n",
    "In order to reach this target, we choose to use a new dataset which contains country-website pairs."
   ]
  },
  {
   "cell_type": "code",
   "execution_count": 77,
   "metadata": {},
   "outputs": [
    {
     "data": {
      "text/html": [
       "<div>\n",
       "<style scoped>\n",
       "    .dataframe tbody tr th:only-of-type {\n",
       "        vertical-align: middle;\n",
       "    }\n",
       "\n",
       "    .dataframe tbody tr th {\n",
       "        vertical-align: top;\n",
       "    }\n",
       "\n",
       "    .dataframe thead th {\n",
       "        text-align: right;\n",
       "    }\n",
       "</style>\n",
       "<table border=\"1\" class=\"dataframe\">\n",
       "  <thead>\n",
       "    <tr style=\"text-align: right;\">\n",
       "      <th></th>\n",
       "      <th>id</th>\n",
       "      <th>unknown</th>\n",
       "      <th>date</th>\n",
       "      <th>country</th>\n",
       "      <th>media</th>\n",
       "      <th>website</th>\n",
       "      <th>title</th>\n",
       "      <th>domain</th>\n",
       "    </tr>\n",
       "  </thead>\n",
       "  <tbody>\n",
       "    <tr>\n",
       "      <th>0</th>\n",
       "      <td>11241</td>\n",
       "      <td>397</td>\n",
       "      <td>13-01-06</td>\n",
       "      <td>US</td>\n",
       "      <td>Kotaku</td>\n",
       "      <td>http://kotaku.com/5973495/author-of-the-warrio...</td>\n",
       "      <td>Author of The Warriors, Cult Film Adapted to H...</td>\n",
       "      <td>kotaku</td>\n",
       "    </tr>\n",
       "    <tr>\n",
       "      <th>1</th>\n",
       "      <td>11242</td>\n",
       "      <td>757</td>\n",
       "      <td>13-01-06</td>\n",
       "      <td>US</td>\n",
       "      <td>Michigan Radio</td>\n",
       "      <td>http://michiganradio.org/post/thats-what-they-...</td>\n",
       "      <td>That's What They Say: Dialect Society chooses ...</td>\n",
       "      <td>michiganradio</td>\n",
       "    </tr>\n",
       "    <tr>\n",
       "      <th>2</th>\n",
       "      <td>11243</td>\n",
       "      <td>755</td>\n",
       "      <td>13-01-06</td>\n",
       "      <td>US</td>\n",
       "      <td>New York Daily News</td>\n",
       "      <td>http://www.nydailynews.com/life-style/eats/bes...</td>\n",
       "      <td>Best of New York: Croissant</td>\n",
       "      <td>nydailynews</td>\n",
       "    </tr>\n",
       "    <tr>\n",
       "      <th>3</th>\n",
       "      <td>11244</td>\n",
       "      <td>1677</td>\n",
       "      <td>13-01-06</td>\n",
       "      <td>US</td>\n",
       "      <td>OregonLive.com</td>\n",
       "      <td>http://www.oregonlive.com/performance/index.ss...</td>\n",
       "      <td>Reflecting on a quarter-century of growth in P...</td>\n",
       "      <td>oregonlive</td>\n",
       "    </tr>\n",
       "    <tr>\n",
       "      <th>4</th>\n",
       "      <td>21242</td>\n",
       "      <td>794</td>\n",
       "      <td>13-01-11</td>\n",
       "      <td>US</td>\n",
       "      <td>Ars Technica</td>\n",
       "      <td>http://arstechnica.com/gadgets/2013/01/ask-ars...</td>\n",
       "      <td>Ask Ars: Does Facebook auto-delete content aft...</td>\n",
       "      <td>arstechnica</td>\n",
       "    </tr>\n",
       "  </tbody>\n",
       "</table>\n",
       "</div>"
      ],
      "text/plain": [
       "      id  unknown      date country                media  \\\n",
       "0  11241      397  13-01-06      US               Kotaku   \n",
       "1  11242      757  13-01-06      US       Michigan Radio   \n",
       "2  11243      755  13-01-06      US  New York Daily News   \n",
       "3  11244     1677  13-01-06      US       OregonLive.com   \n",
       "4  21242      794  13-01-11      US         Ars Technica   \n",
       "\n",
       "                                             website  \\\n",
       "0  http://kotaku.com/5973495/author-of-the-warrio...   \n",
       "1  http://michiganradio.org/post/thats-what-they-...   \n",
       "2  http://www.nydailynews.com/life-style/eats/bes...   \n",
       "3  http://www.oregonlive.com/performance/index.ss...   \n",
       "4  http://arstechnica.com/gadgets/2013/01/ask-ars...   \n",
       "\n",
       "                                               title         domain  \n",
       "0  Author of The Warriors, Cult Film Adapted to H...         kotaku  \n",
       "1  That's What They Say: Dialect Society chooses ...  michiganradio  \n",
       "2                        Best of New York: Croissant    nydailynews  \n",
       "3  Reflecting on a quarter-century of growth in P...     oregonlive  \n",
       "4  Ask Ars: Does Facebook auto-delete content aft...    arstechnica  "
      ]
     },
     "execution_count": 77,
     "metadata": {},
     "output_type": "execute_result"
    }
   ],
   "source": [
    "def get_domain(url):\n",
    "    res = get_tld(url, as_object=True)\n",
    "    return res.domain\n",
    "\n",
    "new_src = pd.read_csv('data/news.txt', delimiter=\"\\t\", header=None, encoding = \"ISO-8859-1\")\n",
    "new_src.columns=['id','unknown','date','country','media','website','title']\n",
    "new_src['domain']=new_src.apply(lambda x : get_domain(x['website']),axis=1)\n",
    "new_src.drop_duplicates(inplace=True, subset=['domain'], keep='first')\n",
    "new_src.head()"
   ]
  },
  {
   "cell_type": "markdown",
   "metadata": {},
   "source": [
    "Operating on the file quotes-cropped, we assign to each quotation a new field 'country' according to the media which quotes\n",
    "the sentence.\n"
   ]
  },
  {
   "cell_type": "code",
   "execution_count": 80,
   "metadata": {},
   "outputs": [],
   "source": [
    "path_to_out = 'data/quotes-cropped-with-country.json.bz2'\n",
    "with bz2.open(\"data/quotes-cropped.json.bz2\", 'rb') as s_file:\n",
    "    with bz2.open(path_to_out, 'wb') as d_file:\n",
    "        for instance in s_file:\n",
    "                instance = json.loads(instance) # loading a sample\n",
    "                urls = instance['urls'] # extracting list of links \n",
    "                instance['country']=np.nan\n",
    "                for url in urls:\n",
    "                    domain=get_domain(url)\n",
    "                    if len(new_src[new_src['domain']==domain])>=1:\n",
    "                        instance['country']=new_src[new_src['domain']==domain]['country'].item()\n",
    "                        break\n",
    "                d_file.write((json.dumps(instance)+'\\n').encode('utf-8'))"
   ]
  },
  {
   "cell_type": "code",
   "execution_count": 81,
   "metadata": {
    "scrolled": false
   },
   "outputs": [
    {
     "data": {
      "text/html": [
       "<div>\n",
       "<style scoped>\n",
       "    .dataframe tbody tr th:only-of-type {\n",
       "        vertical-align: middle;\n",
       "    }\n",
       "\n",
       "    .dataframe tbody tr th {\n",
       "        vertical-align: top;\n",
       "    }\n",
       "\n",
       "    .dataframe thead th {\n",
       "        text-align: right;\n",
       "    }\n",
       "</style>\n",
       "<table border=\"1\" class=\"dataframe\">\n",
       "  <thead>\n",
       "    <tr style=\"text-align: right;\">\n",
       "      <th></th>\n",
       "      <th>quoteID</th>\n",
       "      <th>quotation</th>\n",
       "      <th>speaker</th>\n",
       "      <th>qids</th>\n",
       "      <th>date</th>\n",
       "      <th>numOccurrences</th>\n",
       "      <th>probas</th>\n",
       "      <th>urls</th>\n",
       "      <th>phase</th>\n",
       "      <th>country</th>\n",
       "    </tr>\n",
       "  </thead>\n",
       "  <tbody>\n",
       "    <tr>\n",
       "      <th>0</th>\n",
       "      <td>2015-11-17-031545</td>\n",
       "      <td>However, that had nothing to do with the blast...</td>\n",
       "      <td>Dawood Ibrahim</td>\n",
       "      <td>[Q553191]</td>\n",
       "      <td>2015-11-17 13:32:58</td>\n",
       "      <td>3</td>\n",
       "      <td>[[Dawood Ibrahim, 0.6072], [None, 0.338], [San...</td>\n",
       "      <td>[http://www.newindianexpress.com/nation/Part-o...</td>\n",
       "      <td>E</td>\n",
       "      <td>IN</td>\n",
       "    </tr>\n",
       "    <tr>\n",
       "      <th>1</th>\n",
       "      <td>2015-12-29-000719</td>\n",
       "      <td>91 percent of suspected terrorists who attempt...</td>\n",
       "      <td>Patrick Murphy</td>\n",
       "      <td>[Q17418821, Q21170773, Q2224935, Q23418906, Q3...</td>\n",
       "      <td>2015-12-29 15:42:57</td>\n",
       "      <td>4</td>\n",
       "      <td>[[Patrick Murphy, 0.8398], [None, 0.1579], [Je...</td>\n",
       "      <td>[http://politifact.com/florida/statements/2015...</td>\n",
       "      <td>E</td>\n",
       "      <td>US</td>\n",
       "    </tr>\n",
       "    <tr>\n",
       "      <th>2</th>\n",
       "      <td>2015-06-15-000921</td>\n",
       "      <td>a powerful and compelling motive to lie about ...</td>\n",
       "      <td>None</td>\n",
       "      <td>[]</td>\n",
       "      <td>2015-06-15 21:39:12</td>\n",
       "      <td>1</td>\n",
       "      <td>[[None, 0.7388], [Joseph Thompson, 0.2313], [A...</td>\n",
       "      <td>[http://dailylocal.com/general-news/20150613/n...</td>\n",
       "      <td>E</td>\n",
       "      <td>None</td>\n",
       "    </tr>\n",
       "    <tr>\n",
       "      <th>3</th>\n",
       "      <td>2015-12-08-003771</td>\n",
       "      <td>After the failure of the U.S. Congress to pass...</td>\n",
       "      <td>Roy Cooper</td>\n",
       "      <td>[Q16106910, Q7372694, Q7372695]</td>\n",
       "      <td>2015-12-08 16:15:05</td>\n",
       "      <td>1</td>\n",
       "      <td>[[Roy Cooper, 0.928], [None, 0.0574], [Frank P...</td>\n",
       "      <td>[http://digtriad.com/story/news/2015/12/08/sho...</td>\n",
       "      <td>E</td>\n",
       "      <td>None</td>\n",
       "    </tr>\n",
       "    <tr>\n",
       "      <th>4</th>\n",
       "      <td>2015-01-09-024195</td>\n",
       "      <td>I got back inside and then they started shooti...</td>\n",
       "      <td>Herman Torres</td>\n",
       "      <td>[Q18285204]</td>\n",
       "      <td>2015-01-09 03:39:35</td>\n",
       "      <td>1</td>\n",
       "      <td>[[Herman Torres, 0.9218], [None, 0.0782]]</td>\n",
       "      <td>[http://www.wesh.com/news/orange-county-sherif...</td>\n",
       "      <td>E</td>\n",
       "      <td>US</td>\n",
       "    </tr>\n",
       "  </tbody>\n",
       "</table>\n",
       "</div>"
      ],
      "text/plain": [
       "             quoteID                                          quotation  \\\n",
       "0  2015-11-17-031545  However, that had nothing to do with the blast...   \n",
       "1  2015-12-29-000719  91 percent of suspected terrorists who attempt...   \n",
       "2  2015-06-15-000921  a powerful and compelling motive to lie about ...   \n",
       "3  2015-12-08-003771  After the failure of the U.S. Congress to pass...   \n",
       "4  2015-01-09-024195  I got back inside and then they started shooti...   \n",
       "\n",
       "          speaker                                               qids  \\\n",
       "0  Dawood Ibrahim                                          [Q553191]   \n",
       "1  Patrick Murphy  [Q17418821, Q21170773, Q2224935, Q23418906, Q3...   \n",
       "2            None                                                 []   \n",
       "3      Roy Cooper                    [Q16106910, Q7372694, Q7372695]   \n",
       "4   Herman Torres                                        [Q18285204]   \n",
       "\n",
       "                 date  numOccurrences  \\\n",
       "0 2015-11-17 13:32:58               3   \n",
       "1 2015-12-29 15:42:57               4   \n",
       "2 2015-06-15 21:39:12               1   \n",
       "3 2015-12-08 16:15:05               1   \n",
       "4 2015-01-09 03:39:35               1   \n",
       "\n",
       "                                              probas  \\\n",
       "0  [[Dawood Ibrahim, 0.6072], [None, 0.338], [San...   \n",
       "1  [[Patrick Murphy, 0.8398], [None, 0.1579], [Je...   \n",
       "2  [[None, 0.7388], [Joseph Thompson, 0.2313], [A...   \n",
       "3  [[Roy Cooper, 0.928], [None, 0.0574], [Frank P...   \n",
       "4          [[Herman Torres, 0.9218], [None, 0.0782]]   \n",
       "\n",
       "                                                urls phase country  \n",
       "0  [http://www.newindianexpress.com/nation/Part-o...     E      IN  \n",
       "1  [http://politifact.com/florida/statements/2015...     E      US  \n",
       "2  [http://dailylocal.com/general-news/20150613/n...     E    None  \n",
       "3  [http://digtriad.com/story/news/2015/12/08/sho...     E    None  \n",
       "4  [http://www.wesh.com/news/orange-county-sherif...     E      US  "
      ]
     },
     "execution_count": 81,
     "metadata": {},
     "output_type": "execute_result"
    }
   ],
   "source": [
    "# New dataframe with the data ('quotes-cropped.jspon')\n",
    "with bz2.open(\"data/quotes-cropped-with-country.json.bz2\", 'rb') as s_file: \n",
    "    df_original = pd.read_json(s_file, lines=True)\n",
    "df_original.head()"
   ]
  },
  {
   "cell_type": "code",
   "execution_count": 84,
   "metadata": {},
   "outputs": [
    {
     "data": {
      "text/html": [
       "<div>\n",
       "<style scoped>\n",
       "    .dataframe tbody tr th:only-of-type {\n",
       "        vertical-align: middle;\n",
       "    }\n",
       "\n",
       "    .dataframe tbody tr th {\n",
       "        vertical-align: top;\n",
       "    }\n",
       "\n",
       "    .dataframe thead th {\n",
       "        text-align: right;\n",
       "    }\n",
       "</style>\n",
       "<table border=\"1\" class=\"dataframe\">\n",
       "  <thead>\n",
       "    <tr style=\"text-align: right;\">\n",
       "      <th></th>\n",
       "      <th>quoteID</th>\n",
       "      <th>quotation</th>\n",
       "      <th>speaker</th>\n",
       "      <th>qids</th>\n",
       "      <th>date</th>\n",
       "      <th>numOccurrences</th>\n",
       "      <th>probas</th>\n",
       "      <th>urls</th>\n",
       "      <th>phase</th>\n",
       "      <th>country</th>\n",
       "    </tr>\n",
       "  </thead>\n",
       "  <tbody>\n",
       "    <tr>\n",
       "      <th>1</th>\n",
       "      <td>2015-12-29-000719</td>\n",
       "      <td>91 percent of suspected terrorists who attempt...</td>\n",
       "      <td>Patrick Murphy</td>\n",
       "      <td>[Q17418821, Q21170773, Q2224935, Q23418906, Q3...</td>\n",
       "      <td>2015-12-29 15:42:57</td>\n",
       "      <td>4</td>\n",
       "      <td>[[Patrick Murphy, 0.8398], [None, 0.1579], [Je...</td>\n",
       "      <td>[http://politifact.com/florida/statements/2015...</td>\n",
       "      <td>E</td>\n",
       "      <td>US</td>\n",
       "    </tr>\n",
       "    <tr>\n",
       "      <th>4</th>\n",
       "      <td>2015-01-09-024195</td>\n",
       "      <td>I got back inside and then they started shooti...</td>\n",
       "      <td>Herman Torres</td>\n",
       "      <td>[Q18285204]</td>\n",
       "      <td>2015-01-09 03:39:35</td>\n",
       "      <td>1</td>\n",
       "      <td>[[Herman Torres, 0.9218], [None, 0.0782]]</td>\n",
       "      <td>[http://www.wesh.com/news/orange-county-sherif...</td>\n",
       "      <td>E</td>\n",
       "      <td>US</td>\n",
       "    </tr>\n",
       "    <tr>\n",
       "      <th>20</th>\n",
       "      <td>2015-11-26-034388</td>\n",
       "      <td>I'm letting him try to find it for himself. He...</td>\n",
       "      <td>Byron Scott</td>\n",
       "      <td>[Q538009]</td>\n",
       "      <td>2015-11-26 18:51:56</td>\n",
       "      <td>3</td>\n",
       "      <td>[[Byron Scott, 0.8244], [None, 0.1685], [Kobe ...</td>\n",
       "      <td>[http://www.latimes.com/sports/lakers/la-sp-la...</td>\n",
       "      <td>E</td>\n",
       "      <td>US</td>\n",
       "    </tr>\n",
       "    <tr>\n",
       "      <th>24</th>\n",
       "      <td>2015-07-30-026870</td>\n",
       "      <td>He described a shooting that looked nothing li...</td>\n",
       "      <td>Lawrence Middleton</td>\n",
       "      <td>[Q16091535]</td>\n",
       "      <td>2015-07-30 05:00:00</td>\n",
       "      <td>12</td>\n",
       "      <td>[[Lawrence Middleton, 0.8756], [None, 0.1233],...</td>\n",
       "      <td>[http://feeds.latimes.com/~r/features/books/~3...</td>\n",
       "      <td>E</td>\n",
       "      <td>US</td>\n",
       "    </tr>\n",
       "    <tr>\n",
       "      <th>26</th>\n",
       "      <td>2015-08-21-026312</td>\n",
       "      <td>He was not armed, he did not have a gun, our i...</td>\n",
       "      <td>None</td>\n",
       "      <td>[]</td>\n",
       "      <td>2015-08-21 20:54:00</td>\n",
       "      <td>2</td>\n",
       "      <td>[[None, 0.8635], [Sam Dotson, 0.1133], [Michae...</td>\n",
       "      <td>[http://www.latimes.com/nation/la-na-black-mis...</td>\n",
       "      <td>E</td>\n",
       "      <td>US</td>\n",
       "    </tr>\n",
       "  </tbody>\n",
       "</table>\n",
       "</div>"
      ],
      "text/plain": [
       "              quoteID                                          quotation  \\\n",
       "1   2015-12-29-000719  91 percent of suspected terrorists who attempt...   \n",
       "4   2015-01-09-024195  I got back inside and then they started shooti...   \n",
       "20  2015-11-26-034388  I'm letting him try to find it for himself. He...   \n",
       "24  2015-07-30-026870  He described a shooting that looked nothing li...   \n",
       "26  2015-08-21-026312  He was not armed, he did not have a gun, our i...   \n",
       "\n",
       "               speaker                                               qids  \\\n",
       "1       Patrick Murphy  [Q17418821, Q21170773, Q2224935, Q23418906, Q3...   \n",
       "4        Herman Torres                                        [Q18285204]   \n",
       "20         Byron Scott                                          [Q538009]   \n",
       "24  Lawrence Middleton                                        [Q16091535]   \n",
       "26                None                                                 []   \n",
       "\n",
       "                  date  numOccurrences  \\\n",
       "1  2015-12-29 15:42:57               4   \n",
       "4  2015-01-09 03:39:35               1   \n",
       "20 2015-11-26 18:51:56               3   \n",
       "24 2015-07-30 05:00:00              12   \n",
       "26 2015-08-21 20:54:00               2   \n",
       "\n",
       "                                               probas  \\\n",
       "1   [[Patrick Murphy, 0.8398], [None, 0.1579], [Je...   \n",
       "4           [[Herman Torres, 0.9218], [None, 0.0782]]   \n",
       "20  [[Byron Scott, 0.8244], [None, 0.1685], [Kobe ...   \n",
       "24  [[Lawrence Middleton, 0.8756], [None, 0.1233],...   \n",
       "26  [[None, 0.8635], [Sam Dotson, 0.1133], [Michae...   \n",
       "\n",
       "                                                 urls phase country  \n",
       "1   [http://politifact.com/florida/statements/2015...     E      US  \n",
       "4   [http://www.wesh.com/news/orange-county-sherif...     E      US  \n",
       "20  [http://www.latimes.com/sports/lakers/la-sp-la...     E      US  \n",
       "24  [http://feeds.latimes.com/~r/features/books/~3...     E      US  \n",
       "26  [http://www.latimes.com/nation/la-na-black-mis...     E      US  "
      ]
     },
     "execution_count": 84,
     "metadata": {},
     "output_type": "execute_result"
    }
   ],
   "source": [
    "df_original=df_original[df_original['country']=='US']\n",
    "df_original.head()"
   ]
  },
  {
   "cell_type": "markdown",
   "metadata": {},
   "source": [
    "We will start by plotting the number of quotes containing at least one of our keywords over time (i.e. between 2015 and 2020). Even though some quotes will be irrelevant (e.g. \"we were **shooting** a movie\"), we assume the distribution of these irrelevant quotes to be close to uniform for the moment.\n",
    "\n",
    "Our plot should therefore give a good first impression on how much people/the media has been speaking about gun control during these five years."
   ]
  },
  {
   "cell_type": "code",
   "execution_count": 85,
   "metadata": {},
   "outputs": [
    {
     "data": {
      "text/html": [
       "<div>\n",
       "<style scoped>\n",
       "    .dataframe tbody tr th:only-of-type {\n",
       "        vertical-align: middle;\n",
       "    }\n",
       "\n",
       "    .dataframe tbody tr th {\n",
       "        vertical-align: top;\n",
       "    }\n",
       "\n",
       "    .dataframe thead th {\n",
       "        text-align: right;\n",
       "    }\n",
       "</style>\n",
       "<table border=\"1\" class=\"dataframe\">\n",
       "  <thead>\n",
       "    <tr style=\"text-align: right;\">\n",
       "      <th></th>\n",
       "      <th>date</th>\n",
       "      <th>quotation</th>\n",
       "    </tr>\n",
       "  </thead>\n",
       "  <tbody>\n",
       "    <tr>\n",
       "      <th>55989</th>\n",
       "      <td>2015-01-01 00:40:01</td>\n",
       "      <td>If you see someone shooting, tell them it's no...</td>\n",
       "    </tr>\n",
       "    <tr>\n",
       "      <th>52336</th>\n",
       "      <td>2015-01-01 00:40:01</td>\n",
       "      <td>No celebratory gunfire tonight,</td>\n",
       "    </tr>\n",
       "    <tr>\n",
       "      <th>105372</th>\n",
       "      <td>2015-01-01 00:40:01</td>\n",
       "      <td>When my 9-year-old daughter looks in my face a...</td>\n",
       "    </tr>\n",
       "    <tr>\n",
       "      <th>61668</th>\n",
       "      <td>2015-01-01 00:40:01</td>\n",
       "      <td>When you're impared in any way, you should nev...</td>\n",
       "    </tr>\n",
       "    <tr>\n",
       "      <th>95839</th>\n",
       "      <td>2015-01-01 00:40:01</td>\n",
       "      <td>The fundamental handling of safe firearms is k...</td>\n",
       "    </tr>\n",
       "  </tbody>\n",
       "</table>\n",
       "</div>"
      ],
      "text/plain": [
       "                      date                                          quotation\n",
       "55989  2015-01-01 00:40:01  If you see someone shooting, tell them it's no...\n",
       "52336  2015-01-01 00:40:01                    No celebratory gunfire tonight,\n",
       "105372 2015-01-01 00:40:01  When my 9-year-old daughter looks in my face a...\n",
       "61668  2015-01-01 00:40:01  When you're impared in any way, you should nev...\n",
       "95839  2015-01-01 00:40:01  The fundamental handling of safe firearms is k..."
      ]
     },
     "execution_count": 85,
     "metadata": {},
     "output_type": "execute_result"
    }
   ],
   "source": [
    "# Keep only the columns that we need for our initial analysis\n",
    "df = df_original[['date','quotation']]\n",
    "\n",
    "# Convert data column to datetime format\n",
    "df['date'] = pd.to_datetime(df['date'])\n",
    "\n",
    "# Sort dataframe by date\n",
    "df = df.sort_values(by=['date'])\n",
    "\n",
    "df.head()"
   ]
  },
  {
   "cell_type": "markdown",
   "metadata": {},
   "source": [
    "Now that we have sorted the dataframe by date, we can move on to the plot."
   ]
  },
  {
   "cell_type": "code",
   "execution_count": 86,
   "metadata": {},
   "outputs": [
    {
     "data": {
      "image/png": "[encoded data removed]",
      "text/plain": [
       "<Figure size 1080x360 with 1 Axes>"
      ]
     },
     "metadata": {
      "needs_background": "light"
     },
     "output_type": "display_data"
    }
   ],
   "source": [
    "# Plotting number of quotes that contain keywords on the timeframe of the dataset\n",
    "plt.figure(figsize=(15,5))\n",
    "\n",
    "plt.hist(df['date'],bins=2000)\n",
    "\n",
    "plt.title('Occurences of quotes containing at least one of the keywords between 2015 and 2020')\n",
    "plt.xlabel('Time')\n",
    "plt.ylabel('Number of occurences')\n",
    "plt.show()"
   ]
  },
  {
   "cell_type": "markdown",
   "metadata": {},
   "source": [
    "This histogram gives a good idea of how much people have been speaking of guns/firearms/shootings in the last 5 years in the media. But it has a major flaw: each quote has the same \"weight\" (one quote accounts for one occurence). But some quotes occure more often then others ('numOccurences' colum in the dataframe). We should take this extra information into account if we want a better view on the data."
   ]
  },
  {
   "cell_type": "code",
   "execution_count": 87,
   "metadata": {},
   "outputs": [
    {
     "data": {
      "text/html": [
       "<div>\n",
       "<style scoped>\n",
       "    .dataframe tbody tr th:only-of-type {\n",
       "        vertical-align: middle;\n",
       "    }\n",
       "\n",
       "    .dataframe tbody tr th {\n",
       "        vertical-align: top;\n",
       "    }\n",
       "\n",
       "    .dataframe thead th {\n",
       "        text-align: right;\n",
       "    }\n",
       "</style>\n",
       "<table border=\"1\" class=\"dataframe\">\n",
       "  <thead>\n",
       "    <tr style=\"text-align: right;\">\n",
       "      <th></th>\n",
       "      <th>date</th>\n",
       "      <th>numOccurrences</th>\n",
       "    </tr>\n",
       "  </thead>\n",
       "  <tbody>\n",
       "    <tr>\n",
       "      <th>484556</th>\n",
       "      <td>2019-11-01 05:00:10</td>\n",
       "      <td>5</td>\n",
       "    </tr>\n",
       "    <tr>\n",
       "      <th>101559</th>\n",
       "      <td>2015-06-08 06:57:27</td>\n",
       "      <td>1</td>\n",
       "    </tr>\n",
       "    <tr>\n",
       "      <th>445773</th>\n",
       "      <td>2018-08-28 10:27:05</td>\n",
       "      <td>1</td>\n",
       "    </tr>\n",
       "    <tr>\n",
       "      <th>406888</th>\n",
       "      <td>2018-04-23 02:33:22</td>\n",
       "      <td>4</td>\n",
       "    </tr>\n",
       "    <tr>\n",
       "      <th>105733</th>\n",
       "      <td>2015-11-15 12:25:58</td>\n",
       "      <td>1</td>\n",
       "    </tr>\n",
       "    <tr>\n",
       "      <th>4460</th>\n",
       "      <td>2015-03-31 23:32:00</td>\n",
       "      <td>1</td>\n",
       "    </tr>\n",
       "    <tr>\n",
       "      <th>80608</th>\n",
       "      <td>2015-08-11 04:11:53</td>\n",
       "      <td>2</td>\n",
       "    </tr>\n",
       "    <tr>\n",
       "      <th>154510</th>\n",
       "      <td>2016-07-07 20:15:25</td>\n",
       "      <td>3</td>\n",
       "    </tr>\n",
       "    <tr>\n",
       "      <th>145603</th>\n",
       "      <td>2016-04-22 14:47:38</td>\n",
       "      <td>5</td>\n",
       "    </tr>\n",
       "    <tr>\n",
       "      <th>419959</th>\n",
       "      <td>2018-03-12 00:00:00</td>\n",
       "      <td>61</td>\n",
       "    </tr>\n",
       "    <tr>\n",
       "      <th>41598</th>\n",
       "      <td>2015-08-23 08:37:52</td>\n",
       "      <td>57</td>\n",
       "    </tr>\n",
       "    <tr>\n",
       "      <th>559552</th>\n",
       "      <td>2019-05-31 16:15:34</td>\n",
       "      <td>5</td>\n",
       "    </tr>\n",
       "    <tr>\n",
       "      <th>308378</th>\n",
       "      <td>2018-01-05 15:28:11</td>\n",
       "      <td>1</td>\n",
       "    </tr>\n",
       "    <tr>\n",
       "      <th>479528</th>\n",
       "      <td>2019-08-08 20:21:07</td>\n",
       "      <td>1</td>\n",
       "    </tr>\n",
       "    <tr>\n",
       "      <th>279806</th>\n",
       "      <td>2017-07-08 05:25:31</td>\n",
       "      <td>1</td>\n",
       "    </tr>\n",
       "  </tbody>\n",
       "</table>\n",
       "</div>"
      ],
      "text/plain": [
       "                      date  numOccurrences\n",
       "484556 2019-11-01 05:00:10               5\n",
       "101559 2015-06-08 06:57:27               1\n",
       "445773 2018-08-28 10:27:05               1\n",
       "406888 2018-04-23 02:33:22               4\n",
       "105733 2015-11-15 12:25:58               1\n",
       "4460   2015-03-31 23:32:00               1\n",
       "80608  2015-08-11 04:11:53               2\n",
       "154510 2016-07-07 20:15:25               3\n",
       "145603 2016-04-22 14:47:38               5\n",
       "419959 2018-03-12 00:00:00              61\n",
       "41598  2015-08-23 08:37:52              57\n",
       "559552 2019-05-31 16:15:34               5\n",
       "308378 2018-01-05 15:28:11               1\n",
       "479528 2019-08-08 20:21:07               1\n",
       "279806 2017-07-08 05:25:31               1"
      ]
     },
     "execution_count": 87,
     "metadata": {},
     "output_type": "execute_result"
    }
   ],
   "source": [
    "# Define a new dataframe for this specific study\n",
    "df = df_original[['date','numOccurrences']]\n",
    "df.sample(n=15)"
   ]
  },
  {
   "cell_type": "markdown",
   "metadata": {},
   "source": [
    "This sample shows well how some quotes can have very different number of occurences, and therefore highlights how important it is for us to take this parameter into account.\n",
    "\n",
    "We will now define a new dataframe that contains the number of quotes (multiplied by their respective occurences) containing at least one of the keywords per day."
   ]
  },
  {
   "cell_type": "code",
   "execution_count": 88,
   "metadata": {},
   "outputs": [
    {
     "data": {
      "text/html": [
       "<div>\n",
       "<style scoped>\n",
       "    .dataframe tbody tr th:only-of-type {\n",
       "        vertical-align: middle;\n",
       "    }\n",
       "\n",
       "    .dataframe tbody tr th {\n",
       "        vertical-align: top;\n",
       "    }\n",
       "\n",
       "    .dataframe thead th {\n",
       "        text-align: right;\n",
       "    }\n",
       "</style>\n",
       "<table border=\"1\" class=\"dataframe\">\n",
       "  <thead>\n",
       "    <tr style=\"text-align: right;\">\n",
       "      <th></th>\n",
       "      <th>date</th>\n",
       "      <th>sum</th>\n",
       "    </tr>\n",
       "  </thead>\n",
       "  <tbody>\n",
       "    <tr>\n",
       "      <th>1417</th>\n",
       "      <td>2015-01-01</td>\n",
       "      <td>28</td>\n",
       "    </tr>\n",
       "    <tr>\n",
       "      <th>1185</th>\n",
       "      <td>2015-01-02</td>\n",
       "      <td>39</td>\n",
       "    </tr>\n",
       "    <tr>\n",
       "      <th>1392</th>\n",
       "      <td>2015-01-03</td>\n",
       "      <td>29</td>\n",
       "    </tr>\n",
       "    <tr>\n",
       "      <th>1391</th>\n",
       "      <td>2015-01-04</td>\n",
       "      <td>29</td>\n",
       "    </tr>\n",
       "    <tr>\n",
       "      <th>1074</th>\n",
       "      <td>2015-01-05</td>\n",
       "      <td>45</td>\n",
       "    </tr>\n",
       "    <tr>\n",
       "      <th>710</th>\n",
       "      <td>2015-01-06</td>\n",
       "      <td>59</td>\n",
       "    </tr>\n",
       "    <tr>\n",
       "      <th>619</th>\n",
       "      <td>2015-01-07</td>\n",
       "      <td>63</td>\n",
       "    </tr>\n",
       "    <tr>\n",
       "      <th>597</th>\n",
       "      <td>2015-01-08</td>\n",
       "      <td>64</td>\n",
       "    </tr>\n",
       "    <tr>\n",
       "      <th>1143</th>\n",
       "      <td>2015-01-09</td>\n",
       "      <td>42</td>\n",
       "    </tr>\n",
       "    <tr>\n",
       "      <th>1206</th>\n",
       "      <td>2015-01-10</td>\n",
       "      <td>38</td>\n",
       "    </tr>\n",
       "  </tbody>\n",
       "</table>\n",
       "</div>"
      ],
      "text/plain": [
       "           date  sum\n",
       "1417 2015-01-01   28\n",
       "1185 2015-01-02   39\n",
       "1392 2015-01-03   29\n",
       "1391 2015-01-04   29\n",
       "1074 2015-01-05   45\n",
       "710  2015-01-06   59\n",
       "619  2015-01-07   63\n",
       "597  2015-01-08   64\n",
       "1143 2015-01-09   42\n",
       "1206 2015-01-10   38"
      ]
     },
     "execution_count": 88,
     "metadata": {},
     "output_type": "execute_result"
    }
   ],
   "source": [
    "# We sum all the occurences of each date, and create a \"sum\" column in the dataframe\n",
    "df = df['date'].dt.date.value_counts().rename('sum').to_frame()\n",
    "\n",
    "# The dates are now the indices of the rows. We make them a column again.\n",
    "df.index.name = 'date'\n",
    "df.reset_index(inplace=True)\n",
    "\n",
    "# Convert data column to datetime format\n",
    "df['date'] = pd.to_datetime(df['date'])\n",
    "\n",
    "# Sort dataframe by date\n",
    "df = df.sort_values(by=['date'])\n",
    "\n",
    "df.head(n=10)"
   ]
  },
  {
   "cell_type": "markdown",
   "metadata": {},
   "source": [
    "We now have our desired dataframe: one row is one day, and for each day we have the number of quotes (multiplied by their occurences) that contain at least a keyword."
   ]
  },
  {
   "cell_type": "code",
   "execution_count": 89,
   "metadata": {},
   "outputs": [
    {
     "data": {
      "image/png": "[encoded data removed]",
      "text/plain": [
       "<Figure size 1080x360 with 1 Axes>"
      ]
     },
     "metadata": {
      "needs_background": "light"
     },
     "output_type": "display_data"
    }
   ],
   "source": [
    "# Plotting number of quotes that contain keywords on the timeframe of the dataset\n",
    "plt.figure(figsize=(15,5))\n",
    "\n",
    "# We will use this in a comparitive plot in part 3\n",
    "backup1 = df[['date','sum']]\n",
    "\n",
    "plt.bar(df['date'],df['sum'])\n",
    "\n",
    "plt.title('Occurences of quotes containing at least one of the keywords between 2015 and 2020')\n",
    "plt.xlabel('Time')\n",
    "plt.ylabel('Number of occurences')\n",
    "plt.show()"
   ]
  },
  {
   "cell_type": "markdown",
   "metadata": {},
   "source": [
    "In the end, we see that this is plot is extremly similar to what we have obtained in the previous histogram. This is probably what data science is about sometimes... But at least we have cleared a possible source of error out of the way. We will be using this specific dataframe in the rest of the analysis."
   ]
  },
  {
   "cell_type": "markdown",
   "metadata": {},
   "source": [
    "## 2 - Initial analysis of the \"Mother Jone's\" dataset"
   ]
  },
  {
   "cell_type": "markdown",
   "metadata": {},
   "source": [
    "We have also proceeded to some initial analysis of the \"Mother Jone's US Mass Shootings\" dataset. Indeed, this dataset will give us some basic information about most shootings, such as: date, location, number of fatalities, number of injured, age of shooter, weapon type/legality..."
   ]
  },
  {
   "cell_type": "code",
   "execution_count": 90,
   "metadata": {},
   "outputs": [
    {
     "data": {
      "text/html": [
       "<div>\n",
       "<style scoped>\n",
       "    .dataframe tbody tr th:only-of-type {\n",
       "        vertical-align: middle;\n",
       "    }\n",
       "\n",
       "    .dataframe tbody tr th {\n",
       "        vertical-align: top;\n",
       "    }\n",
       "\n",
       "    .dataframe thead th {\n",
       "        text-align: right;\n",
       "    }\n",
       "</style>\n",
       "<table border=\"1\" class=\"dataframe\">\n",
       "  <thead>\n",
       "    <tr style=\"text-align: right;\">\n",
       "      <th></th>\n",
       "      <th>case</th>\n",
       "      <th>location</th>\n",
       "      <th>date</th>\n",
       "      <th>summary</th>\n",
       "      <th>fatalities</th>\n",
       "      <th>injured</th>\n",
       "      <th>total_victims</th>\n",
       "      <th>location.1</th>\n",
       "      <th>age_of_shooter</th>\n",
       "      <th>prior_signs_mental_health_issues</th>\n",
       "      <th>...</th>\n",
       "      <th>gender</th>\n",
       "      <th>sources</th>\n",
       "      <th>mental_health_sources</th>\n",
       "      <th>sources_additional_age</th>\n",
       "      <th>latitude</th>\n",
       "      <th>longitude</th>\n",
       "      <th>type</th>\n",
       "      <th>year</th>\n",
       "      <th>town</th>\n",
       "      <th>state</th>\n",
       "    </tr>\n",
       "  </thead>\n",
       "  <tbody>\n",
       "    <tr>\n",
       "      <th>31</th>\n",
       "      <td>Walmart shooting in suburban Denver</td>\n",
       "      <td>Thornton, Colorado</td>\n",
       "      <td>2017-11-01</td>\n",
       "      <td>Scott Allen Ostrem, 47, walked into a Walmart ...</td>\n",
       "      <td>3</td>\n",
       "      <td>0</td>\n",
       "      <td>3</td>\n",
       "      <td>Other</td>\n",
       "      <td>47</td>\n",
       "      <td>Unclear</td>\n",
       "      <td>...</td>\n",
       "      <td>M</td>\n",
       "      <td>https://www.nytimes.com/2017/11/01/us/thornton...</td>\n",
       "      <td>-</td>\n",
       "      <td>https://www.nytimes.com/2017/11/01/us/thornton...</td>\n",
       "      <td>39.876374</td>\n",
       "      <td>-104.986132</td>\n",
       "      <td>Mass</td>\n",
       "      <td>2017</td>\n",
       "      <td>Thornton</td>\n",
       "      <td>Colorado</td>\n",
       "    </tr>\n",
       "  </tbody>\n",
       "</table>\n",
       "<p>1 rows × 26 columns</p>\n",
       "</div>"
      ],
      "text/plain": [
       "                                   case            location       date  \\\n",
       "31  Walmart shooting in suburban Denver  Thornton, Colorado 2017-11-01   \n",
       "\n",
       "                                              summary  fatalities  injured  \\\n",
       "31  Scott Allen Ostrem, 47, walked into a Walmart ...           3        0   \n",
       "\n",
       "    total_victims location.1 age_of_shooter prior_signs_mental_health_issues  \\\n",
       "31              3      Other             47                          Unclear   \n",
       "\n",
       "    ... gender                                            sources  \\\n",
       "31  ...      M  https://www.nytimes.com/2017/11/01/us/thornton...   \n",
       "\n",
       "   mental_health_sources                             sources_additional_age  \\\n",
       "31                     -  https://www.nytimes.com/2017/11/01/us/thornton...   \n",
       "\n",
       "     latitude   longitude  type  year      town     state  \n",
       "31  39.876374 -104.986132  Mass  2017  Thornton  Colorado  \n",
       "\n",
       "[1 rows x 26 columns]"
      ]
     },
     "execution_count": 90,
     "metadata": {},
     "output_type": "execute_result"
    }
   ],
   "source": [
    "# Reading the csv file\n",
    "df = pd.read_csv('./Data/MassShootings.csv')\n",
    "\n",
    "# Drop unrelevant columns (for our initial analysis)\n",
    "# df = df.drop(columns = ['year', 'summary', 'prior_signs_mental_health_issues', 'mental_health_details', 'mental_health_sources', 'sources_additional_age', 'latitude', 'longitude'])\n",
    "\n",
    "# Two new columns: location splitted into town and state\n",
    "df[['town', 'state']] = df['location'].str.split(', ', expand = True)\n",
    "\n",
    "# Convert date column to datetime format for better handling\n",
    "df['date'] = pd.to_datetime(df['date'])\n",
    "\n",
    "# Quotebank dataset is limited to years 2015-2021. Need to use same time span:\n",
    "df = df.drop(df[df['date'].dt.year < 2015].index)\n",
    "df = df.drop(df[df['date'].dt.year > 2020].index)\n",
    "\n",
    "df.sample(n=1)"
   ]
  },
  {
   "cell_type": "markdown",
   "metadata": {},
   "source": [
    "To give us a first glimpse at the data, we can plot the fatalities per shooting accross time, as well as the distribution of the number of fatalities per shooting."
   ]
  },
  {
   "cell_type": "code",
   "execution_count": 91,
   "metadata": {},
   "outputs": [
    {
     "data": {
      "image/png": "[encoded data removed]",
      "text/plain": [
       "<Figure size 936x360 with 2 Axes>"
      ]
     },
     "metadata": {
      "needs_background": "light"
     },
     "output_type": "display_data"
    }
   ],
   "source": [
    "fig, ax = plt.subplots(1,2,figsize=(13,5))\n",
    "\n",
    "# Plot shootings in (time, number of fatalities) format\n",
    "ax[0].scatter(df['date'], df['fatalities'])\n",
    "ax[0].set_title('Fatalities per shooting across the timeframe')\n",
    "ax[0].set_xlabel('Date')\n",
    "ax[0].set_ylabel('Fatalities');\n",
    "\n",
    "# Plot the distribution of the number of fatalities\n",
    "ax[1] = df['fatalities'].hist(bins= 50)\n",
    "ax[1].set_xlabel('Fatalities per shooting')\n",
    "ax[1].set_ylabel('Number of shootings')\n",
    "ax[1].set_title('Fatalities per shooting');"
   ]
  },
  {
   "cell_type": "markdown",
   "metadata": {},
   "source": [
    "There isn't much data, but we can say it seems to follow a power law: most of the shootings have a small number of fatalities (<10), but some outliers are not unusual either, some shootings having over 40 fatalities."
   ]
  },
  {
   "cell_type": "code",
   "execution_count": 92,
   "metadata": {},
   "outputs": [
    {
     "data": {
      "image/png": "[encoded data removed]",
      "text/plain": [
       "<Figure size 864x360 with 1 Axes>"
      ]
     },
     "metadata": {
      "needs_background": "light"
     },
     "output_type": "display_data"
    }
   ],
   "source": [
    "# The distribution of of fatalities, injured, total per month is plotted here\n",
    "fig, ax = plt.subplots(figsize=(12, 5))\n",
    "plt.bar(df['date'],df['total_victims'],width=30, color = '#317873')\n",
    "plt.bar(df['date'],df['fatalities'],width=30, color = '#a0d6b4')\n",
    "plt.title('Number of victims of shootings from 2015 to 2020')\n",
    "plt.xlabel('Number of victims')\n",
    "plt.ylabel('Date')\n",
    "plt.ylim(top=150)\n",
    "plt.legend(['Injured','Fatalities'])\n",
    "plt.show()"
   ]
  },
  {
   "cell_type": "markdown",
   "metadata": {},
   "source": [
    "There are many paramters to explore, and one of them is location of the event:"
   ]
  },
  {
   "cell_type": "code",
   "execution_count": 93,
   "metadata": {},
   "outputs": [
    {
     "data": {
      "image/png": "[encoded data removed]",
      "text/plain": [
       "<Figure size 1080x288 with 1 Axes>"
      ]
     },
     "metadata": {
      "needs_background": "light"
     },
     "output_type": "display_data"
    }
   ],
   "source": [
    "# Ploting the number of fatalities per state\n",
    "\n",
    "fig, ax = plt.subplots(figsize=(15, 4))\n",
    "ax = sns.barplot(y = df['fatalities'], x = df['state'], estimator = sum, ci = None)\n",
    "\n",
    "ax.set_xlabel(\"State\")\n",
    "ax.set_ylabel(\"Fatalities\")\n",
    "ax.set_title(\"Number of fatalities due to shootings for each state, between 2015 and 2020\")\n",
    "plt.xticks(rotation=45)\n",
    "plt.show()"
   ]
  },
  {
   "cell_type": "markdown",
   "metadata": {},
   "source": [
    "With the above plot, we can clearly see that states have been very unequally affected by mass shootings. We can try to find some relevant correlations further on, such as average salary in the state, state political position (more of a 'blue state' or a 'red state'), etc. It will also be interesting to see how the location influences the media outrage after the shooting."
   ]
  },
  {
   "cell_type": "markdown",
   "metadata": {},
   "source": [
    "Finally, we will use this dataframe in comparitive plots in part 3. Therefore we save it to a new dataframe (in case we want to overwrite \"df\" further on):"
   ]
  },
  {
   "cell_type": "code",
   "execution_count": 94,
   "metadata": {},
   "outputs": [],
   "source": [
    "backup2 = df[['date','fatalities']]"
   ]
  },
  {
   "cell_type": "markdown",
   "metadata": {},
   "source": [
    "## 3 - Linking the two datasets"
   ]
  },
  {
   "cell_type": "markdown",
   "metadata": {},
   "source": [
    "We will start by plotting a single timeline graph with the number of fatalities due to shootings over time, as well as the occurence of gun-related words in the media."
   ]
  },
  {
   "cell_type": "code",
   "execution_count": 95,
   "metadata": {},
   "outputs": [
    {
     "data": {
      "image/png": "[encoded data removed]",
      "text/plain": [
       "<Figure size 936x432 with 2 Axes>"
      ]
     },
     "metadata": {
      "needs_background": "light"
     },
     "output_type": "display_data"
    }
   ],
   "source": [
    "fig, ax1 = plt.subplots(figsize=(13,6))\n",
    "\n",
    "# Plotting the quotes over time (green)\n",
    "color = 'tab:green'\n",
    "ax1.set_title('Distribution of shootings in the USA (red) and quotes concerning guns (green) between 2015 and 2020')\n",
    "ax1.set_xlabel('Date')\n",
    "ax1.set_ylabel('Quotes', color=color)\n",
    "ax1.bar(backup1['date'], backup1['sum'], color=color, alpha=0.3, width = 3)\n",
    "ax1.tick_params(axis='y', labelcolor=color)\n",
    "\n",
    "# Same x-axis, but different y axis\n",
    "ax2 = ax1.twinx()\n",
    "\n",
    "# Plotting the fatalities due to shootings over time (red)\n",
    "color = 'tab:red'\n",
    "ax2.set_ylabel('Fatalities', color=color)  # we already handled the x-label with ax1\n",
    "ax2.bar(backup2['date'], backup2['fatalities'], color=color, alpha=0.9, width = 3)\n",
    "ax2.tick_params(axis='y', labelcolor=color)\n",
    "\n",
    "plt.show()"
   ]
  },
  {
   "cell_type": "markdown",
   "metadata": {},
   "source": [
    "We can see several interesting events in this first plot. For example, the largest peak in fatalities happens around october 2017. It is followed by the second largest peak in quotes talking about guns."
   ]
  },
  {
   "cell_type": "code",
   "execution_count": 96,
   "metadata": {},
   "outputs": [
    {
     "name": "stdout",
     "output_type": "stream",
     "text": [
      "The largest shooting was:\n",
      "date          2017-10-01 00:00:00\n",
      "fatalities                     58\n",
      "Name: 0, dtype: object\n",
      "\n",
      "The corresponding peak in quotes discussing guns was:\n",
      "date    2017-10-03 00:00:00\n",
      "sum                     620\n",
      "Name: 1, dtype: object\n"
     ]
    }
   ],
   "source": [
    "# Print the largest shooting (most fatalities)\n",
    "backup2 = backup2.sort_values(by='fatalities',ascending=False)\n",
    "backup2 = backup2.reset_index(drop=True)\n",
    "print(\"The largest shooting was:\")\n",
    "print(backup2.iloc[0])\n",
    "\n",
    "# Quotes following the shooting (two days after)\n",
    "backup1 = backup1.sort_values(by='sum',ascending=False)\n",
    "print(\"\\nThe corresponding peak in quotes discussing guns was:\")\n",
    "print(backup1.iloc[1])"
   ]
  },
  {
   "cell_type": "markdown",
   "metadata": {},
   "source": [
    "With the above print, we see that this peak is maximal exactly two days after the shooting.\n",
    " \n",
    "Another interesting observation we can make is that the largest peak in quotes concerning guns takes place after a smaller shooting, in early 2018:"
   ]
  },
  {
   "cell_type": "code",
   "execution_count": 97,
   "metadata": {},
   "outputs": [
    {
     "data": {
      "image/png": "[encoded data removed]",
      "text/plain": [
       "<Figure size 648x288 with 2 Axes>"
      ]
     },
     "metadata": {
      "needs_background": "light"
     },
     "output_type": "display_data"
    }
   ],
   "source": [
    "# We want to zoom in by looking only at 2018\n",
    "backup1_2018 = backup1[(backup1['date'].dt.year==2018)]\n",
    "backup2_2018 = backup2[(backup2['date'].dt.year==2018)]\n",
    "\n",
    "fig, ax1 = plt.subplots(figsize=(9,4))\n",
    "\n",
    "# Plotting the quotes over time (green barplot)\n",
    "color = 'tab:green'\n",
    "ax1.set_title('Distribution of shootings in the USA (red) and quotes concerning guns (green) in 2018')\n",
    "ax1.set_xlabel('Date')\n",
    "ax1.set_ylabel('Quotes', color=color)\n",
    "ax1.bar(backup1_2018['date'], backup1_2018['sum'], color=color, alpha=0.3, width = 3)\n",
    "ax1.tick_params(axis='y', labelcolor=color)\n",
    "\n",
    "# Same x-axis, but different y axis\n",
    "ax2 = ax1.twinx()\n",
    "\n",
    "# Plotting the fatalities due to shootings over time (red barplot)\n",
    "color = 'tab:red'\n",
    "ax2.set_ylabel('Fatalities', color=color)  # we already handled the x-label with ax1\n",
    "ax2.bar(backup2_2018['date'], backup2_2018['fatalities'], color=color, alpha=0.9, width = 3)\n",
    "ax2.tick_params(axis='y', labelcolor=color)\n",
    "\n",
    "plt.show()"
   ]
  },
  {
   "cell_type": "markdown",
   "metadata": {},
   "source": [
    "It seams that this particular event has made much more noise then the others and over a larger period of time. The fact that it was certainly not the shooting with the most fatalities (\"only\" 17, compared to 58 for the max) shows that the number of fatalities is clearly not the only parameter that influences the media coverage of the event as well as the amplitude of the discussion on gun control afterwards.\n",
    "\n",
    "This makes us want to investigate further: what are the other factors that can explain these differences? Some ideas: \n",
    "- Location of the shooting (what state, but also what type of place: e.g. at a school, workplace...)\n",
    "- Wheather of not the weapon was bought legally\n",
    "- Age, gender and ethnicity of the shooter and/or the victims\n",
    "- The type of weapon that was used (semi-automatic...)\n",
    "- etc."
   ]
  },
  {
   "cell_type": "markdown",
   "metadata": {},
   "source": [
    "Just to give us an idea, we can look at the corresponding case in the dataframe and get all the details we know about it:"
   ]
  },
  {
   "cell_type": "code",
   "execution_count": 98,
   "metadata": {},
   "outputs": [
    {
     "data": {
      "text/plain": [
       "case                                    Marjory Stoneman Douglas High School shooting\n",
       "location                                                            Parkland, Florida\n",
       "date                                                              2018-02-14 00:00:00\n",
       "summary                             Nikolas J. Cruz, 19, heavily armed with an AR-...\n",
       "fatalities                                                                         17\n",
       "injured                                                                            17\n",
       "total_victims                                                                      34\n",
       "location.1                                                                     School\n",
       "age_of_shooter                                                                     19\n",
       "prior_signs_mental_health_issues                                                  Yes\n",
       "mental_health_details               Cruz had a long history of behavioral problems...\n",
       "weapons_obtained_legally                                                          Yes\n",
       "where_obtained                                                    A Florida pawn shop\n",
       "weapon_type                                                       semiautomatic rifle\n",
       "weapon_details                                                                  AR-15\n",
       "race                                                                            White\n",
       "gender                                                                              M\n",
       "sources                             https://www.nytimes.com/2018/02/14/us/parkland...\n",
       "mental_health_sources               https://www.nytimes.com/2018/02/15/us/nikolas-...\n",
       "sources_additional_age              https://www.nytimes.com/2018/02/14/us/parkland...\n",
       "latitude                                                                      26.3048\n",
       "longitude                                                                    -80.2695\n",
       "type                                                                             Mass\n",
       "year                                                                             2018\n",
       "town                                                                         Parkland\n",
       "state                                                                         Florida\n",
       "Name: 27, dtype: object"
      ]
     },
     "execution_count": 98,
     "metadata": {},
     "output_type": "execute_result"
    }
   ],
   "source": [
    "df = df[(df['date'].dt.year==2018)]\n",
    "df = df.sort_values(by='fatalities', ascending=False)\n",
    "df.iloc[0]"
   ]
  },
  {
   "cell_type": "code",
   "execution_count": null,
   "metadata": {},
   "outputs": [],
   "source": []
  }
 ],
 "metadata": {
  "kernelspec": {
   "display_name": "Python 3",
   "language": "python",
   "name": "python3"
  },
  "language_info": {
   "codemirror_mode": {
    "name": "ipython",
    "version": 3
   },
   "file_extension": ".py",
   "mimetype": "text/x-python",
   "name": "python",
   "nbconvert_exporter": "python",
   "pygments_lexer": "ipython3",
   "version": "3.8.5"
  }
 },
 "nbformat": 4,
 "nbformat_minor": 5
}
