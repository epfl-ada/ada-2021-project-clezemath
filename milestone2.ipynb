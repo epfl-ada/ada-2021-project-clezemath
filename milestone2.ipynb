{
 "cells": [
  {
   "cell_type": "markdown",
   "id": "e5308f83-0d11-42ae-aa59-8caf3cb5590d",
   "metadata": {},
   "source": [
    "## 1 - Analysis of the cropped Quotebank dataset"
   ]
  },
  {
   "cell_type": "markdown",
   "id": "c7388651-9c58-4068-8c07-181a92d93607",
   "metadata": {},
   "source": [
    "We have filtered out all the rows corresponding to quotes that did not contain any of the keywords related to gun control. The remaining rows have been added to a new file: 'quotes-cropped.json', which will be one of our main datasets for this project. It is much more reasonnable in size (550 Mo) than the full Quotebank dataset. This will allow us to work with Jupyter lab with all the data we need."
   ]
  },
  {
   "cell_type": "code",
   "execution_count": 1,
   "id": "56a87d83-3e4e-444a-b0a0-5db2482dd30f",
   "metadata": {},
   "outputs": [],
   "source": [
    "#Import usefull libraries\n",
    "import pandas as pd\n",
    "import numpy as np\n",
    "import matplotlib.pyplot as plt\n",
    "%matplotlib inline\n",
    "import seaborn as sns\n",
    "\n",
    "# Disable some pandas warnings we don't need\n",
    "pd.options.mode.chained_assignment = None\n",
    "\n",
    "# New dataframe with the data ('quotes-cropped.jspon')\n",
    "df_original = pd.read_json('quotes-cropped.json', lines=True)"
   ]
  },
  {
   "cell_type": "markdown",
   "id": "5bc949b8-e100-4882-8a3f-2906cb22d843",
   "metadata": {},
   "source": [
    "We will start by plotting the number of quotes containing at least one of our keywords over time (i.e. between 2015 and 2020). Even though some quotes will be irrelevant (e.g. \"we were **shooting** a movie\"), we assume the distribution of these irrelevant quotes to be close to uniform for the moment.\n",
    "\n",
    "Our plot should therefore give a good first impression on how much people/the media has been speaking about gun control during these five years."
   ]
  },
  {
   "cell_type": "code",
   "execution_count": 2,
   "id": "32f46169-5c0b-48f3-a83d-744ddaabf813",
   "metadata": {},
   "outputs": [
    {
     "data": {
      "text/html": [
       "<div>\n",
       "<style scoped>\n",
       "    .dataframe tbody tr th:only-of-type {\n",
       "        vertical-align: middle;\n",
       "    }\n",
       "\n",
       "    .dataframe tbody tr th {\n",
       "        vertical-align: top;\n",
       "    }\n",
       "\n",
       "    .dataframe thead th {\n",
       "        text-align: right;\n",
       "    }\n",
       "</style>\n",
       "<table border=\"1\" class=\"dataframe\">\n",
       "  <thead>\n",
       "    <tr style=\"text-align: right;\">\n",
       "      <th></th>\n",
       "      <th>date</th>\n",
       "      <th>quotation</th>\n",
       "    </tr>\n",
       "  </thead>\n",
       "  <tbody>\n",
       "    <tr>\n",
       "      <th>65127</th>\n",
       "      <td>2015-01-01 00:07:32</td>\n",
       "      <td>When we are face a suspect holding one of thes...</td>\n",
       "    </tr>\n",
       "    <tr>\n",
       "      <th>77653</th>\n",
       "      <td>2015-01-01 00:08:12</td>\n",
       "      <td>I expect much of the same from Edinburgh at Mu...</td>\n",
       "    </tr>\n",
       "    <tr>\n",
       "      <th>97745</th>\n",
       "      <td>2015-01-01 00:13:41</td>\n",
       "      <td>Of course the negative is if you need your gun...</td>\n",
       "    </tr>\n",
       "    <tr>\n",
       "      <th>45716</th>\n",
       "      <td>2015-01-01 00:13:41</td>\n",
       "      <td>Me personally, being a mother, when I sell a g...</td>\n",
       "    </tr>\n",
       "    <tr>\n",
       "      <th>79888</th>\n",
       "      <td>2015-01-01 00:14:39</td>\n",
       "      <td>We had a very good first half, and I thought w...</td>\n",
       "    </tr>\n",
       "  </tbody>\n",
       "</table>\n",
       "</div>"
      ],
      "text/plain": [
       "                     date                                          quotation\n",
       "65127 2015-01-01 00:07:32  When we are face a suspect holding one of thes...\n",
       "77653 2015-01-01 00:08:12  I expect much of the same from Edinburgh at Mu...\n",
       "97745 2015-01-01 00:13:41  Of course the negative is if you need your gun...\n",
       "45716 2015-01-01 00:13:41  Me personally, being a mother, when I sell a g...\n",
       "79888 2015-01-01 00:14:39  We had a very good first half, and I thought w..."
      ]
     },
     "execution_count": 2,
     "metadata": {},
     "output_type": "execute_result"
    }
   ],
   "source": [
    "# Keep only the columns that we need for our initial analysis\n",
    "df = df_original[['date','quotation']]\n",
    "\n",
    "# Convert data column to datetime format, removing time\n",
    "df['date'] = pd.to_datetime(df['date'])\n",
    "\n",
    "# Sort dataframe by date\n",
    "df = df.sort_values(by=['date'])\n",
    "\n",
    "df.head()"
   ]
  },
  {
   "cell_type": "markdown",
   "id": "ec9deb0e-e34f-4481-a100-c2404d28d2fe",
   "metadata": {},
   "source": [
    "Now that we have sorted the dataframe by date, we can move on to the plot."
   ]
  },
  {
   "cell_type": "code",
   "execution_count": 3,
   "id": "606f1697-e3ab-449b-942d-496d7af8ac97",
   "metadata": {},
   "outputs": [
    {
     "data": {
      "image/png": "[encoded data removed]",
      "text/plain": [
       "<Figure size 1080x360 with 1 Axes>"
      ]
     },
     "metadata": {
      "needs_background": "light"
     },
     "output_type": "display_data"
    }
   ],
   "source": [
    "# Plotting number of quotes that contain keywords on the timeframe of the dataset\n",
    "plt.figure(figsize=(15,5))\n",
    "\n",
    "plt.hist(df['date'],bins=2000)\n",
    "\n",
    "plt.title('Occurences of quotes containing at least one of the keywords between 2015 and 2020')\n",
    "plt.xlabel('Time')\n",
    "plt.ylabel('Number of occurences')\n",
    "plt.show()"
   ]
  },
  {
   "cell_type": "markdown",
   "id": "3a07302f-646a-4fc8-98af-06f0000f2de4",
   "metadata": {},
   "source": [
    "This histogram gives a good idea of how much people have been speaking of guns/firearms/shootings in the last 5 years in the media. But it has a major flaw: each quote has the same \"weight\" (one quote accounts for one occurence). But some quotes occure more often then others ('numOccurences' colum in the dataframe). We should take this extra information into account if we want a better view on the data."
   ]
  },
  {
   "cell_type": "code",
   "execution_count": 11,
   "id": "6747fc7f-bdab-482e-bb74-37eea6e1a7ca",
   "metadata": {},
   "outputs": [
    {
     "data": {
      "text/html": [
       "<div>\n",
       "<style scoped>\n",
       "    .dataframe tbody tr th:only-of-type {\n",
       "        vertical-align: middle;\n",
       "    }\n",
       "\n",
       "    .dataframe tbody tr th {\n",
       "        vertical-align: top;\n",
       "    }\n",
       "\n",
       "    .dataframe thead th {\n",
       "        text-align: right;\n",
       "    }\n",
       "</style>\n",
       "<table border=\"1\" class=\"dataframe\">\n",
       "  <thead>\n",
       "    <tr style=\"text-align: right;\">\n",
       "      <th></th>\n",
       "      <th>date</th>\n",
       "      <th>numOccurrences</th>\n",
       "    </tr>\n",
       "  </thead>\n",
       "  <tbody>\n",
       "    <tr>\n",
       "      <th>528264</th>\n",
       "      <td>2019-02-15 00:00:00</td>\n",
       "      <td>4</td>\n",
       "    </tr>\n",
       "    <tr>\n",
       "      <th>85714</th>\n",
       "      <td>2015-04-09 00:53:42</td>\n",
       "      <td>1</td>\n",
       "    </tr>\n",
       "    <tr>\n",
       "      <th>72219</th>\n",
       "      <td>2015-05-13 08:00:00</td>\n",
       "      <td>1</td>\n",
       "    </tr>\n",
       "    <tr>\n",
       "      <th>523283</th>\n",
       "      <td>2019-12-16 21:13:53</td>\n",
       "      <td>3</td>\n",
       "    </tr>\n",
       "    <tr>\n",
       "      <th>519109</th>\n",
       "      <td>2019-09-12 14:48:14</td>\n",
       "      <td>1</td>\n",
       "    </tr>\n",
       "    <tr>\n",
       "      <th>110465</th>\n",
       "      <td>2016-08-22 15:53:06</td>\n",
       "      <td>4</td>\n",
       "    </tr>\n",
       "    <tr>\n",
       "      <th>491597</th>\n",
       "      <td>2019-01-11 16:37:51</td>\n",
       "      <td>1</td>\n",
       "    </tr>\n",
       "    <tr>\n",
       "      <th>590446</th>\n",
       "      <td>2020-03-04 10:13:29</td>\n",
       "      <td>1</td>\n",
       "    </tr>\n",
       "    <tr>\n",
       "      <th>120639</th>\n",
       "      <td>2016-09-15 22:41:05</td>\n",
       "      <td>2</td>\n",
       "    </tr>\n",
       "    <tr>\n",
       "      <th>571207</th>\n",
       "      <td>2020-01-24 00:45:00</td>\n",
       "      <td>112</td>\n",
       "    </tr>\n",
       "    <tr>\n",
       "      <th>498926</th>\n",
       "      <td>2019-06-25 01:32:21</td>\n",
       "      <td>1</td>\n",
       "    </tr>\n",
       "    <tr>\n",
       "      <th>252401</th>\n",
       "      <td>2017-12-09 12:56:37</td>\n",
       "      <td>1</td>\n",
       "    </tr>\n",
       "    <tr>\n",
       "      <th>409077</th>\n",
       "      <td>2018-08-28 15:04:02</td>\n",
       "      <td>24</td>\n",
       "    </tr>\n",
       "    <tr>\n",
       "      <th>351416</th>\n",
       "      <td>2018-05-14 00:00:00</td>\n",
       "      <td>1</td>\n",
       "    </tr>\n",
       "    <tr>\n",
       "      <th>151013</th>\n",
       "      <td>2016-12-12 00:00:00</td>\n",
       "      <td>2</td>\n",
       "    </tr>\n",
       "  </tbody>\n",
       "</table>\n",
       "</div>"
      ],
      "text/plain": [
       "                      date  numOccurrences\n",
       "528264 2019-02-15 00:00:00               4\n",
       "85714  2015-04-09 00:53:42               1\n",
       "72219  2015-05-13 08:00:00               1\n",
       "523283 2019-12-16 21:13:53               3\n",
       "519109 2019-09-12 14:48:14               1\n",
       "110465 2016-08-22 15:53:06               4\n",
       "491597 2019-01-11 16:37:51               1\n",
       "590446 2020-03-04 10:13:29               1\n",
       "120639 2016-09-15 22:41:05               2\n",
       "571207 2020-01-24 00:45:00             112\n",
       "498926 2019-06-25 01:32:21               1\n",
       "252401 2017-12-09 12:56:37               1\n",
       "409077 2018-08-28 15:04:02              24\n",
       "351416 2018-05-14 00:00:00               1\n",
       "151013 2016-12-12 00:00:00               2"
      ]
     },
     "execution_count": 11,
     "metadata": {},
     "output_type": "execute_result"
    }
   ],
   "source": [
    "# Define a new dataframe for this specific study\n",
    "df = df_original[['date','numOccurrences']]\n",
    "df.sample(n=15)"
   ]
  },
  {
   "cell_type": "markdown",
   "id": "8d860adf-71d8-4dd5-a5c8-62aa79872271",
   "metadata": {},
   "source": [
    "This sample shows well how some quotes can have very different number of occurences, and therefore highlights how important it is for us to take this parameter into account.\n",
    "\n",
    "We will now define a new dataframe that contains the number of quotes (multiplied by their respective occurences) containing at least one of the keywords per day."
   ]
  },
  {
   "cell_type": "code",
   "execution_count": 6,
   "id": "f3fcc9c3-f4fc-4f18-8f0e-5133e4ee75a3",
   "metadata": {},
   "outputs": [
    {
     "data": {
      "text/html": [
       "<div>\n",
       "<style scoped>\n",
       "    .dataframe tbody tr th:only-of-type {\n",
       "        vertical-align: middle;\n",
       "    }\n",
       "\n",
       "    .dataframe tbody tr th {\n",
       "        vertical-align: top;\n",
       "    }\n",
       "\n",
       "    .dataframe thead th {\n",
       "        text-align: right;\n",
       "    }\n",
       "</style>\n",
       "<table border=\"1\" class=\"dataframe\">\n",
       "  <thead>\n",
       "    <tr style=\"text-align: right;\">\n",
       "      <th></th>\n",
       "      <th>date</th>\n",
       "      <th>sum</th>\n",
       "    </tr>\n",
       "  </thead>\n",
       "  <tbody>\n",
       "    <tr>\n",
       "      <th>1582</th>\n",
       "      <td>2015-01-01</td>\n",
       "      <td>141</td>\n",
       "    </tr>\n",
       "    <tr>\n",
       "      <th>1489</th>\n",
       "      <td>2015-01-02</td>\n",
       "      <td>167</td>\n",
       "    </tr>\n",
       "    <tr>\n",
       "      <th>1597</th>\n",
       "      <td>2015-01-03</td>\n",
       "      <td>135</td>\n",
       "    </tr>\n",
       "    <tr>\n",
       "      <th>1568</th>\n",
       "      <td>2015-01-04</td>\n",
       "      <td>145</td>\n",
       "    </tr>\n",
       "    <tr>\n",
       "      <th>1235</th>\n",
       "      <td>2015-01-05</td>\n",
       "      <td>221</td>\n",
       "    </tr>\n",
       "    <tr>\n",
       "      <th>1127</th>\n",
       "      <td>2015-01-06</td>\n",
       "      <td>254</td>\n",
       "    </tr>\n",
       "    <tr>\n",
       "      <th>517</th>\n",
       "      <td>2015-01-07</td>\n",
       "      <td>390</td>\n",
       "    </tr>\n",
       "    <tr>\n",
       "      <th>620</th>\n",
       "      <td>2015-01-08</td>\n",
       "      <td>367</td>\n",
       "    </tr>\n",
       "    <tr>\n",
       "      <th>1009</th>\n",
       "      <td>2015-01-09</td>\n",
       "      <td>292</td>\n",
       "    </tr>\n",
       "    <tr>\n",
       "      <th>1182</th>\n",
       "      <td>2015-01-10</td>\n",
       "      <td>236</td>\n",
       "    </tr>\n",
       "  </tbody>\n",
       "</table>\n",
       "</div>"
      ],
      "text/plain": [
       "           date  sum\n",
       "1582 2015-01-01  141\n",
       "1489 2015-01-02  167\n",
       "1597 2015-01-03  135\n",
       "1568 2015-01-04  145\n",
       "1235 2015-01-05  221\n",
       "1127 2015-01-06  254\n",
       "517  2015-01-07  390\n",
       "620  2015-01-08  367\n",
       "1009 2015-01-09  292\n",
       "1182 2015-01-10  236"
      ]
     },
     "execution_count": 6,
     "metadata": {},
     "output_type": "execute_result"
    }
   ],
   "source": [
    "# We sum all the occurences of each date, and create a \"sum\" column in the dataframe\n",
    "df = df['date'].dt.date.value_counts().rename('sum').to_frame()\n",
    "\n",
    "# The dates are now the indices of the rows. We make them a column again.\n",
    "df.index.name = 'date'\n",
    "df.reset_index(inplace=True)\n",
    "\n",
    "# Convert data column to datetime format, removing time\n",
    "df['date'] = pd.to_datetime(df['date'])\n",
    "\n",
    "# Sort dataframe by date\n",
    "df = df.sort_values(by=['date'])\n",
    "\n",
    "df.head(n=10)"
   ]
  },
  {
   "cell_type": "markdown",
   "id": "0d6a34c6-6fdd-4be2-83c5-11eaf4054e02",
   "metadata": {},
   "source": [
    "We now have our desired dataframe: one row is one day, and for each day we have the number of quotes (multiplied by their occurences) that contain at least a keyword."
   ]
  },
  {
   "cell_type": "code",
   "execution_count": 7,
   "id": "87dadadb-c468-4778-ab40-ef14697ce599",
   "metadata": {},
   "outputs": [
    {
     "data": {
      "image/png": "[encoded data removed]",
      "text/plain": [
       "<Figure size 1080x360 with 1 Axes>"
      ]
     },
     "metadata": {
      "needs_background": "light"
     },
     "output_type": "display_data"
    }
   ],
   "source": [
    "# Plotting number of quotes that contain keywords on the timeframe of the dataset\n",
    "plt.figure(figsize=(15,5))\n",
    "\n",
    "plt.bar(df['date'],df['sum'])\n",
    "\n",
    "plt.title('Occurences of quotes containing at least one of the keywords between 2015 and 2020')\n",
    "plt.xlabel('Time')\n",
    "plt.ylabel('Number of occurences')\n",
    "plt.show()"
   ]
  },
  {
   "cell_type": "markdown",
   "id": "283a28b5-2020-44b8-83d3-5931bbd2c237",
   "metadata": {},
   "source": [
    "In the end, we see that this is plot is extremly similar to what we have obtained in the previous histogram! I guess this is what data science is about sometimes... At least we have cleared a possible error out of the way."
   ]
  },
  {
   "cell_type": "markdown",
   "id": "c824c176-3d2b-4bf2-b8fe-9abbb22a9562",
   "metadata": {},
   "source": [
    "## 2 - Analysis of the \"Mother Jone's\" dataset"
   ]
  },
  {
   "cell_type": "markdown",
   "id": "4a63f027-c9af-4078-8901-ad80d46689f9",
   "metadata": {},
   "source": [
    "We have also proceeded to some initial analysis of the \"Mother Jone's US Mass Shootings\" dataset. Indeed, this dataset will give us some basic information about most shooti"
   ]
  },
  {
   "cell_type": "code",
   "execution_count": 13,
   "id": "e3c4f81d-3a9a-4626-9f0d-b77fc95fe763",
   "metadata": {},
   "outputs": [
    {
     "data": {
      "text/html": [
       "<div>\n",
       "<style scoped>\n",
       "    .dataframe tbody tr th:only-of-type {\n",
       "        vertical-align: middle;\n",
       "    }\n",
       "\n",
       "    .dataframe tbody tr th {\n",
       "        vertical-align: top;\n",
       "    }\n",
       "\n",
       "    .dataframe thead th {\n",
       "        text-align: right;\n",
       "    }\n",
       "</style>\n",
       "<table border=\"1\" class=\"dataframe\">\n",
       "  <thead>\n",
       "    <tr style=\"text-align: right;\">\n",
       "      <th></th>\n",
       "      <th>case</th>\n",
       "      <th>location</th>\n",
       "      <th>date</th>\n",
       "      <th>fatalities</th>\n",
       "      <th>injured</th>\n",
       "      <th>total_victims</th>\n",
       "      <th>location.1</th>\n",
       "      <th>age_of_shooter</th>\n",
       "      <th>weapons_obtained_legally</th>\n",
       "      <th>where_obtained</th>\n",
       "      <th>weapon_type</th>\n",
       "      <th>weapon_details</th>\n",
       "      <th>race</th>\n",
       "      <th>gender</th>\n",
       "      <th>sources</th>\n",
       "      <th>type</th>\n",
       "      <th>town</th>\n",
       "      <th>state</th>\n",
       "    </tr>\n",
       "  </thead>\n",
       "  <tbody>\n",
       "    <tr>\n",
       "      <th>0</th>\n",
       "      <td>San Jose VTA shooting</td>\n",
       "      <td>San Jose, California</td>\n",
       "      <td>2021-05-26</td>\n",
       "      <td>9</td>\n",
       "      <td>0</td>\n",
       "      <td>9</td>\n",
       "      <td>Workplace</td>\n",
       "      <td>57</td>\n",
       "      <td>-</td>\n",
       "      <td>-</td>\n",
       "      <td>semiautomatic handguns</td>\n",
       "      <td>-</td>\n",
       "      <td>-</td>\n",
       "      <td>M</td>\n",
       "      <td>https://www.sfchronicle.com/crime/article/Mass...</td>\n",
       "      <td>Mass</td>\n",
       "      <td>San Jose</td>\n",
       "      <td>California</td>\n",
       "    </tr>\n",
       "    <tr>\n",
       "      <th>1</th>\n",
       "      <td>FedEx warehouse shooting</td>\n",
       "      <td>Indianapolis, Indiana</td>\n",
       "      <td>2021-04-15</td>\n",
       "      <td>8</td>\n",
       "      <td>7</td>\n",
       "      <td>15</td>\n",
       "      <td>Workplace</td>\n",
       "      <td>19</td>\n",
       "      <td>yes</td>\n",
       "      <td>-</td>\n",
       "      <td>semiautomatic rifle</td>\n",
       "      <td>-</td>\n",
       "      <td>White</td>\n",
       "      <td>M</td>\n",
       "      <td>https://www.indystar.com/story/news/crime/2021...</td>\n",
       "      <td>Mass</td>\n",
       "      <td>Indianapolis</td>\n",
       "      <td>Indiana</td>\n",
       "    </tr>\n",
       "    <tr>\n",
       "      <th>2</th>\n",
       "      <td>Orange office complex shooting</td>\n",
       "      <td>Orange, California</td>\n",
       "      <td>2021-03-31</td>\n",
       "      <td>4</td>\n",
       "      <td>1</td>\n",
       "      <td>5</td>\n",
       "      <td>Workplace</td>\n",
       "      <td>-</td>\n",
       "      <td>-</td>\n",
       "      <td>-</td>\n",
       "      <td>semiautomatic handgun</td>\n",
       "      <td>-</td>\n",
       "      <td>-</td>\n",
       "      <td>M</td>\n",
       "      <td>https://www.latimes.com/california/story/2021-...</td>\n",
       "      <td>Mass</td>\n",
       "      <td>Orange</td>\n",
       "      <td>California</td>\n",
       "    </tr>\n",
       "    <tr>\n",
       "      <th>3</th>\n",
       "      <td>Boulder supermarket shooting</td>\n",
       "      <td>Boulder, Colorado</td>\n",
       "      <td>2021-03-22</td>\n",
       "      <td>10</td>\n",
       "      <td>0</td>\n",
       "      <td>10</td>\n",
       "      <td>Workplace</td>\n",
       "      <td>21</td>\n",
       "      <td>Yes</td>\n",
       "      <td>-</td>\n",
       "      <td>semiautomatic rifle, semiautomatic handgun; ta...</td>\n",
       "      <td>Ruger AR-556; weapon was purchased six days be...</td>\n",
       "      <td>-</td>\n",
       "      <td>M</td>\n",
       "      <td>https://www.denverpost.com/2021/03/22/police-a...</td>\n",
       "      <td>Mass</td>\n",
       "      <td>Boulder</td>\n",
       "      <td>Colorado</td>\n",
       "    </tr>\n",
       "    <tr>\n",
       "      <th>4</th>\n",
       "      <td>Atlanta massage parlor shootings</td>\n",
       "      <td>Atlanta, Georgia</td>\n",
       "      <td>2021-03-16</td>\n",
       "      <td>8</td>\n",
       "      <td>1</td>\n",
       "      <td>9</td>\n",
       "      <td>Workplace</td>\n",
       "      <td>21</td>\n",
       "      <td>-</td>\n",
       "      <td>-</td>\n",
       "      <td>-</td>\n",
       "      <td>-</td>\n",
       "      <td>White</td>\n",
       "      <td>M</td>\n",
       "      <td>https://www.ajc.com/news/breaking-multiple-sho...</td>\n",
       "      <td>Spree</td>\n",
       "      <td>Atlanta</td>\n",
       "      <td>Georgia</td>\n",
       "    </tr>\n",
       "  </tbody>\n",
       "</table>\n",
       "</div>"
      ],
      "text/plain": [
       "                               case               location       date  \\\n",
       "0             San Jose VTA shooting   San Jose, California 2021-05-26   \n",
       "1          FedEx warehouse shooting  Indianapolis, Indiana 2021-04-15   \n",
       "2    Orange office complex shooting     Orange, California 2021-03-31   \n",
       "3      Boulder supermarket shooting      Boulder, Colorado 2021-03-22   \n",
       "4  Atlanta massage parlor shootings       Atlanta, Georgia 2021-03-16   \n",
       "\n",
       "   fatalities  injured  total_victims location.1 age_of_shooter  \\\n",
       "0           9        0              9  Workplace             57   \n",
       "1           8        7             15  Workplace             19   \n",
       "2           4        1              5  Workplace              -   \n",
       "3          10        0             10  Workplace             21   \n",
       "4           8        1              9  Workplace             21   \n",
       "\n",
       "  weapons_obtained_legally where_obtained  \\\n",
       "0                        -              -   \n",
       "1                      yes              -   \n",
       "2                        -              -   \n",
       "3                      Yes              -   \n",
       "4                        -              -   \n",
       "\n",
       "                                         weapon_type  \\\n",
       "0                             semiautomatic handguns   \n",
       "1                                semiautomatic rifle   \n",
       "2                              semiautomatic handgun   \n",
       "3  semiautomatic rifle, semiautomatic handgun; ta...   \n",
       "4                                                  -   \n",
       "\n",
       "                                      weapon_details   race gender  \\\n",
       "0                                                  -      -      M   \n",
       "1                                                  -  White      M   \n",
       "2                                                  -      -      M   \n",
       "3  Ruger AR-556; weapon was purchased six days be...      -      M   \n",
       "4                                                  -  White      M   \n",
       "\n",
       "                                             sources   type          town  \\\n",
       "0  https://www.sfchronicle.com/crime/article/Mass...   Mass      San Jose   \n",
       "1  https://www.indystar.com/story/news/crime/2021...   Mass  Indianapolis   \n",
       "2  https://www.latimes.com/california/story/2021-...   Mass        Orange   \n",
       "3  https://www.denverpost.com/2021/03/22/police-a...   Mass       Boulder   \n",
       "4  https://www.ajc.com/news/breaking-multiple-sho...  Spree       Atlanta   \n",
       "\n",
       "        state  \n",
       "0  California  \n",
       "1     Indiana  \n",
       "2  California  \n",
       "3    Colorado  \n",
       "4     Georgia  "
      ]
     },
     "execution_count": 13,
     "metadata": {},
     "output_type": "execute_result"
    }
   ],
   "source": [
    "# The csv file is read\n",
    "data_folder = './Data/'\n",
    "df = pd.read_csv(data_folder + 'MassShootings.csv')\n",
    "\n",
    "# Unrelevant columns for the study are dropped\n",
    "df = df.drop(columns = ['year', 'summary', 'prior_signs_mental_health_issues', 'mental_health_details', 'mental_health_sources', 'sources_additional_age', 'latitude', 'longitude'])\n",
    "\n",
    "# Location is splited in 2 columns for better analysis\n",
    "df[['town', 'state']] = df['location'].str.split(', ', expand = True)\n",
    "\n",
    "# Mass shooting's date is converted in datetime format for better handling\n",
    "df['date'] = pd.to_datetime(df['date'])\n",
    "\n",
    "# Quotebank dataset is limited to years 2015-2021. Same time span is applied here\n",
    "df = df.drop(df[df['date'].dt.year < 2015].index)\n",
    "\n",
    "df.head()"
   ]
  },
  {
   "cell_type": "code",
   "execution_count": 17,
   "id": "16184470-fe4e-4dbb-b1a9-31dc0fb4b023",
   "metadata": {},
   "outputs": [
    {
     "data": {
      "image/png": "[encoded data removed]",
      "text/plain": [
       "<Figure size 432x288 with 1 Axes>"
      ]
     },
     "metadata": {
      "needs_background": "light"
     },
     "output_type": "display_data"
    }
   ],
   "source": [
    "# ploting all shootings since 2015 according to the fatalities\n",
    "plt.scatter(df['date'], df['fatalities'])\n",
    "plt.title('Fatalities per shooting across the timeframe')\n",
    "plt.xlabel('Date')\n",
    "plt.ylabel('Fatalities')\n",
    "plt.show()"
   ]
  },
  {
   "cell_type": "code",
   "execution_count": 19,
   "id": "d33665c4-8bca-4946-9840-c936be73efac",
   "metadata": {},
   "outputs": [
    {
     "data": {
      "image/png": "[encoded data removed]",
      "text/plain": [
       "<Figure size 1080x1080 with 3 Axes>"
      ]
     },
     "metadata": {
      "needs_background": "light"
     },
     "output_type": "display_data"
    }
   ],
   "source": [
    "# The distribution of of fatalities, injured, total per month is plotted here\n",
    "fig, ax = plt.subplots(3,1,figsize=(15, 15))\n",
    "\n",
    "# Add x-axis and y-axis\n",
    "ax[0].bar(df['date'], df['fatalities'], width = 30, color = '#317873') #chosing the width to be equal to a month\n",
    "ax[1].bar(df['date'], df['injured'], width = 30, color = '#5f9ea0')\n",
    "ax[2].bar(df['date'], df['total_victims'], width = 30,  color = '#a0d6b4')\n",
    "\n",
    "# Set title and labels for axes\n",
    "ax[0].set(xlabel=\"Date\", ylabel=\"Fatalities\", title=\"Number of fatalities related to shooting\")\n",
    "ax[1].set(xlabel=\"Date\", ylabel=\"injured\", title=\"Number of injured related to shooting\")\n",
    "ax[2].set(xlabel=\"Date\", ylabel=\"total victims\", title=\"Total victims related to shooting\")\n",
    "\n",
    "plt.show()"
   ]
  },
  {
   "cell_type": "code",
   "execution_count": 20,
   "id": "20ba7f68-4771-418e-8c01-96312ecb2720",
   "metadata": {},
   "outputs": [
    {
     "data": {
      "image/png": "[encoded data removed]",
      "text/plain": [
       "<Figure size 1440x360 with 1 Axes>"
      ]
     },
     "metadata": {
      "needs_background": "light"
     },
     "output_type": "display_data"
    }
   ],
   "source": [
    "#ploting the number of fatalities in each state\n",
    "fig, ax = plt.subplots(figsize=(20, 5))\n",
    "ax = sns.barplot(y = df['fatalities'], x = df['state'], estimator = sum, ci = None)\n",
    "plt.xticks(rotation=45)\n",
    "ax.set(xlabel=\"State\", ylabel=\"Fatalities\", title=\"Fatalities per state\")\n",
    "plt.show()"
   ]
  },
  {
   "cell_type": "code",
   "execution_count": 21,
   "id": "52d3cd9d-e026-44be-95c6-2f8b76a031e2",
   "metadata": {},
   "outputs": [
    {
     "data": {
      "text/plain": [
       "count    53.000000\n",
       "mean      8.207547\n",
       "std      10.286957\n",
       "min       3.000000\n",
       "25%       3.000000\n",
       "50%       5.000000\n",
       "75%       9.000000\n",
       "max      58.000000\n",
       "Name: fatalities, dtype: float64"
      ]
     },
     "execution_count": 21,
     "metadata": {},
     "output_type": "execute_result"
    }
   ],
   "source": [
    "# looking at the distribution of fatalities\n",
    "df['fatalities'].describe()"
   ]
  },
  {
   "cell_type": "code",
   "execution_count": 22,
   "id": "9595566d-7e13-4733-bb3d-cd052c33c056",
   "metadata": {},
   "outputs": [
    {
     "data": {
      "text/plain": [
       "Text(0.5, 1.0, 'The distribution of fatalities')"
      ]
     },
     "execution_count": 22,
     "metadata": {},
     "output_type": "execute_result"
    },
    {
     "data": {
      "image/png": "[encoded data removed]",
      "text/plain": [
       "<Figure size 720x360 with 1 Axes>"
      ]
     },
     "metadata": {
      "needs_background": "light"
     },
     "output_type": "display_data"
    }
   ],
   "source": [
    "fig, axs = plt.subplots(1, 1, figsize=(10,5))\n",
    "axs = sns.boxplot(x = df['fatalities'])\n",
    "axs.set_title('The distribution of fatalities')"
   ]
  },
  {
   "cell_type": "code",
   "execution_count": 23,
   "id": "a1d82752-31e7-468b-8187-43ccfb656643",
   "metadata": {},
   "outputs": [
    {
     "data": {
      "image/png": "[encoded data removed]",
      "text/plain": [
       "<Figure size 432x288 with 1 Axes>"
      ]
     },
     "metadata": {
      "needs_background": "light"
     },
     "output_type": "display_data"
    }
   ],
   "source": [
    "df['fatalities'].hist(bins= 50)\n",
    "plt.xlabel('Fatalities per shooting')\n",
    "plt.ylabel('Number of shootings')\n",
    "plt.title('Fatalities per shooting');"
   ]
  },
  {
   "cell_type": "markdown",
   "id": "e54e723f-8df8-4fc4-9314-eda21c10699d",
   "metadata": {},
   "source": [
    "! Powerlaw"
   ]
  },
  {
   "cell_type": "markdown",
   "id": "389cfd65-eed6-4c03-8afc-8f8169bfe4c4",
   "metadata": {},
   "source": [
    "LINK TO LEGAL OR NOT WEAPON => WHAT DO THE MEDIA SAY"
   ]
  },
  {
   "cell_type": "code",
   "execution_count": null,
   "id": "2e67ab80-7911-4572-a971-8d69dd98e0df",
   "metadata": {},
   "outputs": [],
   "source": []
  }
 ],
 "metadata": {
  "kernelspec": {
   "display_name": "Python 3 (ipykernel)",
   "language": "python",
   "name": "python3"
  },
  "language_info": {
   "codemirror_mode": {
    "name": "ipython",
    "version": 3
   },
   "file_extension": ".py",
   "mimetype": "text/x-python",
   "name": "python",
   "nbconvert_exporter": "python",
   "pygments_lexer": "ipython3",
   "version": "3.8.11"
  }
 },
 "nbformat": 4,
 "nbformat_minor": 5
}
