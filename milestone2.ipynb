{
 "cells": [
  {
   "cell_type": "code",
   "execution_count": 179,
   "metadata": {},
   "outputs": [
    {
     "name": "stdout",
     "output_type": "stream",
     "text": [
      "Requirement already satisfied: tld in c:\\users\\doo\\anaconda3\\lib\\site-packages (0.12.6)\n",
      "Requirement already satisfied: pandas in c:\\users\\doo\\anaconda3\\lib\\site-packages (1.1.3)\n",
      "Requirement already satisfied: pyarrow in c:\\users\\doo\\anaconda3\\lib\\site-packages (6.0.0)\n",
      "Requirement already satisfied: numpy>=1.15.4 in c:\\users\\doo\\anaconda3\\lib\\site-packages (from pandas) (1.20.3)\n",
      "Requirement already satisfied: python-dateutil>=2.7.3 in c:\\users\\doo\\anaconda3\\lib\\site-packages (from pandas) (2.8.1)\n",
      "Requirement already satisfied: pytz>=2017.2 in c:\\users\\doo\\anaconda3\\lib\\site-packages (from pandas) (2020.1)\n",
      "Requirement already satisfied: six>=1.5 in c:\\users\\doo\\anaconda3\\lib\\site-packages (from python-dateutil>=2.7.3->pandas) (1.15.0)\n"
     ]
    }
   ],
   "source": [
    "#Import usefull libraries\n",
    "import pandas as pd\n",
    "import numpy as np\n",
    "import matplotlib.pyplot as plt\n",
    "%matplotlib inline\n",
    "import seaborn as sns\n",
    "!pip install tld\n",
    "!pip install pandas pyarrow\n",
    "from tld import get_tld\n",
    "import json\n",
    "import bz2\n",
    "from scipy import stats\n",
    "import statsmodels.api as sm\n",
    "import statsmodels.formula.api as smf\n",
    "# Disable some pandas warnings we don't need\n",
    "pd.options.mode.chained_assignment = None"
   ]
  },
  {
   "cell_type": "markdown",
   "metadata": {},
   "source": [
    "## 1 - Initial analysis of the cropped Quotebank dataset"
   ]
  },
  {
   "cell_type": "markdown",
   "metadata": {},
   "source": [
    "We have filtered out all the rows corresponding to quotes that did not contain any of the keywords related to gun control. The remaining rows have been added to a new file: 'quotes-cropped.json', which will be one of our main datasets for this project. It is much more reasonnable in size (550 Mo) than the full Quotebank dataset. This will allow us to work with Jupyter lab with all the data we need."
   ]
  },
  {
   "cell_type": "markdown",
   "metadata": {},
   "source": [
    "Since we only consider those quotes from American online newspapers, we should be able to determine which country the websites\n",
    "belong to.\n",
    "In order to reach this target, we choose to use a new dataset which contains country-website pairs."
   ]
  },
  {
   "cell_type": "code",
   "execution_count": 156,
   "metadata": {},
   "outputs": [
    {
     "data": {
      "text/html": [
       "<div>\n",
       "<style scoped>\n",
       "    .dataframe tbody tr th:only-of-type {\n",
       "        vertical-align: middle;\n",
       "    }\n",
       "\n",
       "    .dataframe tbody tr th {\n",
       "        vertical-align: top;\n",
       "    }\n",
       "\n",
       "    .dataframe thead th {\n",
       "        text-align: right;\n",
       "    }\n",
       "</style>\n",
       "<table border=\"1\" class=\"dataframe\">\n",
       "  <thead>\n",
       "    <tr style=\"text-align: right;\">\n",
       "      <th></th>\n",
       "      <th>id</th>\n",
       "      <th>unknown</th>\n",
       "      <th>date</th>\n",
       "      <th>country</th>\n",
       "      <th>media</th>\n",
       "      <th>website</th>\n",
       "      <th>title</th>\n",
       "      <th>domain</th>\n",
       "    </tr>\n",
       "  </thead>\n",
       "  <tbody>\n",
       "    <tr>\n",
       "      <th>0</th>\n",
       "      <td>11241</td>\n",
       "      <td>397</td>\n",
       "      <td>13-01-06</td>\n",
       "      <td>US</td>\n",
       "      <td>Kotaku</td>\n",
       "      <td>http://kotaku.com/5973495/author-of-the-warrio...</td>\n",
       "      <td>Author of The Warriors, Cult Film Adapted to H...</td>\n",
       "      <td>kotaku</td>\n",
       "    </tr>\n",
       "    <tr>\n",
       "      <th>1</th>\n",
       "      <td>11242</td>\n",
       "      <td>757</td>\n",
       "      <td>13-01-06</td>\n",
       "      <td>US</td>\n",
       "      <td>Michigan Radio</td>\n",
       "      <td>http://michiganradio.org/post/thats-what-they-...</td>\n",
       "      <td>That's What They Say: Dialect Society chooses ...</td>\n",
       "      <td>michiganradio</td>\n",
       "    </tr>\n",
       "    <tr>\n",
       "      <th>2</th>\n",
       "      <td>11243</td>\n",
       "      <td>755</td>\n",
       "      <td>13-01-06</td>\n",
       "      <td>US</td>\n",
       "      <td>New York Daily News</td>\n",
       "      <td>http://www.nydailynews.com/life-style/eats/bes...</td>\n",
       "      <td>Best of New York: Croissant</td>\n",
       "      <td>nydailynews</td>\n",
       "    </tr>\n",
       "    <tr>\n",
       "      <th>3</th>\n",
       "      <td>11244</td>\n",
       "      <td>1677</td>\n",
       "      <td>13-01-06</td>\n",
       "      <td>US</td>\n",
       "      <td>OregonLive.com</td>\n",
       "      <td>http://www.oregonlive.com/performance/index.ss...</td>\n",
       "      <td>Reflecting on a quarter-century of growth in P...</td>\n",
       "      <td>oregonlive</td>\n",
       "    </tr>\n",
       "    <tr>\n",
       "      <th>4</th>\n",
       "      <td>21242</td>\n",
       "      <td>794</td>\n",
       "      <td>13-01-11</td>\n",
       "      <td>US</td>\n",
       "      <td>Ars Technica</td>\n",
       "      <td>http://arstechnica.com/gadgets/2013/01/ask-ars...</td>\n",
       "      <td>Ask Ars: Does Facebook auto-delete content aft...</td>\n",
       "      <td>arstechnica</td>\n",
       "    </tr>\n",
       "  </tbody>\n",
       "</table>\n",
       "</div>"
      ],
      "text/plain": [
       "      id  unknown      date country                media  \\\n",
       "0  11241      397  13-01-06      US               Kotaku   \n",
       "1  11242      757  13-01-06      US       Michigan Radio   \n",
       "2  11243      755  13-01-06      US  New York Daily News   \n",
       "3  11244     1677  13-01-06      US       OregonLive.com   \n",
       "4  21242      794  13-01-11      US         Ars Technica   \n",
       "\n",
       "                                             website  \\\n",
       "0  http://kotaku.com/5973495/author-of-the-warrio...   \n",
       "1  http://michiganradio.org/post/thats-what-they-...   \n",
       "2  http://www.nydailynews.com/life-style/eats/bes...   \n",
       "3  http://www.oregonlive.com/performance/index.ss...   \n",
       "4  http://arstechnica.com/gadgets/2013/01/ask-ars...   \n",
       "\n",
       "                                               title         domain  \n",
       "0  Author of The Warriors, Cult Film Adapted to H...         kotaku  \n",
       "1  That's What They Say: Dialect Society chooses ...  michiganradio  \n",
       "2                        Best of New York: Croissant    nydailynews  \n",
       "3  Reflecting on a quarter-century of growth in P...     oregonlive  \n",
       "4  Ask Ars: Does Facebook auto-delete content aft...    arstechnica  "
      ]
     },
     "execution_count": 156,
     "metadata": {},
     "output_type": "execute_result"
    }
   ],
   "source": [
    "def get_domain(url):\n",
    "    res = get_tld(url, as_object=True)\n",
    "    return res.domain\n",
    "\n",
    "new_src = pd.read_csv('data/news.txt', delimiter=\"\\t\", header=None, encoding = \"ISO-8859-1\")\n",
    "new_src.columns=['id','unknown','date','country','media','website','title']\n",
    "new_src['domain']=new_src.apply(lambda x : get_domain(x['website']),axis=1)\n",
    "new_src.drop_duplicates(inplace=True, subset=['domain'], keep='first')\n",
    "new_src.head()"
   ]
  },
  {
   "cell_type": "markdown",
   "metadata": {},
   "source": [
    "Operating on the file quotes-cropped, we assign to each quotation a new field 'country' according to the media which quotes\n",
    "the sentence.\n"
   ]
  },
  {
   "cell_type": "code",
   "execution_count": null,
   "metadata": {},
   "outputs": [],
   "source": [
    "path_to_out = 'data/quotes-cropped-with-country.json.bz2'\n",
    "with bz2.open(\"data/quotes-cropped.json.bz2\", 'rb') as s_file:\n",
    "    with bz2.open(path_to_out, 'wb') as d_file:\n",
    "        for instance in s_file:\n",
    "                instance = json.loads(instance) # loading a sample\n",
    "                urls = instance['urls'] # extracting list of links \n",
    "                instance['country']=np.nan\n",
    "                for url in urls:\n",
    "                    domain=get_domain(url)\n",
    "                    if len(new_src[new_src['domain']==domain])>=1:\n",
    "                        instance['country']=new_src[new_src['domain']==domain]['country'].item()\n",
    "                        break\n",
    "                d_file.write((json.dumps(instance)+'\\n').encode('utf-8'))"
   ]
  },
  {
   "cell_type": "code",
   "execution_count": 236,
   "metadata": {},
   "outputs": [
    {
     "data": {
      "text/html": [
       "<div>\n",
       "<style scoped>\n",
       "    .dataframe tbody tr th:only-of-type {\n",
       "        vertical-align: middle;\n",
       "    }\n",
       "\n",
       "    .dataframe tbody tr th {\n",
       "        vertical-align: top;\n",
       "    }\n",
       "\n",
       "    .dataframe thead th {\n",
       "        text-align: right;\n",
       "    }\n",
       "</style>\n",
       "<table border=\"1\" class=\"dataframe\">\n",
       "  <thead>\n",
       "    <tr style=\"text-align: right;\">\n",
       "      <th></th>\n",
       "      <th>quoteID</th>\n",
       "      <th>quotation</th>\n",
       "      <th>speaker</th>\n",
       "      <th>qids</th>\n",
       "      <th>date</th>\n",
       "      <th>numOccurrences</th>\n",
       "      <th>probas</th>\n",
       "      <th>urls</th>\n",
       "      <th>phase</th>\n",
       "      <th>country</th>\n",
       "    </tr>\n",
       "  </thead>\n",
       "  <tbody>\n",
       "    <tr>\n",
       "      <th>0</th>\n",
       "      <td>2015-11-17-031545</td>\n",
       "      <td>However, that had nothing to do with the blast...</td>\n",
       "      <td>Dawood Ibrahim</td>\n",
       "      <td>[Q553191]</td>\n",
       "      <td>2015-11-17 13:32:58</td>\n",
       "      <td>3</td>\n",
       "      <td>[[Dawood Ibrahim, 0.6072], [None, 0.338], [San...</td>\n",
       "      <td>[http://www.newindianexpress.com/nation/Part-o...</td>\n",
       "      <td>E</td>\n",
       "      <td>IN</td>\n",
       "    </tr>\n",
       "    <tr>\n",
       "      <th>1</th>\n",
       "      <td>2015-12-29-000719</td>\n",
       "      <td>91 percent of suspected terrorists who attempt...</td>\n",
       "      <td>Patrick Murphy</td>\n",
       "      <td>[Q17418821, Q21170773, Q2224935, Q23418906, Q3...</td>\n",
       "      <td>2015-12-29 15:42:57</td>\n",
       "      <td>4</td>\n",
       "      <td>[[Patrick Murphy, 0.8398], [None, 0.1579], [Je...</td>\n",
       "      <td>[http://politifact.com/florida/statements/2015...</td>\n",
       "      <td>E</td>\n",
       "      <td>US</td>\n",
       "    </tr>\n",
       "    <tr>\n",
       "      <th>2</th>\n",
       "      <td>2015-06-15-000921</td>\n",
       "      <td>a powerful and compelling motive to lie about ...</td>\n",
       "      <td>None</td>\n",
       "      <td>[]</td>\n",
       "      <td>2015-06-15 21:39:12</td>\n",
       "      <td>1</td>\n",
       "      <td>[[None, 0.7388], [Joseph Thompson, 0.2313], [A...</td>\n",
       "      <td>[http://dailylocal.com/general-news/20150613/n...</td>\n",
       "      <td>E</td>\n",
       "      <td>None</td>\n",
       "    </tr>\n",
       "    <tr>\n",
       "      <th>3</th>\n",
       "      <td>2015-12-08-003771</td>\n",
       "      <td>After the failure of the U.S. Congress to pass...</td>\n",
       "      <td>Roy Cooper</td>\n",
       "      <td>[Q16106910, Q7372694, Q7372695]</td>\n",
       "      <td>2015-12-08 16:15:05</td>\n",
       "      <td>1</td>\n",
       "      <td>[[Roy Cooper, 0.928], [None, 0.0574], [Frank P...</td>\n",
       "      <td>[http://digtriad.com/story/news/2015/12/08/sho...</td>\n",
       "      <td>E</td>\n",
       "      <td>None</td>\n",
       "    </tr>\n",
       "    <tr>\n",
       "      <th>4</th>\n",
       "      <td>2015-01-09-024195</td>\n",
       "      <td>I got back inside and then they started shooti...</td>\n",
       "      <td>Herman Torres</td>\n",
       "      <td>[Q18285204]</td>\n",
       "      <td>2015-01-09 03:39:35</td>\n",
       "      <td>1</td>\n",
       "      <td>[[Herman Torres, 0.9218], [None, 0.0782]]</td>\n",
       "      <td>[http://www.wesh.com/news/orange-county-sherif...</td>\n",
       "      <td>E</td>\n",
       "      <td>US</td>\n",
       "    </tr>\n",
       "  </tbody>\n",
       "</table>\n",
       "</div>"
      ],
      "text/plain": [
       "             quoteID                                          quotation  \\\n",
       "0  2015-11-17-031545  However, that had nothing to do with the blast...   \n",
       "1  2015-12-29-000719  91 percent of suspected terrorists who attempt...   \n",
       "2  2015-06-15-000921  a powerful and compelling motive to lie about ...   \n",
       "3  2015-12-08-003771  After the failure of the U.S. Congress to pass...   \n",
       "4  2015-01-09-024195  I got back inside and then they started shooti...   \n",
       "\n",
       "          speaker                                               qids  \\\n",
       "0  Dawood Ibrahim                                          [Q553191]   \n",
       "1  Patrick Murphy  [Q17418821, Q21170773, Q2224935, Q23418906, Q3...   \n",
       "2            None                                                 []   \n",
       "3      Roy Cooper                    [Q16106910, Q7372694, Q7372695]   \n",
       "4   Herman Torres                                        [Q18285204]   \n",
       "\n",
       "                 date  numOccurrences  \\\n",
       "0 2015-11-17 13:32:58               3   \n",
       "1 2015-12-29 15:42:57               4   \n",
       "2 2015-06-15 21:39:12               1   \n",
       "3 2015-12-08 16:15:05               1   \n",
       "4 2015-01-09 03:39:35               1   \n",
       "\n",
       "                                              probas  \\\n",
       "0  [[Dawood Ibrahim, 0.6072], [None, 0.338], [San...   \n",
       "1  [[Patrick Murphy, 0.8398], [None, 0.1579], [Je...   \n",
       "2  [[None, 0.7388], [Joseph Thompson, 0.2313], [A...   \n",
       "3  [[Roy Cooper, 0.928], [None, 0.0574], [Frank P...   \n",
       "4          [[Herman Torres, 0.9218], [None, 0.0782]]   \n",
       "\n",
       "                                                urls phase country  \n",
       "0  [http://www.newindianexpress.com/nation/Part-o...     E      IN  \n",
       "1  [http://politifact.com/florida/statements/2015...     E      US  \n",
       "2  [http://dailylocal.com/general-news/20150613/n...     E    None  \n",
       "3  [http://digtriad.com/story/news/2015/12/08/sho...     E    None  \n",
       "4  [http://www.wesh.com/news/orange-county-sherif...     E      US  "
      ]
     },
     "execution_count": 236,
     "metadata": {},
     "output_type": "execute_result"
    }
   ],
   "source": [
    "# New dataframe with the data ('quotes-cropped.jspon')\n",
    "with bz2.open(\"data/quotes-cropped-with-country.json.bz2\", 'rb') as s_file: \n",
    "    df_original = pd.read_json(s_file, lines=True)\n",
    "df_original.head()"
   ]
  },
  {
   "cell_type": "code",
   "execution_count": 237,
   "metadata": {},
   "outputs": [
    {
     "data": {
      "text/html": [
       "<div>\n",
       "<style scoped>\n",
       "    .dataframe tbody tr th:only-of-type {\n",
       "        vertical-align: middle;\n",
       "    }\n",
       "\n",
       "    .dataframe tbody tr th {\n",
       "        vertical-align: top;\n",
       "    }\n",
       "\n",
       "    .dataframe thead th {\n",
       "        text-align: right;\n",
       "    }\n",
       "</style>\n",
       "<table border=\"1\" class=\"dataframe\">\n",
       "  <thead>\n",
       "    <tr style=\"text-align: right;\">\n",
       "      <th></th>\n",
       "      <th>quoteID</th>\n",
       "      <th>quotation</th>\n",
       "      <th>speaker</th>\n",
       "      <th>qids</th>\n",
       "      <th>date</th>\n",
       "      <th>numOccurrences</th>\n",
       "      <th>probas</th>\n",
       "      <th>urls</th>\n",
       "      <th>phase</th>\n",
       "      <th>country</th>\n",
       "    </tr>\n",
       "  </thead>\n",
       "  <tbody>\n",
       "    <tr>\n",
       "      <th>1</th>\n",
       "      <td>2015-12-29-000719</td>\n",
       "      <td>91 percent of suspected terrorists who attempt...</td>\n",
       "      <td>Patrick Murphy</td>\n",
       "      <td>[Q17418821, Q21170773, Q2224935, Q23418906, Q3...</td>\n",
       "      <td>2015-12-29 15:42:57</td>\n",
       "      <td>4</td>\n",
       "      <td>[[Patrick Murphy, 0.8398], [None, 0.1579], [Je...</td>\n",
       "      <td>[http://politifact.com/florida/statements/2015...</td>\n",
       "      <td>E</td>\n",
       "      <td>US</td>\n",
       "    </tr>\n",
       "    <tr>\n",
       "      <th>4</th>\n",
       "      <td>2015-01-09-024195</td>\n",
       "      <td>I got back inside and then they started shooti...</td>\n",
       "      <td>Herman Torres</td>\n",
       "      <td>[Q18285204]</td>\n",
       "      <td>2015-01-09 03:39:35</td>\n",
       "      <td>1</td>\n",
       "      <td>[[Herman Torres, 0.9218], [None, 0.0782]]</td>\n",
       "      <td>[http://www.wesh.com/news/orange-county-sherif...</td>\n",
       "      <td>E</td>\n",
       "      <td>US</td>\n",
       "    </tr>\n",
       "    <tr>\n",
       "      <th>20</th>\n",
       "      <td>2015-11-26-034388</td>\n",
       "      <td>I'm letting him try to find it for himself. He...</td>\n",
       "      <td>Byron Scott</td>\n",
       "      <td>[Q538009]</td>\n",
       "      <td>2015-11-26 18:51:56</td>\n",
       "      <td>3</td>\n",
       "      <td>[[Byron Scott, 0.8244], [None, 0.1685], [Kobe ...</td>\n",
       "      <td>[http://www.latimes.com/sports/lakers/la-sp-la...</td>\n",
       "      <td>E</td>\n",
       "      <td>US</td>\n",
       "    </tr>\n",
       "    <tr>\n",
       "      <th>24</th>\n",
       "      <td>2015-07-30-026870</td>\n",
       "      <td>He described a shooting that looked nothing li...</td>\n",
       "      <td>Lawrence Middleton</td>\n",
       "      <td>[Q16091535]</td>\n",
       "      <td>2015-07-30 05:00:00</td>\n",
       "      <td>12</td>\n",
       "      <td>[[Lawrence Middleton, 0.8756], [None, 0.1233],...</td>\n",
       "      <td>[http://feeds.latimes.com/~r/features/books/~3...</td>\n",
       "      <td>E</td>\n",
       "      <td>US</td>\n",
       "    </tr>\n",
       "    <tr>\n",
       "      <th>26</th>\n",
       "      <td>2015-08-21-026312</td>\n",
       "      <td>He was not armed, he did not have a gun, our i...</td>\n",
       "      <td>None</td>\n",
       "      <td>[]</td>\n",
       "      <td>2015-08-21 20:54:00</td>\n",
       "      <td>2</td>\n",
       "      <td>[[None, 0.8635], [Sam Dotson, 0.1133], [Michae...</td>\n",
       "      <td>[http://www.latimes.com/nation/la-na-black-mis...</td>\n",
       "      <td>E</td>\n",
       "      <td>US</td>\n",
       "    </tr>\n",
       "  </tbody>\n",
       "</table>\n",
       "</div>"
      ],
      "text/plain": [
       "              quoteID                                          quotation  \\\n",
       "1   2015-12-29-000719  91 percent of suspected terrorists who attempt...   \n",
       "4   2015-01-09-024195  I got back inside and then they started shooti...   \n",
       "20  2015-11-26-034388  I'm letting him try to find it for himself. He...   \n",
       "24  2015-07-30-026870  He described a shooting that looked nothing li...   \n",
       "26  2015-08-21-026312  He was not armed, he did not have a gun, our i...   \n",
       "\n",
       "               speaker                                               qids  \\\n",
       "1       Patrick Murphy  [Q17418821, Q21170773, Q2224935, Q23418906, Q3...   \n",
       "4        Herman Torres                                        [Q18285204]   \n",
       "20         Byron Scott                                          [Q538009]   \n",
       "24  Lawrence Middleton                                        [Q16091535]   \n",
       "26                None                                                 []   \n",
       "\n",
       "                  date  numOccurrences  \\\n",
       "1  2015-12-29 15:42:57               4   \n",
       "4  2015-01-09 03:39:35               1   \n",
       "20 2015-11-26 18:51:56               3   \n",
       "24 2015-07-30 05:00:00              12   \n",
       "26 2015-08-21 20:54:00               2   \n",
       "\n",
       "                                               probas  \\\n",
       "1   [[Patrick Murphy, 0.8398], [None, 0.1579], [Je...   \n",
       "4           [[Herman Torres, 0.9218], [None, 0.0782]]   \n",
       "20  [[Byron Scott, 0.8244], [None, 0.1685], [Kobe ...   \n",
       "24  [[Lawrence Middleton, 0.8756], [None, 0.1233],...   \n",
       "26  [[None, 0.8635], [Sam Dotson, 0.1133], [Michae...   \n",
       "\n",
       "                                                 urls phase country  \n",
       "1   [http://politifact.com/florida/statements/2015...     E      US  \n",
       "4   [http://www.wesh.com/news/orange-county-sherif...     E      US  \n",
       "20  [http://www.latimes.com/sports/lakers/la-sp-la...     E      US  \n",
       "24  [http://feeds.latimes.com/~r/features/books/~3...     E      US  \n",
       "26  [http://www.latimes.com/nation/la-na-black-mis...     E      US  "
      ]
     },
     "execution_count": 237,
     "metadata": {},
     "output_type": "execute_result"
    }
   ],
   "source": [
    "df_original=df_original[df_original['country']=='US']\n",
    "df_original.head()"
   ]
  },
  {
   "cell_type": "markdown",
   "metadata": {},
   "source": [
    "We will start by plotting the number of quotes containing at least one of our keywords over time (i.e. between 2015 and 2020). Even though some quotes will be irrelevant (e.g. \"we were **shooting** a movie\"), we assume the distribution of these irrelevant quotes to be close to uniform for the moment. For the final project, we plan to be using Machine Learning algorithms to better select the data from the Quotebank dataset (instead of the keywords), choosing only quotes who have a high probability to be relevant.\n",
    "\n",
    "Our plot should therefore give a good first impression on how much people/the media has been speaking about gun control during these five years."
   ]
  },
  {
   "cell_type": "code",
   "execution_count": 238,
   "metadata": {},
   "outputs": [
    {
     "data": {
      "text/html": [
       "<div>\n",
       "<style scoped>\n",
       "    .dataframe tbody tr th:only-of-type {\n",
       "        vertical-align: middle;\n",
       "    }\n",
       "\n",
       "    .dataframe tbody tr th {\n",
       "        vertical-align: top;\n",
       "    }\n",
       "\n",
       "    .dataframe thead th {\n",
       "        text-align: right;\n",
       "    }\n",
       "</style>\n",
       "<table border=\"1\" class=\"dataframe\">\n",
       "  <thead>\n",
       "    <tr style=\"text-align: right;\">\n",
       "      <th></th>\n",
       "      <th>date</th>\n",
       "      <th>quotation</th>\n",
       "    </tr>\n",
       "  </thead>\n",
       "  <tbody>\n",
       "    <tr>\n",
       "      <th>55989</th>\n",
       "      <td>2015-01-01 00:40:01</td>\n",
       "      <td>If you see someone shooting, tell them it's no...</td>\n",
       "    </tr>\n",
       "    <tr>\n",
       "      <th>52336</th>\n",
       "      <td>2015-01-01 00:40:01</td>\n",
       "      <td>No celebratory gunfire tonight,</td>\n",
       "    </tr>\n",
       "    <tr>\n",
       "      <th>105372</th>\n",
       "      <td>2015-01-01 00:40:01</td>\n",
       "      <td>When my 9-year-old daughter looks in my face a...</td>\n",
       "    </tr>\n",
       "    <tr>\n",
       "      <th>61668</th>\n",
       "      <td>2015-01-01 00:40:01</td>\n",
       "      <td>When you're impared in any way, you should nev...</td>\n",
       "    </tr>\n",
       "    <tr>\n",
       "      <th>95839</th>\n",
       "      <td>2015-01-01 00:40:01</td>\n",
       "      <td>The fundamental handling of safe firearms is k...</td>\n",
       "    </tr>\n",
       "  </tbody>\n",
       "</table>\n",
       "</div>"
      ],
      "text/plain": [
       "                      date                                          quotation\n",
       "55989  2015-01-01 00:40:01  If you see someone shooting, tell them it's no...\n",
       "52336  2015-01-01 00:40:01                    No celebratory gunfire tonight,\n",
       "105372 2015-01-01 00:40:01  When my 9-year-old daughter looks in my face a...\n",
       "61668  2015-01-01 00:40:01  When you're impared in any way, you should nev...\n",
       "95839  2015-01-01 00:40:01  The fundamental handling of safe firearms is k..."
      ]
     },
     "execution_count": 238,
     "metadata": {},
     "output_type": "execute_result"
    }
   ],
   "source": [
    "# Keep only the columns that we need for our initial analysis\n",
    "df = df_original[['date','quotation']]\n",
    "\n",
    "# Convert data column to datetime format\n",
    "df['date'] = pd.to_datetime(df['date'])\n",
    "\n",
    "# Sort dataframe by date\n",
    "df = df.sort_values(by=['date'])\n",
    "\n",
    "df.head()"
   ]
  },
  {
   "cell_type": "markdown",
   "metadata": {},
   "source": [
    "Now that we have sorted the dataframe by date, we can move on to the plot."
   ]
  },
  {
   "cell_type": "code",
   "execution_count": 239,
   "metadata": {},
   "outputs": [
    {
     "data": {
      "image/png": "[encoded data removed]",
      "text/plain": [
       "<Figure size 1080x360 with 1 Axes>"
      ]
     },
     "metadata": {
      "needs_background": "light"
     },
     "output_type": "display_data"
    }
   ],
   "source": [
    "# Plotting number of quotes that contain keywords on the timeframe of the dataset\n",
    "plt.figure(figsize=(15,5))\n",
    "\n",
    "plt.hist(df['date'], bins=2000, color='#4a7399')\n",
    "\n",
    "plt.title('Occurences of quotes containing at least one of the keywords between 2015 and 2020')\n",
    "plt.xlabel('Time')\n",
    "plt.ylabel('Number of occurences')\n",
    "plt.show()"
   ]
  },
  {
   "cell_type": "markdown",
   "metadata": {},
   "source": [
    "This histogram gives a good idea of how much people have been speaking of guns/firearms/shootings in the last 5 years in the media. **But it has a major flaw**: each quote has the same \"weight\" (one quote accounts for one occurence). But some quotes occure more often then others ('numOccurences' colum in the dataframe). We should take this extra information into account if we want a better view on the data.\n",
    "\n",
    "We will now define a new dataframe that contains the number of quotes (multiplied by their respective occurences) for each day that contain at least one of the keywords."
   ]
  },
  {
   "cell_type": "code",
   "execution_count": 240,
   "metadata": {},
   "outputs": [
    {
     "data": {
      "text/html": [
       "<div>\n",
       "<style scoped>\n",
       "    .dataframe tbody tr th:only-of-type {\n",
       "        vertical-align: middle;\n",
       "    }\n",
       "\n",
       "    .dataframe tbody tr th {\n",
       "        vertical-align: top;\n",
       "    }\n",
       "\n",
       "    .dataframe thead th {\n",
       "        text-align: right;\n",
       "    }\n",
       "</style>\n",
       "<table border=\"1\" class=\"dataframe\">\n",
       "  <thead>\n",
       "    <tr style=\"text-align: right;\">\n",
       "      <th></th>\n",
       "      <th>date</th>\n",
       "      <th>numOccurrences</th>\n",
       "    </tr>\n",
       "  </thead>\n",
       "  <tbody>\n",
       "    <tr>\n",
       "      <th>0</th>\n",
       "      <td>2015-01-01</td>\n",
       "      <td>91</td>\n",
       "    </tr>\n",
       "    <tr>\n",
       "      <th>1</th>\n",
       "      <td>2015-01-02</td>\n",
       "      <td>332</td>\n",
       "    </tr>\n",
       "    <tr>\n",
       "      <th>2</th>\n",
       "      <td>2015-01-03</td>\n",
       "      <td>110</td>\n",
       "    </tr>\n",
       "    <tr>\n",
       "      <th>3</th>\n",
       "      <td>2015-01-04</td>\n",
       "      <td>121</td>\n",
       "    </tr>\n",
       "    <tr>\n",
       "      <th>4</th>\n",
       "      <td>2015-01-05</td>\n",
       "      <td>408</td>\n",
       "    </tr>\n",
       "  </tbody>\n",
       "</table>\n",
       "</div>"
      ],
      "text/plain": [
       "        date  numOccurrences\n",
       "0 2015-01-01              91\n",
       "1 2015-01-02             332\n",
       "2 2015-01-03             110\n",
       "3 2015-01-04             121\n",
       "4 2015-01-05             408"
      ]
     },
     "execution_count": 240,
     "metadata": {},
     "output_type": "execute_result"
    }
   ],
   "source": [
    "# Define a new dataframe for this specific study\n",
    "df = df_original[['date','numOccurrences']]\n",
    "\n",
    "# Remove hour from the date\n",
    "df['date'] = df['date'].dt.date\n",
    "\n",
    "# Group by date and sum number of occurences\n",
    "df = df.groupby(['date']).sum()\n",
    "df = df.reset_index()\n",
    "\n",
    "# Convert data column back to datetime format\n",
    "df['date'] = pd.to_datetime(df['date'])\n",
    "\n",
    "# Sort dataframe by date\n",
    "df = df.sort_values(by=['date'])\n",
    "\n",
    "df.head()"
   ]
  },
  {
   "cell_type": "markdown",
   "metadata": {},
   "source": [
    "We now have our desired dataframe: one row is one day, and for each day we have the number of quotes (multiplied by their occurences) that contain at least a keyword."
   ]
  },
  {
   "cell_type": "code",
   "execution_count": 241,
   "metadata": {},
   "outputs": [
    {
     "data": {
      "image/png": "[encoded data removed]",
      "text/plain": [
       "<Figure size 1080x360 with 1 Axes>"
      ]
     },
     "metadata": {
      "needs_background": "light"
     },
     "output_type": "display_data"
    }
   ],
   "source": [
    "# Plotting number of quotes that contain keywords on the timeframe of the dataset\n",
    "plt.figure(figsize=(15,5))\n",
    "\n",
    "plt.bar(df['date'],df['numOccurrences'],color='#4a7399')\n",
    "plt.title('Occurences of quotes containing at least one of the keywords between 2015 and 2020')\n",
    "plt.xlabel('Time')\n",
    "plt.ylabel('Number of occurences')\n",
    "plt.ylim(0,21000)\n",
    "plt.show()"
   ]
  },
  {
   "cell_type": "markdown",
   "metadata": {},
   "source": [
    "We have cleared a possible source of error out of the way. We will be using this new dataframe in the rest of the analysis. If we happen to need more information about the quotes that were said on a specific date, we can always switch back to looking for quotes on that specific date in the original dataframe (from the \"cropped\" Quotebank)."
   ]
  },
  {
   "cell_type": "code",
   "execution_count": 242,
   "metadata": {},
   "outputs": [],
   "source": [
    "# We will use this data in comparitive plots in part 3\n",
    "data1 = df[['date','numOccurrences']]"
   ]
  },
  {
   "cell_type": "markdown",
   "metadata": {},
   "source": [
    "In the end, we see that this is plot is extremly similar to what we have obtained in the previous histogram. This is probably what data science is about sometimes... But at least we have cleared a possible source of error out of the way. We will be using this specific dataframe in the rest of the analysis."
   ]
  },
  {
   "cell_type": "markdown",
   "metadata": {},
   "source": [
    "## 2 - Initial analysis of the speaker attributes dataset"
   ]
  },
  {
   "cell_type": "markdown",
   "metadata": {},
   "source": [
    "We have loaded the speaker attributes dataset to extract additional information about quotations' speakers, for statistic purpose in case of need."
   ]
  },
  {
   "cell_type": "code",
   "execution_count": 193,
   "metadata": {},
   "outputs": [],
   "source": [
    "speaker_attributes=pd.read_parquet('data/speaker_attributes.parquet')"
   ]
  },
  {
   "cell_type": "code",
   "execution_count": 194,
   "metadata": {},
   "outputs": [
    {
     "data": {
      "text/html": [
       "<div>\n",
       "<style scoped>\n",
       "    .dataframe tbody tr th:only-of-type {\n",
       "        vertical-align: middle;\n",
       "    }\n",
       "\n",
       "    .dataframe tbody tr th {\n",
       "        vertical-align: top;\n",
       "    }\n",
       "\n",
       "    .dataframe thead th {\n",
       "        text-align: right;\n",
       "    }\n",
       "</style>\n",
       "<table border=\"1\" class=\"dataframe\">\n",
       "  <thead>\n",
       "    <tr style=\"text-align: right;\">\n",
       "      <th></th>\n",
       "      <th>aliases</th>\n",
       "      <th>date_of_birth</th>\n",
       "      <th>nationality</th>\n",
       "      <th>gender</th>\n",
       "      <th>lastrevid</th>\n",
       "      <th>ethnic_group</th>\n",
       "      <th>US_congress_bio_ID</th>\n",
       "      <th>occupation</th>\n",
       "      <th>party</th>\n",
       "      <th>academic_degree</th>\n",
       "      <th>id</th>\n",
       "      <th>label</th>\n",
       "      <th>candidacy</th>\n",
       "      <th>type</th>\n",
       "      <th>religion</th>\n",
       "    </tr>\n",
       "  </thead>\n",
       "  <tbody>\n",
       "    <tr>\n",
       "      <th>0</th>\n",
       "      <td>[Washington, President Washington, G. Washingt...</td>\n",
       "      <td>[+1732-02-22T00:00:00Z]</td>\n",
       "      <td>[Q161885, Q30]</td>\n",
       "      <td>[Q6581097]</td>\n",
       "      <td>1395141751</td>\n",
       "      <td>None</td>\n",
       "      <td>W000178</td>\n",
       "      <td>[Q82955, Q189290, Q131512, Q1734662, Q294126, ...</td>\n",
       "      <td>[Q327591]</td>\n",
       "      <td>None</td>\n",
       "      <td>Q23</td>\n",
       "      <td>George Washington</td>\n",
       "      <td>[Q698073, Q697949]</td>\n",
       "      <td>item</td>\n",
       "      <td>[Q682443]</td>\n",
       "    </tr>\n",
       "    <tr>\n",
       "      <th>1</th>\n",
       "      <td>[Douglas Noel Adams, Douglas Noël Adams, Dougl...</td>\n",
       "      <td>[+1952-03-11T00:00:00Z]</td>\n",
       "      <td>[Q145]</td>\n",
       "      <td>[Q6581097]</td>\n",
       "      <td>1395737157</td>\n",
       "      <td>[Q7994501]</td>\n",
       "      <td>None</td>\n",
       "      <td>[Q214917, Q28389, Q6625963, Q4853732, Q1884422...</td>\n",
       "      <td>None</td>\n",
       "      <td>None</td>\n",
       "      <td>Q42</td>\n",
       "      <td>Douglas Adams</td>\n",
       "      <td>None</td>\n",
       "      <td>item</td>\n",
       "      <td>None</td>\n",
       "    </tr>\n",
       "    <tr>\n",
       "      <th>2</th>\n",
       "      <td>[Paul Marie Ghislain Otlet, Paul Marie Otlet]</td>\n",
       "      <td>[+1868-08-23T00:00:00Z]</td>\n",
       "      <td>[Q31]</td>\n",
       "      <td>[Q6581097]</td>\n",
       "      <td>1380367296</td>\n",
       "      <td>None</td>\n",
       "      <td>None</td>\n",
       "      <td>[Q36180, Q40348, Q182436, Q1265807, Q205375, Q...</td>\n",
       "      <td>None</td>\n",
       "      <td>None</td>\n",
       "      <td>Q1868</td>\n",
       "      <td>Paul Otlet</td>\n",
       "      <td>None</td>\n",
       "      <td>item</td>\n",
       "      <td>None</td>\n",
       "    </tr>\n",
       "    <tr>\n",
       "      <th>3</th>\n",
       "      <td>[George Walker Bush, Bush Jr., Dubya, GWB, Bus...</td>\n",
       "      <td>[+1946-07-06T00:00:00Z]</td>\n",
       "      <td>[Q30]</td>\n",
       "      <td>[Q6581097]</td>\n",
       "      <td>1395142029</td>\n",
       "      <td>None</td>\n",
       "      <td>None</td>\n",
       "      <td>[Q82955, Q15982858, Q18814623, Q1028181, Q1408...</td>\n",
       "      <td>[Q29468]</td>\n",
       "      <td>None</td>\n",
       "      <td>Q207</td>\n",
       "      <td>George W. Bush</td>\n",
       "      <td>[Q327959, Q464075, Q3586276, Q4450587]</td>\n",
       "      <td>item</td>\n",
       "      <td>[Q329646, Q682443, Q33203]</td>\n",
       "    </tr>\n",
       "    <tr>\n",
       "      <th>4</th>\n",
       "      <td>[Velázquez, Diego Rodríguez de Silva y Velázqu...</td>\n",
       "      <td>[+1599-06-06T00:00:00Z]</td>\n",
       "      <td>[Q29]</td>\n",
       "      <td>[Q6581097]</td>\n",
       "      <td>1391704596</td>\n",
       "      <td>None</td>\n",
       "      <td>None</td>\n",
       "      <td>[Q1028181]</td>\n",
       "      <td>None</td>\n",
       "      <td>None</td>\n",
       "      <td>Q297</td>\n",
       "      <td>Diego Velázquez</td>\n",
       "      <td>None</td>\n",
       "      <td>item</td>\n",
       "      <td>None</td>\n",
       "    </tr>\n",
       "  </tbody>\n",
       "</table>\n",
       "</div>"
      ],
      "text/plain": [
       "                                             aliases            date_of_birth  \\\n",
       "0  [Washington, President Washington, G. Washingt...  [+1732-02-22T00:00:00Z]   \n",
       "1  [Douglas Noel Adams, Douglas Noël Adams, Dougl...  [+1952-03-11T00:00:00Z]   \n",
       "2      [Paul Marie Ghislain Otlet, Paul Marie Otlet]  [+1868-08-23T00:00:00Z]   \n",
       "3  [George Walker Bush, Bush Jr., Dubya, GWB, Bus...  [+1946-07-06T00:00:00Z]   \n",
       "4  [Velázquez, Diego Rodríguez de Silva y Velázqu...  [+1599-06-06T00:00:00Z]   \n",
       "\n",
       "      nationality      gender   lastrevid ethnic_group US_congress_bio_ID  \\\n",
       "0  [Q161885, Q30]  [Q6581097]  1395141751         None            W000178   \n",
       "1          [Q145]  [Q6581097]  1395737157   [Q7994501]               None   \n",
       "2           [Q31]  [Q6581097]  1380367296         None               None   \n",
       "3           [Q30]  [Q6581097]  1395142029         None               None   \n",
       "4           [Q29]  [Q6581097]  1391704596         None               None   \n",
       "\n",
       "                                          occupation      party  \\\n",
       "0  [Q82955, Q189290, Q131512, Q1734662, Q294126, ...  [Q327591]   \n",
       "1  [Q214917, Q28389, Q6625963, Q4853732, Q1884422...       None   \n",
       "2  [Q36180, Q40348, Q182436, Q1265807, Q205375, Q...       None   \n",
       "3  [Q82955, Q15982858, Q18814623, Q1028181, Q1408...   [Q29468]   \n",
       "4                                         [Q1028181]       None   \n",
       "\n",
       "  academic_degree     id              label  \\\n",
       "0            None    Q23  George Washington   \n",
       "1            None    Q42      Douglas Adams   \n",
       "2            None  Q1868         Paul Otlet   \n",
       "3            None   Q207     George W. Bush   \n",
       "4            None   Q297    Diego Velázquez   \n",
       "\n",
       "                                candidacy  type                    religion  \n",
       "0                      [Q698073, Q697949]  item                   [Q682443]  \n",
       "1                                    None  item                        None  \n",
       "2                                    None  item                        None  \n",
       "3  [Q327959, Q464075, Q3586276, Q4450587]  item  [Q329646, Q682443, Q33203]  \n",
       "4                                    None  item                        None  "
      ]
     },
     "execution_count": 194,
     "metadata": {},
     "output_type": "execute_result"
    }
   ],
   "source": [
    "speaker_attributes.head()"
   ]
  },
  {
   "cell_type": "markdown",
   "metadata": {},
   "source": [
    "Here we extract the attribute 'speaker' from Quotebank data."
   ]
  },
  {
   "cell_type": "code",
   "execution_count": 196,
   "metadata": {},
   "outputs": [
    {
     "data": {
      "text/plain": [
       "1         Patrick Murphy\n",
       "4          Herman Torres\n",
       "20           Byron Scott\n",
       "24    Lawrence Middleton\n",
       "26                  None\n",
       "Name: speaker, dtype: object"
      ]
     },
     "execution_count": 196,
     "metadata": {},
     "output_type": "execute_result"
    }
   ],
   "source": [
    "df_speaker=df_original['speaker']\n",
    "df_speaker.head()"
   ]
  },
  {
   "cell_type": "markdown",
   "metadata": {},
   "source": [
    "We have identified all speakers appearing in Quotebank dataset, and we have removed from speakers attribute dataset the rows which are not related to those speakers."
   ]
  },
  {
   "cell_type": "code",
   "execution_count": 187,
   "metadata": {},
   "outputs": [],
   "source": [
    "index=speaker_attributes.apply(lambda x: len(df_speaker[df_speaker==x['label']])>0 , axis=1)"
   ]
  },
  {
   "cell_type": "code",
   "execution_count": 198,
   "metadata": {
    "scrolled": false
   },
   "outputs": [
    {
     "data": {
      "text/html": [
       "<div>\n",
       "<style scoped>\n",
       "    .dataframe tbody tr th:only-of-type {\n",
       "        vertical-align: middle;\n",
       "    }\n",
       "\n",
       "    .dataframe tbody tr th {\n",
       "        vertical-align: top;\n",
       "    }\n",
       "\n",
       "    .dataframe thead th {\n",
       "        text-align: right;\n",
       "    }\n",
       "</style>\n",
       "<table border=\"1\" class=\"dataframe\">\n",
       "  <thead>\n",
       "    <tr style=\"text-align: right;\">\n",
       "      <th></th>\n",
       "      <th>Unnamed: 0</th>\n",
       "      <th>aliases</th>\n",
       "      <th>date_of_birth</th>\n",
       "      <th>nationality</th>\n",
       "      <th>gender</th>\n",
       "      <th>lastrevid</th>\n",
       "      <th>ethnic_group</th>\n",
       "      <th>US_congress_bio_ID</th>\n",
       "      <th>occupation</th>\n",
       "      <th>party</th>\n",
       "      <th>academic_degree</th>\n",
       "      <th>id</th>\n",
       "      <th>label</th>\n",
       "      <th>candidacy</th>\n",
       "      <th>type</th>\n",
       "      <th>religion</th>\n",
       "    </tr>\n",
       "  </thead>\n",
       "  <tbody>\n",
       "    <tr>\n",
       "      <th>0</th>\n",
       "      <td>3</td>\n",
       "      <td>['George Walker Bush' 'Bush Jr.' 'Dubya' 'GWB'...</td>\n",
       "      <td>['+1946-07-06T00:00:00Z']</td>\n",
       "      <td>['Q30']</td>\n",
       "      <td>['Q6581097']</td>\n",
       "      <td>1395142029</td>\n",
       "      <td>NaN</td>\n",
       "      <td>NaN</td>\n",
       "      <td>['Q82955' 'Q15982858' 'Q18814623' 'Q1028181' '...</td>\n",
       "      <td>['Q29468']</td>\n",
       "      <td>NaN</td>\n",
       "      <td>Q207</td>\n",
       "      <td>George W. Bush</td>\n",
       "      <td>['Q327959' 'Q464075' 'Q3586276' 'Q4450587']</td>\n",
       "      <td>item</td>\n",
       "      <td>['Q329646' 'Q682443' 'Q33203']</td>\n",
       "    </tr>\n",
       "    <tr>\n",
       "      <th>1</th>\n",
       "      <td>8</td>\n",
       "      <td>['Neil Percival Young' 'Shakey' 'Godfather of ...</td>\n",
       "      <td>['+1945-11-12T00:00:00Z']</td>\n",
       "      <td>['Q16' 'Q30']</td>\n",
       "      <td>['Q6581097']</td>\n",
       "      <td>1395459626</td>\n",
       "      <td>NaN</td>\n",
       "      <td>NaN</td>\n",
       "      <td>['Q177220' 'Q488205' 'Q2526255' 'Q639669' 'Q18...</td>\n",
       "      <td>NaN</td>\n",
       "      <td>NaN</td>\n",
       "      <td>Q633</td>\n",
       "      <td>Neil Young</td>\n",
       "      <td>NaN</td>\n",
       "      <td>item</td>\n",
       "      <td>NaN</td>\n",
       "    </tr>\n",
       "    <tr>\n",
       "      <th>2</th>\n",
       "      <td>14</td>\n",
       "      <td>['Mary Louise Streep' 'Meryl Louise Streep' 'S...</td>\n",
       "      <td>['+1949-06-22T00:00:00Z']</td>\n",
       "      <td>['Q30']</td>\n",
       "      <td>['Q6581072']</td>\n",
       "      <td>1388232380</td>\n",
       "      <td>NaN</td>\n",
       "      <td>NaN</td>\n",
       "      <td>['Q10800557' 'Q2259451' 'Q10798782' 'Q2405480'...</td>\n",
       "      <td>['Q29552']</td>\n",
       "      <td>NaN</td>\n",
       "      <td>Q873</td>\n",
       "      <td>Meryl Streep</td>\n",
       "      <td>NaN</td>\n",
       "      <td>item</td>\n",
       "      <td>['Q7066']</td>\n",
       "    </tr>\n",
       "    <tr>\n",
       "      <th>3</th>\n",
       "      <td>15</td>\n",
       "      <td>['Donald Franciszek Tusk']</td>\n",
       "      <td>['+1957-04-22T00:00:00Z']</td>\n",
       "      <td>['Q36']</td>\n",
       "      <td>['Q6581097']</td>\n",
       "      <td>1390487039</td>\n",
       "      <td>NaN</td>\n",
       "      <td>NaN</td>\n",
       "      <td>['Q82955' 'Q201788']</td>\n",
       "      <td>['Q156868' 'Q208242']</td>\n",
       "      <td>NaN</td>\n",
       "      <td>Q946</td>\n",
       "      <td>Donald Tusk</td>\n",
       "      <td>['Q2586050']</td>\n",
       "      <td>item</td>\n",
       "      <td>['Q9592']</td>\n",
       "    </tr>\n",
       "    <tr>\n",
       "      <th>4</th>\n",
       "      <td>18</td>\n",
       "      <td>['Namo' 'Modi' 'Narendra Bhai' 'Narendra Damod...</td>\n",
       "      <td>['+1950-09-17T00:00:00Z']</td>\n",
       "      <td>['Q668']</td>\n",
       "      <td>['Q6581097']</td>\n",
       "      <td>1395415052</td>\n",
       "      <td>['Q1282294' 'Q6889284']</td>\n",
       "      <td>NaN</td>\n",
       "      <td>['Q82955' 'Q36180' 'Q7019111' 'Q10429346']</td>\n",
       "      <td>['Q10230']</td>\n",
       "      <td>NaN</td>\n",
       "      <td>Q1058</td>\n",
       "      <td>Narendra Modi</td>\n",
       "      <td>['Q63988227' 'Q63988919' 'Q16841231' 'Q1625196...</td>\n",
       "      <td>item</td>\n",
       "      <td>['Q9089']</td>\n",
       "    </tr>\n",
       "  </tbody>\n",
       "</table>\n",
       "</div>"
      ],
      "text/plain": [
       "   Unnamed: 0                                            aliases  \\\n",
       "0           3  ['George Walker Bush' 'Bush Jr.' 'Dubya' 'GWB'...   \n",
       "1           8  ['Neil Percival Young' 'Shakey' 'Godfather of ...   \n",
       "2          14  ['Mary Louise Streep' 'Meryl Louise Streep' 'S...   \n",
       "3          15                         ['Donald Franciszek Tusk']   \n",
       "4          18  ['Namo' 'Modi' 'Narendra Bhai' 'Narendra Damod...   \n",
       "\n",
       "               date_of_birth    nationality        gender   lastrevid  \\\n",
       "0  ['+1946-07-06T00:00:00Z']        ['Q30']  ['Q6581097']  1395142029   \n",
       "1  ['+1945-11-12T00:00:00Z']  ['Q16' 'Q30']  ['Q6581097']  1395459626   \n",
       "2  ['+1949-06-22T00:00:00Z']        ['Q30']  ['Q6581072']  1388232380   \n",
       "3  ['+1957-04-22T00:00:00Z']        ['Q36']  ['Q6581097']  1390487039   \n",
       "4  ['+1950-09-17T00:00:00Z']       ['Q668']  ['Q6581097']  1395415052   \n",
       "\n",
       "              ethnic_group US_congress_bio_ID  \\\n",
       "0                      NaN                NaN   \n",
       "1                      NaN                NaN   \n",
       "2                      NaN                NaN   \n",
       "3                      NaN                NaN   \n",
       "4  ['Q1282294' 'Q6889284']                NaN   \n",
       "\n",
       "                                          occupation                  party  \\\n",
       "0  ['Q82955' 'Q15982858' 'Q18814623' 'Q1028181' '...             ['Q29468']   \n",
       "1  ['Q177220' 'Q488205' 'Q2526255' 'Q639669' 'Q18...                    NaN   \n",
       "2  ['Q10800557' 'Q2259451' 'Q10798782' 'Q2405480'...             ['Q29552']   \n",
       "3                               ['Q82955' 'Q201788']  ['Q156868' 'Q208242']   \n",
       "4         ['Q82955' 'Q36180' 'Q7019111' 'Q10429346']             ['Q10230']   \n",
       "\n",
       "  academic_degree     id           label  \\\n",
       "0             NaN   Q207  George W. Bush   \n",
       "1             NaN   Q633      Neil Young   \n",
       "2             NaN   Q873    Meryl Streep   \n",
       "3             NaN   Q946     Donald Tusk   \n",
       "4             NaN  Q1058   Narendra Modi   \n",
       "\n",
       "                                           candidacy  type  \\\n",
       "0        ['Q327959' 'Q464075' 'Q3586276' 'Q4450587']  item   \n",
       "1                                                NaN  item   \n",
       "2                                                NaN  item   \n",
       "3                                       ['Q2586050']  item   \n",
       "4  ['Q63988227' 'Q63988919' 'Q16841231' 'Q1625196...  item   \n",
       "\n",
       "                         religion  \n",
       "0  ['Q329646' 'Q682443' 'Q33203']  \n",
       "1                             NaN  \n",
       "2                       ['Q7066']  \n",
       "3                       ['Q9592']  \n",
       "4                       ['Q9089']  "
      ]
     },
     "execution_count": 198,
     "metadata": {},
     "output_type": "execute_result"
    }
   ],
   "source": [
    "speaker_attributes=speaker_attributes[index]\n",
    "speaker_attributes.head()"
   ]
  },
  {
   "cell_type": "code",
   "execution_count": 192,
   "metadata": {},
   "outputs": [],
   "source": [
    "speaker_attributes.to_csv('data/speaker.csv')"
   ]
  },
  {
   "cell_type": "markdown",
   "metadata": {},
   "source": [
    "## 3 - Initial analysis of the \"Mother Jone's\" dataset"
   ]
  },
  {
   "cell_type": "markdown",
   "metadata": {},
   "source": [
    "We have also proceeded to some initial analysis of the \"Mother Jone's US Mass Shootings\" dataset. Indeed, this dataset will give us some basic information about most shootings, such as: date, location, number of fatalities, number of injured, age of shooter, weapon type/legality..."
   ]
  },
  {
   "cell_type": "code",
   "execution_count": 230,
   "metadata": {},
   "outputs": [
    {
     "data": {
      "text/html": [
       "<div>\n",
       "<style scoped>\n",
       "    .dataframe tbody tr th:only-of-type {\n",
       "        vertical-align: middle;\n",
       "    }\n",
       "\n",
       "    .dataframe tbody tr th {\n",
       "        vertical-align: top;\n",
       "    }\n",
       "\n",
       "    .dataframe thead th {\n",
       "        text-align: right;\n",
       "    }\n",
       "</style>\n",
       "<table border=\"1\" class=\"dataframe\">\n",
       "  <thead>\n",
       "    <tr style=\"text-align: right;\">\n",
       "      <th></th>\n",
       "      <th>case</th>\n",
       "      <th>location</th>\n",
       "      <th>date</th>\n",
       "      <th>summary</th>\n",
       "      <th>fatalities</th>\n",
       "      <th>injured</th>\n",
       "      <th>total_victims</th>\n",
       "      <th>location.1</th>\n",
       "      <th>age_of_shooter</th>\n",
       "      <th>prior_signs_mental_health_issues</th>\n",
       "      <th>...</th>\n",
       "      <th>gender</th>\n",
       "      <th>sources</th>\n",
       "      <th>mental_health_sources</th>\n",
       "      <th>sources_additional_age</th>\n",
       "      <th>latitude</th>\n",
       "      <th>longitude</th>\n",
       "      <th>type</th>\n",
       "      <th>year</th>\n",
       "      <th>town</th>\n",
       "      <th>state</th>\n",
       "    </tr>\n",
       "  </thead>\n",
       "  <tbody>\n",
       "    <tr>\n",
       "      <th>5</th>\n",
       "      <td>Springfield convenience store shooting</td>\n",
       "      <td>Springfield, Missouri</td>\n",
       "      <td>2020-03-16</td>\n",
       "      <td>Joaquin S. Roman, 31, went on a rampage culmin...</td>\n",
       "      <td>4</td>\n",
       "      <td>0</td>\n",
       "      <td>4</td>\n",
       "      <td>Workplace</td>\n",
       "      <td>31.0</td>\n",
       "      <td>-</td>\n",
       "      <td>...</td>\n",
       "      <td>M</td>\n",
       "      <td>https://www.kiro7.com/news/trending/ive-been-s...</td>\n",
       "      <td>-</td>\n",
       "      <td>-</td>\n",
       "      <td>37.210432</td>\n",
       "      <td>-93.236860</td>\n",
       "      <td>Mass</td>\n",
       "      <td>2020</td>\n",
       "      <td>Springfield</td>\n",
       "      <td>Missouri</td>\n",
       "    </tr>\n",
       "    <tr>\n",
       "      <th>6</th>\n",
       "      <td>Molson Coors shooting</td>\n",
       "      <td>Milwaukee, Wisconsin</td>\n",
       "      <td>2020-02-26</td>\n",
       "      <td>Anthony Ferrill, 51, an employee armed with tw...</td>\n",
       "      <td>5</td>\n",
       "      <td>0</td>\n",
       "      <td>5</td>\n",
       "      <td>Workplace</td>\n",
       "      <td>51.0</td>\n",
       "      <td>-</td>\n",
       "      <td>...</td>\n",
       "      <td>M</td>\n",
       "      <td>https://www.jsonline.com/story/news/local/2020...</td>\n",
       "      <td>-</td>\n",
       "      <td>-</td>\n",
       "      <td>43.044511</td>\n",
       "      <td>-87.962537</td>\n",
       "      <td>Mass</td>\n",
       "      <td>2020</td>\n",
       "      <td>Milwaukee</td>\n",
       "      <td>Wisconsin</td>\n",
       "    </tr>\n",
       "    <tr>\n",
       "      <th>7</th>\n",
       "      <td>Jersey City kosher market shooting</td>\n",
       "      <td>Jersey City, New Jersey</td>\n",
       "      <td>2019-12-10</td>\n",
       "      <td>David N. Anderson, 47, and Francine Graham, 50...</td>\n",
       "      <td>4</td>\n",
       "      <td>3</td>\n",
       "      <td>7</td>\n",
       "      <td>Other</td>\n",
       "      <td>NaN</td>\n",
       "      <td>-</td>\n",
       "      <td>...</td>\n",
       "      <td>Male &amp; Female</td>\n",
       "      <td>https://www.nytimes.com/2019/12/15/nyregion/je...</td>\n",
       "      <td>-</td>\n",
       "      <td>-</td>\n",
       "      <td>40.707363</td>\n",
       "      <td>-74.083609</td>\n",
       "      <td>Spree</td>\n",
       "      <td>2019</td>\n",
       "      <td>Jersey City</td>\n",
       "      <td>New Jersey</td>\n",
       "    </tr>\n",
       "    <tr>\n",
       "      <th>8</th>\n",
       "      <td>Pensacola Naval base shooting</td>\n",
       "      <td>Pensacola, Florida</td>\n",
       "      <td>2019-12-06</td>\n",
       "      <td>Ahmed Mohammed al-Shamrani, A Saudi Arabian mi...</td>\n",
       "      <td>3</td>\n",
       "      <td>8</td>\n",
       "      <td>11</td>\n",
       "      <td>Military</td>\n",
       "      <td>NaN</td>\n",
       "      <td>-</td>\n",
       "      <td>...</td>\n",
       "      <td>M</td>\n",
       "      <td>https://www.washingtonpost.com/national-securi...</td>\n",
       "      <td>-</td>\n",
       "      <td>-</td>\n",
       "      <td>30.364707</td>\n",
       "      <td>-87.288567</td>\n",
       "      <td>Mass</td>\n",
       "      <td>2019</td>\n",
       "      <td>Pensacola</td>\n",
       "      <td>Florida</td>\n",
       "    </tr>\n",
       "    <tr>\n",
       "      <th>9</th>\n",
       "      <td>Odessa-Midland shooting spree</td>\n",
       "      <td>Odessa, Texas</td>\n",
       "      <td>2019-08-31</td>\n",
       "      <td>Seth A. Ator, 36, fired at police officers who...</td>\n",
       "      <td>7</td>\n",
       "      <td>25</td>\n",
       "      <td>32</td>\n",
       "      <td>Other</td>\n",
       "      <td>36.0</td>\n",
       "      <td>yes</td>\n",
       "      <td>...</td>\n",
       "      <td>M</td>\n",
       "      <td>https://www.washingtonpost.com/politics/5-kill...</td>\n",
       "      <td>https://www.nytimes.com/2019/09/02/us/texas-gu...</td>\n",
       "      <td>-</td>\n",
       "      <td>31.925974</td>\n",
       "      <td>-102.279600</td>\n",
       "      <td>Spree</td>\n",
       "      <td>2019</td>\n",
       "      <td>Odessa</td>\n",
       "      <td>Texas</td>\n",
       "    </tr>\n",
       "  </tbody>\n",
       "</table>\n",
       "<p>5 rows × 26 columns</p>\n",
       "</div>"
      ],
      "text/plain": [
       "                                     case                 location       date  \\\n",
       "5  Springfield convenience store shooting    Springfield, Missouri 2020-03-16   \n",
       "6                   Molson Coors shooting     Milwaukee, Wisconsin 2020-02-26   \n",
       "7      Jersey City kosher market shooting  Jersey City, New Jersey 2019-12-10   \n",
       "8           Pensacola Naval base shooting       Pensacola, Florida 2019-12-06   \n",
       "9           Odessa-Midland shooting spree            Odessa, Texas 2019-08-31   \n",
       "\n",
       "                                             summary  fatalities  injured  \\\n",
       "5  Joaquin S. Roman, 31, went on a rampage culmin...           4        0   \n",
       "6  Anthony Ferrill, 51, an employee armed with tw...           5        0   \n",
       "7  David N. Anderson, 47, and Francine Graham, 50...           4        3   \n",
       "8  Ahmed Mohammed al-Shamrani, A Saudi Arabian mi...           3        8   \n",
       "9  Seth A. Ator, 36, fired at police officers who...           7       25   \n",
       "\n",
       "   total_victims location.1  age_of_shooter prior_signs_mental_health_issues  \\\n",
       "5              4  Workplace            31.0                                -   \n",
       "6              5  Workplace            51.0                                -   \n",
       "7              7      Other             NaN                                -   \n",
       "8             11   Military             NaN                                -   \n",
       "9             32      Other            36.0                              yes   \n",
       "\n",
       "   ...         gender                                            sources  \\\n",
       "5  ...              M  https://www.kiro7.com/news/trending/ive-been-s...   \n",
       "6  ...              M  https://www.jsonline.com/story/news/local/2020...   \n",
       "7  ...  Male & Female  https://www.nytimes.com/2019/12/15/nyregion/je...   \n",
       "8  ...              M  https://www.washingtonpost.com/national-securi...   \n",
       "9  ...              M  https://www.washingtonpost.com/politics/5-kill...   \n",
       "\n",
       "                               mental_health_sources sources_additional_age  \\\n",
       "5                                                  -                      -   \n",
       "6                                                  -                      -   \n",
       "7                                                  -                      -   \n",
       "8                                                  -                      -   \n",
       "9  https://www.nytimes.com/2019/09/02/us/texas-gu...                      -   \n",
       "\n",
       "    latitude   longitude   type  year         town       state  \n",
       "5  37.210432  -93.236860   Mass  2020  Springfield    Missouri  \n",
       "6  43.044511  -87.962537   Mass  2020    Milwaukee   Wisconsin  \n",
       "7  40.707363  -74.083609  Spree  2019  Jersey City  New Jersey  \n",
       "8  30.364707  -87.288567   Mass  2019    Pensacola     Florida  \n",
       "9  31.925974 -102.279600  Spree  2019       Odessa       Texas  \n",
       "\n",
       "[5 rows x 26 columns]"
      ]
     },
     "execution_count": 230,
     "metadata": {},
     "output_type": "execute_result"
    }
   ],
   "source": [
    "# Reading the csv file\n",
    "df = pd.read_csv('./Data/MassShootings.csv')\n",
    "\n",
    "# Replace \"-\" by NaN in \"age of shooter\" column\n",
    "df['age_of_shooter'] = df['age_of_shooter'].replace('-', np.nan).astype(float)\n",
    "\n",
    "# Two new columns: location splitted into town and state\n",
    "df[['town', 'state']] = df['location'].str.split(', ', expand = True)\n",
    "\n",
    "# Convert date column to datetime format for better handling\n",
    "df['date'] = pd.to_datetime(df['date'])\n",
    "\n",
    "# Quotebank dataset is limited to years 2015-2020. Need to use same time span:\n",
    "df = df.drop(df[df['date'].dt.year < 2015].index)\n",
    "df = df.drop(df[df['date'].dt.year > 2020].index)\n",
    "\n",
    "df.head()"
   ]
  },
  {
   "cell_type": "code",
   "execution_count": 231,
   "metadata": {},
   "outputs": [
    {
     "data": {
      "text/plain": [
       "case                                        object\n",
       "location                                    object\n",
       "date                                datetime64[ns]\n",
       "summary                                     object\n",
       "fatalities                                   int64\n",
       "injured                                      int64\n",
       "total_victims                                int64\n",
       "location.1                                  object\n",
       "age_of_shooter                             float64\n",
       "prior_signs_mental_health_issues            object\n",
       "mental_health_details                       object\n",
       "weapons_obtained_legally                    object\n",
       "where_obtained                              object\n",
       "weapon_type                                 object\n",
       "weapon_details                              object\n",
       "race                                        object\n",
       "gender                                      object\n",
       "sources                                     object\n",
       "mental_health_sources                       object\n",
       "sources_additional_age                      object\n",
       "latitude                                   float64\n",
       "longitude                                  float64\n",
       "type                                        object\n",
       "year                                         int64\n",
       "town                                        object\n",
       "state                                       object\n",
       "dtype: object"
      ]
     },
     "execution_count": 231,
     "metadata": {},
     "output_type": "execute_result"
    }
   ],
   "source": [
    "df.dtypes"
   ]
  },
  {
   "cell_type": "markdown",
   "metadata": {},
   "source": [
    "We notice that some of the entries for age of the shooter are not numbers. To perform further analysis, we will set all the values of this column as floats and replace '-' by NaN."
   ]
  },
  {
   "cell_type": "code",
   "execution_count": 201,
   "metadata": {},
   "outputs": [],
   "source": [
    "df['age_of_shooter'] = df['age_of_shooter'].replace('-', np.nan)\n",
    "df['age_of_shooter'] = df['age_of_shooter'].astype(float)"
   ]
  },
  {
   "cell_type": "markdown",
   "metadata": {},
   "source": [
    "To give us a first glimpse at the data, we can plot the fatalities per shooting accross time, as well as the distribution of the number of fatalities per shooting."
   ]
  },
  {
   "cell_type": "code",
   "execution_count": 232,
   "metadata": {},
   "outputs": [
    {
     "data": {
      "image/png": "[encoded data removed]",
      "text/plain": [
       "<Figure size 936x360 with 2 Axes>"
      ]
     },
     "metadata": {
      "needs_background": "light"
     },
     "output_type": "display_data"
    }
   ],
   "source": [
    "fig, ax = plt.subplots(1,2,figsize=(13,5))\n",
    "\n",
    "# Plot shootings in (time, number of fatalities) format\n",
    "ax[0].scatter(df['date'], df['fatalities'], color='#4a7399')\n",
    "ax[0].set_title('Fatalities per shooting across the timeframe')\n",
    "ax[0].set_xlabel('Date')\n",
    "ax[0].set_ylabel('Fatalities');\n",
    "\n",
    "# Plot the distribution of the number of fatalities\n",
    "ax[1] = df['fatalities'].hist(bins=50, color='#4a7399')\n",
    "ax[1].set_xlabel('Fatalities per shooting')\n",
    "ax[1].set_ylabel('Number of shootings')\n",
    "ax[1].set_title('Fatalities per shooting');"
   ]
  },
  {
   "cell_type": "markdown",
   "metadata": {},
   "source": [
    "There isn't much data, but we can say it seems to follow a power law: most of the shootings have a small number of fatalities (<10), but some outliers are not unusual either, some shootings having over 40 fatalities."
   ]
  },
  {
   "cell_type": "code",
   "execution_count": 203,
   "metadata": {},
   "outputs": [
    {
     "data": {
      "image/png": "[encoded data removed]",
      "text/plain": [
       "<Figure size 864x360 with 1 Axes>"
      ]
     },
     "metadata": {
      "needs_background": "light"
     },
     "output_type": "display_data"
    }
   ],
   "source": [
    "# The distribution of of fatalities, injured, total per month is plotted here\n",
    "fig, ax = plt.subplots(figsize=(12, 5))\n",
    "plt.bar(df['date'],df['total_victims'],width=30, color = '#317873')\n",
    "plt.bar(df['date'],df['fatalities'],width=30, color = '#a0d6b4')\n",
    "plt.title('Number of victims of shootings from 2015 to 2020')\n",
    "plt.xlabel('Number of victims')\n",
    "plt.ylabel('Date')\n",
    "plt.ylim(top=150)\n",
    "plt.legend(['Injured','Fatalities'])\n",
    "plt.show()"
   ]
  },
  {
   "cell_type": "markdown",
   "metadata": {},
   "source": [
    "There are many paramters to explore, and one of them is location of the event:"
   ]
  },
  {
   "cell_type": "code",
   "execution_count": 204,
   "metadata": {},
   "outputs": [
    {
     "data": {
      "image/png": "[encoded data removed]",
      "text/plain": [
       "<Figure size 1080x288 with 1 Axes>"
      ]
     },
     "metadata": {
      "needs_background": "light"
     },
     "output_type": "display_data"
    }
   ],
   "source": [
    "# Ploting the number of fatalities per state\n",
    "\n",
    "fig, ax = plt.subplots(figsize=(15, 4))\n",
    "ax = sns.barplot(y = df['fatalities'], x = df['state'], estimator = sum, ci = None)\n",
    "\n",
    "ax.set_xlabel(\"State\")\n",
    "ax.set_ylabel(\"Fatalities\")\n",
    "ax.set_title(\"Number of fatalities due to shootings for each state, between 2015 and 2020\")\n",
    "plt.xticks(rotation=45)\n",
    "plt.show()"
   ]
  },
  {
   "cell_type": "markdown",
   "metadata": {},
   "source": [
    "With the above plot, we can clearly see that states have been very unequally affected by mass shootings. We can try to find some relevant correlations further on, such as average salary in the state, state political position (more of a 'blue state' or a 'red state'), etc. It will also be interesting to see how the location influences the media outrage after the shooting."
   ]
  },
  {
   "cell_type": "markdown",
   "metadata": {},
   "source": [
    "We will now have a quick look at other interesting information we have on each event: the type of location (Workplace, School...), wheather or not the weapons were obtained legally, etc."
   ]
  },
  {
   "cell_type": "code",
   "execution_count": 205,
   "metadata": {},
   "outputs": [
    {
     "data": {
      "image/png": "[encoded data removed]",
      "text/plain": [
       "<Figure size 432x288 with 1 Axes>"
      ]
     },
     "metadata": {
      "needs_background": "light"
     },
     "output_type": "display_data"
    }
   ],
   "source": [
    "# Rename column location.1 to remove the dot\n",
    "df.rename(columns={\"location.1\": \"location1\"}, inplace=True)\n",
    "                   \n",
    "df.location1.value_counts().plot(kind='barh',color='#4a7399')\n",
    "plt.title('Location type')\n",
    "plt.xlabel('Number of shootings')\n",
    "plt.show()"
   ]
  },
  {
   "cell_type": "code",
   "execution_count": 206,
   "metadata": {},
   "outputs": [
    {
     "data": {
      "text/plain": [
       "Yes        25\n",
       "TBD         7\n",
       "-           6\n",
       "No          4\n",
       "Unknown     3\n",
       "Name: weapons_obtained_legally, dtype: int64"
      ]
     },
     "execution_count": 206,
     "metadata": {},
     "output_type": "execute_result"
    }
   ],
   "source": [
    "# Check if the used weapons were obtained legally or not:\n",
    "df.weapons_obtained_legally.value_counts().head()"
   ]
  },
  {
   "cell_type": "markdown",
   "metadata": {},
   "source": [
    "As we can see, most weapons that were used in the shootings were legally obtained and licenced. It will be interesting later on to see if there is a correlation between this and how much the media speak of firearms after the event."
   ]
  },
  {
   "cell_type": "code",
   "execution_count": 207,
   "metadata": {},
   "outputs": [
    {
     "data": {
      "text/plain": [
       "<AxesSubplot:ylabel='race'>"
      ]
     },
     "execution_count": 207,
     "metadata": {},
     "output_type": "execute_result"
    },
    {
     "data": {
      "image/png": "[encoded data removed]",
      "text/plain": [
       "<Figure size 432x288 with 1 Axes>"
      ]
     },
     "metadata": {},
     "output_type": "display_data"
    }
   ],
   "source": [
    "df.race.value_counts().plot(kind='pie',colors=sns.color_palette('rocket'))"
   ]
  },
  {
   "cell_type": "markdown",
   "metadata": {},
   "source": [
    "Again, race of the shooter could be a possible covariate for the media covering of the shooting, and we will invesigate on this later on.\n",
    "\n",
    "We are now interested in performing a linear regression analysis to study the bahavior of fatalities.  We would like to model the fatalities with two predictors : injured persons and age of the shooter. Our results could then help us understand better how medias are treating subjects according to number of death versus injured or the age of the shooter."
   ]
  },
  {
   "cell_type": "code",
   "execution_count": 208,
   "metadata": {},
   "outputs": [
    {
     "name": "stdout",
     "output_type": "stream",
     "text": [
      "                            OLS Regression Results                            \n",
      "==============================================================================\n",
      "Dep. Variable:             fatalities   R-squared:                       0.594\n",
      "Model:                            OLS   Adj. R-squared:                  0.575\n",
      "Method:                 Least Squares   F-statistic:                     31.45\n",
      "Date:                Thu, 11 Nov 2021   Prob (F-statistic):           3.84e-09\n",
      "Time:                        20:33:47   Log-Likelihood:                -154.29\n",
      "No. Observations:                  46   AIC:                             314.6\n",
      "Df Residuals:                      43   BIC:                             320.1\n",
      "Df Model:                           2                                         \n",
      "Covariance Type:            nonrobust                                         \n",
      "==================================================================================\n",
      "                     coef    std err          t      P>|t|      [0.025      0.975]\n",
      "----------------------------------------------------------------------------------\n",
      "Intercept         12.0035      3.509      3.421      0.001       4.927      19.080\n",
      "injured            0.1126      0.014      7.798      0.000       0.083       0.142\n",
      "age_of_shooter    -0.1722      0.104     -1.659      0.104      -0.381       0.037\n",
      "==============================================================================\n",
      "Omnibus:                       61.254   Durbin-Watson:                   2.358\n",
      "Prob(Omnibus):                  0.000   Jarque-Bera (JB):              452.810\n",
      "Skew:                           3.369   Prob(JB):                     4.72e-99\n",
      "Kurtosis:                      16.814   Cond. No.                         274.\n",
      "==============================================================================\n",
      "\n",
      "Notes:\n",
      "[1] Standard Errors assume that the covariance matrix of the errors is correctly specified.\n"
     ]
    }
   ],
   "source": [
    "# Declares the model\n",
    "mod = smf.ols(formula='fatalities ~ injured + age_of_shooter', data=df, missing = 'drop')\n",
    "\n",
    "# Fits the model (find the optimal coefficients, adding a random seed ensures consistency)\n",
    "res = mod.fit()\n",
    "\n",
    "# Print thes summary output provided by the library.\n",
    "print(res.summary())"
   ]
  },
  {
   "cell_type": "markdown",
   "metadata": {},
   "source": [
    "Firstly, we notice that age of shooter is not a significant predictor (p=0.1), but injured is (p=000). \n",
    "The model can be interpreted as fatalities = 12 + 0.11*injured -0.17* age_of_shooter"
   ]
  },
  {
   "cell_type": "markdown",
   "metadata": {},
   "source": [
    "Finally, we will use this dataframe in comparitive plots in part 3. Therefore we save it to a new dataframe (in case we want to overwrite \"df\" further on):"
   ]
  },
  {
   "cell_type": "code",
   "execution_count": 233,
   "metadata": {},
   "outputs": [],
   "source": [
    "data2 = df[['date','fatalities']]"
   ]
  },
  {
   "cell_type": "markdown",
   "metadata": {},
   "source": [
    "## 4 - Linking the two datasets"
   ]
  },
  {
   "cell_type": "markdown",
   "metadata": {},
   "source": [
    "We will start by plotting a single timeline graph with the number of fatalities due to shootings over time, as well as the occurence of gun-related words in the media."
   ]
  },
  {
   "cell_type": "code",
   "execution_count": 248,
   "metadata": {},
   "outputs": [
    {
     "data": {
      "image/png": "[encoded data removed]",
      "text/plain": [
       "<Figure size 936x432 with 2 Axes>"
      ]
     },
     "metadata": {},
     "output_type": "display_data"
    }
   ],
   "source": [
    "fig, ax1 = plt.subplots(figsize=(13,6))\n",
    "\n",
    "# Plotting the quotes over time (green)\n",
    "color = 'tab:blue'\n",
    "ax1.set_title('Distribution of shootings in the USA (red) and quotes concerning guns (green) between 2015 and 2020')\n",
    "ax1.set_xlabel('Date')\n",
    "ax1.set_ylabel('Quotes', color=color)\n",
    "ax1.bar(data1['date'], data1['numOccurrences'], color=color, alpha=0.3, width = 3)\n",
    "ax1.tick_params(axis='y', labelcolor=color)\n",
    "\n",
    "# Same x-axis, but different y axis\n",
    "ax2 = ax1.twinx()\n",
    "\n",
    "# Plotting the fatalities due to shootings over time (red)\n",
    "color = 'tab:orange'\n",
    "ax2.set_ylabel('Fatalities', color=color)  # we already handled the x-label with ax1\n",
    "ax2.bar(data2['date'], data2['fatalities'], color=color, alpha=0.9, width = 3)\n",
    "ax2.tick_params(axis='y', labelcolor=color)\n",
    "\n",
    "plt.show()"
   ]
  },
  {
   "cell_type": "markdown",
   "metadata": {},
   "source": [
    "We can see several interesting events in this first plot. For example, the largest peak in fatalities happens around october 2017. It is followed by the second largest peak in quotes talking about guns."
   ]
  },
  {
   "cell_type": "code",
   "execution_count": 244,
   "metadata": {},
   "outputs": [
    {
     "name": "stdout",
     "output_type": "stream",
     "text": [
      "The largest shooting was:\n",
      "date          2017-10-01 00:00:00\n",
      "fatalities                     58\n",
      "Name: 0, dtype: object\n",
      "\n",
      "The corresponding peak in quotes discussing guns was:\n",
      "date              2018-02-15 00:00:00\n",
      "numOccurrences                  10888\n",
      "Name: 1025, dtype: object\n"
     ]
    }
   ],
   "source": [
    "# Print the largest shooting (most fatalities)\n",
    "data2 = data2.sort_values(by='fatalities',ascending=False)\n",
    "data2 = data2.reset_index(drop=True)\n",
    "print(\"The largest shooting was:\")\n",
    "print(data2.iloc[0])\n",
    "\n",
    "# Quotes following the shooting (two days after)\n",
    "data1 = data1.sort_values(by='numOccurrences',ascending=False)\n",
    "print(\"\\nThe corresponding peak in quotes discussing guns was:\")\n",
    "print(data1.iloc[1])"
   ]
  },
  {
   "cell_type": "markdown",
   "metadata": {},
   "source": [
    "With the above print, we see that this peak is maximal exactly two days after the shooting."
   ]
  },
  {
   "cell_type": "markdown",
   "metadata": {},
   "source": [
    "### Correlation between mass shootings and number of quotes\n",
    "First, we want to show that there is an association between the occurences of mass shootings (in orange) and the number of quotations in our subset (in blue). For this, we will test the correlation between the number of quotes in the subset and the number of days since the last shooting."
   ]
  },
  {
   "cell_type": "code",
   "execution_count": 249,
   "metadata": {},
   "outputs": [
    {
     "name": "stderr",
     "output_type": "stream",
     "text": [
      "C:\\Users\\Doo\\anaconda3\\lib\\site-packages\\pandas\\core\\arrays\\datetimelike.py:1342: PerformanceWarning: Adding/subtracting object-dtype array to DatetimeArray not vectorized\n",
      "  warnings.warn(\n"
     ]
    },
    {
     "data": {
      "text/html": [
       "<div>\n",
       "<style scoped>\n",
       "    .dataframe tbody tr th:only-of-type {\n",
       "        vertical-align: middle;\n",
       "    }\n",
       "\n",
       "    .dataframe tbody tr th {\n",
       "        vertical-align: top;\n",
       "    }\n",
       "\n",
       "    .dataframe thead th {\n",
       "        text-align: right;\n",
       "    }\n",
       "</style>\n",
       "<table border=\"1\" class=\"dataframe\">\n",
       "  <thead>\n",
       "    <tr style=\"text-align: right;\">\n",
       "      <th></th>\n",
       "      <th>date</th>\n",
       "      <th>numOccurrences</th>\n",
       "      <th>DateLastShooting</th>\n",
       "      <th>DaysSinceLastShooting</th>\n",
       "    </tr>\n",
       "  </thead>\n",
       "  <tbody>\n",
       "    <tr>\n",
       "      <th>889</th>\n",
       "      <td>2017-10-02</td>\n",
       "      <td>11214</td>\n",
       "      <td>2017-10-01 00:00:00</td>\n",
       "      <td>1.0</td>\n",
       "    </tr>\n",
       "    <tr>\n",
       "      <th>1025</th>\n",
       "      <td>2018-02-15</td>\n",
       "      <td>10888</td>\n",
       "      <td>2018-02-14 00:00:00</td>\n",
       "      <td>1.0</td>\n",
       "    </tr>\n",
       "    <tr>\n",
       "      <th>74</th>\n",
       "      <td>2015-03-16</td>\n",
       "      <td>10435</td>\n",
       "      <td>NaT</td>\n",
       "      <td>NaN</td>\n",
       "    </tr>\n",
       "    <tr>\n",
       "      <th>1024</th>\n",
       "      <td>2018-02-14</td>\n",
       "      <td>9618</td>\n",
       "      <td>2018-01-28 00:00:00</td>\n",
       "      <td>17.0</td>\n",
       "    </tr>\n",
       "    <tr>\n",
       "      <th>1031</th>\n",
       "      <td>2018-02-21</td>\n",
       "      <td>9006</td>\n",
       "      <td>2018-02-14 00:00:00</td>\n",
       "      <td>7.0</td>\n",
       "    </tr>\n",
       "  </tbody>\n",
       "</table>\n",
       "</div>"
      ],
      "text/plain": [
       "           date  numOccurrences     DateLastShooting  DaysSinceLastShooting\n",
       "889  2017-10-02           11214  2017-10-01 00:00:00                    1.0\n",
       "1025 2018-02-15           10888  2018-02-14 00:00:00                    1.0\n",
       "74   2015-03-16           10435                  NaT                    NaN\n",
       "1024 2018-02-14            9618  2018-01-28 00:00:00                   17.0\n",
       "1031 2018-02-21            9006  2018-02-14 00:00:00                    7.0"
      ]
     },
     "execution_count": 249,
     "metadata": {},
     "output_type": "execute_result"
    }
   ],
   "source": [
    "# We create a column to store the day of the last shooting\n",
    "data1['DateLastShooting'] = np.nan\n",
    "\n",
    "for index, row in data1.iterrows():\n",
    "    row_date = row['date']\n",
    "    past_shootings = data2[data2['date'] < row_date]\n",
    "    last_shooting = np.max(past_shootings['date'])\n",
    "    data1.at[index, 'DateLastShooting'] = last_shooting\n",
    "\n",
    "# We create another column to count the number of days since the last shooting \n",
    "data1['DaysSinceLastShooting'] = (data1['date'] - data1['DateLastShooting']).dt.days\n",
    "data1.head()"
   ]
  },
  {
   "cell_type": "code",
   "execution_count": 250,
   "metadata": {},
   "outputs": [
    {
     "data": {
      "text/plain": [
       "(-0.182646126853902, 6.765708511823923e-14)"
      ]
     },
     "execution_count": 250,
     "metadata": {},
     "output_type": "execute_result"
    }
   ],
   "source": [
    "from scipy.stats import stats\n",
    "data1_filtered = data1.dropna()\n",
    "stats.pearsonr(data1_filtered['DaysSinceLastShooting'], data1_filtered['numOccurrences'])"
   ]
  },
  {
   "cell_type": "markdown",
   "metadata": {},
   "source": [
    "We observe a highly significant **negative correlation** between the two variables. This was the expected result, since it shows that the more days since the last shooting, the less occurrences of quotes talking about guns and firearms. "
   ]
  },
  {
   "cell_type": "markdown",
   "metadata": {},
   "source": [
    "### Fatalities vs. Quotes count \n",
    "Another interesting observation we can make is that the largest peak in quotes concerning guns takes place after a smaller shooting, in early 2018:"
   ]
  },
  {
   "cell_type": "code",
   "execution_count": 251,
   "metadata": {},
   "outputs": [
    {
     "data": {
      "image/png": "[encoded data removed]",
      "text/plain": [
       "<Figure size 648x288 with 2 Axes>"
      ]
     },
     "metadata": {},
     "output_type": "display_data"
    }
   ],
   "source": [
    "# We want to zoom in by looking only at 2018\n",
    "data1_2018 = data1[(data1['date'].dt.year==2018)]\n",
    "data2_2018 = data2[(data2['date'].dt.year==2018)]\n",
    "\n",
    "fig, ax1 = plt.subplots(figsize=(9,4))\n",
    "\n",
    "# Plotting the quotes over time (green barplot)\n",
    "color = 'tab:blue'\n",
    "ax1.set_title('Distribution of shootings in the USA (red) and quotes concerning guns (green) in 2018')\n",
    "ax1.set_xlabel('Date')\n",
    "ax1.set_ylabel('Quotes', color=color)\n",
    "ax1.bar(data1_2018['date'], data1_2018['numOccurrences'], color=color, alpha=0.3, width = 3)\n",
    "ax1.tick_params(axis='y', labelcolor=color)\n",
    "\n",
    "# Same x-axis, but different y axis\n",
    "ax2 = ax1.twinx()\n",
    "\n",
    "# Plotting the fatalities due to shootings over time (red barplot)\n",
    "color = 'tab:orange'\n",
    "ax2.set_ylabel('Fatalities', color=color)  # we already handled the x-label with ax1\n",
    "ax2.bar(data2_2018['date'], data2_2018['fatalities'], color=color, alpha=0.9, width = 3)\n",
    "ax2.tick_params(axis='y', labelcolor=color)\n",
    "ax2.set_ylim(0,62)\n",
    "\n",
    "plt.show()"
   ]
  },
  {
   "cell_type": "markdown",
   "metadata": {},
   "source": [
    "It seams that this particular event has made much more noise then the others and over a larger period of time. The fact that it was **certainly not the shooting with the most fatalities** (\"only\" 17, compared to 58 for the max) shows that the number of fatalities is clearly not the only parameter that influences the media coverage of the event as well as the amplitude of the discussion on gun control afterwards.\n",
    "\n",
    "**This makes us want to investigate further: what are the other factors that can explain these differences?** Some ideas: \n",
    "- Location of the shooting (what state, but also what type of place: e.g. at a school, workplace...)\n",
    "- Wheather of not the weapon was bought legally\n",
    "- Age, gender and ethnicity of the shooter and/or the victims\n",
    "- The type of weapon that was used\n",
    "- etc."
   ]
  },
  {
   "cell_type": "markdown",
   "metadata": {},
   "source": [
    "**Selecting the timeframe following each shooting**<br>\n",
    "In order to analyse the media's response to each shooting, we can start by selecting only the quotes from the following N days (for the moment we chose N=10). We did this for the top 3 most lethal shootings and plotted the results below. These again emphasize the idea that there is much more than just the number of fatalities."
   ]
  },
  {
   "cell_type": "code",
   "execution_count": 246,
   "metadata": {},
   "outputs": [
    {
     "data": {
      "image/png": "[encoded data removed]",
      "text/plain": [
       "<Figure size 864x216 with 2 Axes>"
      ]
     },
     "metadata": {
      "needs_background": "light"
     },
     "output_type": "display_data"
    },
    {
     "data": {
      "image/png": "[encoded data removed]",
      "text/plain": [
       "<Figure size 864x216 with 2 Axes>"
      ]
     },
     "metadata": {
      "needs_background": "light"
     },
     "output_type": "display_data"
    },
    {
     "data": {
      "image/png": "[encoded data removed]",
      "text/plain": [
       "<Figure size 864x216 with 2 Axes>"
      ]
     },
     "metadata": {
      "needs_background": "light"
     },
     "output_type": "display_data"
    }
   ],
   "source": [
    "# We want to zoom in for the 10 days after each shooting\n",
    "from datetime import timedelta\n",
    "\n",
    "for i in range(0,3):\n",
    "    \n",
    "    # Get the date of the (i+1)th most lethal shooting\n",
    "    shooting_date = data2.sort_values(by='fatalities',ascending=False)['date'].iloc[i]\n",
    "    \n",
    "    # Select only the quotes in the 10 days following the selected shooting\n",
    "    shooting_after =  data1[((data1['date'] >= shooting_date))]\n",
    "    shooting_after =  shooting_after[(shooting_after['date'] < shooting_date + timedelta(days=10))]\n",
    "\n",
    "    fig, ax1 = plt.subplots(figsize=(12,3))\n",
    "    \n",
    "    # Plotting the quotes over time (green barplot)\n",
    "    color = 'tab:green'\n",
    "    ax1.set_title('Quotes following the number ' + str(i+1) + ' most lethal shooting')\n",
    "    ax1.set_xlabel('Date')\n",
    "    ax1.set_ylabel('Quotes', color=color)\n",
    "    ax1.bar(shooting_after['date'], shooting_after['numOccurrences'], color=color, alpha=0.3, width = 0.8)\n",
    "    ax1.tick_params(axis='y', labelcolor=color)\n",
    "    ax1.set_xlim(shooting_date,shooting_date+ timedelta(days=10))\n",
    "    ax1.set_ylim(0,22000)\n",
    "    \n",
    "    # Same x-axis, but different y axis\n",
    "    ax2 = ax1.twinx()\n",
    "    \n",
    "    # Plotting the fatalities due to shootings over time (red barplot)\n",
    "    color = 'tab:red'\n",
    "    ax2.set_ylabel('Fatalities', color=color)  # we already handled the x-label with ax1\n",
    "    ax2.bar(data2['date'], data2['fatalities'], color=color, alpha=0.9, width = 0.5)\n",
    "    ax2.tick_params(axis='y', labelcolor=color)\n",
    "\n",
    "plt.show()"
   ]
  },
  {
   "cell_type": "markdown",
   "metadata": {},
   "source": [
    "Just to give us an idea, we can look at the corresponding case in the dataframe and get all the details we know about it:"
   ]
  },
  {
   "cell_type": "code",
   "execution_count": 178,
   "metadata": {},
   "outputs": [
    {
     "data": {
      "text/plain": [
       "case                                    Marjory Stoneman Douglas High School shooting\n",
       "location                                                            Parkland, Florida\n",
       "date                                                              2018-02-14 00:00:00\n",
       "summary                             Nikolas J. Cruz, 19, heavily armed with an AR-...\n",
       "fatalities                                                                         17\n",
       "injured                                                                            17\n",
       "total_victims                                                                      34\n",
       "location1                                                                      School\n",
       "age_of_shooter                                                                     19\n",
       "prior_signs_mental_health_issues                                                  Yes\n",
       "mental_health_details               Cruz had a long history of behavioral problems...\n",
       "weapons_obtained_legally                                                          Yes\n",
       "where_obtained                                                    A Florida pawn shop\n",
       "weapon_type                                                       semiautomatic rifle\n",
       "weapon_details                                                                  AR-15\n",
       "race                                                                            White\n",
       "gender                                                                              M\n",
       "sources                             https://www.nytimes.com/2018/02/14/us/parkland...\n",
       "mental_health_sources               https://www.nytimes.com/2018/02/15/us/nikolas-...\n",
       "sources_additional_age              https://www.nytimes.com/2018/02/14/us/parkland...\n",
       "latitude                                                                      26.3048\n",
       "longitude                                                                    -80.2695\n",
       "type                                                                             Mass\n",
       "year                                                                             2018\n",
       "town                                                                         Parkland\n",
       "state                                                                         Florida\n",
       "Name: 27, dtype: object"
      ]
     },
     "execution_count": 178,
     "metadata": {},
     "output_type": "execute_result"
    }
   ],
   "source": [
    "df = df[(df['date'].dt.year==2018)]\n",
    "df = df.sort_values(by='fatalities', ascending=False)\n",
    "df.iloc[0]"
   ]
  },
  {
   "cell_type": "markdown",
   "metadata": {},
   "source": [
    "Our final goal would be to have a single value (or score) that represents the media's reaction to each event. For example, a score of 1 would be maximal reaction, and a score of 0 would be no reaction. We could then **use linear regression to find how each parameter influences the reaction score**: location, age/gender/ethnicity of shooter, gun legality... We could have this score based on the slope of the number of quotes after the shooting. **How could we compute this score?**"
   ]
  },
  {
   "cell_type": "markdown",
   "metadata": {},
   "source": [
    "Another possibility for analysis is to look at the political positionning of the speakers and/or news sources for the quotes. We could see if some type of shootings make more democrats/republicans talk about it (i.e. if there is a correlation between policial views and topic covering).\n",
    "\n",
    "If there is an equilibrium between the coverage on both sides, then it is likely that the reaction of the media can be considered as important, as everyone is talking about it."
   ]
  },
  {
   "cell_type": "code",
   "execution_count": null,
   "metadata": {},
   "outputs": [],
   "source": []
  }
 ],
 "metadata": {
  "kernelspec": {
   "display_name": "Python 3",
   "language": "python",
   "name": "python3"
  },
  "language_info": {
   "codemirror_mode": {
    "name": "ipython",
    "version": 3
   },
   "file_extension": ".py",
   "mimetype": "text/x-python",
   "name": "python",
   "nbconvert_exporter": "python",
   "pygments_lexer": "ipython3",
   "version": "3.8.5"
  }
 },
 "nbformat": 4,
 "nbformat_minor": 5
}
