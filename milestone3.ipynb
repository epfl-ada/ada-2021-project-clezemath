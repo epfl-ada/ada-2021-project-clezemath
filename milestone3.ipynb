{
 "cells": [
  {
   "cell_type": "markdown",
   "id": "df635a56-60a1-42ea-bc09-47d719b5ef84",
   "metadata": {
    "tags": []
   },
   "source": [
    "# Project Milestone 3\n",
    "## Project title: \"Firearms debate in the USA and its relation to mass shootings\""
   ]
  },
  {
   "cell_type": "markdown",
   "id": "816cbcf5-99ac-4aef-a396-62adbb18763d",
   "metadata": {},
   "source": [
    "Students: Thomas **Defauw**, Margaux **L'Eplattenier**, Clément **Rio**, Zewei **Xu**<br>\n",
    "Due date: December 17, 2021"
   ]
  },
  {
   "cell_type": "code",
   "execution_count": 1,
   "id": "76783165-3d1d-4ab3-b73d-2d8a416dfe9f",
   "metadata": {},
   "outputs": [],
   "source": [
    "#Import usefull libraries\n",
    "import pandas as pd\n",
    "import numpy as np\n",
    "import matplotlib.pyplot as plt\n",
    "%matplotlib inline\n",
    "import seaborn as sns\n",
    "from tld import get_tld\n",
    "import json\n",
    "import bz2\n",
    "from scipy import stats\n",
    "import statsmodels.api as sm\n",
    "import statsmodels.formula.api as smf\n",
    "\n",
    "# Disable some pandas warnings we don't want in the notebook\n",
    "pd.options.mode.chained_assignment = None"
   ]
  },
  {
   "cell_type": "markdown",
   "id": "6a8cfa80-4e8f-417b-bd61-23ab1ce91cd5",
   "metadata": {},
   "source": [
    "## 0 - Accessing the data from Quotebank and the speaker attributes dataset"
   ]
  },
  {
   "cell_type": "markdown",
   "id": "c7388651-9c58-4068-8c07-181a92d93607",
   "metadata": {},
   "source": [
    "The Quotebank dataset is very large in size and it is not feasible to treat it using only RAM memory. In order to circumvent this problem, we chose to **filter out all the quotes that were not linked to our study**. \n",
    "\n",
    "For this second milestone, we chose a simple algorithm that consisted in selecting only the quotes that contained at least one of the following keywords: 'gun', 'shooting', 'firearm'. The selected quotes were written to a new file: 'quotes-cropped.json', which was much more reasonnable in size: around 550 Mo. This was done on a **Google Colab** so that we could access the Quotebank dataset from Drive.\n",
    "\n",
    "We know this is not a perfect filter, but it should get the job done for these initial findings. For milestone 3, we plan on using a **supervised learning** algorithm in order to identify quotes that speak of shootings/guns with higher precision."
   ]
  },
  {
   "cell_type": "markdown",
   "id": "59fa5d2e-6d6c-4f1f-85ae-bd8efdea382f",
   "metadata": {},
   "source": [
    "The following code is used to create a **new file with the quotes and the country where they come from**. This way, we select only the quotes that come from the American news. We have commented the code so that is does not need to run again (it can take some time as you can imagine!), but it is here so you can see how we obtained our data set. \n",
    "\n",
    "NB: Even though it is drasticly smaller in size then the raw data, our data file is nevertheless too heavy to be uploaded on GitHub (550 Mo). Please let us know if you wish to have the file and we will happily send it to you."
   ]
  },
  {
   "cell_type": "code",
   "execution_count": 2,
   "id": "e763205a-9c3b-419c-a311-14f44782ba1e",
   "metadata": {},
   "outputs": [],
   "source": [
    "#def get_domain(url):\n",
    "#    res = get_tld(url, as_object=True)\n",
    "#    return res.domain\n",
    "#\n",
    "#new_src = pd.read_csv('data/news.txt', delimiter=\"\\t\", header=None, encoding = \"ISO-8859-1\")\n",
    "#new_src.columns=['id','unknown','date','country','media','website','title']\n",
    "#new_src['domain']=new_src.apply(lambda x : get_domain(x['website']),axis=1)\n",
    "#new_src.drop_duplicates(inplace=True, subset=['domain'], keep='first')\n",
    "\n",
    "#path_to_out = 'data/quotes-cropped-with-country.json.bz2'\n",
    "#with bz2.open(\"data/quotes-cropped.json.bz2\", 'rb') as s_file:\n",
    "#    with bz2.open(path_to_out, 'wb') as d_file:\n",
    "#        for instance in s_file:\n",
    "#                instance = json.loads(instance) # loading a sample\n",
    "#                urls = instance['urls'] # extracting list of links \n",
    "#                instance['country']=np.nan\n",
    "#                for url in urls:\n",
    "#                    domain=get_domain(url)\n",
    "#                    if len(new_src[new_src['domain']==domain])>=1:\n",
    "#                        instance['country']=new_src[new_src['domain']==domain]['country'].item()\n",
    "#                        break\n",
    "#                d_file.write((json.dumps(instance)+'\\n').encode('utf-8'))"
   ]
  },
  {
   "cell_type": "markdown",
   "id": "8466eb7b-241d-45a7-834a-4985ebe3352d",
   "metadata": {},
   "source": [
    "We then open the obtained file, and **select only the rows that correspond to quotes from the US**."
   ]
  },
  {
   "cell_type": "code",
   "execution_count": 3,
   "id": "6fef4534-d1b4-4be2-b978-e641dd603157",
   "metadata": {},
   "outputs": [],
   "source": [
    "#with bz2.open(\"data/quotes-cropped-with-country.json.bz2\", 'rb') as s_file: \n",
    "#   df_original = pd.read_json(s_file, lines=True)\n",
    "\n",
    "# Select only the quotes that come from the US\n",
    "#df_original = df_original[df_original['country']=='US']\n",
    "#df_original.head()"
   ]
  },
  {
   "cell_type": "code",
   "execution_count": 4,
   "id": "56a87d83-3e4e-444a-b0a0-5db2482dd30f",
   "metadata": {},
   "outputs": [],
   "source": [
    "# New dataframe with the obtained data\n",
    "df_original = pd.read_json('quotes-cropped.json', lines=True)"
   ]
  },
  {
   "cell_type": "markdown",
   "id": "671142ab-b382-43b0-b4f4-678ca38200a0",
   "metadata": {},
   "source": [
    "We have also loaded the **speaker attributes dataset** in order to extract additional information about quotations' speakers, in case we need these for statistic purpose later on."
   ]
  },
  {
   "cell_type": "code",
   "execution_count": 5,
   "id": "dca78e8f-773f-48d2-bf39-1ea62d70ac31",
   "metadata": {},
   "outputs": [
    {
     "data": {
      "text/html": [
       "<div>\n",
       "<style scoped>\n",
       "    .dataframe tbody tr th:only-of-type {\n",
       "        vertical-align: middle;\n",
       "    }\n",
       "\n",
       "    .dataframe tbody tr th {\n",
       "        vertical-align: top;\n",
       "    }\n",
       "\n",
       "    .dataframe thead th {\n",
       "        text-align: right;\n",
       "    }\n",
       "</style>\n",
       "<table border=\"1\" class=\"dataframe\">\n",
       "  <thead>\n",
       "    <tr style=\"text-align: right;\">\n",
       "      <th></th>\n",
       "      <th>aliases</th>\n",
       "      <th>date_of_birth</th>\n",
       "      <th>nationality</th>\n",
       "      <th>gender</th>\n",
       "      <th>lastrevid</th>\n",
       "      <th>ethnic_group</th>\n",
       "      <th>US_congress_bio_ID</th>\n",
       "      <th>occupation</th>\n",
       "      <th>party</th>\n",
       "      <th>academic_degree</th>\n",
       "      <th>id</th>\n",
       "      <th>label</th>\n",
       "      <th>candidacy</th>\n",
       "      <th>type</th>\n",
       "      <th>religion</th>\n",
       "    </tr>\n",
       "  </thead>\n",
       "  <tbody>\n",
       "    <tr>\n",
       "      <th>1612806</th>\n",
       "      <td>None</td>\n",
       "      <td>None</td>\n",
       "      <td>[Q9903]</td>\n",
       "      <td>[Q6581097]</td>\n",
       "      <td>1009132655</td>\n",
       "      <td>None</td>\n",
       "      <td>None</td>\n",
       "      <td>None</td>\n",
       "      <td>None</td>\n",
       "      <td>None</td>\n",
       "      <td>Q45510421</td>\n",
       "      <td>Zhao Zhang</td>\n",
       "      <td>None</td>\n",
       "      <td>item</td>\n",
       "      <td>None</td>\n",
       "    </tr>\n",
       "  </tbody>\n",
       "</table>\n",
       "</div>"
      ],
      "text/plain": [
       "        aliases date_of_birth nationality      gender   lastrevid  \\\n",
       "1612806    None          None     [Q9903]  [Q6581097]  1009132655   \n",
       "\n",
       "        ethnic_group US_congress_bio_ID occupation party academic_degree  \\\n",
       "1612806         None               None       None  None            None   \n",
       "\n",
       "                id       label candidacy  type religion  \n",
       "1612806  Q45510421  Zhao Zhang      None  item     None  "
      ]
     },
     "execution_count": 5,
     "metadata": {},
     "output_type": "execute_result"
    }
   ],
   "source": [
    "# New dataframe with the speaker attributes data ('speaker_attributes.parquet')\n",
    "# If needed: !pip install pandas pyarrow\n",
    "speaker_attributes = pd.read_parquet('data/speaker_attributes.parquet')\n",
    "speaker_attributes.sample()"
   ]
  },
  {
   "cell_type": "markdown",
   "id": "e3b270b8-a2e1-4ecb-9006-b970c89fe51e",
   "metadata": {},
   "source": [
    "Once again, we have commented the code as it can take some time to execute. It basically takes the speaker attributes corresponding to speakers found in the cropped Quotebank dataset and saves them to a seperate **'speaker.csv' file**."
   ]
  },
  {
   "cell_type": "code",
   "execution_count": 6,
   "id": "ba6b22f1-4a3e-41eb-a823-5001a111a014",
   "metadata": {},
   "outputs": [],
   "source": [
    "# Extract the 'speaker' column from the Quotebank data.\n",
    "#df_speaker = df_original['speaker']\n",
    "\n",
    "# Remove rows in the 'speaker attributes' dataset which are not related to speakers in the Quotebank\n",
    "#index = speaker_attributes.apply(lambda x: len(df_speaker[df_speaker==x['label']])>0 , axis=1)\n",
    "\n",
    "# Match index\n",
    "#speaker_attributes = speaker_attributes[index]\n",
    "#speaker_attributes.head()\n",
    "\n",
    "# Save the new data to a .csv file\n",
    "#speaker_attributes.to_csv('data/speaker.csv')"
   ]
  },
  {
   "cell_type": "markdown",
   "id": "e5308f83-0d11-42ae-aa59-8caf3cb5590d",
   "metadata": {},
   "source": [
    "## 1 - Initial analysis of the cropped Quotebank dataset"
   ]
  },
  {
   "cell_type": "markdown",
   "id": "5bc949b8-e100-4882-8a3f-2906cb22d843",
   "metadata": {},
   "source": [
    "We will start by plotting the number of quotes containing at least one of our keywords over time (i.e. between 2015 and 2020). Even though some quotes will be irrelevant (e.g. \"we were **shooting** a movie\"), we assume the distribution of these irrelevant quotes to be close to uniform for the moment. For the final project, we plan to be using Machine Learning algorithms (supervised learning, see README.txt) to better select the data from the Quotebank dataset (instead of the keywords), choosing only quotes who have a high probability to be relevant.\n",
    "\n",
    "Our plot should therefore give a good first impression on how much people/the media has been speaking about gun control during these five years."
   ]
  },
  {
   "cell_type": "code",
   "execution_count": 7,
   "id": "32f46169-5c0b-48f3-a83d-744ddaabf813",
   "metadata": {},
   "outputs": [
    {
     "data": {
      "text/html": [
       "<div>\n",
       "<style scoped>\n",
       "    .dataframe tbody tr th:only-of-type {\n",
       "        vertical-align: middle;\n",
       "    }\n",
       "\n",
       "    .dataframe tbody tr th {\n",
       "        vertical-align: top;\n",
       "    }\n",
       "\n",
       "    .dataframe thead th {\n",
       "        text-align: right;\n",
       "    }\n",
       "</style>\n",
       "<table border=\"1\" class=\"dataframe\">\n",
       "  <thead>\n",
       "    <tr style=\"text-align: right;\">\n",
       "      <th></th>\n",
       "      <th>date</th>\n",
       "      <th>quotation</th>\n",
       "    </tr>\n",
       "  </thead>\n",
       "  <tbody>\n",
       "    <tr>\n",
       "      <th>65127</th>\n",
       "      <td>2015-01-01 00:07:32</td>\n",
       "      <td>When we are face a suspect holding one of thes...</td>\n",
       "    </tr>\n",
       "    <tr>\n",
       "      <th>77653</th>\n",
       "      <td>2015-01-01 00:08:12</td>\n",
       "      <td>I expect much of the same from Edinburgh at Mu...</td>\n",
       "    </tr>\n",
       "    <tr>\n",
       "      <th>97745</th>\n",
       "      <td>2015-01-01 00:13:41</td>\n",
       "      <td>Of course the negative is if you need your gun...</td>\n",
       "    </tr>\n",
       "  </tbody>\n",
       "</table>\n",
       "</div>"
      ],
      "text/plain": [
       "                     date                                          quotation\n",
       "65127 2015-01-01 00:07:32  When we are face a suspect holding one of thes...\n",
       "77653 2015-01-01 00:08:12  I expect much of the same from Edinburgh at Mu...\n",
       "97745 2015-01-01 00:13:41  Of course the negative is if you need your gun..."
      ]
     },
     "execution_count": 7,
     "metadata": {},
     "output_type": "execute_result"
    }
   ],
   "source": [
    "# Keep only the columns that we need for our initial analysis\n",
    "df = df_original[['date','quotation']]\n",
    "\n",
    "# Convert data column to datetime format\n",
    "df['date'] = pd.to_datetime(df['date'])\n",
    "\n",
    "# Sort dataframe by date\n",
    "df = df.sort_values(by=['date'])\n",
    "\n",
    "df.head(n=3)"
   ]
  },
  {
   "cell_type": "markdown",
   "id": "ec9deb0e-e34f-4481-a100-c2404d28d2fe",
   "metadata": {},
   "source": [
    "Now that we have sorted the dataframe by date, we can move on to the plot."
   ]
  },
  {
   "cell_type": "code",
   "execution_count": 8,
   "id": "606f1697-e3ab-449b-942d-496d7af8ac97",
   "metadata": {},
   "outputs": [
    {
     "data": {
      "image/png": "[encoded data removed]",
      "text/plain": [
       "<Figure size 1080x360 with 1 Axes>"
      ]
     },
     "metadata": {
      "needs_background": "light"
     },
     "output_type": "display_data"
    }
   ],
   "source": [
    "# Plotting number of quotes that contain keywords on the timeframe of the dataset\n",
    "plt.figure(figsize=(15,5))\n",
    "\n",
    "plt.hist(df['date'], bins=2000, color='#4a7399')\n",
    "\n",
    "plt.title('Occurences of quotes containing at least one of the keywords between 2015 and 2020')\n",
    "plt.xlabel('Time')\n",
    "plt.ylabel('Number of occurences')\n",
    "plt.show()"
   ]
  },
  {
   "cell_type": "markdown",
   "id": "3a07302f-646a-4fc8-98af-06f0000f2de4",
   "metadata": {},
   "source": [
    "This histogram gives a good idea of how much people have been speaking of guns/firearms/shootings in the last 5 years in the media. **But it has a major flaw**: each quote has the same \"weight\" (one quote accounts for one occurence). But some quotes occure more often then others ('numOccurences' colum in the dataframe). We should take this extra information into account if we want a better view on the data."
   ]
  },
  {
   "cell_type": "markdown",
   "id": "8d860adf-71d8-4dd5-a5c8-62aa79872271",
   "metadata": {},
   "source": [
    "We will now define a new dataframe that contains the number of quotes (multiplied by their respective occurences) for each day that contain at least one of the keywords."
   ]
  },
  {
   "cell_type": "code",
   "execution_count": 9,
   "id": "f3fcc9c3-f4fc-4f18-8f0e-5133e4ee75a3",
   "metadata": {},
   "outputs": [
    {
     "data": {
      "text/html": [
       "<div>\n",
       "<style scoped>\n",
       "    .dataframe tbody tr th:only-of-type {\n",
       "        vertical-align: middle;\n",
       "    }\n",
       "\n",
       "    .dataframe tbody tr th {\n",
       "        vertical-align: top;\n",
       "    }\n",
       "\n",
       "    .dataframe thead th {\n",
       "        text-align: right;\n",
       "    }\n",
       "</style>\n",
       "<table border=\"1\" class=\"dataframe\">\n",
       "  <thead>\n",
       "    <tr style=\"text-align: right;\">\n",
       "      <th></th>\n",
       "      <th>date</th>\n",
       "      <th>numOccurrences</th>\n",
       "    </tr>\n",
       "  </thead>\n",
       "  <tbody>\n",
       "    <tr>\n",
       "      <th>0</th>\n",
       "      <td>2015-01-01</td>\n",
       "      <td>261</td>\n",
       "    </tr>\n",
       "    <tr>\n",
       "      <th>1</th>\n",
       "      <td>2015-01-02</td>\n",
       "      <td>555</td>\n",
       "    </tr>\n",
       "    <tr>\n",
       "      <th>2</th>\n",
       "      <td>2015-01-03</td>\n",
       "      <td>332</td>\n",
       "    </tr>\n",
       "  </tbody>\n",
       "</table>\n",
       "</div>"
      ],
      "text/plain": [
       "        date  numOccurrences\n",
       "0 2015-01-01             261\n",
       "1 2015-01-02             555\n",
       "2 2015-01-03             332"
      ]
     },
     "execution_count": 9,
     "metadata": {},
     "output_type": "execute_result"
    }
   ],
   "source": [
    "# Define a new dataframe for this specific study\n",
    "df = df_original[['date','numOccurrences']]\n",
    "\n",
    "# Remove hour from the date\n",
    "df['date'] = df['date'].dt.date\n",
    "\n",
    "# Group by date and sum number of occurences\n",
    "df = df.groupby(['date']).sum()\n",
    "df = df.reset_index()\n",
    "\n",
    "# Convert data column back to datetime format\n",
    "df['date'] = pd.to_datetime(df['date'])\n",
    "\n",
    "# Sort dataframe by date\n",
    "df = df.sort_values(by=['date'])\n",
    "\n",
    "df.head(n=3)"
   ]
  },
  {
   "cell_type": "markdown",
   "id": "0d6a34c6-6fdd-4be2-83c5-11eaf4054e02",
   "metadata": {},
   "source": [
    "We now have our desired dataframe: one row is one day, and for each day we have the number of quotes (multiplied by their occurences) that contain at least a keyword."
   ]
  },
  {
   "cell_type": "code",
   "execution_count": 10,
   "id": "87dadadb-c468-4778-ab40-ef14697ce599",
   "metadata": {
    "tags": []
   },
   "outputs": [
    {
     "data": {
      "image/png": "[encoded data removed]",
      "text/plain": [
       "<Figure size 1080x360 with 1 Axes>"
      ]
     },
     "metadata": {
      "needs_background": "light"
     },
     "output_type": "display_data"
    }
   ],
   "source": [
    "# Plotting number of quotes that contain keywords on the timeframe of the dataset\n",
    "plt.figure(figsize=(15,5))\n",
    "\n",
    "plt.bar(df['date'],df['numOccurrences'],color='#4a7399')\n",
    "plt.title('Occurences of quotes containing at least one of the keywords between 2015 and 2020')\n",
    "plt.xlabel('Time')\n",
    "plt.ylabel('Number of occurences')\n",
    "plt.show()"
   ]
  },
  {
   "cell_type": "markdown",
   "id": "4ddc6c30-8327-41e3-93ba-08dd0ed02ac8",
   "metadata": {},
   "source": [
    "We have cleared a possible source of error out of the way. We will be using this new dataframe in the rest of the analysis. If we happen to need more information about the quotes that were said on a specific date, we can always switch back to looking for quotes on that specific date in the original dataframe (from the \"cropped\" Quotebank)."
   ]
  },
  {
   "cell_type": "markdown",
   "id": "95943c1b-f76f-4191-a327-b05df97fe633",
   "metadata": {},
   "source": [
    "Since we will need this data later on, we save it to a new dataframe (data1). This way we can overwrite \"df\" without worrying."
   ]
  },
  {
   "cell_type": "code",
   "execution_count": 11,
   "id": "1d9865fe-57b5-485d-b76c-904414f4999e",
   "metadata": {},
   "outputs": [],
   "source": [
    "# We will use this data in comparitive plots in part 3\n",
    "data1 = df[['date','numOccurrences']]"
   ]
  },
  {
   "cell_type": "markdown",
   "id": "c824c176-3d2b-4bf2-b8fe-9abbb22a9562",
   "metadata": {},
   "source": [
    "## 2 - Initial analysis of the \"Mother Jone's\" dataset"
   ]
  },
  {
   "cell_type": "markdown",
   "id": "4a63f027-c9af-4078-8901-ad80d46689f9",
   "metadata": {},
   "source": [
    "We have also proceeded to some initial analysis of the **\"Mother Jone's US Mass Shootings\" dataset**. Indeed, this dataset will give us some basic information about most shootings, such as: date, location, number of fatalities, number of injured, age of shooter, weapon type/legality..."
   ]
  },
  {
   "cell_type": "code",
   "execution_count": 12,
   "id": "e3c4f81d-3a9a-4626-9f0d-b77fc95fe763",
   "metadata": {},
   "outputs": [
    {
     "data": {
      "text/plain": [
       "case                                        object\n",
       "location                                    object\n",
       "date                                datetime64[ns]\n",
       "summary                                     object\n",
       "fatalities                                   int64\n",
       "injured                                      int64\n",
       "total_victims                                int64\n",
       "location.1                                  object\n",
       "age_of_shooter                             float64\n",
       "prior_signs_mental_health_issues            object\n",
       "mental_health_details                       object\n",
       "weapons_obtained_legally                    object\n",
       "where_obtained                              object\n",
       "weapon_type                                 object\n",
       "weapon_details                              object\n",
       "race                                        object\n",
       "gender                                      object\n",
       "sources                                     object\n",
       "mental_health_sources                       object\n",
       "sources_additional_age                      object\n",
       "latitude                                   float64\n",
       "longitude                                  float64\n",
       "type                                        object\n",
       "year                                         int64\n",
       "town                                        object\n",
       "state                                       object\n",
       "dtype: object"
      ]
     },
     "execution_count": 12,
     "metadata": {},
     "output_type": "execute_result"
    }
   ],
   "source": [
    "# Reading the csv file\n",
    "df = pd.read_csv('./Data/MassShootings.csv')\n",
    "\n",
    "# Replace \"-\" by NaN in \"age of shooter\" column\n",
    "df['age_of_shooter'] = df['age_of_shooter'].replace('-', np.nan).astype(float)\n",
    "\n",
    "# Two new columns: location splitted into town and state\n",
    "df[['town', 'state']] = df['location'].str.split(', ', expand = True)\n",
    "\n",
    "# Convert date column to datetime format for better handling\n",
    "df['date'] = pd.to_datetime(df['date'])\n",
    "\n",
    "# Quotebank dataset is limited to years 2015-2020. Need to use same time span:\n",
    "df = df.drop(df[df['date'].dt.year < 2015].index)\n",
    "df = df.drop(df[df['date'].dt.year > 2020].index)\n",
    "\n",
    "df.dtypes"
   ]
  },
  {
   "cell_type": "markdown",
   "id": "c0842455-62bd-46fa-9361-36562c623071",
   "metadata": {},
   "source": [
    "To give us a first glimpse at the data, we can plot the fatalities per shooting accross time, as well as the distribution of the number of fatalities per shooting."
   ]
  },
  {
   "cell_type": "code",
   "execution_count": 13,
   "id": "16184470-fe4e-4dbb-b1a9-31dc0fb4b023",
   "metadata": {},
   "outputs": [
    {
     "data": {
      "image/png": "[encoded data removed]",
      "text/plain": [
       "<Figure size 936x360 with 2 Axes>"
      ]
     },
     "metadata": {
      "needs_background": "light"
     },
     "output_type": "display_data"
    }
   ],
   "source": [
    "fig, ax = plt.subplots(1,2,figsize=(13,5))\n",
    "\n",
    "# Plot shootings in (time, number of fatalities) format\n",
    "ax[0].scatter(df['date'], df['fatalities'], color='#4a7399')\n",
    "ax[0].set_title('Fatalities per shooting across the timeframe')\n",
    "ax[0].set_xlabel('Date')\n",
    "ax[0].set_ylabel('Fatalities');\n",
    "\n",
    "# Plot the distribution of the number of fatalities\n",
    "ax[1] = df['fatalities'].hist(bins=50, color='#4a7399')\n",
    "ax[1].set_xlabel('Fatalities per shooting')\n",
    "ax[1].set_ylabel('Number of shootings')\n",
    "ax[1].set_title('Fatalities per shooting');"
   ]
  },
  {
   "cell_type": "markdown",
   "id": "3f451090-8be1-4a0f-8b84-0241221657ab",
   "metadata": {},
   "source": [
    "There isn't much data, but we can say it seems to follow a **power law**: most of the shootings have a small number of fatalities (<10), but some large outliers are not unusual, some shootings having over 40 fatalities."
   ]
  },
  {
   "cell_type": "markdown",
   "id": "517a1ce2-088a-47b4-89c4-dc265667d327",
   "metadata": {},
   "source": [
    "There are many paramters to explore, and one of them is **location** (as in the state) of the event:"
   ]
  },
  {
   "cell_type": "code",
   "execution_count": 14,
   "id": "20ba7f68-4771-418e-8c01-96312ecb2720",
   "metadata": {},
   "outputs": [
    {
     "data": {
      "image/png": "[encoded data removed]",
      "text/plain": [
       "<Figure size 1080x288 with 1 Axes>"
      ]
     },
     "metadata": {
      "needs_background": "light"
     },
     "output_type": "display_data"
    }
   ],
   "source": [
    "# Ploting the number of fatalities per state\n",
    "fig, ax = plt.subplots(figsize=(15, 4))\n",
    "ax = sns.barplot(y = df['fatalities'], x = df['state'], estimator = sum, ci = None, color='#4a7399')\n",
    "\n",
    "ax.set_xlabel(\"State\")\n",
    "ax.set_ylabel(\"Fatalities\")\n",
    "ax.set_title(\"Number of fatalities due to shootings for each state, between 2015 and 2020\")\n",
    "plt.xticks(rotation=45)\n",
    "plt.show()"
   ]
  },
  {
   "cell_type": "markdown",
   "id": "0970d861-2a96-430b-a2ca-e70d4b273d36",
   "metadata": {},
   "source": [
    "With the above plot, we can clearly see that **states have been very unequally affected by mass shootings**. We will try to find some relevant correlations further on, such as average salary in the state, state political position (more of a 'blue state' or a 'red state'), etc."
   ]
  },
  {
   "cell_type": "markdown",
   "id": "06eb77d7-8a43-4691-abe4-244b17a7404d",
   "metadata": {},
   "source": [
    "We will now **explore some of the parameters in the dataset** (what kind of locations we have, weapon legality...). These are just examples, but they help highlight the fact that we have many parameters that can possibly affect the reaction each shooting will generate in the news."
   ]
  },
  {
   "cell_type": "code",
   "execution_count": 15,
   "id": "fe860e54-bd1f-4158-ac32-2bdc640f9398",
   "metadata": {},
   "outputs": [
    {
     "data": {
      "image/png": "[encoded data removed]",
      "text/plain": [
       "<Figure size 432x288 with 1 Axes>"
      ]
     },
     "metadata": {
      "needs_background": "light"
     },
     "output_type": "display_data"
    }
   ],
   "source": [
    "# Rename column location.1 to location1 (the dot is problematic)\n",
    "df.rename(columns={\"location.1\": \"location1\"}, inplace=True)\n",
    "                   \n",
    "df.location1.value_counts().plot(kind='barh',color='#4a7399')\n",
    "plt.title('Location type')\n",
    "plt.xlabel('Number of shootings')\n",
    "plt.show()"
   ]
  },
  {
   "cell_type": "code",
   "execution_count": 16,
   "id": "9bccd041-538a-4f12-ad94-949adbd889a4",
   "metadata": {},
   "outputs": [
    {
     "data": {
      "text/plain": [
       "Yes        25\n",
       "TBD         7\n",
       "-           6\n",
       "No          4\n",
       "Unknown     3\n",
       "Name: weapons_obtained_legally, dtype: int64"
      ]
     },
     "execution_count": 16,
     "metadata": {},
     "output_type": "execute_result"
    }
   ],
   "source": [
    "# Check if the used weapons were obtained legally or not:\n",
    "df.weapons_obtained_legally.value_counts().head()"
   ]
  },
  {
   "cell_type": "markdown",
   "id": "b9fee7a0-0dd8-46b9-ad72-125c08632b07",
   "metadata": {},
   "source": [
    "Most weapons were obtained legally."
   ]
  },
  {
   "cell_type": "code",
   "execution_count": 17,
   "id": "f71f6dbc-a740-47fa-a3e0-cd43e48479ba",
   "metadata": {},
   "outputs": [
    {
     "data": {
      "image/png": "[encoded data removed]",
      "text/plain": [
       "<Figure size 432x288 with 1 Axes>"
      ]
     },
     "metadata": {},
     "output_type": "display_data"
    }
   ],
   "source": [
    "# Have a look of the race of the shooters\n",
    "df.race.value_counts().plot(kind='pie',colors=sns.color_palette('colorblind'))\n",
    "plt.title('Race of shooter')\n",
    "plt.show()"
   ]
  },
  {
   "cell_type": "markdown",
   "id": "e1f657c7-86ef-473e-bbad-d0858507e713",
   "metadata": {},
   "source": [
    "Finally, we will use this dataframe in comparitive plots in part 3.\n",
    "Therefore we save it to a new dataframe (in case we want to overwrite \"df\" further on):"
   ]
  },
  {
   "cell_type": "code",
   "execution_count": 18,
   "id": "d67a84be-c92f-48b2-b560-0cc83b989927",
   "metadata": {},
   "outputs": [],
   "source": [
    "data2 = df"
   ]
  },
  {
   "cell_type": "markdown",
   "id": "495fe526-fc83-4131-a5f4-e176f9fbcaa0",
   "metadata": {},
   "source": [
    "## 3 - Linking the two datasets"
   ]
  },
  {
   "cell_type": "markdown",
   "id": "75b091e0-6394-4e7f-9b99-ac867e8346af",
   "metadata": {},
   "source": [
    "### 3.1 - Plotting both datasets in the same timeline"
   ]
  },
  {
   "cell_type": "markdown",
   "id": "e89631c1-1f41-427d-8048-b7a6f2be3da8",
   "metadata": {},
   "source": [
    "We will start by plotting a single timeline graph with the number of fatalities due to shootings over time, as well as the occurence of gun-related words in the media."
   ]
  },
  {
   "cell_type": "code",
   "execution_count": 19,
   "id": "0dcb1d67-3397-40a4-ac98-de26ef2a6fc6",
   "metadata": {},
   "outputs": [
    {
     "data": {
      "image/png": "[encoded data removed]",
      "text/plain": [
       "<Figure size 936x432 with 2 Axes>"
      ]
     },
     "metadata": {},
     "output_type": "display_data"
    }
   ],
   "source": [
    "fig, ax1 = plt.subplots(figsize=(13,6))\n",
    "\n",
    "# Plotting the quotes over time (blue)\n",
    "color = 'tab:blue'\n",
    "ax1.set_title('Distribution of shootings in the USA (orange) and quotes concerning guns (blue) between 2015 and 2020')\n",
    "ax1.set_xlabel('Date')\n",
    "ax1.set_ylabel('Quotes', color=color)\n",
    "ax1.bar(data1['date'], data1['numOccurrences'], color=color, alpha=0.3, width = 3)\n",
    "ax1.tick_params(axis='y', labelcolor=color)\n",
    "\n",
    "# Same x-axis, but different y axis\n",
    "ax2 = ax1.twinx()\n",
    "\n",
    "# Plotting the fatalities due to shootings over time (orange)\n",
    "color = 'tab:orange'\n",
    "ax2.set_ylabel('Fatalities', color=color)\n",
    "ax2.bar(data2['date'], data2['fatalities'], color=color, alpha=0.95, width = 3)\n",
    "ax2.tick_params(axis='y', labelcolor=color)\n",
    "\n",
    "plt.show()"
   ]
  },
  {
   "cell_type": "markdown",
   "id": "6593afbc-da15-45a1-acf9-a6a215420908",
   "metadata": {},
   "source": [
    "With the above print, we see that this peak is maximal exactly two days after the shooting."
   ]
  },
  {
   "cell_type": "markdown",
   "id": "a1e00dcc-220c-4223-bdb0-7b0d76602cc1",
   "metadata": {},
   "source": [
    "We can see several interesting events in this first plot. For example, the largest peak in fatalities happens around october 2017. It is followed by the second largest peak in quotes talking about guns:"
   ]
  },
  {
   "cell_type": "code",
   "execution_count": 20,
   "id": "80f9a412-f016-437a-a70b-cc6f7053b32d",
   "metadata": {},
   "outputs": [
    {
     "name": "stdout",
     "output_type": "stream",
     "text": [
      "The largest shooting was:\n",
      "case                                                         Las Vegas Strip massacre\n",
      "location                                                            Las Vegas, Nevada\n",
      "date                                                              2017-10-01 00:00:00\n",
      "summary                             Stephen Craig Paddock, 64, fired a barrage of ...\n",
      "fatalities                                                                         58\n",
      "injured                                                                           546\n",
      "total_victims                                                                     604\n",
      "location1                                                                       Other\n",
      "age_of_shooter                                                                   64.0\n",
      "prior_signs_mental_health_issues                                                  TBD\n",
      "mental_health_details               Perpetrator's history unclear. In 1969 Paddock...\n",
      "weapons_obtained_legally                                                          Yes\n",
      "where_obtained                                                Two gun shops in Nevada\n",
      "weapon_type                         23 firearms, mostly rifles; including scopes, ...\n",
      "weapon_details                      AR-15-style and AK-47-style rifles and \"a larg...\n",
      "race                                                                            White\n",
      "gender                                                                              M\n",
      "sources                             https://www.lvmpd.com/en-us/Documents/1_Octobe...\n",
      "mental_health_sources               https://www.nytimes.com/2017/10/13/us/stephen-...\n",
      "sources_additional_age              https://www.lvmpd.com/en-us/Documents/1_Octobe...\n",
      "latitude                                                                    36.095739\n",
      "longitude                                                                 -115.171544\n",
      "type                                                                             Mass\n",
      "year                                                                             2017\n",
      "town                                                                        Las Vegas\n",
      "state                                                                          Nevada\n",
      "Name: 0, dtype: object\n",
      "\n",
      "The corresponding peak in quotes discussing guns was:\n",
      "date              2017-10-02 00:00:00\n",
      "numOccurrences                  19722\n",
      "Name: 999, dtype: object\n"
     ]
    }
   ],
   "source": [
    "# Print the largest shooting (most fatalities)\n",
    "data2 = data2.sort_values(by='fatalities',ascending=False)\n",
    "data2 = data2.reset_index(drop=True)\n",
    "print(\"The largest shooting was:\")\n",
    "print(data2.iloc[0])\n",
    "\n",
    "# Quotes following the shooting (two days after)\n",
    "data1 = data1.sort_values(by='numOccurrences',ascending=False)\n",
    "print(\"\\nThe corresponding peak in quotes discussing guns was:\")\n",
    "print(data1.iloc[1])"
   ]
  },
  {
   "cell_type": "markdown",
   "id": "b3350b9f-a89c-4be0-8885-ede1db3d3f67",
   "metadata": {},
   "source": [
    "### 3.2 - Correlation between mass shootings and number of quotes"
   ]
  },
  {
   "cell_type": "markdown",
   "id": "1cf70dc2-d85c-47aa-9db7-04e6db268104",
   "metadata": {},
   "source": [
    "Before going into any further analysis, we need to show that there is an association between the occurences of mass shootings (in orange) and the number of quotes in our subset (in blue). In order to do this, we will **test the correlation** between the number of quotes in the subset and the number of days since the last shooting."
   ]
  },
  {
   "cell_type": "code",
   "execution_count": 21,
   "id": "fe62463b-c6bf-4153-a5d5-ffb53c68ebbd",
   "metadata": {},
   "outputs": [
    {
     "data": {
      "text/html": [
       "<div>\n",
       "<style scoped>\n",
       "    .dataframe tbody tr th:only-of-type {\n",
       "        vertical-align: middle;\n",
       "    }\n",
       "\n",
       "    .dataframe tbody tr th {\n",
       "        vertical-align: top;\n",
       "    }\n",
       "\n",
       "    .dataframe thead th {\n",
       "        text-align: right;\n",
       "    }\n",
       "</style>\n",
       "<table border=\"1\" class=\"dataframe\">\n",
       "  <thead>\n",
       "    <tr style=\"text-align: right;\">\n",
       "      <th></th>\n",
       "      <th>date</th>\n",
       "      <th>numOccurrences</th>\n",
       "      <th>DateLastShooting</th>\n",
       "      <th>DaysSinceLastShooting</th>\n",
       "    </tr>\n",
       "  </thead>\n",
       "  <tbody>\n",
       "    <tr>\n",
       "      <th>41</th>\n",
       "      <td>2015-02-11</td>\n",
       "      <td>1843</td>\n",
       "      <td>NaT</td>\n",
       "      <td>NaN</td>\n",
       "    </tr>\n",
       "  </tbody>\n",
       "</table>\n",
       "</div>"
      ],
      "text/plain": [
       "         date  numOccurrences DateLastShooting  DaysSinceLastShooting\n",
       "41 2015-02-11            1843              NaT                    NaN"
      ]
     },
     "execution_count": 21,
     "metadata": {},
     "output_type": "execute_result"
    }
   ],
   "source": [
    "# Create a new column with the day of the last shooting\n",
    "data1['DateLastShooting'] = np.nan\n",
    "\n",
    "for index, row in data1.iterrows():\n",
    "    row_date = row['date']\n",
    "    past_shootings = data2[data2['date'] < row_date]\n",
    "    last_shooting = np.max(past_shootings['date'])\n",
    "    data1.at[index, 'DateLastShooting'] = last_shooting\n",
    "\n",
    "# Convert column to date-time format\n",
    "data1['DateLastShooting'] = pd.to_datetime(data1['DateLastShooting'])\n",
    "\n",
    "# Create another column with the number of days since the last shooting \n",
    "data1['DaysSinceLastShooting'] = (data1['date'] - data1['DateLastShooting']).dt.days\n",
    "data1.sample()"
   ]
  },
  {
   "cell_type": "code",
   "execution_count": 22,
   "id": "cf38c3da-a60e-413d-a801-26c4b37fd11d",
   "metadata": {},
   "outputs": [
    {
     "data": {
      "text/plain": [
       "(-0.16177454587465978, 7.993721727151127e-12)"
      ]
     },
     "execution_count": 22,
     "metadata": {},
     "output_type": "execute_result"
    }
   ],
   "source": [
    "# Drop rows containing missing values\n",
    "data1_filtered = data1.dropna()\n",
    "\n",
    "# Pearson correlation\n",
    "from scipy.stats import stats\n",
    "stats.pearsonr(data1_filtered['DaysSinceLastShooting'], data1_filtered['numOccurrences'])"
   ]
  },
  {
   "cell_type": "markdown",
   "id": "865ad2da-d61a-4e84-b5ca-9233b9feede8",
   "metadata": {},
   "source": [
    "We observe a **highly significant** (p-value << 0.05) **negative correlation** between the number of quotes on a given day and the days since the last shooting. This was the expected result: the more days since the last shooting, the rarer the quotes talking about guns and firearms."
   ]
  },
  {
   "cell_type": "markdown",
   "id": "03647d1b-db26-4322-b415-78bd5dcbed48",
   "metadata": {},
   "source": [
    "### 3.3 - Influence of the number of fatalities on the count of quotes"
   ]
  },
  {
   "cell_type": "markdown",
   "id": "09eadbb9-48b6-4c78-9ffe-16d1fa07ac73",
   "metadata": {},
   "source": [
    "We can see that the largest peak in quotes concerning guns takes place just after a shooting in early 2018:"
   ]
  },
  {
   "cell_type": "code",
   "execution_count": 23,
   "id": "a760548d-256f-425f-8478-ea11a0c76ee6",
   "metadata": {},
   "outputs": [
    {
     "data": {
      "image/png": "[encoded data removed]",
      "text/plain": [
       "<Figure size 648x288 with 2 Axes>"
      ]
     },
     "metadata": {},
     "output_type": "display_data"
    }
   ],
   "source": [
    "# We want to zoom in by looking only at 2018\n",
    "data1_2018 = data1[(data1['date'].dt.year==2018)]\n",
    "data2_2018 = data2[(data2['date'].dt.year==2018)]\n",
    "\n",
    "fig, ax1 = plt.subplots(figsize=(9,4))\n",
    "\n",
    "# Plotting the quotes over time (blue barplot)\n",
    "color = 'tab:blue'\n",
    "ax1.set_title('Distribution of shootings in the USA (orange) and quotes concerning guns (blue) in 2018')\n",
    "ax1.set_xlabel('Date')\n",
    "ax1.set_ylabel('Quotes', color=color)\n",
    "ax1.bar(data1_2018['date'], data1_2018['numOccurrences'], color=color, alpha=0.3, width = 3)\n",
    "ax1.tick_params(axis='y', labelcolor=color)\n",
    "\n",
    "# Same x-axis, but different y axis\n",
    "ax2 = ax1.twinx()\n",
    "\n",
    "# Plotting the fatalities due to shootings over time (orange barplot)\n",
    "color = 'tab:orange'\n",
    "ax2.set_ylabel('Fatalities', color=color)\n",
    "ax2.bar(data2_2018['date'], data2_2018['fatalities'], color=color, alpha=0.9, width = 3)\n",
    "ax2.tick_params(axis='y', labelcolor=color)\n",
    "ax2.set_ylim(0,62)\n",
    "\n",
    "plt.show()"
   ]
  },
  {
   "cell_type": "markdown",
   "id": "9537078d-4238-4d4a-99a0-0e36cfaf6aa3",
   "metadata": {},
   "source": [
    "It seams that this particular event has made much more noise then the others and over a larger period of time. The fact that it was **certainly not the shooting with the most fatalities** (\"only\" 17, compared to 58 for the max) shows that the number of fatalities is clearly not the only parameter that influences the media coverage of the event as well as the amplitude of the discussion on gun control afterwards.\n",
    "\n",
    "**This makes us want to investigate further: what are the other factors that can explain these differences?** Some ideas: \n",
    "- Location of the shooting (what state, but also what type of place: e.g. at a school, workplace...)\n",
    "- Wheather of not the weapon was bought legally\n",
    "- Age, gender and ethnicity of the shooter and/or the victims\n",
    "- The type of weapon that was used\n",
    "- etc."
   ]
  },
  {
   "cell_type": "markdown",
   "id": "59d601a9-11b1-4964-958c-0284137c5200",
   "metadata": {},
   "source": [
    "### 3.4 - Selecting the timeframe following each shooting\n",
    "In order to analyse the media's response to each shooting, we can start by selecting only the quotes from the following N days (for the moment we chose N=10 days). We did this for the top 3 most lethal shootings and plotted the results below. These again emphasize the idea that there is much more than just the number of fatalities (the second most lethal shooting creates a minimal response compared to the others)."
   ]
  },
  {
   "cell_type": "code",
   "execution_count": 24,
   "id": "0c666d48-9462-485c-979b-b137ed7264c7",
   "metadata": {},
   "outputs": [
    {
     "data": {
      "text/html": [
       "<div>\n",
       "<style scoped>\n",
       "    .dataframe tbody tr th:only-of-type {\n",
       "        vertical-align: middle;\n",
       "    }\n",
       "\n",
       "    .dataframe tbody tr th {\n",
       "        vertical-align: top;\n",
       "    }\n",
       "\n",
       "    .dataframe thead th {\n",
       "        text-align: right;\n",
       "    }\n",
       "</style>\n",
       "<table border=\"1\" class=\"dataframe\">\n",
       "  <thead>\n",
       "    <tr style=\"text-align: right;\">\n",
       "      <th></th>\n",
       "      <th>case</th>\n",
       "      <th>location</th>\n",
       "      <th>date</th>\n",
       "      <th>summary</th>\n",
       "      <th>fatalities</th>\n",
       "      <th>injured</th>\n",
       "      <th>total_victims</th>\n",
       "      <th>location1</th>\n",
       "      <th>age_of_shooter</th>\n",
       "      <th>prior_signs_mental_health_issues</th>\n",
       "      <th>...</th>\n",
       "      <th>sources_additional_age</th>\n",
       "      <th>latitude</th>\n",
       "      <th>longitude</th>\n",
       "      <th>type</th>\n",
       "      <th>year</th>\n",
       "      <th>town</th>\n",
       "      <th>state</th>\n",
       "      <th>numQuotes_after_10</th>\n",
       "      <th>numQuotes_before_10</th>\n",
       "      <th>relative_increase</th>\n",
       "    </tr>\n",
       "  </thead>\n",
       "  <tbody>\n",
       "    <tr>\n",
       "      <th>0</th>\n",
       "      <td>Las Vegas Strip massacre</td>\n",
       "      <td>Las Vegas, Nevada</td>\n",
       "      <td>2017-10-01</td>\n",
       "      <td>Stephen Craig Paddock, 64, fired a barrage of ...</td>\n",
       "      <td>58</td>\n",
       "      <td>546</td>\n",
       "      <td>604</td>\n",
       "      <td>Other</td>\n",
       "      <td>64.0</td>\n",
       "      <td>TBD</td>\n",
       "      <td>...</td>\n",
       "      <td>https://www.lvmpd.com/en-us/Documents/1_Octobe...</td>\n",
       "      <td>36.095739</td>\n",
       "      <td>-115.171544</td>\n",
       "      <td>Mass</td>\n",
       "      <td>2017</td>\n",
       "      <td>Las Vegas</td>\n",
       "      <td>Nevada</td>\n",
       "      <td>79309</td>\n",
       "      <td>20964</td>\n",
       "      <td>2.783104</td>\n",
       "    </tr>\n",
       "    <tr>\n",
       "      <th>1</th>\n",
       "      <td>Orlando nightclub massacre</td>\n",
       "      <td>Orlando, Florida</td>\n",
       "      <td>2016-06-12</td>\n",
       "      <td>Omar Mateen, 29, attacked the Pulse nighclub i...</td>\n",
       "      <td>49</td>\n",
       "      <td>53</td>\n",
       "      <td>102</td>\n",
       "      <td>Other</td>\n",
       "      <td>29.0</td>\n",
       "      <td>Unclear</td>\n",
       "      <td>...</td>\n",
       "      <td>http://www.motherjones.com/politics/2016/06/as...</td>\n",
       "      <td>28.519718</td>\n",
       "      <td>-81.376777</td>\n",
       "      <td>Mass</td>\n",
       "      <td>2016</td>\n",
       "      <td>Orlando</td>\n",
       "      <td>Florida</td>\n",
       "      <td>365</td>\n",
       "      <td>74</td>\n",
       "      <td>3.932432</td>\n",
       "    </tr>\n",
       "  </tbody>\n",
       "</table>\n",
       "<p>2 rows × 29 columns</p>\n",
       "</div>"
      ],
      "text/plain": [
       "                         case           location       date  \\\n",
       "0    Las Vegas Strip massacre  Las Vegas, Nevada 2017-10-01   \n",
       "1  Orlando nightclub massacre   Orlando, Florida 2016-06-12   \n",
       "\n",
       "                                             summary  fatalities  injured  \\\n",
       "0  Stephen Craig Paddock, 64, fired a barrage of ...          58      546   \n",
       "1  Omar Mateen, 29, attacked the Pulse nighclub i...          49       53   \n",
       "\n",
       "   total_victims location1  age_of_shooter prior_signs_mental_health_issues  \\\n",
       "0            604     Other            64.0                              TBD   \n",
       "1            102     Other            29.0                          Unclear   \n",
       "\n",
       "   ...                             sources_additional_age   latitude  \\\n",
       "0  ...  https://www.lvmpd.com/en-us/Documents/1_Octobe...  36.095739   \n",
       "1  ...  http://www.motherjones.com/politics/2016/06/as...  28.519718   \n",
       "\n",
       "    longitude  type  year       town    state numQuotes_after_10  \\\n",
       "0 -115.171544  Mass  2017  Las Vegas   Nevada              79309   \n",
       "1  -81.376777  Mass  2016    Orlando  Florida                365   \n",
       "\n",
       "  numQuotes_before_10 relative_increase  \n",
       "0               20964          2.783104  \n",
       "1                  74          3.932432  \n",
       "\n",
       "[2 rows x 29 columns]"
      ]
     },
     "execution_count": 24,
     "metadata": {},
     "output_type": "execute_result"
    }
   ],
   "source": [
    "# We want to zoom in for the 10 days after each shooting\n",
    "from datetime import timedelta\n",
    "\n",
    "# Create empty columns to fill for some key numbers regarding the shootings\n",
    "data2['numQuotes_after_10'] = 0\n",
    "data2['numQuotes_before_10'] = 0\n",
    "data2['relative_increase'] = 0\n",
    "#data2['slope'] = 0\n",
    "\n",
    "for i in range(0,len(data2)):\n",
    "    \n",
    "    # Get the date of the (i+1)th most lethal shooting\n",
    "    shooting_date = data2.sort_values(by='fatalities',ascending=False)['date'].iloc[i]\n",
    "\n",
    "    # Select only the quotes in the 10 days before the selected shooting\n",
    "    shooting_before =  data1[((data1['date'] <= shooting_date))]\n",
    "    shooting_before =  shooting_before[(shooting_before['date'] > shooting_date - timedelta(days=10))]\n",
    "    \n",
    "    # For each shooting (each row in data2), add column with the number of quotes in the previous 10 days\n",
    "    data2['numQuotes_before_10'].iloc[i] = shooting_before['numOccurrences'].sum()\n",
    "    \n",
    "    # Select only the quotes in the 10 days following the selected shooting\n",
    "    shooting_after =  data1[((data1['date'] >= shooting_date))]\n",
    "    shooting_after =  shooting_after[(shooting_after['date'] < shooting_date + timedelta(days=10))]\n",
    "    \n",
    "    # For each shooting (each row in data2), add column with the number of quotes in the next 10 days\n",
    "    data2['numQuotes_after_10'].iloc[i] = shooting_after['numOccurrences'].sum()\n",
    "    \n",
    "    ## Get the slope of decrease in quotes after each shooting, gives a sense of how quick news faded\n",
    "    #import datetime as dt\n",
    "    #from sklearn import linear_model\n",
    "    #shooting_after['date'] = pd.to_datetime(shooting_after['date']).map(dt.datetime.toordinal)\n",
    "    #slope, intr, r, p_v, std = stats.linregress(shooting_after['date'], shooting_after['numOccurrences'])\n",
    "    #data2['slope'].iloc[i] = slope\n",
    "    \n",
    "# For each shooting (each row in data2), add column with the number of quotes in the previous 10 days\n",
    "data2['relative_increase'] = (data2.numQuotes_after_10 - data2.numQuotes_before_10)/data2.numQuotes_before_10\n",
    "    \n",
    "data2.head(n=2)"
   ]
  },
  {
   "cell_type": "code",
   "execution_count": 25,
   "id": "578f4fc5-2b91-4bbd-8df9-8026143202b6",
   "metadata": {},
   "outputs": [
    {
     "data": {
      "image/png": "[encoded data removed]",
      "text/plain": [
       "<Figure size 432x288 with 1 Axes>"
      ]
     },
     "metadata": {
      "needs_background": "light"
     },
     "output_type": "display_data"
    }
   ],
   "source": [
    "# Bring the relative_increase between 0 and 1\n",
    "mini, maxi = data2.relative_increase.min(), data2.relative_increase.max()\n",
    "data2.relative_increase = (data2.relative_increase - mini) /(maxi - mini)\n",
    "plt.hist(data2.relative_increase, bins=10)\n",
    "plt.show()\n",
    "\n",
    "## Standardize the slope\n",
    "#mean, std = data2.slope.mean(), data2.slope.std()\n",
    "#mini, maxi = data2.slope.min(), data2.slope.max()\n",
    "##data2.slope = (data2.slope - mean) / std\n",
    "##plt.hist(data2.slope, bins=50)\n",
    "## Normalize\n",
    "#data2.slope = (data2.slope - mini) /(maxi - mini)"
   ]
  },
  {
   "cell_type": "code",
   "execution_count": 26,
   "id": "2da93eb4-298e-47d4-ba15-57b2cc92edf8",
   "metadata": {},
   "outputs": [
    {
     "data": {
      "text/html": [
       "<div>\n",
       "<style scoped>\n",
       "    .dataframe tbody tr th:only-of-type {\n",
       "        vertical-align: middle;\n",
       "    }\n",
       "\n",
       "    .dataframe tbody tr th {\n",
       "        vertical-align: top;\n",
       "    }\n",
       "\n",
       "    .dataframe thead th {\n",
       "        text-align: right;\n",
       "    }\n",
       "</style>\n",
       "<table border=\"1\" class=\"dataframe\">\n",
       "  <thead>\n",
       "    <tr style=\"text-align: right;\">\n",
       "      <th></th>\n",
       "      <th>case</th>\n",
       "      <th>location</th>\n",
       "      <th>date</th>\n",
       "      <th>summary</th>\n",
       "      <th>fatalities</th>\n",
       "      <th>injured</th>\n",
       "      <th>total_victims</th>\n",
       "      <th>location1</th>\n",
       "      <th>age_of_shooter</th>\n",
       "      <th>prior_signs_mental_health_issues</th>\n",
       "      <th>...</th>\n",
       "      <th>latitude</th>\n",
       "      <th>longitude</th>\n",
       "      <th>type</th>\n",
       "      <th>year</th>\n",
       "      <th>town</th>\n",
       "      <th>state</th>\n",
       "      <th>numQuotes_after_10</th>\n",
       "      <th>numQuotes_before_10</th>\n",
       "      <th>relative_increase</th>\n",
       "      <th>reaction_score</th>\n",
       "    </tr>\n",
       "  </thead>\n",
       "  <tbody>\n",
       "    <tr>\n",
       "      <th>0</th>\n",
       "      <td>Las Vegas Strip massacre</td>\n",
       "      <td>Las Vegas, Nevada</td>\n",
       "      <td>2017-10-01</td>\n",
       "      <td>Stephen Craig Paddock, 64, fired a barrage of ...</td>\n",
       "      <td>58</td>\n",
       "      <td>546</td>\n",
       "      <td>604</td>\n",
       "      <td>Other</td>\n",
       "      <td>64.0</td>\n",
       "      <td>TBD</td>\n",
       "      <td>...</td>\n",
       "      <td>36.095739</td>\n",
       "      <td>-115.171544</td>\n",
       "      <td>Mass</td>\n",
       "      <td>2017</td>\n",
       "      <td>Las Vegas</td>\n",
       "      <td>Nevada</td>\n",
       "      <td>79309</td>\n",
       "      <td>20964</td>\n",
       "      <td>0.688782</td>\n",
       "      <td>0.688782</td>\n",
       "    </tr>\n",
       "    <tr>\n",
       "      <th>1</th>\n",
       "      <td>Orlando nightclub massacre</td>\n",
       "      <td>Orlando, Florida</td>\n",
       "      <td>2016-06-12</td>\n",
       "      <td>Omar Mateen, 29, attacked the Pulse nighclub i...</td>\n",
       "      <td>49</td>\n",
       "      <td>53</td>\n",
       "      <td>102</td>\n",
       "      <td>Other</td>\n",
       "      <td>29.0</td>\n",
       "      <td>Unclear</td>\n",
       "      <td>...</td>\n",
       "      <td>28.519718</td>\n",
       "      <td>-81.376777</td>\n",
       "      <td>Mass</td>\n",
       "      <td>2016</td>\n",
       "      <td>Orlando</td>\n",
       "      <td>Florida</td>\n",
       "      <td>365</td>\n",
       "      <td>74</td>\n",
       "      <td>0.898197</td>\n",
       "      <td>0.898197</td>\n",
       "    </tr>\n",
       "  </tbody>\n",
       "</table>\n",
       "<p>2 rows × 30 columns</p>\n",
       "</div>"
      ],
      "text/plain": [
       "                         case           location       date  \\\n",
       "0    Las Vegas Strip massacre  Las Vegas, Nevada 2017-10-01   \n",
       "1  Orlando nightclub massacre   Orlando, Florida 2016-06-12   \n",
       "\n",
       "                                             summary  fatalities  injured  \\\n",
       "0  Stephen Craig Paddock, 64, fired a barrage of ...          58      546   \n",
       "1  Omar Mateen, 29, attacked the Pulse nighclub i...          49       53   \n",
       "\n",
       "   total_victims location1  age_of_shooter prior_signs_mental_health_issues  \\\n",
       "0            604     Other            64.0                              TBD   \n",
       "1            102     Other            29.0                          Unclear   \n",
       "\n",
       "   ...   latitude   longitude  type  year       town    state  \\\n",
       "0  ...  36.095739 -115.171544  Mass  2017  Las Vegas   Nevada   \n",
       "1  ...  28.519718  -81.376777  Mass  2016    Orlando  Florida   \n",
       "\n",
       "  numQuotes_after_10 numQuotes_before_10 relative_increase reaction_score  \n",
       "0              79309               20964          0.688782       0.688782  \n",
       "1                365                  74          0.898197       0.898197  \n",
       "\n",
       "[2 rows x 30 columns]"
      ]
     },
     "execution_count": 26,
     "metadata": {},
     "output_type": "execute_result"
    }
   ],
   "source": [
    "# Compute the reaction score for each shooting\n",
    "data2['reaction_score'] = data2.relative_increase\n",
    "data2.head(n=2)"
   ]
  },
  {
   "cell_type": "code",
   "execution_count": 27,
   "id": "34123d73-3e11-47ab-b4f3-80bf0d07276c",
   "metadata": {},
   "outputs": [
    {
     "name": "stdout",
     "output_type": "stream",
     "text": [
      "                            OLS Regression Results                            \n",
      "==============================================================================\n",
      "Dep. Variable:         reaction_score   R-squared:                       0.289\n",
      "Model:                            OLS   Adj. R-squared:                  0.164\n",
      "Method:                 Least Squares   F-statistic:                     2.320\n",
      "Date:                Fri, 10 Dec 2021   Prob (F-statistic):             0.0438\n",
      "Time:                        18:24:13   Log-Likelihood:                 9.4880\n",
      "No. Observations:                  48   AIC:                            -2.976\n",
      "Df Residuals:                      40   BIC:                             11.99\n",
      "Df Model:                           7                                         \n",
      "Covariance Type:            nonrobust                                         \n",
      "==========================================================================================\n",
      "                             coef    std err          t      P>|t|      [0.025      0.975]\n",
      "------------------------------------------------------------------------------------------\n",
      "Intercept                  0.1765      0.222      0.796      0.431      -0.272       0.625\n",
      "location1[T.Airport]       0.1843      0.309      0.597      0.554      -0.440       0.809\n",
      "location1[T.Military]      0.0283      0.268      0.106      0.916      -0.514       0.570\n",
      "location1[T.Other]         0.0271      0.224      0.121      0.904      -0.425       0.479\n",
      "location1[T.Religious]    -0.0212      0.251     -0.084      0.933      -0.529       0.487\n",
      "location1[T.School]        0.1663      0.251      0.662      0.512      -0.341       0.674\n",
      "location1[T.Workplace]     0.0084      0.225      0.037      0.970      -0.446       0.463\n",
      "fatalities                 0.0109      0.003      3.531      0.001       0.005       0.017\n",
      "==============================================================================\n",
      "Omnibus:                       39.462   Durbin-Watson:                   1.418\n",
      "Prob(Omnibus):                  0.000   Jarque-Bera (JB):              110.706\n",
      "Skew:                           2.295   Prob(JB):                     9.13e-25\n",
      "Kurtosis:                       8.855   Cond. No.                         255.\n",
      "==============================================================================\n",
      "\n",
      "Notes:\n",
      "[1] Standard Errors assume that the covariance matrix of the errors is correctly specified.\n"
     ]
    }
   ],
   "source": [
    "# Declares the model\n",
    "mod = smf.ols(formula='reaction_score ~ fatalities + location1', data=data2)\n",
    "\n",
    "# Fits the model (find the optimal coefficients, adding a random seed ensures consistency)\n",
    "np.random.seed(2)\n",
    "res = mod.fit()\n",
    "\n",
    "print(res.summary())"
   ]
  },
  {
   "cell_type": "code",
   "execution_count": 28,
   "id": "5dc83ab3-ba7a-417f-a523-20dcc6e7c34f",
   "metadata": {},
   "outputs": [
    {
     "data": {
      "image/png": "[encoded data removed]",
      "text/plain": [
       "<Figure size 576x288 with 1 Axes>"
      ]
     },
     "metadata": {
      "needs_background": "light"
     },
     "output_type": "display_data"
    }
   ],
   "source": [
    "# Some of the locations were written as '\\nWorkplace', we replace with 'Workplace'\n",
    "data2.location1.replace('\\nWorkplace', 'Workplace', inplace=True)\n",
    "\n",
    "# Plot the reaction score average for each location type\n",
    "fig = plt.subplots(figsize=(8,4))\n",
    "plt.bar(data2.location1, data2.reaction_score)\n",
    "plt.show()"
   ]
  },
  {
   "cell_type": "markdown",
   "id": "0b3a16f0-bb4a-48b4-ae40-eb5938fa460b",
   "metadata": {},
   "source": [
    "Now we will move on to visualizing the data on a map."
   ]
  },
  {
   "cell_type": "code",
   "execution_count": 29,
   "id": "48000907-960a-44f0-9b51-a3e73d5d1c03",
   "metadata": {},
   "outputs": [
    {
     "data": {
      "text/html": [
       "<div>\n",
       "<style scoped>\n",
       "    .dataframe tbody tr th:only-of-type {\n",
       "        vertical-align: middle;\n",
       "    }\n",
       "\n",
       "    .dataframe tbody tr th {\n",
       "        vertical-align: top;\n",
       "    }\n",
       "\n",
       "    .dataframe thead th {\n",
       "        text-align: right;\n",
       "    }\n",
       "</style>\n",
       "<table border=\"1\" class=\"dataframe\">\n",
       "  <thead>\n",
       "    <tr style=\"text-align: right;\">\n",
       "      <th></th>\n",
       "      <th>STATEFP</th>\n",
       "      <th>STATENS</th>\n",
       "      <th>AFFGEOID</th>\n",
       "      <th>GEOID</th>\n",
       "      <th>STUSPS</th>\n",
       "      <th>NAME</th>\n",
       "      <th>LSAD</th>\n",
       "      <th>ALAND</th>\n",
       "      <th>AWATER</th>\n",
       "      <th>region</th>\n",
       "      <th>geometry</th>\n",
       "    </tr>\n",
       "  </thead>\n",
       "  <tbody>\n",
       "    <tr>\n",
       "      <th>0</th>\n",
       "      <td>06</td>\n",
       "      <td>01779778</td>\n",
       "      <td>0400000US06</td>\n",
       "      <td>06</td>\n",
       "      <td>CA</td>\n",
       "      <td>California</td>\n",
       "      <td>00</td>\n",
       "      <td>403483823181</td>\n",
       "      <td>20483271881</td>\n",
       "      <td>West</td>\n",
       "      <td>MULTIPOLYGON Z (((-13201820.240 3933920.113 0....</td>\n",
       "    </tr>\n",
       "    <tr>\n",
       "      <th>1</th>\n",
       "      <td>11</td>\n",
       "      <td>01702382</td>\n",
       "      <td>0400000US11</td>\n",
       "      <td>11</td>\n",
       "      <td>DC</td>\n",
       "      <td>District of Columbia</td>\n",
       "      <td>00</td>\n",
       "      <td>158350578</td>\n",
       "      <td>18633500</td>\n",
       "      <td>Northeast</td>\n",
       "      <td>POLYGON Z ((-8584932.302 4685414.972 0.000, -8...</td>\n",
       "    </tr>\n",
       "  </tbody>\n",
       "</table>\n",
       "</div>"
      ],
      "text/plain": [
       "  STATEFP   STATENS     AFFGEOID GEOID STUSPS                  NAME LSAD  \\\n",
       "0      06  01779778  0400000US06    06     CA            California   00   \n",
       "1      11  01702382  0400000US11    11     DC  District of Columbia   00   \n",
       "\n",
       "          ALAND       AWATER     region  \\\n",
       "0  403483823181  20483271881       West   \n",
       "1     158350578     18633500  Northeast   \n",
       "\n",
       "                                            geometry  \n",
       "0  MULTIPOLYGON Z (((-13201820.240 3933920.113 0....  \n",
       "1  POLYGON Z ((-8584932.302 4685414.972 0.000, -8...  "
      ]
     },
     "execution_count": 29,
     "metadata": {},
     "output_type": "execute_result"
    }
   ],
   "source": [
    "import geopandas\n",
    "states = geopandas.read_file('Data/usa-states-census-2014.shp')\n",
    "states = states.to_crs(\"EPSG:3395\")\n",
    "states.head(n=2)"
   ]
  },
  {
   "cell_type": "code",
   "execution_count": 35,
   "id": "8e22c785-cb3d-4877-88a8-29fb880da721",
   "metadata": {},
   "outputs": [
    {
     "name": "stderr",
     "output_type": "stream",
     "text": [
      "/Users/thomasdefauw/miniconda3/envs/ada/lib/python3.8/site-packages/pyproj/crs/crs.py:131: FutureWarning: '+init=<authority>:<code>' syntax is deprecated. '<authority>:<code>' is the preferred initialization method. When making the change, be mindful of axis order changes: https://pyproj4.github.io/pyproj/stable/gotchas.html#axis-order-changes-in-proj-6\n",
      "  in_crs_string = _prepare_from_proj_string(in_crs_string)\n"
     ]
    },
    {
     "data": {
      "text/html": [
       "<div>\n",
       "<style scoped>\n",
       "    .dataframe tbody tr th:only-of-type {\n",
       "        vertical-align: middle;\n",
       "    }\n",
       "\n",
       "    .dataframe tbody tr th {\n",
       "        vertical-align: top;\n",
       "    }\n",
       "\n",
       "    .dataframe thead th {\n",
       "        text-align: right;\n",
       "    }\n",
       "</style>\n",
       "<table border=\"1\" class=\"dataframe\">\n",
       "  <thead>\n",
       "    <tr style=\"text-align: right;\">\n",
       "      <th></th>\n",
       "      <th>longitude</th>\n",
       "      <th>latitude</th>\n",
       "      <th>geometry</th>\n",
       "    </tr>\n",
       "  </thead>\n",
       "  <tbody>\n",
       "    <tr>\n",
       "      <th>0</th>\n",
       "      <td>-115.171544</td>\n",
       "      <td>36.095739</td>\n",
       "      <td>POINT (-93.23686 37.21043)</td>\n",
       "    </tr>\n",
       "    <tr>\n",
       "      <th>1</th>\n",
       "      <td>-81.376777</td>\n",
       "      <td>28.519718</td>\n",
       "      <td>POINT (-87.96254 43.04451)</td>\n",
       "    </tr>\n",
       "  </tbody>\n",
       "</table>\n",
       "</div>"
      ],
      "text/plain": [
       "    longitude   latitude                    geometry\n",
       "0 -115.171544  36.095739  POINT (-93.23686 37.21043)\n",
       "1  -81.376777  28.519718  POINT (-87.96254 43.04451)"
      ]
     },
     "execution_count": 35,
     "metadata": {},
     "output_type": "execute_result"
    }
   ],
   "source": [
    "# Create a dataframe \"geo_df\" with a column \"geometry\" with points (longitude,latitude)\n",
    "from shapely.geometry import Point, Polygon\n",
    "geometry = [Point(xy) for xy in zip(df.longitude,df.latitude)]\n",
    "geo_df = geopandas.GeoDataFrame(data2, crs={'init': 'epsg:4326'}, geometry=geometry)\n",
    "geo_df[['longitude','latitude','geometry']].head(n=2)"
   ]
  },
  {
   "cell_type": "code",
   "execution_count": 58,
   "id": "fae978ae-b7b3-4d2c-9fd9-d82a644c1459",
   "metadata": {},
   "outputs": [
    {
     "data": {
      "text/plain": [
       "<AxesSubplot:>"
      ]
     },
     "execution_count": 58,
     "metadata": {},
     "output_type": "execute_result"
    },
    {
     "data": {
      "image/png": "[encoded data removed]",
      "text/plain": [
       "<Figure size 1080x432 with 1 Axes>"
      ]
     },
     "metadata": {
      "needs_background": "light"
     },
     "output_type": "display_data"
    }
   ],
   "source": [
    "# Plot the map of the USA with the shootings\n",
    "fig = plt.figure(1,figsize=(15,6))\n",
    "ax = fig.add_subplot()\n",
    "\n",
    "# Plot the states and their boundary\n",
    "states.plot(ax=ax, color='#96ace3', linewidth=.4)\n",
    "#states.boundary.plot(ax=ax, linewidth=.3, color='white')\n",
    "\n",
    "# Plot the shootings, size of marker proportional to reaction score\n",
    "geo_df = geo_df.to_crs(\"EPSG:3395\")\n",
    "geo_df.plot(ax=ax, color='red', marker='.' , markersize=geo_df.reaction_score.values*1000)\n",
    "#geo_df.plot(ax=ax, color='green', marker='.' , markersize=geo_df.fatalities.values*100)\n",
    "\n",
    "#for x, y, label in zip(geo_df.geometry.x, geo_df.geometry.y, geo_df.fatalities):\n",
    " #   ax.annotate(str(label), xy=(x,y), size=13)"
   ]
  },
  {
   "cell_type": "code",
   "execution_count": 130,
   "id": "2febcf52-00d7-4c41-8110-78e18efba98d",
   "metadata": {},
   "outputs": [
    {
     "data": {
      "text/html": [
       "<div style=\"width:100%;\"><div style=\"position:relative;width:100%;height:0;padding-bottom:60%;\"><span style=\"color:#565656\">Make this Notebook Trusted to load map: File -> Trust Notebook</span><iframe src=\"about:blank\" style=\"position:absolute;width:100%;height:100%;left:0;top:0;border:none !important;\" data-html=%3C%21DOCTYPE%20html%3E%0A%3Chead%3E%20%20%20%20%0A%20%20%20%20%3Cmeta%20http-equiv%3D%22content-type%22%20content%3D%22text/html%3B%20charset%3DUTF-8%22%20/%3E%0A%20%20%20%20%0A%20%20%20%20%20%20%20%20%3Cscript%3E%0A%20%20%20%20%20%20%20%20%20%20%20%20L_NO_TOUCH%20%3D%20false%3B%0A%20%20%20%20%20%20%20%20%20%20%20%20L_DISABLE_3D%20%3D%20false%3B%0A%20%20%20%20%20%20%20%20%3C/script%3E%0A%20%20%20%20%0A%20%20%20%20%3Cstyle%3Ehtml%2C%20body%20%7Bwidth%3A%20100%25%3Bheight%3A%20100%25%3Bmargin%3A%200%3Bpadding%3A%200%3B%7D%3C/style%3E%0A%20%20%20%20%3Cstyle%3E%23map%20%7Bposition%3Aabsolute%3Btop%3A0%3Bbottom%3A0%3Bright%3A0%3Bleft%3A0%3B%7D%3C/style%3E%0A%20%20%20%20%3Cscript%20src%3D%22https%3A//cdn.jsdelivr.net/npm/leaflet%401.6.0/dist/leaflet.js%22%3E%3C/script%3E%0A%20%20%20%20%3Cscript%20src%3D%22https%3A//code.jquery.com/jquery-1.12.4.min.js%22%3E%3C/script%3E%0A%20%20%20%20%3Cscript%20src%3D%22https%3A//maxcdn.bootstrapcdn.com/bootstrap/3.2.0/js/bootstrap.min.js%22%3E%3C/script%3E%0A%20%20%20%20%3Cscript%20src%3D%22https%3A//cdnjs.cloudflare.com/ajax/libs/Leaflet.awesome-markers/2.0.2/leaflet.awesome-markers.js%22%3E%3C/script%3E%0A%20%20%20%20%3Clink%20rel%3D%22stylesheet%22%20href%3D%22https%3A//cdn.jsdelivr.net/npm/leaflet%401.6.0/dist/leaflet.css%22/%3E%0A%20%20%20%20%3Clink%20rel%3D%22stylesheet%22%20href%3D%22https%3A//maxcdn.bootstrapcdn.com/bootstrap/3.2.0/css/bootstrap.min.css%22/%3E%0A%20%20%20%20%3Clink%20rel%3D%22stylesheet%22%20href%3D%22https%3A//maxcdn.bootstrapcdn.com/bootstrap/3.2.0/css/bootstrap-theme.min.css%22/%3E%0A%20%20%20%20%3Clink%20rel%3D%22stylesheet%22%20href%3D%22https%3A//maxcdn.bootstrapcdn.com/font-awesome/4.6.3/css/font-awesome.min.css%22/%3E%0A%20%20%20%20%3Clink%20rel%3D%22stylesheet%22%20href%3D%22https%3A//cdnjs.cloudflare.com/ajax/libs/Leaflet.awesome-markers/2.0.2/leaflet.awesome-markers.css%22/%3E%0A%20%20%20%20%3Clink%20rel%3D%22stylesheet%22%20href%3D%22https%3A//cdn.jsdelivr.net/gh/python-visualization/folium/folium/templates/leaflet.awesome.rotate.min.css%22/%3E%0A%20%20%20%20%0A%20%20%20%20%20%20%20%20%20%20%20%20%3Cmeta%20name%3D%22viewport%22%20content%3D%22width%3Ddevice-width%2C%0A%20%20%20%20%20%20%20%20%20%20%20%20%20%20%20%20initial-scale%3D1.0%2C%20maximum-scale%3D1.0%2C%20user-scalable%3Dno%22%20/%3E%0A%20%20%20%20%20%20%20%20%20%20%20%20%3Cstyle%3E%0A%20%20%20%20%20%20%20%20%20%20%20%20%20%20%20%20%23map_c55a079cbca44c57a4163bc2fdb3e073%20%7B%0A%20%20%20%20%20%20%20%20%20%20%20%20%20%20%20%20%20%20%20%20position%3A%20relative%3B%0A%20%20%20%20%20%20%20%20%20%20%20%20%20%20%20%20%20%20%20%20width%3A%20100.0%25%3B%0A%20%20%20%20%20%20%20%20%20%20%20%20%20%20%20%20%20%20%20%20height%3A%20100.0%25%3B%0A%20%20%20%20%20%20%20%20%20%20%20%20%20%20%20%20%20%20%20%20left%3A%200.0%25%3B%0A%20%20%20%20%20%20%20%20%20%20%20%20%20%20%20%20%20%20%20%20top%3A%200.0%25%3B%0A%20%20%20%20%20%20%20%20%20%20%20%20%20%20%20%20%7D%0A%20%20%20%20%20%20%20%20%20%20%20%20%3C/style%3E%0A%20%20%20%20%20%20%20%20%0A%3C/head%3E%0A%3Cbody%3E%20%20%20%20%0A%20%20%20%20%0A%20%20%20%20%20%20%20%20%20%20%20%20%3Cdiv%20class%3D%22folium-map%22%20id%3D%22map_c55a079cbca44c57a4163bc2fdb3e073%22%20%3E%3C/div%3E%0A%20%20%20%20%20%20%20%20%0A%3C/body%3E%0A%3Cscript%3E%20%20%20%20%0A%20%20%20%20%0A%20%20%20%20%20%20%20%20%20%20%20%20var%20map_c55a079cbca44c57a4163bc2fdb3e073%20%3D%20L.map%28%0A%20%20%20%20%20%20%20%20%20%20%20%20%20%20%20%20%22map_c55a079cbca44c57a4163bc2fdb3e073%22%2C%0A%20%20%20%20%20%20%20%20%20%20%20%20%20%20%20%20%7B%0A%20%20%20%20%20%20%20%20%20%20%20%20%20%20%20%20%20%20%20%20center%3A%20%5B38.0%2C%20-93.0%5D%2C%0A%20%20%20%20%20%20%20%20%20%20%20%20%20%20%20%20%20%20%20%20crs%3A%20L.CRS.EPSG3857%2C%0A%20%20%20%20%20%20%20%20%20%20%20%20%20%20%20%20%20%20%20%20zoom%3A%204%2C%0A%20%20%20%20%20%20%20%20%20%20%20%20%20%20%20%20%20%20%20%20zoomControl%3A%20true%2C%0A%20%20%20%20%20%20%20%20%20%20%20%20%20%20%20%20%20%20%20%20preferCanvas%3A%20false%2C%0A%20%20%20%20%20%20%20%20%20%20%20%20%20%20%20%20%7D%0A%20%20%20%20%20%20%20%20%20%20%20%20%29%3B%0A%0A%20%20%20%20%20%20%20%20%20%20%20%20%0A%0A%20%20%20%20%20%20%20%20%0A%20%20%20%20%0A%20%20%20%20%20%20%20%20%20%20%20%20var%20tile_layer_f0072dff99854b57829510c7471a06ce%20%3D%20L.tileLayer%28%0A%20%20%20%20%20%20%20%20%20%20%20%20%20%20%20%20%22https%3A//%7Bs%7D.tile.openstreetmap.org/%7Bz%7D/%7Bx%7D/%7By%7D.png%22%2C%0A%20%20%20%20%20%20%20%20%20%20%20%20%20%20%20%20%7B%22attribution%22%3A%20%22Data%20by%20%5Cu0026copy%3B%20%5Cu003ca%20href%3D%5C%22http%3A//openstreetmap.org%5C%22%5Cu003eOpenStreetMap%5Cu003c/a%5Cu003e%2C%20under%20%5Cu003ca%20href%3D%5C%22http%3A//www.openstreetmap.org/copyright%5C%22%5Cu003eODbL%5Cu003c/a%5Cu003e.%22%2C%20%22detectRetina%22%3A%20false%2C%20%22maxNativeZoom%22%3A%2018%2C%20%22maxZoom%22%3A%2018%2C%20%22minZoom%22%3A%200%2C%20%22noWrap%22%3A%20false%2C%20%22opacity%22%3A%201%2C%20%22subdomains%22%3A%20%22abc%22%2C%20%22tms%22%3A%20false%7D%0A%20%20%20%20%20%20%20%20%20%20%20%20%29.addTo%28map_c55a079cbca44c57a4163bc2fdb3e073%29%3B%0A%20%20%20%20%20%20%20%20%0A%20%20%20%20%0A%20%20%20%20%20%20%20%20%20%20%20%20var%20circle_marker_29511759439a466ba77a09371a33bb4a%20%3D%20L.circleMarker%28%0A%20%20%20%20%20%20%20%20%20%20%20%20%20%20%20%20%5B36.095739%2C%20-115.171544%5D%2C%0A%20%20%20%20%20%20%20%20%20%20%20%20%20%20%20%20%7B%22bubblingMouseEvents%22%3A%20true%2C%20%22color%22%3A%20%22red%22%2C%20%22dashArray%22%3A%20null%2C%20%22dashOffset%22%3A%20null%2C%20%22fill%22%3A%20true%2C%20%22fillColor%22%3A%20%22red%22%2C%20%22fillOpacity%22%3A%200.2%2C%20%22fillRule%22%3A%20%22evenodd%22%2C%20%22lineCap%22%3A%20%22round%22%2C%20%22lineJoin%22%3A%20%22round%22%2C%20%22opacity%22%3A%201.0%2C%20%22radius%22%3A%208.265380740289235%2C%20%22stroke%22%3A%20true%2C%20%22weight%22%3A%202%7D%0A%20%20%20%20%20%20%20%20%20%20%20%20%29.addTo%28map_c55a079cbca44c57a4163bc2fdb3e073%29%3B%0A%20%20%20%20%20%20%20%20%0A%20%20%20%20%0A%20%20%20%20%20%20%20%20%20%20%20%20var%20circle_marker_8e7dcb9aa1a241d4a83f9dafad9a23b1%20%3D%20L.circleMarker%28%0A%20%20%20%20%20%20%20%20%20%20%20%20%20%20%20%20%5B28.519718%2C%20-81.376777%5D%2C%0A%20%20%20%20%20%20%20%20%20%20%20%20%20%20%20%20%7B%22bubblingMouseEvents%22%3A%20true%2C%20%22color%22%3A%20%22red%22%2C%20%22dashArray%22%3A%20null%2C%20%22dashOffset%22%3A%20null%2C%20%22fill%22%3A%20true%2C%20%22fillColor%22%3A%20%22red%22%2C%20%22fillOpacity%22%3A%200.2%2C%20%22fillRule%22%3A%20%22evenodd%22%2C%20%22lineCap%22%3A%20%22round%22%2C%20%22lineJoin%22%3A%20%22round%22%2C%20%22opacity%22%3A%201.0%2C%20%22radius%22%3A%2010.778363217781632%2C%20%22stroke%22%3A%20true%2C%20%22weight%22%3A%202%7D%0A%20%20%20%20%20%20%20%20%20%20%20%20%29.addTo%28map_c55a079cbca44c57a4163bc2fdb3e073%29%3B%0A%20%20%20%20%20%20%20%20%0A%20%20%20%20%0A%20%20%20%20%20%20%20%20%20%20%20%20var%20circle_marker_a4596451492f41e1a48d8a851ce331b1%20%3D%20L.circleMarker%28%0A%20%20%20%20%20%20%20%20%20%20%20%20%20%20%20%20%5B29.273282%2C%20-98.056488%5D%2C%0A%20%20%20%20%20%20%20%20%20%20%20%20%20%20%20%20%7B%22bubblingMouseEvents%22%3A%20true%2C%20%22color%22%3A%20%22red%22%2C%20%22dashArray%22%3A%20null%2C%20%22dashOffset%22%3A%20null%2C%20%22fill%22%3A%20true%2C%20%22fillColor%22%3A%20%22red%22%2C%20%22fillOpacity%22%3A%200.2%2C%20%22fillRule%22%3A%20%22evenodd%22%2C%20%22lineCap%22%3A%20%22round%22%2C%20%22lineJoin%22%3A%20%22round%22%2C%20%22opacity%22%3A%201.0%2C%20%22radius%22%3A%204.168222271544517%2C%20%22stroke%22%3A%20true%2C%20%22weight%22%3A%202%7D%0A%20%20%20%20%20%20%20%20%20%20%20%20%29.addTo%28map_c55a079cbca44c57a4163bc2fdb3e073%29%3B%0A%20%20%20%20%20%20%20%20%0A%20%20%20%20%0A%20%20%20%20%20%20%20%20%20%20%20%20var%20circle_marker_f9be797ef4a64f1bbea52331b54fb70f%20%3D%20L.circleMarker%28%0A%20%20%20%20%20%20%20%20%20%20%20%20%20%20%20%20%5B31.771068%2C%20-106.375655%5D%2C%0A%20%20%20%20%20%20%20%20%20%20%20%20%20%20%20%20%7B%22bubblingMouseEvents%22%3A%20true%2C%20%22color%22%3A%20%22red%22%2C%20%22dashArray%22%3A%20null%2C%20%22dashOffset%22%3A%20null%2C%20%22fill%22%3A%20true%2C%20%22fillColor%22%3A%20%22red%22%2C%20%22fillOpacity%22%3A%200.2%2C%20%22fillRule%22%3A%20%22evenodd%22%2C%20%22lineCap%22%3A%20%22round%22%2C%20%22lineJoin%22%3A%20%22round%22%2C%20%22opacity%22%3A%201.0%2C%20%22radius%22%3A%206.8620916053087955%2C%20%22stroke%22%3A%20true%2C%20%22weight%22%3A%202%7D%0A%20%20%20%20%20%20%20%20%20%20%20%20%29.addTo%28map_c55a079cbca44c57a4163bc2fdb3e073%29%3B%0A%20%20%20%20%20%20%20%20%0A%20%20%20%20%0A%20%20%20%20%20%20%20%20%20%20%20%20var%20circle_marker_3d24aa1ac41f4498b57803295de30660%20%3D%20L.circleMarker%28%0A%20%20%20%20%20%20%20%20%20%20%20%20%20%20%20%20%5B26.30483%2C%20-80.269511%5D%2C%0A%20%20%20%20%20%20%20%20%20%20%20%20%20%20%20%20%7B%22bubblingMouseEvents%22%3A%20true%2C%20%22color%22%3A%20%22red%22%2C%20%22dashArray%22%3A%20null%2C%20%22dashOffset%22%3A%20null%2C%20%22fill%22%3A%20true%2C%20%22fillColor%22%3A%20%22red%22%2C%20%22fillOpacity%22%3A%200.2%2C%20%22fillRule%22%3A%20%22evenodd%22%2C%20%22lineCap%22%3A%20%22round%22%2C%20%22lineJoin%22%3A%20%22round%22%2C%20%22opacity%22%3A%201.0%2C%20%22radius%22%3A%209.907126687732735%2C%20%22stroke%22%3A%20true%2C%20%22weight%22%3A%202%7D%0A%20%20%20%20%20%20%20%20%20%20%20%20%29.addTo%28map_c55a079cbca44c57a4163bc2fdb3e073%29%3B%0A%20%20%20%20%20%20%20%20%0A%20%20%20%20%0A%20%20%20%20%20%20%20%20%20%20%20%20var%20circle_marker_25400cda2447443b8c8b0f13467d3298%20%3D%20L.circleMarker%28%0A%20%20%20%20%20%20%20%20%20%20%20%20%20%20%20%20%5B34.075961%2C%20-117.27789%5D%2C%0A%20%20%20%20%20%20%20%20%20%20%20%20%20%20%20%20%7B%22bubblingMouseEvents%22%3A%20true%2C%20%22color%22%3A%20%22red%22%2C%20%22dashArray%22%3A%20null%2C%20%22dashOffset%22%3A%20null%2C%20%22fill%22%3A%20true%2C%20%22fillColor%22%3A%20%22red%22%2C%20%22fillOpacity%22%3A%200.2%2C%20%22fillRule%22%3A%20%22evenodd%22%2C%20%22lineCap%22%3A%20%22round%22%2C%20%22lineJoin%22%3A%20%22round%22%2C%20%22opacity%22%3A%201.0%2C%20%22radius%22%3A%203.9484709412941656%2C%20%22stroke%22%3A%20true%2C%20%22weight%22%3A%202%7D%0A%20%20%20%20%20%20%20%20%20%20%20%20%29.addTo%28map_c55a079cbca44c57a4163bc2fdb3e073%29%3B%0A%20%20%20%20%20%20%20%20%0A%20%20%20%20%0A%20%20%20%20%20%20%20%20%20%20%20%20var%20circle_marker_b42da357531b43c0be830f6d563e59f7%20%3D%20L.circleMarker%28%0A%20%20%20%20%20%20%20%20%20%20%20%20%20%20%20%20%5B36.75442%2C%20-76.060378%5D%2C%0A%20%20%20%20%20%20%20%20%20%20%20%20%20%20%20%20%7B%22bubblingMouseEvents%22%3A%20true%2C%20%22color%22%3A%20%22red%22%2C%20%22dashArray%22%3A%20null%2C%20%22dashOffset%22%3A%20null%2C%20%22fill%22%3A%20true%2C%20%22fillColor%22%3A%20%22red%22%2C%20%22fillOpacity%22%3A%200.2%2C%20%22fillRule%22%3A%20%22evenodd%22%2C%20%22lineCap%22%3A%20%22round%22%2C%20%22lineJoin%22%3A%20%22round%22%2C%20%22opacity%22%3A%201.0%2C%20%22radius%22%3A%202.997620050504858%2C%20%22stroke%22%3A%20true%2C%20%22weight%22%3A%202%7D%0A%20%20%20%20%20%20%20%20%20%20%20%20%29.addTo%28map_c55a079cbca44c57a4163bc2fdb3e073%29%3B%0A%20%20%20%20%20%20%20%20%0A%20%20%20%20%0A%20%20%20%20%20%20%20%20%20%20%20%20var%20circle_marker_619a30ab6b6a41319770f48785c705a4%20%3D%20L.circleMarker%28%0A%20%20%20%20%20%20%20%20%20%20%20%20%20%20%20%20%5B34.176946%2C%20-118.874793%5D%2C%0A%20%20%20%20%20%20%20%20%20%20%20%20%20%20%20%20%7B%22bubblingMouseEvents%22%3A%20true%2C%20%22color%22%3A%20%22red%22%2C%20%22dashArray%22%3A%20null%2C%20%22dashOffset%22%3A%20null%2C%20%22fill%22%3A%20true%2C%20%22fillColor%22%3A%20%22red%22%2C%20%22fillOpacity%22%3A%200.2%2C%20%22fillRule%22%3A%20%22evenodd%22%2C%20%22lineCap%22%3A%20%22round%22%2C%20%22lineJoin%22%3A%20%22round%22%2C%20%22opacity%22%3A%201.0%2C%20%22radius%22%3A%203.0266079066433376%2C%20%22stroke%22%3A%20true%2C%20%22weight%22%3A%202%7D%0A%20%20%20%20%20%20%20%20%20%20%20%20%29.addTo%28map_c55a079cbca44c57a4163bc2fdb3e073%29%3B%0A%20%20%20%20%20%20%20%20%0A%20%20%20%20%0A%20%20%20%20%20%20%20%20%20%20%20%20var%20circle_marker_520c2dd8812c430e9ad02e1ef52a0e65%20%3D%20L.circleMarker%28%0A%20%20%20%20%20%20%20%20%20%20%20%20%20%20%20%20%5B40.443898%2C%20-79.921398%5D%2C%0A%20%20%20%20%20%20%20%20%20%20%20%20%20%20%20%20%7B%22bubblingMouseEvents%22%3A%20true%2C%20%22color%22%3A%20%22red%22%2C%20%22dashArray%22%3A%20null%2C%20%22dashOffset%22%3A%20null%2C%20%22fill%22%3A%20true%2C%20%22fillColor%22%3A%20%22red%22%2C%20%22fillOpacity%22%3A%200.2%2C%20%22fillRule%22%3A%20%22evenodd%22%2C%20%22lineCap%22%3A%20%22round%22%2C%20%22lineJoin%22%3A%20%22round%22%2C%20%22opacity%22%3A%201.0%2C%20%22radius%22%3A%203.0280409806596476%2C%20%22stroke%22%3A%20true%2C%20%22weight%22%3A%202%7D%0A%20%20%20%20%20%20%20%20%20%20%20%20%29.addTo%28map_c55a079cbca44c57a4163bc2fdb3e073%29%3B%0A%20%20%20%20%20%20%20%20%0A%20%20%20%20%0A%20%20%20%20%20%20%20%20%20%20%20%20var%20circle_marker_a32fe302a070481ba571ae1688873268%20%3D%20L.circleMarker%28%0A%20%20%20%20%20%20%20%20%20%20%20%20%20%20%20%20%5B29.392825%2C%20-95.141972%5D%2C%0A%20%20%20%20%20%20%20%20%20%20%20%20%20%20%20%20%7B%22bubblingMouseEvents%22%3A%20true%2C%20%22color%22%3A%20%22red%22%2C%20%22dashArray%22%3A%20null%2C%20%22dashOffset%22%3A%20null%2C%20%22fill%22%3A%20true%2C%20%22fillColor%22%3A%20%22red%22%2C%20%22fillOpacity%22%3A%200.2%2C%20%22fillRule%22%3A%20%22evenodd%22%2C%20%22lineCap%22%3A%20%22round%22%2C%20%22lineJoin%22%3A%20%22round%22%2C%20%22opacity%22%3A%201.0%2C%20%22radius%22%3A%202.8031444561334506%2C%20%22stroke%22%3A%20true%2C%20%22weight%22%3A%202%7D%0A%20%20%20%20%20%20%20%20%20%20%20%20%29.addTo%28map_c55a079cbca44c57a4163bc2fdb3e073%29%3B%0A%20%20%20%20%20%20%20%20%0A%20%20%20%20%0A%20%20%20%20%20%20%20%20%20%20%20%20var%20circle_marker_1c573cc165d34f2f8c5835540f884aed%20%3D%20L.circleMarker%28%0A%20%20%20%20%20%20%20%20%20%20%20%20%20%20%20%20%5B43.289538%2C%20-123.333193%5D%2C%0A%20%20%20%20%20%20%20%20%20%20%20%20%20%20%20%20%7B%22bubblingMouseEvents%22%3A%20true%2C%20%22color%22%3A%20%22red%22%2C%20%22dashArray%22%3A%20null%2C%20%22dashOffset%22%3A%20null%2C%20%22fill%22%3A%20true%2C%20%22fillColor%22%3A%20%22red%22%2C%20%22fillOpacity%22%3A%200.2%2C%20%22fillRule%22%3A%20%22evenodd%22%2C%20%22lineCap%22%3A%20%22round%22%2C%20%22lineJoin%22%3A%20%22round%22%2C%20%22opacity%22%3A%201.0%2C%20%22radius%22%3A%204.3382061452175815%2C%20%22stroke%22%3A%20true%2C%20%22weight%22%3A%202%7D%0A%20%20%20%20%20%20%20%20%20%20%20%20%29.addTo%28map_c55a079cbca44c57a4163bc2fdb3e073%29%3B%0A%20%20%20%20%20%20%20%20%0A%20%20%20%20%0A%20%20%20%20%20%20%20%20%20%20%20%20var%20circle_marker_abf8ed951b6b49f89ff27ffba57bb619%20%3D%20L.circleMarker%28%0A%20%20%20%20%20%20%20%20%20%20%20%20%20%20%20%20%5B39.757312%2C%20-84.184947%5D%2C%0A%20%20%20%20%20%20%20%20%20%20%20%20%20%20%20%20%7B%22bubblingMouseEvents%22%3A%20true%2C%20%22color%22%3A%20%22red%22%2C%20%22dashArray%22%3A%20null%2C%20%22dashOffset%22%3A%20null%2C%20%22fill%22%3A%20true%2C%20%22fillColor%22%3A%20%22red%22%2C%20%22fillOpacity%22%3A%200.2%2C%20%22fillRule%22%3A%20%22evenodd%22%2C%20%22lineCap%22%3A%20%22round%22%2C%20%22lineJoin%22%3A%20%22round%22%2C%20%22opacity%22%3A%201.0%2C%20%22radius%22%3A%205.553667794331063%2C%20%22stroke%22%3A%20true%2C%20%22weight%22%3A%202%7D%0A%20%20%20%20%20%20%20%20%20%20%20%20%29.addTo%28map_c55a079cbca44c57a4163bc2fdb3e073%29%3B%0A%20%20%20%20%20%20%20%20%0A%20%20%20%20%0A%20%20%20%20%20%20%20%20%20%20%20%20var%20circle_marker_ed04496713764e388ec765031a301dbd%20%3D%20L.circleMarker%28%0A%20%20%20%20%20%20%20%20%20%20%20%20%20%20%20%20%5B32.788387%2C%20-79.933143%5D%2C%0A%20%20%20%20%20%20%20%20%20%20%20%20%20%20%20%20%7B%22bubblingMouseEvents%22%3A%20true%2C%20%22color%22%3A%20%22red%22%2C%20%22dashArray%22%3A%20null%2C%20%22dashOffset%22%3A%20null%2C%20%22fill%22%3A%20true%2C%20%22fillColor%22%3A%20%22red%22%2C%20%22fillOpacity%22%3A%200.2%2C%20%22fillRule%22%3A%20%22evenodd%22%2C%20%22lineCap%22%3A%20%22round%22%2C%20%22lineJoin%22%3A%20%22round%22%2C%20%22opacity%22%3A%201.0%2C%20%22radius%22%3A%204.4084080644798025%2C%20%22stroke%22%3A%20true%2C%20%22weight%22%3A%202%7D%0A%20%20%20%20%20%20%20%20%20%20%20%20%29.addTo%28map_c55a079cbca44c57a4163bc2fdb3e073%29%3B%0A%20%20%20%20%20%20%20%20%0A%20%20%20%20%0A%20%20%20%20%20%20%20%20%20%20%20%20var%20circle_marker_747fc31a5352483b827e6860087dfeba%20%3D%20L.circleMarker%28%0A%20%20%20%20%20%20%20%20%20%20%20%20%20%20%20%20%5B31.925974%2C%20-102.2796%5D%2C%0A%20%20%20%20%20%20%20%20%20%20%20%20%20%20%20%20%7B%22bubblingMouseEvents%22%3A%20true%2C%20%22color%22%3A%20%22red%22%2C%20%22dashArray%22%3A%20null%2C%20%22dashOffset%22%3A%20null%2C%20%22fill%22%3A%20true%2C%20%22fillColor%22%3A%20%22red%22%2C%20%22fillOpacity%22%3A%200.2%2C%20%22fillRule%22%3A%20%22evenodd%22%2C%20%22lineCap%22%3A%20%22round%22%2C%20%22lineJoin%22%3A%20%22round%22%2C%20%22opacity%22%3A%201.0%2C%20%22radius%22%3A%203.1649494175553805%2C%20%22stroke%22%3A%20true%2C%20%22weight%22%3A%202%7D%0A%20%20%20%20%20%20%20%20%20%20%20%20%29.addTo%28map_c55a079cbca44c57a4163bc2fdb3e073%29%3B%0A%20%20%20%20%20%20%20%20%0A%20%20%20%20%0A%20%20%20%20%20%20%20%20%20%20%20%20var%20circle_marker_8d76a58ccd36439187bf3959a7b72cb6%20%3D%20L.circleMarker%28%0A%20%20%20%20%20%20%20%20%20%20%20%20%20%20%20%20%5B42.236689%2C%20-85.674795%5D%2C%0A%20%20%20%20%20%20%20%20%20%20%20%20%20%20%20%20%7B%22bubblingMouseEvents%22%3A%20true%2C%20%22color%22%3A%20%22red%22%2C%20%22dashArray%22%3A%20null%2C%20%22dashOffset%22%3A%20null%2C%20%22fill%22%3A%20true%2C%20%22fillColor%22%3A%20%22red%22%2C%20%22fillOpacity%22%3A%200.2%2C%20%22fillRule%22%3A%20%22evenodd%22%2C%20%22lineCap%22%3A%20%22round%22%2C%20%22lineJoin%22%3A%20%22round%22%2C%20%22opacity%22%3A%201.0%2C%20%22radius%22%3A%201.462300591132922%2C%20%22stroke%22%3A%20true%2C%20%22weight%22%3A%202%7D%0A%20%20%20%20%20%20%20%20%20%20%20%20%29.addTo%28map_c55a079cbca44c57a4163bc2fdb3e073%29%3B%0A%20%20%20%20%20%20%20%20%0A%20%20%20%20%0A%20%20%20%20%20%20%20%20%20%20%20%20var%20circle_marker_3bfb3a8d8024434287d001ec3ebbd2c5%20%3D%20L.circleMarker%28%0A%20%20%20%20%20%20%20%20%20%20%20%20%20%20%20%20%5B43.044511%2C%20-87.962537%5D%2C%0A%20%20%20%20%20%20%20%20%20%20%20%20%20%20%20%20%7B%22bubblingMouseEvents%22%3A%20true%2C%20%22color%22%3A%20%22red%22%2C%20%22dashArray%22%3A%20null%2C%20%22dashOffset%22%3A%20null%2C%20%22fill%22%3A%20true%2C%20%22fillColor%22%3A%20%22red%22%2C%20%22fillOpacity%22%3A%200.2%2C%20%22fillRule%22%3A%20%22evenodd%22%2C%20%22lineCap%22%3A%20%22round%22%2C%20%22lineJoin%22%3A%20%22round%22%2C%20%22opacity%22%3A%201.0%2C%20%22radius%22%3A%201.0035337232645984%2C%20%22stroke%22%3A%20true%2C%20%22weight%22%3A%202%7D%0A%20%20%20%20%20%20%20%20%20%20%20%20%29.addTo%28map_c55a079cbca44c57a4163bc2fdb3e073%29%3B%0A%20%20%20%20%20%20%20%20%0A%20%20%20%20%0A%20%20%20%20%20%20%20%20%20%20%20%20var%20circle_marker_45214a1e50c649b6aead49ee9a21b3da%20%3D%20L.circleMarker%28%0A%20%20%20%20%20%20%20%20%20%20%20%20%20%20%20%20%5B28.580295%2C%20-81.294086%5D%2C%0A%20%20%20%20%20%20%20%20%20%20%20%20%20%20%20%20%7B%22bubblingMouseEvents%22%3A%20true%2C%20%22color%22%3A%20%22red%22%2C%20%22dashArray%22%3A%20null%2C%20%22dashOffset%22%3A%20null%2C%20%22fill%22%3A%20true%2C%20%22fillColor%22%3A%20%22red%22%2C%20%22fillOpacity%22%3A%200.2%2C%20%22fillRule%22%3A%20%22evenodd%22%2C%20%22lineCap%22%3A%20%22round%22%2C%20%22lineJoin%22%3A%20%22round%22%2C%20%22opacity%22%3A%201.0%2C%20%22radius%22%3A%201.8812323478075819%2C%20%22stroke%22%3A%20true%2C%20%22weight%22%3A%202%7D%0A%20%20%20%20%20%20%20%20%20%20%20%20%29.addTo%28map_c55a079cbca44c57a4163bc2fdb3e073%29%3B%0A%20%20%20%20%20%20%20%20%0A%20%20%20%20%0A%20%20%20%20%20%20%20%20%20%20%20%20var%20circle_marker_a693ed307b26483ebc49256947ff6124%20%3D%20L.circleMarker%28%0A%20%20%20%20%20%20%20%20%20%20%20%20%20%20%20%20%5B26.072751%2C%20-80.143382%5D%2C%0A%20%20%20%20%20%20%20%20%20%20%20%20%20%20%20%20%7B%22bubblingMouseEvents%22%3A%20true%2C%20%22color%22%3A%20%22red%22%2C%20%22dashArray%22%3A%20null%2C%20%22dashOffset%22%3A%20null%2C%20%22fill%22%3A%20true%2C%20%22fillColor%22%3A%20%22red%22%2C%20%22fillOpacity%22%3A%200.2%2C%20%22fillRule%22%3A%20%22evenodd%22%2C%20%22lineCap%22%3A%20%22round%22%2C%20%22lineJoin%22%3A%20%22round%22%2C%20%22opacity%22%3A%201.0%2C%20%22radius%22%3A%204.983291527602081%2C%20%22stroke%22%3A%20true%2C%20%22weight%22%3A%202%7D%0A%20%20%20%20%20%20%20%20%20%20%20%20%29.addTo%28map_c55a079cbca44c57a4163bc2fdb3e073%29%3B%0A%20%20%20%20%20%20%20%20%0A%20%20%20%20%0A%20%20%20%20%20%20%20%20%20%20%20%20var%20circle_marker_53a1fff9d2164b42a00c21b82c8d904b%20%3D%20L.circleMarker%28%0A%20%20%20%20%20%20%20%20%20%20%20%20%20%20%20%20%5B48.461367%2C%20-122.337918%5D%2C%0A%20%20%20%20%20%20%20%20%20%20%20%20%20%20%20%20%7B%22bubblingMouseEvents%22%3A%20true%2C%20%22color%22%3A%20%22red%22%2C%20%22dashArray%22%3A%20null%2C%20%22dashOffset%22%3A%20null%2C%20%22fill%22%3A%20true%2C%20%22fillColor%22%3A%20%22red%22%2C%20%22fillOpacity%22%3A%200.2%2C%20%22fillRule%22%3A%20%22evenodd%22%2C%20%22lineCap%22%3A%20%22round%22%2C%20%22lineJoin%22%3A%20%22round%22%2C%20%22opacity%22%3A%201.0%2C%20%22radius%22%3A%202.4194851859071065%2C%20%22stroke%22%3A%20true%2C%20%22weight%22%3A%202%7D%0A%20%20%20%20%20%20%20%20%20%20%20%20%29.addTo%28map_c55a079cbca44c57a4163bc2fdb3e073%29%3B%0A%20%20%20%20%20%20%20%20%0A%20%20%20%20%0A%20%20%20%20%20%20%20%20%20%20%20%20var%20circle_marker_72d8ed62b09f4f9b98944e1549ab5501%20%3D%20L.circleMarker%28%0A%20%20%20%20%20%20%20%20%20%20%20%20%20%20%20%20%5B32.7801052%2C%20-96.8000082%5D%2C%0A%20%20%20%20%20%20%20%20%20%20%20%20%20%20%20%20%7B%22bubblingMouseEvents%22%3A%20true%2C%20%22color%22%3A%20%22red%22%2C%20%22dashArray%22%3A%20null%2C%20%22dashOffset%22%3A%20null%2C%20%22fill%22%3A%20true%2C%20%22fillColor%22%3A%20%22red%22%2C%20%22fillOpacity%22%3A%200.2%2C%20%22fillRule%22%3A%20%22evenodd%22%2C%20%22lineCap%22%3A%20%22round%22%2C%20%22lineJoin%22%3A%20%22round%22%2C%20%22opacity%22%3A%201.0%2C%20%22radius%22%3A%201.7108447383111813%2C%20%22stroke%22%3A%20true%2C%20%22weight%22%3A%202%7D%0A%20%20%20%20%20%20%20%20%20%20%20%20%29.addTo%28map_c55a079cbca44c57a4163bc2fdb3e073%29%3B%0A%20%20%20%20%20%20%20%20%0A%20%20%20%20%0A%20%20%20%20%20%20%20%20%20%20%20%20var%20circle_marker_eb2ec9fe9f02477ab4e8e6c8f1687e2a%20%3D%20L.circleMarker%28%0A%20%20%20%20%20%20%20%20%20%20%20%20%20%20%20%20%5B38.994548%2C%20-76.543657%5D%2C%0A%20%20%20%20%20%20%20%20%20%20%20%20%20%20%20%20%7B%22bubblingMouseEvents%22%3A%20true%2C%20%22color%22%3A%20%22red%22%2C%20%22dashArray%22%3A%20null%2C%20%22dashOffset%22%3A%20null%2C%20%22fill%22%3A%20true%2C%20%22fillColor%22%3A%20%22red%22%2C%20%22fillOpacity%22%3A%200.2%2C%20%22fillRule%22%3A%20%22evenodd%22%2C%20%22lineCap%22%3A%20%22round%22%2C%20%22lineJoin%22%3A%20%22round%22%2C%20%22opacity%22%3A%201.0%2C%20%22radius%22%3A%201.9767115588632433%2C%20%22stroke%22%3A%20true%2C%20%22weight%22%3A%202%7D%0A%20%20%20%20%20%20%20%20%20%20%20%20%29.addTo%28map_c55a079cbca44c57a4163bc2fdb3e073%29%3B%0A%20%20%20%20%20%20%20%20%0A%20%20%20%20%0A%20%20%20%20%20%20%20%20%20%20%20%20var%20circle_marker_e5a0a5ac628b415cae4165ee72087138%20%3D%20L.circleMarker%28%0A%20%20%20%20%20%20%20%20%20%20%20%20%20%20%20%20%5B41.753725%2C%20-88.331057%5D%2C%0A%20%20%20%20%20%20%20%20%20%20%20%20%20%20%20%20%7B%22bubblingMouseEvents%22%3A%20true%2C%20%22color%22%3A%20%22red%22%2C%20%22dashArray%22%3A%20null%2C%20%22dashOffset%22%3A%20null%2C%20%22fill%22%3A%20true%2C%20%22fillColor%22%3A%20%22red%22%2C%20%22fillOpacity%22%3A%200.2%2C%20%22fillRule%22%3A%20%22evenodd%22%2C%20%22lineCap%22%3A%20%22round%22%2C%20%22lineJoin%22%3A%20%22round%22%2C%20%22opacity%22%3A%201.0%2C%20%22radius%22%3A%205.054247774562365%2C%20%22stroke%22%3A%20true%2C%20%22weight%22%3A%202%7D%0A%20%20%20%20%20%20%20%20%20%20%20%20%29.addTo%28map_c55a079cbca44c57a4163bc2fdb3e073%29%3B%0A%20%20%20%20%20%20%20%20%0A%20%20%20%20%0A%20%20%20%20%20%20%20%20%20%20%20%20var%20circle_marker_d9ce7d4129684a2092f3a0ff2fe218f4%20%3D%20L.circleMarker%28%0A%20%20%20%20%20%20%20%20%20%20%20%20%20%20%20%20%5B35.349388%2C%20-118.916335%5D%2C%0A%20%20%20%20%20%20%20%20%20%20%20%20%20%20%20%20%7B%22bubblingMouseEvents%22%3A%20true%2C%20%22color%22%3A%20%22red%22%2C%20%22dashArray%22%3A%20null%2C%20%22dashOffset%22%3A%20null%2C%20%22fill%22%3A%20true%2C%20%22fillColor%22%3A%20%22red%22%2C%20%22fillOpacity%22%3A%200.2%2C%20%22fillRule%22%3A%20%22evenodd%22%2C%20%22lineCap%22%3A%20%22round%22%2C%20%22lineJoin%22%3A%20%22round%22%2C%20%22opacity%22%3A%201.0%2C%20%22radius%22%3A%200.0461201703288273%2C%20%22stroke%22%3A%20true%2C%20%22weight%22%3A%202%7D%0A%20%20%20%20%20%20%20%20%20%20%20%20%29.addTo%28map_c55a079cbca44c57a4163bc2fdb3e073%29%3B%0A%20%20%20%20%20%20%20%20%0A%20%20%20%20%0A%20%20%20%20%20%20%20%20%20%20%20%20var%20circle_marker_a7f626f37da04ae88901b29101394ab5%20%3D%20L.circleMarker%28%0A%20%20%20%20%20%20%20%20%20%20%20%20%20%20%20%20%5B35.047157%2C%20-85.311819%5D%2C%0A%20%20%20%20%20%20%20%20%20%20%20%20%20%20%20%20%7B%22bubblingMouseEvents%22%3A%20true%2C%20%22color%22%3A%20%22red%22%2C%20%22dashArray%22%3A%20null%2C%20%22dashOffset%22%3A%20null%2C%20%22fill%22%3A%20true%2C%20%22fillColor%22%3A%20%22red%22%2C%20%22fillOpacity%22%3A%200.2%2C%20%22fillRule%22%3A%20%22evenodd%22%2C%20%22lineCap%22%3A%20%22round%22%2C%20%22lineJoin%22%3A%20%22round%22%2C%20%22opacity%22%3A%201.0%2C%20%22radius%22%3A%202.9699824725241015%2C%20%22stroke%22%3A%20true%2C%20%22weight%22%3A%202%7D%0A%20%20%20%20%20%20%20%20%20%20%20%20%29.addTo%28map_c55a079cbca44c57a4163bc2fdb3e073%29%3B%0A%20%20%20%20%20%20%20%20%0A%20%20%20%20%0A%20%20%20%20%20%20%20%20%20%20%20%20var%20circle_marker_2a04f2a737ba4b1c92d37e642abaca5f%20%3D%20L.circleMarker%28%0A%20%20%20%20%20%20%20%20%20%20%20%20%20%20%20%20%5B27.471043%2C%20-81.45847%5D%2C%0A%20%20%20%20%20%20%20%20%20%20%20%20%20%20%20%20%7B%22bubblingMouseEvents%22%3A%20true%2C%20%22color%22%3A%20%22red%22%2C%20%22dashArray%22%3A%20null%2C%20%22dashOffset%22%3A%20null%2C%20%22fill%22%3A%20true%2C%20%22fillColor%22%3A%20%22red%22%2C%20%22fillOpacity%22%3A%200.2%2C%20%22fillRule%22%3A%20%22evenodd%22%2C%20%22lineCap%22%3A%20%22round%22%2C%20%22lineJoin%22%3A%20%22round%22%2C%20%22opacity%22%3A%201.0%2C%20%22radius%22%3A%201.8397715194008708%2C%20%22stroke%22%3A%20true%2C%20%22weight%22%3A%202%7D%0A%20%20%20%20%20%20%20%20%20%20%20%20%29.addTo%28map_c55a079cbca44c57a4163bc2fdb3e073%29%3B%0A%20%20%20%20%20%20%20%20%0A%20%20%20%20%0A%20%20%20%20%20%20%20%20%20%20%20%20var%20circle_marker_31d6137ba7b64d0c91f4072359523fc4%20%3D%20L.circleMarker%28%0A%20%20%20%20%20%20%20%20%20%20%20%20%20%20%20%20%5B40.018759%2C%20-122.393089%5D%2C%0A%20%20%20%20%20%20%20%20%20%20%20%20%20%20%20%20%7B%22bubblingMouseEvents%22%3A%20true%2C%20%22color%22%3A%20%22red%22%2C%20%22dashArray%22%3A%20null%2C%20%22dashOffset%22%3A%20null%2C%20%22fill%22%3A%20true%2C%20%22fillColor%22%3A%20%22red%22%2C%20%22fillOpacity%22%3A%200.2%2C%20%22fillRule%22%3A%20%22evenodd%22%2C%20%22lineCap%22%3A%20%22round%22%2C%20%22lineJoin%22%3A%20%22round%22%2C%20%22opacity%22%3A%201.0%2C%20%22radius%22%3A%201.8653316041928636%2C%20%22stroke%22%3A%20true%2C%20%22weight%22%3A%202%7D%0A%20%20%20%20%20%20%20%20%20%20%20%20%29.addTo%28map_c55a079cbca44c57a4163bc2fdb3e073%29%3B%0A%20%20%20%20%20%20%20%20%0A%20%20%20%20%0A%20%20%20%20%20%20%20%20%20%20%20%20var%20circle_marker_64b8c85669d846049835f97fa7b93545%20%3D%20L.circleMarker%28%0A%20%20%20%20%20%20%20%20%20%20%20%20%20%20%20%20%5B37.210432%2C%20-93.23686%5D%2C%0A%20%20%20%20%20%20%20%20%20%20%20%20%20%20%20%20%7B%22bubblingMouseEvents%22%3A%20true%2C%20%22color%22%3A%20%22red%22%2C%20%22dashArray%22%3A%20null%2C%20%22dashOffset%22%3A%20null%2C%20%22fill%22%3A%20true%2C%20%22fillColor%22%3A%20%22red%22%2C%20%22fillOpacity%22%3A%200.2%2C%20%22fillRule%22%3A%20%22evenodd%22%2C%20%22lineCap%22%3A%20%22round%22%2C%20%22lineJoin%22%3A%20%22round%22%2C%20%22opacity%22%3A%201.0%2C%20%22radius%22%3A%201.874430057314667%2C%20%22stroke%22%3A%20true%2C%20%22weight%22%3A%202%7D%0A%20%20%20%20%20%20%20%20%20%20%20%20%29.addTo%28map_c55a079cbca44c57a4163bc2fdb3e073%29%3B%0A%20%20%20%20%20%20%20%20%0A%20%20%20%20%0A%20%20%20%20%20%20%20%20%20%20%20%20var%20circle_marker_1c6571e63e974eafbb9cac2fe327e880%20%3D%20L.circleMarker%28%0A%20%20%20%20%20%20%20%20%20%20%20%20%20%20%20%20%5B40.707363%2C%20-74.083609%5D%2C%0A%20%20%20%20%20%20%20%20%20%20%20%20%20%20%20%20%7B%22bubblingMouseEvents%22%3A%20true%2C%20%22color%22%3A%20%22red%22%2C%20%22dashArray%22%3A%20null%2C%20%22dashOffset%22%3A%20null%2C%20%22fill%22%3A%20true%2C%20%22fillColor%22%3A%20%22red%22%2C%20%22fillOpacity%22%3A%200.2%2C%20%22fillRule%22%3A%20%22evenodd%22%2C%20%22lineCap%22%3A%20%22round%22%2C%20%22lineJoin%22%3A%20%22round%22%2C%20%22opacity%22%3A%201.0%2C%20%22radius%22%3A%202.710726612457953%2C%20%22stroke%22%3A%20true%2C%20%22weight%22%3A%202%7D%0A%20%20%20%20%20%20%20%20%20%20%20%20%29.addTo%28map_c55a079cbca44c57a4163bc2fdb3e073%29%3B%0A%20%20%20%20%20%20%20%20%0A%20%20%20%20%0A%20%20%20%20%20%20%20%20%20%20%20%20var%20circle_marker_d54bc09ac32f40d28b6a85003311e69a%20%3D%20L.circleMarker%28%0A%20%20%20%20%20%20%20%20%20%20%20%20%20%20%20%20%5B40.052151%2C%20-79.389166%5D%2C%0A%20%20%20%20%20%20%20%20%20%20%20%20%20%20%20%20%7B%22bubblingMouseEvents%22%3A%20true%2C%20%22color%22%3A%20%22red%22%2C%20%22dashArray%22%3A%20null%2C%20%22dashOffset%22%3A%20null%2C%20%22fill%22%3A%20true%2C%20%22fillColor%22%3A%20%22red%22%2C%20%22fillOpacity%22%3A%200.2%2C%20%22fillRule%22%3A%20%22evenodd%22%2C%20%22lineCap%22%3A%20%22round%22%2C%20%22lineJoin%22%3A%20%22round%22%2C%20%22opacity%22%3A%201.0%2C%20%22radius%22%3A%201.6822515487383058%2C%20%22stroke%22%3A%20true%2C%20%22weight%22%3A%202%7D%0A%20%20%20%20%20%20%20%20%20%20%20%20%29.addTo%28map_c55a079cbca44c57a4163bc2fdb3e073%29%3B%0A%20%20%20%20%20%20%20%20%0A%20%20%20%20%0A%20%20%20%20%20%20%20%20%20%20%20%20var%20circle_marker_3ba629a9b25040eea2e5d737ddd13793%20%3D%20L.circleMarker%28%0A%20%20%20%20%20%20%20%20%20%20%20%20%20%20%20%20%5B36.052521%2C%20-86.616944%5D%2C%0A%20%20%20%20%20%20%20%20%20%20%20%20%20%20%20%20%7B%22bubblingMouseEvents%22%3A%20true%2C%20%22color%22%3A%20%22red%22%2C%20%22dashArray%22%3A%20null%2C%20%22dashOffset%22%3A%20null%2C%20%22fill%22%3A%20true%2C%20%22fillColor%22%3A%20%22red%22%2C%20%22fillOpacity%22%3A%200.2%2C%20%22fillRule%22%3A%20%22evenodd%22%2C%20%22lineCap%22%3A%20%22round%22%2C%20%22lineJoin%22%3A%20%22round%22%2C%20%22opacity%22%3A%201.0%2C%20%22radius%22%3A%201.2983960953751192%2C%20%22stroke%22%3A%20true%2C%20%22weight%22%3A%202%7D%0A%20%20%20%20%20%20%20%20%20%20%20%20%29.addTo%28map_c55a079cbca44c57a4163bc2fdb3e073%29%3B%0A%20%20%20%20%20%20%20%20%0A%20%20%20%20%0A%20%20%20%20%20%20%20%20%20%20%20%20var%20circle_marker_c49e8219ff604eb286a2366d77c86f89%20%3D%20L.circleMarker%28%0A%20%20%20%20%20%20%20%20%20%20%20%20%20%20%20%20%5B39.452189%2C%20-76.309988%5D%2C%0A%20%20%20%20%20%20%20%20%20%20%20%20%20%20%20%20%7B%22bubblingMouseEvents%22%3A%20true%2C%20%22color%22%3A%20%22red%22%2C%20%22dashArray%22%3A%20null%2C%20%22dashOffset%22%3A%20null%2C%20%22fill%22%3A%20true%2C%20%22fillColor%22%3A%20%22red%22%2C%20%22fillOpacity%22%3A%200.2%2C%20%22fillRule%22%3A%20%22evenodd%22%2C%20%22lineCap%22%3A%20%22round%22%2C%20%22lineJoin%22%3A%20%22round%22%2C%20%22opacity%22%3A%201.0%2C%20%22radius%22%3A%201.9917566394890234%2C%20%22stroke%22%3A%20true%2C%20%22weight%22%3A%202%7D%0A%20%20%20%20%20%20%20%20%20%20%20%20%29.addTo%28map_c55a079cbca44c57a4163bc2fdb3e073%29%3B%0A%20%20%20%20%20%20%20%20%0A%20%20%20%20%0A%20%20%20%20%20%20%20%20%20%20%20%20var%20circle_marker_bd0a1b1ff5a74b018cecb626634f1a10%20%3D%20L.circleMarker%28%0A%20%20%20%20%20%20%20%20%20%20%20%20%20%20%20%20%5B38.135992%2C%20-97.425145%5D%2C%0A%20%20%20%20%20%20%20%20%20%20%20%20%20%20%20%20%7B%22bubblingMouseEvents%22%3A%20true%2C%20%22color%22%3A%20%22red%22%2C%20%22dashArray%22%3A%20null%2C%20%22dashOffset%22%3A%20null%2C%20%22fill%22%3A%20true%2C%20%22fillColor%22%3A%20%22red%22%2C%20%22fillOpacity%22%3A%200.2%2C%20%22fillRule%22%3A%20%22evenodd%22%2C%20%22lineCap%22%3A%20%22round%22%2C%20%22lineJoin%22%3A%20%22round%22%2C%20%22opacity%22%3A%201.0%2C%20%22radius%22%3A%203.163129434729436%2C%20%22stroke%22%3A%20true%2C%20%22weight%22%3A%202%7D%0A%20%20%20%20%20%20%20%20%20%20%20%20%29.addTo%28map_c55a079cbca44c57a4163bc2fdb3e073%29%3B%0A%20%20%20%20%20%20%20%20%0A%20%20%20%20%0A%20%20%20%20%20%20%20%20%20%20%20%20var%20circle_marker_52d5a539a8d042678becad5e23b827ac%20%3D%20L.circleMarker%28%0A%20%20%20%20%20%20%20%20%20%20%20%20%20%20%20%20%5B30.364707%2C%20-87.288567%5D%2C%0A%20%20%20%20%20%20%20%20%20%20%20%20%20%20%20%20%7B%22bubblingMouseEvents%22%3A%20true%2C%20%22color%22%3A%20%22red%22%2C%20%22dashArray%22%3A%20null%2C%20%22dashOffset%22%3A%20null%2C%20%22fill%22%3A%20true%2C%20%22fillColor%22%3A%20%22red%22%2C%20%22fillOpacity%22%3A%200.2%2C%20%22fillRule%22%3A%20%22evenodd%22%2C%20%22lineCap%22%3A%20%22round%22%2C%20%22lineJoin%22%3A%20%22round%22%2C%20%22opacity%22%3A%201.0%2C%20%22radius%22%3A%202.9923115019669737%2C%20%22stroke%22%3A%20true%2C%20%22weight%22%3A%202%7D%0A%20%20%20%20%20%20%20%20%20%20%20%20%29.addTo%28map_c55a079cbca44c57a4163bc2fdb3e073%29%3B%0A%20%20%20%20%20%20%20%20%0A%20%20%20%20%0A%20%20%20%20%20%20%20%20%20%20%20%20var%20circle_marker_f807de3abfeb4a91bf0767d288dc169e%20%3D%20L.circleMarker%28%0A%20%20%20%20%20%20%20%20%20%20%20%20%20%20%20%20%5B36.997191%2C%20-121.584819%5D%2C%0A%20%20%20%20%20%20%20%20%20%20%20%20%20%20%20%20%7B%22bubblingMouseEvents%22%3A%20true%2C%20%22color%22%3A%20%22red%22%2C%20%22dashArray%22%3A%20null%2C%20%22dashOffset%22%3A%20null%2C%20%22fill%22%3A%20true%2C%20%22fillColor%22%3A%20%22red%22%2C%20%22fillOpacity%22%3A%200.2%2C%20%22fillRule%22%3A%20%22evenodd%22%2C%20%22lineCap%22%3A%20%22round%22%2C%20%22lineJoin%22%3A%20%22round%22%2C%20%22opacity%22%3A%201.0%2C%20%22radius%22%3A%201.003554600300395%2C%20%22stroke%22%3A%20true%2C%20%22weight%22%3A%202%7D%0A%20%20%20%20%20%20%20%20%20%20%20%20%29.addTo%28map_c55a079cbca44c57a4163bc2fdb3e073%29%3B%0A%20%20%20%20%20%20%20%20%0A%20%20%20%20%0A%20%20%20%20%20%20%20%20%20%20%20%20var%20circle_marker_cd3603f4802a4bd1afe5f47189439d5c%20%3D%20L.circleMarker%28%0A%20%20%20%20%20%20%20%20%20%20%20%20%20%20%20%20%5B38.83755%2C%20-104.814251%5D%2C%0A%20%20%20%20%20%20%20%20%20%20%20%20%20%20%20%20%7B%22bubblingMouseEvents%22%3A%20true%2C%20%22color%22%3A%20%22red%22%2C%20%22dashArray%22%3A%20null%2C%20%22dashOffset%22%3A%20null%2C%20%22fill%22%3A%20true%2C%20%22fillColor%22%3A%20%22red%22%2C%20%22fillOpacity%22%3A%200.2%2C%20%22fillRule%22%3A%20%22evenodd%22%2C%20%22lineCap%22%3A%20%22round%22%2C%20%22lineJoin%22%3A%20%22round%22%2C%20%22opacity%22%3A%201.0%2C%20%22radius%22%3A%203.109919349849778%2C%20%22stroke%22%3A%20true%2C%20%22weight%22%3A%202%7D%0A%20%20%20%20%20%20%20%20%20%20%20%20%29.addTo%28map_c55a079cbca44c57a4163bc2fdb3e073%29%3B%0A%20%20%20%20%20%20%20%20%0A%20%20%20%20%0A%20%20%20%20%20%20%20%20%20%20%20%20var%20circle_marker_0df62ad1bd034a629a57f8aa3375213e%20%3D%20L.circleMarker%28%0A%20%20%20%20%20%20%20%20%20%20%20%20%20%20%20%20%5B38.881031%2C%20-104.849057%5D%2C%0A%20%20%20%20%20%20%20%20%20%20%20%20%20%20%20%20%7B%22bubblingMouseEvents%22%3A%20true%2C%20%22color%22%3A%20%22red%22%2C%20%22dashArray%22%3A%20null%2C%20%22dashOffset%22%3A%20null%2C%20%22fill%22%3A%20true%2C%20%22fillColor%22%3A%20%22red%22%2C%20%22fillOpacity%22%3A%200.2%2C%20%22fillRule%22%3A%20%22evenodd%22%2C%20%22lineCap%22%3A%20%22round%22%2C%20%22lineJoin%22%3A%20%22round%22%2C%20%22opacity%22%3A%201.0%2C%20%22radius%22%3A%201.7409556835684776%2C%20%22stroke%22%3A%20true%2C%20%22weight%22%3A%202%7D%0A%20%20%20%20%20%20%20%20%20%20%20%20%29.addTo%28map_c55a079cbca44c57a4163bc2fdb3e073%29%3B%0A%20%20%20%20%20%20%20%20%0A%20%20%20%20%0A%20%20%20%20%20%20%20%20%20%20%20%20var%20circle_marker_fbf34bf10454482eb38382226f24807d%20%3D%20L.circleMarker%28%0A%20%20%20%20%20%20%20%20%20%20%20%20%20%20%20%20%5B40.785142%2C%20-77.839411%5D%2C%0A%20%20%20%20%20%20%20%20%20%20%20%20%20%20%20%20%7B%22bubblingMouseEvents%22%3A%20true%2C%20%22color%22%3A%20%22red%22%2C%20%22dashArray%22%3A%20null%2C%20%22dashOffset%22%3A%20null%2C%20%22fill%22%3A%20true%2C%20%22fillColor%22%3A%20%22red%22%2C%20%22fillOpacity%22%3A%200.2%2C%20%22fillRule%22%3A%20%22evenodd%22%2C%20%22lineCap%22%3A%20%22round%22%2C%20%22lineJoin%22%3A%20%22round%22%2C%20%22opacity%22%3A%201.0%2C%20%22radius%22%3A%201.366798416897395%2C%20%22stroke%22%3A%20true%2C%20%22weight%22%3A%202%7D%0A%20%20%20%20%20%20%20%20%20%20%20%20%29.addTo%28map_c55a079cbca44c57a4163bc2fdb3e073%29%3B%0A%20%20%20%20%20%20%20%20%0A%20%20%20%20%0A%20%20%20%20%20%20%20%20%20%20%20%20var%20circle_marker_9c53a8985e6b4f129abd8154ab59c305%20%3D%20L.circleMarker%28%0A%20%20%20%20%20%20%20%20%20%20%20%20%20%20%20%20%5B41.847667%2C%20-87.622009%5D%2C%0A%20%20%20%20%20%20%20%20%20%20%20%20%20%20%20%20%7B%22bubblingMouseEvents%22%3A%20true%2C%20%22color%22%3A%20%22red%22%2C%20%22dashArray%22%3A%20null%2C%20%22dashOffset%22%3A%20null%2C%20%22fill%22%3A%20true%2C%20%22fillColor%22%3A%20%22red%22%2C%20%22fillOpacity%22%3A%200.2%2C%20%22fillRule%22%3A%20%22evenodd%22%2C%20%22lineCap%22%3A%20%22round%22%2C%20%22lineJoin%22%3A%20%22round%22%2C%20%22opacity%22%3A%201.0%2C%20%22radius%22%3A%205.301434613258433%2C%20%22stroke%22%3A%20true%2C%20%22weight%22%3A%202%7D%0A%20%20%20%20%20%20%20%20%20%20%20%20%29.addTo%28map_c55a079cbca44c57a4163bc2fdb3e073%29%3B%0A%20%20%20%20%20%20%20%20%0A%20%20%20%20%0A%20%20%20%20%20%20%20%20%20%20%20%20var%20circle_marker_9f380bc0a1b9471c9205c8e0d2e3e4f8%20%3D%20L.circleMarker%28%0A%20%20%20%20%20%20%20%20%20%20%20%20%20%20%20%20%5B39.101981%2C%20-84.511782%5D%2C%0A%20%20%20%20%20%20%20%20%20%20%20%20%20%20%20%20%7B%22bubblingMouseEvents%22%3A%20true%2C%20%22color%22%3A%20%22red%22%2C%20%22dashArray%22%3A%20null%2C%20%22dashOffset%22%3A%20null%2C%20%22fill%22%3A%20true%2C%20%22fillColor%22%3A%20%22red%22%2C%20%22fillOpacity%22%3A%200.2%2C%20%22fillRule%22%3A%20%22evenodd%22%2C%20%22lineCap%22%3A%20%22round%22%2C%20%22lineJoin%22%3A%20%22round%22%2C%20%22opacity%22%3A%201.0%2C%20%22radius%22%3A%201.8646473044064154%2C%20%22stroke%22%3A%20true%2C%20%22weight%22%3A%202%7D%0A%20%20%20%20%20%20%20%20%20%20%20%20%29.addTo%28map_c55a079cbca44c57a4163bc2fdb3e073%29%3B%0A%20%20%20%20%20%20%20%20%0A%20%20%20%20%0A%20%20%20%20%20%20%20%20%20%20%20%20var%20circle_marker_71fe00e7d3b940e79ca4a6075ce71949%20%3D%20L.circleMarker%28%0A%20%20%20%20%20%20%20%20%20%20%20%20%20%20%20%20%5B39.455658%2C%20-76.208485%5D%2C%0A%20%20%20%20%20%20%20%20%20%20%20%20%20%20%20%20%7B%22bubblingMouseEvents%22%3A%20true%2C%20%22color%22%3A%20%22red%22%2C%20%22dashArray%22%3A%20null%2C%20%22dashOffset%22%3A%20null%2C%20%22fill%22%3A%20true%2C%20%22fillColor%22%3A%20%22red%22%2C%20%22fillOpacity%22%3A%200.2%2C%20%22fillRule%22%3A%20%22evenodd%22%2C%20%22lineCap%22%3A%20%22round%22%2C%20%22lineJoin%22%3A%20%22round%22%2C%20%22opacity%22%3A%201.0%2C%20%22radius%22%3A%201.751774402171847%2C%20%22stroke%22%3A%20true%2C%20%22weight%22%3A%202%7D%0A%20%20%20%20%20%20%20%20%20%20%20%20%29.addTo%28map_c55a079cbca44c57a4163bc2fdb3e073%29%3B%0A%20%20%20%20%20%20%20%20%0A%20%20%20%20%0A%20%20%20%20%20%20%20%20%20%20%20%20var%20circle_marker_735cd8d6c3184a4ba4651e59f6ccac7d%20%3D%20L.circleMarker%28%0A%20%20%20%20%20%20%20%20%20%20%20%20%20%20%20%20%5B39.876374%2C%20-104.986132%5D%2C%0A%20%20%20%20%20%20%20%20%20%20%20%20%20%20%20%20%7B%22bubblingMouseEvents%22%3A%20true%2C%20%22color%22%3A%20%22red%22%2C%20%22dashArray%22%3A%20null%2C%20%22dashOffset%22%3A%20null%2C%20%22fill%22%3A%20true%2C%20%22fillColor%22%3A%20%22red%22%2C%20%22fillOpacity%22%3A%200.2%2C%20%22fillRule%22%3A%20%22evenodd%22%2C%20%22lineCap%22%3A%20%22round%22%2C%20%22lineJoin%22%3A%20%22round%22%2C%20%22opacity%22%3A%201.0%2C%20%22radius%22%3A%201.7879490256344894%2C%20%22stroke%22%3A%20true%2C%20%22weight%22%3A%202%7D%0A%20%20%20%20%20%20%20%20%20%20%20%20%29.addTo%28map_c55a079cbca44c57a4163bc2fdb3e073%29%3B%0A%20%20%20%20%20%20%20%20%0A%20%20%20%20%0A%20%20%20%20%20%20%20%20%20%20%20%20var%20circle_marker_d246ff479063491da960874f829555a7%20%3D%20L.circleMarker%28%0A%20%20%20%20%20%20%20%20%20%20%20%20%20%20%20%20%5B30.433601%2C%20-91.081403%5D%2C%0A%20%20%20%20%20%20%20%20%20%20%20%20%20%20%20%20%7B%22bubblingMouseEvents%22%3A%20true%2C%20%22color%22%3A%20%22red%22%2C%20%22dashArray%22%3A%20null%2C%20%22dashOffset%22%3A%20null%2C%20%22fill%22%3A%20true%2C%20%22fillColor%22%3A%20%22red%22%2C%20%22fillOpacity%22%3A%200.2%2C%20%22fillRule%22%3A%20%22evenodd%22%2C%20%22lineCap%22%3A%20%22round%22%2C%20%22lineJoin%22%3A%20%22round%22%2C%20%22opacity%22%3A%201.0%2C%20%22radius%22%3A%201.7556448489784047%2C%20%22stroke%22%3A%20true%2C%20%22weight%22%3A%202%7D%0A%20%20%20%20%20%20%20%20%20%20%20%20%29.addTo%28map_c55a079cbca44c57a4163bc2fdb3e073%29%3B%0A%20%20%20%20%20%20%20%20%0A%20%20%20%20%0A%20%20%20%20%20%20%20%20%20%20%20%20var%20circle_marker_6cb066edea5e424d9baded8fa2e740b9%20%3D%20L.circleMarker%28%0A%20%20%20%20%20%20%20%20%20%20%20%20%20%20%20%20%5B38.392496%2C%20-122.366528%5D%2C%0A%20%20%20%20%20%20%20%20%20%20%20%20%20%20%20%20%7B%22bubblingMouseEvents%22%3A%20true%2C%20%22color%22%3A%20%22red%22%2C%20%22dashArray%22%3A%20null%2C%20%22dashOffset%22%3A%20null%2C%20%22fill%22%3A%20true%2C%20%22fillColor%22%3A%20%22red%22%2C%20%22fillOpacity%22%3A%200.2%2C%20%22fillRule%22%3A%20%22evenodd%22%2C%20%22lineCap%22%3A%20%22round%22%2C%20%22lineJoin%22%3A%20%22round%22%2C%20%22opacity%22%3A%201.0%2C%20%22radius%22%3A%2012.0%2C%20%22stroke%22%3A%20true%2C%20%22weight%22%3A%202%7D%0A%20%20%20%20%20%20%20%20%20%20%20%20%29.addTo%28map_c55a079cbca44c57a4163bc2fdb3e073%29%3B%0A%20%20%20%20%20%20%20%20%0A%20%20%20%20%0A%20%20%20%20%20%20%20%20%20%20%20%20var%20circle_marker_da22783e801148bd8a699397137fb644%20%3D%20L.circleMarker%28%0A%20%20%20%20%20%20%20%20%20%20%20%20%20%20%20%20%5B36.746378%2C%20-119.800319%5D%2C%0A%20%20%20%20%20%20%20%20%20%20%20%20%20%20%20%20%7B%22bubblingMouseEvents%22%3A%20true%2C%20%22color%22%3A%20%22red%22%2C%20%22dashArray%22%3A%20null%2C%20%22dashOffset%22%3A%20null%2C%20%22fill%22%3A%20true%2C%20%22fillColor%22%3A%20%22red%22%2C%20%22fillOpacity%22%3A%200.2%2C%20%22fillRule%22%3A%20%22evenodd%22%2C%20%22lineCap%22%3A%20%22round%22%2C%20%22lineJoin%22%3A%20%22round%22%2C%20%22opacity%22%3A%201.0%2C%20%22radius%22%3A%2011.310584351992453%2C%20%22stroke%22%3A%20true%2C%20%22weight%22%3A%202%7D%0A%20%20%20%20%20%20%20%20%20%20%20%20%29.addTo%28map_c55a079cbca44c57a4163bc2fdb3e073%29%3B%0A%20%20%20%20%20%20%20%20%0A%20%20%20%20%0A%20%20%20%20%20%20%20%20%20%20%20%20var%20circle_marker_f55d4e00501743e9ab2c8d99e94b2039%20%3D%20L.circleMarker%28%0A%20%20%20%20%20%20%20%20%20%20%20%20%20%20%20%20%5B39.959034%2C%20-82.596508%5D%2C%0A%20%20%20%20%20%20%20%20%20%20%20%20%20%20%20%20%7B%22bubblingMouseEvents%22%3A%20true%2C%20%22color%22%3A%20%22red%22%2C%20%22dashArray%22%3A%20null%2C%20%22dashOffset%22%3A%20null%2C%20%22fill%22%3A%20true%2C%20%22fillColor%22%3A%20%22red%22%2C%20%22fillOpacity%22%3A%200.2%2C%20%22fillRule%22%3A%20%22evenodd%22%2C%20%22lineCap%22%3A%20%22round%22%2C%20%22lineJoin%22%3A%20%22round%22%2C%20%22opacity%22%3A%201.0%2C%20%22radius%22%3A%201.705533160713594%2C%20%22stroke%22%3A%20true%2C%20%22weight%22%3A%202%7D%0A%20%20%20%20%20%20%20%20%20%20%20%20%29.addTo%28map_c55a079cbca44c57a4163bc2fdb3e073%29%3B%0A%20%20%20%20%20%20%20%20%0A%20%20%20%20%0A%20%20%20%20%20%20%20%20%20%20%20%20var%20circle_marker_f20f7469f1c04e0296eac6b5f0e8218f%20%3D%20L.circleMarker%28%0A%20%20%20%20%20%20%20%20%20%20%20%20%20%20%20%20%5B41.529546%2C%20-75.94722%5D%2C%0A%20%20%20%20%20%20%20%20%20%20%20%20%20%20%20%20%7B%22bubblingMouseEvents%22%3A%20true%2C%20%22color%22%3A%20%22red%22%2C%20%22dashArray%22%3A%20null%2C%20%22dashOffset%22%3A%20null%2C%20%22fill%22%3A%20true%2C%20%22fillColor%22%3A%20%22red%22%2C%20%22fillOpacity%22%3A%200.2%2C%20%22fillRule%22%3A%20%22evenodd%22%2C%20%22lineCap%22%3A%20%22round%22%2C%20%22lineJoin%22%3A%20%22round%22%2C%20%22opacity%22%3A%201.0%2C%20%22stroke%22%3A%20true%2C%20%22weight%22%3A%202%7D%0A%20%20%20%20%20%20%20%20%20%20%20%20%29.addTo%28map_c55a079cbca44c57a4163bc2fdb3e073%29%3B%0A%20%20%20%20%20%20%20%20%0A%20%20%20%20%0A%20%20%20%20%20%20%20%20%20%20%20%20var%20circle_marker_4c0618e66e1c4998a67898cde36884dd%20%3D%20L.circleMarker%28%0A%20%20%20%20%20%20%20%20%20%20%20%20%20%20%20%20%5B37.765947%2C%20-122.406087%5D%2C%0A%20%20%20%20%20%20%20%20%20%20%20%20%20%20%20%20%7B%22bubblingMouseEvents%22%3A%20true%2C%20%22color%22%3A%20%22red%22%2C%20%22dashArray%22%3A%20null%2C%20%22dashOffset%22%3A%20null%2C%20%22fill%22%3A%20true%2C%20%22fillColor%22%3A%20%22red%22%2C%20%22fillOpacity%22%3A%200.2%2C%20%22fillRule%22%3A%20%22evenodd%22%2C%20%22lineCap%22%3A%20%22round%22%2C%20%22lineJoin%22%3A%20%22round%22%2C%20%22opacity%22%3A%201.0%2C%20%22radius%22%3A%201.9203607208881632%2C%20%22stroke%22%3A%20true%2C%20%22weight%22%3A%202%7D%0A%20%20%20%20%20%20%20%20%20%20%20%20%29.addTo%28map_c55a079cbca44c57a4163bc2fdb3e073%29%3B%0A%20%20%20%20%20%20%20%20%0A%20%20%20%20%0A%20%20%20%20%20%20%20%20%20%20%20%20var%20circle_marker_5d92ce9d50ff4fbeb288acabfd92f913%20%3D%20L.circleMarker%28%0A%20%20%20%20%20%20%20%20%20%20%20%20%20%20%20%20%5B44.204124%2C%20-88.467541%5D%2C%0A%20%20%20%20%20%20%20%20%20%20%20%20%20%20%20%20%7B%22bubblingMouseEvents%22%3A%20true%2C%20%22color%22%3A%20%22red%22%2C%20%22dashArray%22%3A%20null%2C%20%22dashOffset%22%3A%20null%2C%20%22fill%22%3A%20true%2C%20%22fillColor%22%3A%20%22red%22%2C%20%22fillOpacity%22%3A%200.2%2C%20%22fillRule%22%3A%20%22evenodd%22%2C%20%22lineCap%22%3A%20%22round%22%2C%20%22lineJoin%22%3A%20%22round%22%2C%20%22opacity%22%3A%201.0%2C%20%22radius%22%3A%206.867061220415128%2C%20%22stroke%22%3A%20true%2C%20%22weight%22%3A%202%7D%0A%20%20%20%20%20%20%20%20%20%20%20%20%29.addTo%28map_c55a079cbca44c57a4163bc2fdb3e073%29%3B%0A%20%20%20%20%20%20%20%20%0A%3C/script%3E onload=\"this.contentDocument.open();this.contentDocument.write(    decodeURIComponent(this.getAttribute('data-html')));this.contentDocument.close();\" allowfullscreen webkitallowfullscreen mozallowfullscreen></iframe></div></div>"
      ],
      "text/plain": [
       "<folium.folium.Map at 0x2ac38d190>"
      ]
     },
     "execution_count": 130,
     "metadata": {},
     "output_type": "execute_result"
    }
   ],
   "source": [
    "# Now let's make it interactive using Folium maps\n",
    "import folium\n",
    "m = folium.Map(location=[38,-93], zoom_start=4)#, tiles='Mapbox Control Room')\n",
    "\n",
    "# Create a column called 'coord' that stores the coordinstes in a list form\n",
    "geo_df['coord'] = geo_df[['latitude', 'longitude']].values.tolist()\n",
    "\n",
    "# Plot all points (i.e. all shootings)\n",
    "for i in range(len(geo_df)):\n",
    "    folium.CircleMarker(location=geo_df.coord.iloc[i], \n",
    "                        radius=geo_df.reaction_score.values[i]*12, \n",
    "                        weight=2,\n",
    "                        color = 'red',\n",
    "                        fill_color='red').add_to(m)\n",
    "\n",
    "m"
   ]
  },
  {
   "cell_type": "code",
   "execution_count": null,
   "id": "d476f285-0b86-4e20-b6ae-c5c3e56dc3b1",
   "metadata": {},
   "outputs": [],
   "source": []
  },
  {
   "cell_type": "code",
   "execution_count": 33,
   "id": "7e4867a7-96ba-403a-9926-ee03d6b49177",
   "metadata": {},
   "outputs": [],
   "source": [
    "#import hvplot.pandas\n",
    "#\n",
    "#states_plot = states.hvplot(color=\"white\", width=300,height=150, title=\"Mass shootings in the US\")\n",
    "#\n",
    "#shoots =  geo_df.hvplot.points('geometry', color='red', alpha=0.2)\n",
    "#\n",
    "##states_plot * shoots\n",
    "#states_plot"
   ]
  },
  {
   "cell_type": "code",
   "execution_count": null,
   "id": "795f3578-beb4-49c0-9fb0-1ce06ce1f489",
   "metadata": {},
   "outputs": [],
   "source": []
  }
 ],
 "metadata": {
  "kernelspec": {
   "display_name": "Python 3 (ipykernel)",
   "language": "python",
   "name": "python3"
  },
  "language_info": {
   "codemirror_mode": {
    "name": "ipython",
    "version": 3
   },
   "file_extension": ".py",
   "mimetype": "text/x-python",
   "name": "python",
   "nbconvert_exporter": "python",
   "pygments_lexer": "ipython3",
   "version": "3.8.11"
  }
 },
 "nbformat": 4,
 "nbformat_minor": 5
}
