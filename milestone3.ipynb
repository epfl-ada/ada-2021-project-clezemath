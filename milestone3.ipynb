{
 "cells": [
  {
   "cell_type": "markdown",
   "id": "df635a56-60a1-42ea-bc09-47d719b5ef84",
   "metadata": {
    "tags": []
   },
   "source": [
    "# Project Milestone 3\n",
    "## Project title: \"Firearms debate in the USA and its relation to mass shootings\""
   ]
  },
  {
   "cell_type": "markdown",
   "id": "816cbcf5-99ac-4aef-a396-62adbb18763d",
   "metadata": {},
   "source": [
    "Students: Thomas **Defauw**, Margaux **L'Eplattenier**, Clément **Rio**, Zewei **Xu**<br>\n",
    "Due date: December 17, 2021"
   ]
  },
  {
   "cell_type": "code",
   "execution_count": 1,
   "id": "76783165-3d1d-4ab3-b73d-2d8a416dfe9f",
   "metadata": {},
   "outputs": [],
   "source": [
    "#Import usefull libraries\n",
    "import pandas as pd\n",
    "import numpy as np\n",
    "import matplotlib.pyplot as plt\n",
    "%matplotlib inline\n",
    "import seaborn as sns\n",
    "from tld import get_tld\n",
    "import json\n",
    "import bz2\n",
    "from scipy import stats\n",
    "import statsmodels.api as sm\n",
    "import statsmodels.formula.api as smf\n",
    "\n",
    "# Disable some pandas warnings we don't want in the notebook\n",
    "pd.options.mode.chained_assignment = None"
   ]
  },
  {
   "cell_type": "markdown",
   "id": "6a8cfa80-4e8f-417b-bd61-23ab1ce91cd5",
   "metadata": {},
   "source": [
    "## 0 - Accessing the data from Quotebank and the speaker attributes dataset"
   ]
  },
  {
   "cell_type": "markdown",
   "id": "c7388651-9c58-4068-8c07-181a92d93607",
   "metadata": {},
   "source": [
    "The Quotebank dataset is very large in size and it is not feasible to treat it using only RAM memory. In order to circumvent this problem, we chose to **filter out all the quotes that were not linked to our study**. \n",
    "\n",
    "For this second milestone, we chose a simple algorithm that consisted in selecting only the quotes that contained at least one of the following keywords: 'gun', 'shooting', 'firearm'. The selected quotes were written to a new file: 'quotes-cropped.json', which was much more reasonnable in size: around 550 Mo. This was done on a **Google Colab** so that we could access the Quotebank dataset from Drive.\n",
    "\n",
    "We know this is not a perfect filter, but it should get the job done for these initial findings. For milestone 3, we plan on using a **supervised learning** algorithm in order to identify quotes that speak of shootings/guns with higher precision."
   ]
  },
  {
   "cell_type": "markdown",
   "id": "59fa5d2e-6d6c-4f1f-85ae-bd8efdea382f",
   "metadata": {},
   "source": [
    "The following code is used to create a **new file with the quotes and the country where they come from**. This way, we select only the quotes that come from the American news. We have commented the code so that is does not need to run again (it can take some time as you can imagine!), but it is here so you can see how we obtained our data set. \n",
    "\n",
    "NB: Even though it is drasticly smaller in size then the raw data, our data file is nevertheless too heavy to be uploaded on GitHub (550 Mo). Please let us know if you wish to have the file and we will happily send it to you."
   ]
  },
  {
   "cell_type": "code",
   "execution_count": 2,
   "id": "e763205a-9c3b-419c-a311-14f44782ba1e",
   "metadata": {},
   "outputs": [],
   "source": [
    "#def get_domain(url):\n",
    "#    res = get_tld(url, as_object=True)\n",
    "#    return res.domain\n",
    "#\n",
    "#new_src = pd.read_csv('data/news.txt', delimiter=\"\\t\", header=None, encoding = \"ISO-8859-1\")\n",
    "#new_src.columns=['id','unknown','date','country','media','website','title']\n",
    "#new_src['domain']=new_src.apply(lambda x : get_domain(x['website']),axis=1)\n",
    "#new_src.drop_duplicates(inplace=True, subset=['domain'], keep='first')\n",
    "\n",
    "#path_to_out = 'data/quotes-cropped-with-country.json.bz2'\n",
    "#with bz2.open(\"data/quotes-cropped.json.bz2\", 'rb') as s_file:\n",
    "#    with bz2.open(path_to_out, 'wb') as d_file:\n",
    "#        for instance in s_file:\n",
    "#                instance = json.loads(instance) # loading a sample\n",
    "#                urls = instance['urls'] # extracting list of links \n",
    "#                instance['country']=np.nan\n",
    "#                for url in urls:\n",
    "#                    domain=get_domain(url)\n",
    "#                    if len(new_src[new_src['domain']==domain])>=1:\n",
    "#                        instance['country']=new_src[new_src['domain']==domain]['country'].item()\n",
    "#                        break\n",
    "#                d_file.write((json.dumps(instance)+'\\n').encode('utf-8'))"
   ]
  },
  {
   "cell_type": "markdown",
   "id": "8466eb7b-241d-45a7-834a-4985ebe3352d",
   "metadata": {},
   "source": [
    "We then open the obtained file, and **select only the rows that correspond to quotes from the US**."
   ]
  },
  {
   "cell_type": "code",
   "execution_count": 3,
   "id": "6fef4534-d1b4-4be2-b978-e641dd603157",
   "metadata": {},
   "outputs": [],
   "source": [
    "#with bz2.open(\"data/quotes-cropped-with-country.json.bz2\", 'rb') as s_file: \n",
    "#   df_original = pd.read_json(s_file, lines=True)\n",
    "\n",
    "# Select only the quotes that come from the US\n",
    "#df_original = df_original[df_original['country']=='US']\n",
    "#df_original.head()"
   ]
  },
  {
   "cell_type": "code",
   "execution_count": 4,
   "id": "56a87d83-3e4e-444a-b0a0-5db2482dd30f",
   "metadata": {},
   "outputs": [],
   "source": [
    "# New dataframe with the obtained data\n",
    "# df_original = pd.read_json('quotes-cropped.json', lines=True)"
   ]
  },
  {
   "cell_type": "markdown",
   "id": "811b3916-0f87-40ee-b874-258708e1b955",
   "metadata": {},
   "source": [
    "This was the dataset we used for our first analysis in milestone 2. We then refined our selection of quotes. The processu for the extraction of these quotes is described in the notebook 'quotes_extraction.ipynb', and resuted in a new file : 'us_quotes.csv'"
   ]
  },
  {
   "cell_type": "code",
   "execution_count": 5,
   "id": "f5c837d8-b3f0-4831-b6d2-3f56e29fdd48",
   "metadata": {},
   "outputs": [],
   "source": [
    "df_original = pd.read_csv('Data/us_quotes.csv')"
   ]
  },
  {
   "cell_type": "markdown",
   "id": "671142ab-b382-43b0-b4f4-678ca38200a0",
   "metadata": {},
   "source": [
    "We have also loaded the **speaker attributes dataset** in order to extract additional information about quotations' speakers such has political party."
   ]
  },
  {
   "cell_type": "code",
   "execution_count": 6,
   "id": "dca78e8f-773f-48d2-bf39-1ea62d70ac31",
   "metadata": {},
   "outputs": [
    {
     "data": {
      "text/html": [
       "<div>\n",
       "<style scoped>\n",
       "    .dataframe tbody tr th:only-of-type {\n",
       "        vertical-align: middle;\n",
       "    }\n",
       "\n",
       "    .dataframe tbody tr th {\n",
       "        vertical-align: top;\n",
       "    }\n",
       "\n",
       "    .dataframe thead th {\n",
       "        text-align: right;\n",
       "    }\n",
       "</style>\n",
       "<table border=\"1\" class=\"dataframe\">\n",
       "  <thead>\n",
       "    <tr style=\"text-align: right;\">\n",
       "      <th></th>\n",
       "      <th>aliases</th>\n",
       "      <th>date_of_birth</th>\n",
       "      <th>nationality</th>\n",
       "      <th>gender</th>\n",
       "      <th>lastrevid</th>\n",
       "      <th>ethnic_group</th>\n",
       "      <th>US_congress_bio_ID</th>\n",
       "      <th>occupation</th>\n",
       "      <th>party</th>\n",
       "      <th>academic_degree</th>\n",
       "      <th>id</th>\n",
       "      <th>label</th>\n",
       "      <th>candidacy</th>\n",
       "      <th>type</th>\n",
       "      <th>religion</th>\n",
       "    </tr>\n",
       "  </thead>\n",
       "  <tbody>\n",
       "    <tr>\n",
       "      <th>7148962</th>\n",
       "      <td>[Sigmund Keglevich]</td>\n",
       "      <td>[+1732-05-07T00:00:00Z]</td>\n",
       "      <td>None</td>\n",
       "      <td>[Q6581097]</td>\n",
       "      <td>1182552306</td>\n",
       "      <td>None</td>\n",
       "      <td>None</td>\n",
       "      <td>[Q1234713]</td>\n",
       "      <td>None</td>\n",
       "      <td>None</td>\n",
       "      <td>Q20436276</td>\n",
       "      <td>Zsigmond Keglevich</td>\n",
       "      <td>None</td>\n",
       "      <td>item</td>\n",
       "      <td>[Q9592]</td>\n",
       "    </tr>\n",
       "  </tbody>\n",
       "</table>\n",
       "</div>"
      ],
      "text/plain": [
       "                     aliases            date_of_birth nationality      gender  \\\n",
       "7148962  [Sigmund Keglevich]  [+1732-05-07T00:00:00Z]        None  [Q6581097]   \n",
       "\n",
       "          lastrevid ethnic_group US_congress_bio_ID  occupation party  \\\n",
       "7148962  1182552306         None               None  [Q1234713]  None   \n",
       "\n",
       "        academic_degree         id               label candidacy  type  \\\n",
       "7148962            None  Q20436276  Zsigmond Keglevich      None  item   \n",
       "\n",
       "        religion  \n",
       "7148962  [Q9592]  "
      ]
     },
     "execution_count": 6,
     "metadata": {},
     "output_type": "execute_result"
    }
   ],
   "source": [
    "# New dataframe with the speaker attributes data ('speaker_attributes.parquet')\n",
    "# If needed: !pip install pandas pyarrow\n",
    "speaker_attributes = pd.read_parquet('data/speaker_attributes.parquet')\n",
    "speaker_attributes.sample()"
   ]
  },
  {
   "cell_type": "code",
   "execution_count": 7,
   "id": "ccaeb38a-6f39-4141-b5c4-853b793a37d8",
   "metadata": {},
   "outputs": [],
   "source": [
    "# Processing and cleaning the parquet file\n",
    "speaker_attributes = speaker_attributes[['party','label']]\n",
    "\n",
    "# Eliminate duplicates\n",
    "speaker_attributes = speaker_attributes.drop_duplicates(subset=['label'])\n",
    "\n",
    "# Party affiliations are expressed as a list, thus the explode\n",
    "speaker_attributes = speaker_attributes.explode(\"party\")\n",
    "speaker_attributes = speaker_attributes.dropna()\n",
    "speaker_attributes = speaker_attributes.rename(columns={'label': 'speaker'})"
   ]
  },
  {
   "cell_type": "markdown",
   "id": "e3b270b8-a2e1-4ecb-9006-b970c89fe51e",
   "metadata": {},
   "source": [
    "Once again, we have commented the code as it can take some time to execute. It basically takes the speaker attributes corresponding to speakers found in the cropped Quotebank dataset and saves them to a seperate **'speaker.csv' file**."
   ]
  },
  {
   "cell_type": "code",
   "execution_count": 8,
   "id": "ba6b22f1-4a3e-41eb-a823-5001a111a014",
   "metadata": {},
   "outputs": [],
   "source": [
    "# Extract the 'speaker' column from the Quotebank data.\n",
    "#df_speaker = df_original['speaker']\n",
    "\n",
    "# Remove rows in the 'speaker attributes' dataset which are not related to speakers in the Quotebank\n",
    "#index = speaker_attributes.apply(lambda x: len(df_speaker[df_speaker==x['label']])>0 , axis=1)\n",
    "\n",
    "# Match index\n",
    "#speaker_attributes = speaker_attributes[index]\n",
    "#speaker_attributes.head()\n",
    "\n",
    "# Save the new data to a .csv file\n",
    "#speaker_attributes.to_csv('data/speaker.csv')"
   ]
  },
  {
   "cell_type": "markdown",
   "id": "e5308f83-0d11-42ae-aa59-8caf3cb5590d",
   "metadata": {},
   "source": [
    "## 1 - Initial analysis of the cropped Quotebank dataset"
   ]
  },
  {
   "cell_type": "markdown",
   "id": "5bc949b8-e100-4882-8a3f-2906cb22d843",
   "metadata": {},
   "source": [
    "We will start by plotting the number of quotes containing at least one of our keywords over time (i.e. between 2015 and 2020). Even though some quotes will be irrelevant (e.g. \"we were **shooting** a movie\"), we assume the distribution of these irrelevant quotes to be close to uniform for the moment. For the final project, we plan to be using Machine Learning algorithms (supervised learning, see README.txt) to better select the data from the Quotebank dataset (instead of the keywords), choosing only quotes who have a high probability to be relevant.\n",
    "\n",
    "Our plot should therefore give a good first impression on how much people/the media has been speaking about gun control during these five years."
   ]
  },
  {
   "cell_type": "code",
   "execution_count": 9,
   "id": "32f46169-5c0b-48f3-a83d-744ddaabf813",
   "metadata": {},
   "outputs": [
    {
     "data": {
      "text/html": [
       "<div>\n",
       "<style scoped>\n",
       "    .dataframe tbody tr th:only-of-type {\n",
       "        vertical-align: middle;\n",
       "    }\n",
       "\n",
       "    .dataframe tbody tr th {\n",
       "        vertical-align: top;\n",
       "    }\n",
       "\n",
       "    .dataframe thead th {\n",
       "        text-align: right;\n",
       "    }\n",
       "</style>\n",
       "<table border=\"1\" class=\"dataframe\">\n",
       "  <thead>\n",
       "    <tr style=\"text-align: right;\">\n",
       "      <th></th>\n",
       "      <th>date</th>\n",
       "      <th>quotation</th>\n",
       "    </tr>\n",
       "  </thead>\n",
       "  <tbody>\n",
       "    <tr>\n",
       "      <th>14105</th>\n",
       "      <td>2015-01-01 00:40:01</td>\n",
       "      <td>The fundamental handling of safe firearms is k...</td>\n",
       "    </tr>\n",
       "    <tr>\n",
       "      <th>8150</th>\n",
       "      <td>2015-01-01 00:40:01</td>\n",
       "      <td>If you see someone shooting, tell them it's no...</td>\n",
       "    </tr>\n",
       "    <tr>\n",
       "      <th>8987</th>\n",
       "      <td>2015-01-01 00:40:01</td>\n",
       "      <td>When you're impared in any way, you should nev...</td>\n",
       "    </tr>\n",
       "  </tbody>\n",
       "</table>\n",
       "</div>"
      ],
      "text/plain": [
       "                     date                                          quotation\n",
       "14105 2015-01-01 00:40:01  The fundamental handling of safe firearms is k...\n",
       "8150  2015-01-01 00:40:01  If you see someone shooting, tell them it's no...\n",
       "8987  2015-01-01 00:40:01  When you're impared in any way, you should nev..."
      ]
     },
     "execution_count": 9,
     "metadata": {},
     "output_type": "execute_result"
    }
   ],
   "source": [
    "# Keep only the columns that we need for our initial analysis\n",
    "df = df_original[['date','quotation']]\n",
    "\n",
    "# Convert data column to datetime format\n",
    "df['date'] = pd.to_datetime(df['date'])\n",
    "\n",
    "# Sort dataframe by date\n",
    "df = df.sort_values(by=['date'])\n",
    "\n",
    "df.head(n=3)"
   ]
  },
  {
   "cell_type": "markdown",
   "id": "ec9deb0e-e34f-4481-a100-c2404d28d2fe",
   "metadata": {},
   "source": [
    "Now that we have sorted the dataframe by date, we can move on to the plot."
   ]
  },
  {
   "cell_type": "code",
   "execution_count": 10,
   "id": "606f1697-e3ab-449b-942d-496d7af8ac97",
   "metadata": {},
   "outputs": [
    {
     "data": {
      "image/png": "[encoded data removed]",
      "text/plain": [
       "<Figure size 1080x360 with 1 Axes>"
      ]
     },
     "metadata": {
      "needs_background": "light"
     },
     "output_type": "display_data"
    }
   ],
   "source": [
    "# Plotting number of quotes that contain keywords on the timeframe of the dataset\n",
    "plt.figure(figsize=(15,5))\n",
    "\n",
    "plt.hist(df['date'], bins=2000, color='#4a7399')\n",
    "\n",
    "plt.title('Occurences of quotes containing at least one of the keywords between 2015 and 2020')\n",
    "plt.xlabel('Time')\n",
    "plt.ylabel('Number of occurences')\n",
    "plt.show()"
   ]
  },
  {
   "cell_type": "markdown",
   "id": "3a07302f-646a-4fc8-98af-06f0000f2de4",
   "metadata": {},
   "source": [
    "This histogram gives a good idea of how much people have been speaking of guns/firearms/shootings in the last 5 years in the media. **But it has a major flaw**: each quote has the same \"weight\" (one quote accounts for one occurence). But some quotes occure more often then others ('numOccurences' colum in the dataframe). We should take this extra information into account if we want a better view on the data."
   ]
  },
  {
   "cell_type": "markdown",
   "id": "8d860adf-71d8-4dd5-a5c8-62aa79872271",
   "metadata": {},
   "source": [
    "We will now define a new dataframe that contains the number of quotes (multiplied by their respective occurences) for each day that contain at least one of the keywords."
   ]
  },
  {
   "cell_type": "code",
   "execution_count": 11,
   "id": "f3fcc9c3-f4fc-4f18-8f0e-5133e4ee75a3",
   "metadata": {},
   "outputs": [
    {
     "data": {
      "text/html": [
       "<div>\n",
       "<style scoped>\n",
       "    .dataframe tbody tr th:only-of-type {\n",
       "        vertical-align: middle;\n",
       "    }\n",
       "\n",
       "    .dataframe tbody tr th {\n",
       "        vertical-align: top;\n",
       "    }\n",
       "\n",
       "    .dataframe thead th {\n",
       "        text-align: right;\n",
       "    }\n",
       "</style>\n",
       "<table border=\"1\" class=\"dataframe\">\n",
       "  <thead>\n",
       "    <tr style=\"text-align: right;\">\n",
       "      <th></th>\n",
       "      <th>date</th>\n",
       "      <th>numOccurrences</th>\n",
       "    </tr>\n",
       "  </thead>\n",
       "  <tbody>\n",
       "    <tr>\n",
       "      <th>0</th>\n",
       "      <td>2015-01-01</td>\n",
       "      <td>4</td>\n",
       "    </tr>\n",
       "    <tr>\n",
       "      <th>9</th>\n",
       "      <td>2015-01-01</td>\n",
       "      <td>1</td>\n",
       "    </tr>\n",
       "    <tr>\n",
       "      <th>7</th>\n",
       "      <td>2015-01-01</td>\n",
       "      <td>1</td>\n",
       "    </tr>\n",
       "  </tbody>\n",
       "</table>\n",
       "</div>"
      ],
      "text/plain": [
       "         date  numOccurrences\n",
       "0  2015-01-01               4\n",
       "9  2015-01-01               1\n",
       "7  2015-01-01               1"
      ]
     },
     "execution_count": 11,
     "metadata": {},
     "output_type": "execute_result"
    }
   ],
   "source": [
    "# Define a new dataframe for this specific study\n",
    "df = df_original[['date','numOccurrences']]\n",
    "\n",
    "# Group by date and sum number of occurences\n",
    "df = df.groupby(['date']).sum()\n",
    "df = df.reset_index()\n",
    "\n",
    "# Convert data column back to datetime format\n",
    "df['date'] = pd.to_datetime(df['date'])\n",
    "\n",
    "# Remove hour from the date\n",
    "df['date'] = df['date'].dt.date\n",
    "\n",
    "# Sort dataframe by date\n",
    "df = df.sort_values(by=['date'])\n",
    "\n",
    "df.head(n=3)"
   ]
  },
  {
   "cell_type": "markdown",
   "id": "0d6a34c6-6fdd-4be2-83c5-11eaf4054e02",
   "metadata": {},
   "source": [
    "We now have our desired dataframe: one row is one day, and for each day we have the number of quotes (multiplied by their occurences) that contain at least a keyword."
   ]
  },
  {
   "cell_type": "code",
   "execution_count": 12,
   "id": "87dadadb-c468-4778-ab40-ef14697ce599",
   "metadata": {
    "tags": []
   },
   "outputs": [
    {
     "data": {
      "image/png": "[encoded data removed]",
      "text/plain": [
       "<Figure size 1080x360 with 1 Axes>"
      ]
     },
     "metadata": {
      "needs_background": "light"
     },
     "output_type": "display_data"
    }
   ],
   "source": [
    "# Plotting number of quotes that contain keywords on the timeframe of the dataset\n",
    "plt.figure(figsize=(15,5))\n",
    "\n",
    "plt.bar(df['date'],df['numOccurrences'],color='#4a7399')\n",
    "plt.title('Occurences of quotes containing at least one of the keywords between 2015 and 2020')\n",
    "plt.xlabel('Time')\n",
    "plt.ylabel('Number of occurences')\n",
    "plt.ylim((0,6000))\n",
    "plt.show()"
   ]
  },
  {
   "cell_type": "markdown",
   "id": "4ddc6c30-8327-41e3-93ba-08dd0ed02ac8",
   "metadata": {},
   "source": [
    "We have cleared a possible source of error out of the way. We will be using this new dataframe in the rest of the analysis. If we happen to need more information about the quotes that were said on a specific date, we can always switch back to looking for quotes on that specific date in the original dataframe (from the \"cropped\" Quotebank)."
   ]
  },
  {
   "cell_type": "markdown",
   "id": "95943c1b-f76f-4191-a327-b05df97fe633",
   "metadata": {},
   "source": [
    "Since we will need this data later on, we save it to a new dataframe (data1). This way we can overwrite \"df\" without worrying."
   ]
  },
  {
   "cell_type": "code",
   "execution_count": 13,
   "id": "1d9865fe-57b5-485d-b76c-904414f4999e",
   "metadata": {},
   "outputs": [],
   "source": [
    "# We will use this data in comparitive plots in part 3\n",
    "data1 = df[['date','numOccurrences']]"
   ]
  },
  {
   "cell_type": "markdown",
   "id": "c824c176-3d2b-4bf2-b8fe-9abbb22a9562",
   "metadata": {},
   "source": [
    "## 2 - Initial analysis of the \"Mother Jone's\" dataset"
   ]
  },
  {
   "cell_type": "markdown",
   "id": "4a63f027-c9af-4078-8901-ad80d46689f9",
   "metadata": {},
   "source": [
    "We have also proceeded to some initial analysis of the **\"Mother Jone's US Mass Shootings\" dataset**. Indeed, this dataset will give us some basic information about most shootings, such as: date, location, number of fatalities, number of injured, age of shooter, weapon type/legality..."
   ]
  },
  {
   "cell_type": "code",
   "execution_count": 14,
   "id": "e3c4f81d-3a9a-4626-9f0d-b77fc95fe763",
   "metadata": {},
   "outputs": [
    {
     "data": {
      "text/plain": [
       "index                                        int64\n",
       "case                                        object\n",
       "location                                    object\n",
       "date                                datetime64[ns]\n",
       "summary                                     object\n",
       "fatalities                                   int64\n",
       "injured                                      int64\n",
       "total_victims                                int64\n",
       "location.1                                  object\n",
       "age_of_shooter                             float64\n",
       "prior_signs_mental_health_issues            object\n",
       "mental_health_details                       object\n",
       "weapons_obtained_legally                    object\n",
       "where_obtained                              object\n",
       "weapon_type                                 object\n",
       "weapon_details                              object\n",
       "race                                        object\n",
       "gender                                      object\n",
       "sources                                     object\n",
       "mental_health_sources                       object\n",
       "sources_additional_age                      object\n",
       "latitude                                   float64\n",
       "longitude                                  float64\n",
       "type                                        object\n",
       "year                                         int64\n",
       "town                                        object\n",
       "state                                       object\n",
       "dtype: object"
      ]
     },
     "execution_count": 14,
     "metadata": {},
     "output_type": "execute_result"
    }
   ],
   "source": [
    "# Reading the csv file\n",
    "df = pd.read_csv('./Data/MassShootings.csv')\n",
    "\n",
    "# Replace \"-\" by NaN in \"age of shooter\" column\n",
    "df['age_of_shooter'] = df['age_of_shooter'].replace('-', np.nan).astype(float)\n",
    "\n",
    "# Two new columns: location splitted into town and state\n",
    "df[['town', 'state']] = df['location'].str.split(', ', expand = True)\n",
    "\n",
    "# Convert date column to datetime format for better handling\n",
    "df['date'] = pd.to_datetime(df['date'])\n",
    "\n",
    "# Quotebank dataset is limited to years 2015-2020. Need to use same time span:\n",
    "df = df.drop(df[df['date'].dt.year < 2015].index)\n",
    "df = df.drop(df[df['date'].dt.year > 2020].index)\n",
    "df= df.reset_index()\n",
    "\n",
    "df.dtypes"
   ]
  },
  {
   "cell_type": "markdown",
   "id": "c0842455-62bd-46fa-9361-36562c623071",
   "metadata": {},
   "source": [
    "To give us a first glimpse at the data, we can plot the fatalities per shooting accross time, as well as the distribution of the number of fatalities per shooting."
   ]
  },
  {
   "cell_type": "code",
   "execution_count": 15,
   "id": "16184470-fe4e-4dbb-b1a9-31dc0fb4b023",
   "metadata": {},
   "outputs": [
    {
     "data": {
      "image/png": "[encoded data removed]",
      "text/plain": [
       "<Figure size 936x360 with 2 Axes>"
      ]
     },
     "metadata": {
      "needs_background": "light"
     },
     "output_type": "display_data"
    }
   ],
   "source": [
    "fig, ax = plt.subplots(1,2,figsize=(13,5))\n",
    "\n",
    "# Plot shootings in (time, number of fatalities) format\n",
    "ax[0].scatter(df['date'], df['fatalities'], color='#4a7399')\n",
    "ax[0].set_title('Fatalities per shooting across the timeframe')\n",
    "ax[0].set_xlabel('Date')\n",
    "ax[0].set_ylabel('Fatalities');\n",
    "\n",
    "# Plot the distribution of the number of fatalities\n",
    "ax[1] = df['fatalities'].hist(bins=50, color='#4a7399')\n",
    "ax[1].set_xlabel('Fatalities per shooting')\n",
    "ax[1].set_ylabel('Number of shootings')\n",
    "ax[1].set_title('Fatalities per shooting');"
   ]
  },
  {
   "cell_type": "markdown",
   "id": "3f451090-8be1-4a0f-8b84-0241221657ab",
   "metadata": {},
   "source": [
    "There isn't much data, but we can say it seems to follow a **power law**: most of the shootings have a small number of fatalities (<10), but some large outliers are not unusual, some shootings having over 40 fatalities."
   ]
  },
  {
   "cell_type": "markdown",
   "id": "517a1ce2-088a-47b4-89c4-dc265667d327",
   "metadata": {},
   "source": [
    "There are many paramters to explore, and one of them is **location** (as in the state) of the event:"
   ]
  },
  {
   "cell_type": "code",
   "execution_count": 16,
   "id": "20ba7f68-4771-418e-8c01-96312ecb2720",
   "metadata": {},
   "outputs": [
    {
     "data": {
      "image/png": "[encoded data removed]",
      "text/plain": [
       "<Figure size 1080x288 with 1 Axes>"
      ]
     },
     "metadata": {
      "needs_background": "light"
     },
     "output_type": "display_data"
    }
   ],
   "source": [
    "# Ploting the number of fatalities per state\n",
    "fig, ax = plt.subplots(figsize=(15, 4))\n",
    "ax = sns.barplot(y = df['fatalities'], x = df['state'], estimator = sum, ci = None, color='#4a7399')\n",
    "\n",
    "ax.set_xlabel(\"State\")\n",
    "ax.set_ylabel(\"Fatalities\")\n",
    "ax.set_title(\"Number of fatalities due to shootings for each state, between 2015 and 2020\")\n",
    "plt.xticks(rotation=45)\n",
    "plt.show()"
   ]
  },
  {
   "cell_type": "markdown",
   "id": "0970d861-2a96-430b-a2ca-e70d4b273d36",
   "metadata": {},
   "source": [
    "With the above plot, we can clearly see that **states have been very unequally affected by mass shootings**. We will try to find some relevant correlations further on, such as average salary in the state, state political position (more of a 'blue state' or a 'red state'), etc."
   ]
  },
  {
   "cell_type": "markdown",
   "id": "06eb77d7-8a43-4691-abe4-244b17a7404d",
   "metadata": {},
   "source": [
    "We will now **explore some of the parameters in the dataset** (what kind of locations we have, weapon legality...). These are just examples, but they help highlight the fact that we have many parameters that can possibly affect the reaction each shooting will generate in the news."
   ]
  },
  {
   "cell_type": "code",
   "execution_count": 17,
   "id": "fe860e54-bd1f-4158-ac32-2bdc640f9398",
   "metadata": {},
   "outputs": [
    {
     "data": {
      "image/png": "[encoded data removed]",
      "text/plain": [
       "<Figure size 432x288 with 1 Axes>"
      ]
     },
     "metadata": {
      "needs_background": "light"
     },
     "output_type": "display_data"
    }
   ],
   "source": [
    "# Rename column location.1 to location1 (the dot is problematic)\n",
    "df.rename(columns={\"location.1\": \"location1\"}, inplace=True)\n",
    "\n",
    "# There are two \"Workplace\" categories\n",
    "#df.location1.unique()\n",
    "\n",
    "# Replace the category \"\\nWorkplace\" by \"Workplace\"\n",
    "df.replace(to_replace = \"\\nWorkplace\", value = \"Workplace\", inplace=True)\n",
    "                   \n",
    "df.location1.value_counts().plot(kind='barh',color='#4a7399')\n",
    "plt.title('Location type')\n",
    "plt.xlabel('Number of shootings')\n",
    "plt.show()"
   ]
  },
  {
   "cell_type": "code",
   "execution_count": 18,
   "id": "9bccd041-538a-4f12-ad94-949adbd889a4",
   "metadata": {},
   "outputs": [
    {
     "data": {
      "text/plain": [
       "Yes        25\n",
       "TBD         7\n",
       "-           6\n",
       "No          4\n",
       "Unknown     3\n",
       "Name: weapons_obtained_legally, dtype: int64"
      ]
     },
     "execution_count": 18,
     "metadata": {},
     "output_type": "execute_result"
    }
   ],
   "source": [
    "# Check if the used weapons were obtained legally or not:\n",
    "df.weapons_obtained_legally.value_counts().head()"
   ]
  },
  {
   "cell_type": "markdown",
   "id": "b9fee7a0-0dd8-46b9-ad72-125c08632b07",
   "metadata": {},
   "source": [
    "Most weapons were obtained legally."
   ]
  },
  {
   "cell_type": "code",
   "execution_count": 19,
   "id": "f71f6dbc-a740-47fa-a3e0-cd43e48479ba",
   "metadata": {},
   "outputs": [
    {
     "data": {
      "image/png": "[encoded data removed]",
      "text/plain": [
       "<Figure size 432x288 with 1 Axes>"
      ]
     },
     "metadata": {},
     "output_type": "display_data"
    }
   ],
   "source": [
    "# Have a look of the race of the shooters\n",
    "df.race.value_counts().plot(kind='pie',colors=sns.color_palette('colorblind'))\n",
    "plt.title('Race of shooter')\n",
    "plt.show()"
   ]
  },
  {
   "cell_type": "markdown",
   "id": "a6981328-5e57-4795-86ec-8a680f361ef3",
   "metadata": {},
   "source": [
    "Extra information will be added to this dataframe concerning the dominance of a party affiliation on the quotes pronounced 10 days after each shooting. Studies will follow to analayse if there is any correlation with reaction score and political polarization."
   ]
  },
  {
   "cell_type": "code",
   "execution_count": 40,
   "id": "322265f3-7975-49f1-bfcc-7582c7b9125a",
   "metadata": {},
   "outputs": [
    {
     "data": {
      "text/html": [
       "<div>\n",
       "<style scoped>\n",
       "    .dataframe tbody tr th:only-of-type {\n",
       "        vertical-align: middle;\n",
       "    }\n",
       "\n",
       "    .dataframe tbody tr th {\n",
       "        vertical-align: top;\n",
       "    }\n",
       "\n",
       "    .dataframe thead th {\n",
       "        text-align: right;\n",
       "    }\n",
       "</style>\n",
       "<table border=\"1\" class=\"dataframe\">\n",
       "  <thead>\n",
       "    <tr style=\"text-align: right;\">\n",
       "      <th></th>\n",
       "      <th>Label</th>\n",
       "    </tr>\n",
       "    <tr>\n",
       "      <th>QID</th>\n",
       "      <th></th>\n",
       "    </tr>\n",
       "  </thead>\n",
       "  <tbody>\n",
       "    <tr>\n",
       "      <th>Q31</th>\n",
       "      <td>Belgium</td>\n",
       "    </tr>\n",
       "    <tr>\n",
       "      <th>Q45</th>\n",
       "      <td>Portugal</td>\n",
       "    </tr>\n",
       "    <tr>\n",
       "      <th>Q75</th>\n",
       "      <td>Internet</td>\n",
       "    </tr>\n",
       "    <tr>\n",
       "      <th>Q148</th>\n",
       "      <td>People's Republic of China</td>\n",
       "    </tr>\n",
       "    <tr>\n",
       "      <th>Q155</th>\n",
       "      <td>Brazil</td>\n",
       "    </tr>\n",
       "  </tbody>\n",
       "</table>\n",
       "</div>"
      ],
      "text/plain": [
       "                           Label\n",
       "QID                             \n",
       "Q31                      Belgium\n",
       "Q45                     Portugal\n",
       "Q75                     Internet\n",
       "Q148  People's Republic of China\n",
       "Q155                      Brazil"
      ]
     },
     "execution_count": 40,
     "metadata": {},
     "output_type": "execute_result"
    }
   ],
   "source": [
    "# Keeping the speaker \n",
    "quotes_with_attributes = df_original[['speaker','date','numOccurrences']]\n",
    "\n",
    "# Merging the quotes entries with the profile of the speaker from Wikipedia\n",
    "quotes_with_attributes = pd.merge(quotes_with_attributes, speaker_attributes, how='left', on='speaker')\n",
    "\n",
    "# Preparing to merge with the label description to get the party\n",
    "quotes_with_attributes = quotes_with_attributes.rename(columns={'party': 'QID'})\n",
    "wiki_labels = pd.read_csv('data/wikidata_labels_descriptions_quotebank.csv', usecols=['Label','QID'],  index_col = \"QID\",)\n",
    "wiki_labels.head()"
   ]
  },
  {
   "cell_type": "code",
   "execution_count": 41,
   "id": "4d891a27-3b4b-4710-9d71-706900a7ea7c",
   "metadata": {},
   "outputs": [
    {
     "data": {
      "text/html": [
       "<div>\n",
       "<style scoped>\n",
       "    .dataframe tbody tr th:only-of-type {\n",
       "        vertical-align: middle;\n",
       "    }\n",
       "\n",
       "    .dataframe tbody tr th {\n",
       "        vertical-align: top;\n",
       "    }\n",
       "\n",
       "    .dataframe thead th {\n",
       "        text-align: right;\n",
       "    }\n",
       "</style>\n",
       "<table border=\"1\" class=\"dataframe\">\n",
       "  <thead>\n",
       "    <tr style=\"text-align: right;\">\n",
       "      <th></th>\n",
       "      <th>speaker</th>\n",
       "      <th>date</th>\n",
       "      <th>numOccurrences</th>\n",
       "      <th>Party</th>\n",
       "    </tr>\n",
       "  </thead>\n",
       "  <tbody>\n",
       "    <tr>\n",
       "      <th>19029</th>\n",
       "      <td>Ralph Northam</td>\n",
       "      <td>2016-07-08</td>\n",
       "      <td>3</td>\n",
       "      <td>Democratic Party</td>\n",
       "    </tr>\n",
       "  </tbody>\n",
       "</table>\n",
       "</div>"
      ],
      "text/plain": [
       "             speaker        date  numOccurrences             Party\n",
       "19029  Ralph Northam  2016-07-08               3  Democratic Party"
      ]
     },
     "execution_count": 41,
     "metadata": {},
     "output_type": "execute_result"
    }
   ],
   "source": [
    "# Obtaining a complete dataframe with parties\n",
    "quotes_with_attributes = pd.merge(quotes_with_attributes ,wiki_labels ,how='left', on=\"QID\")\n",
    "quotes_with_attributes = quotes_with_attributes.drop(columns=['QID'])\n",
    "quotes_with_attributes = quotes_with_attributes.rename(columns={'Label': 'Party'})\n",
    "\n",
    "# Cleaning the dataframe\n",
    "quotes_with_attributes['date'] = pd.to_datetime(quotes_with_attributes['date'])\n",
    "quotes_with_attributes['date'] = quotes_with_attributes['date'].dt.date\n",
    "quotes_with_attributes = quotes_with_attributes[quotes_with_attributes['Party'].notna()]\n",
    "quotes_with_attributes.sample()"
   ]
  },
  {
   "cell_type": "code",
   "execution_count": 50,
   "id": "9862a195-cc74-4ce0-9d8e-e9a6bb2ff83f",
   "metadata": {},
   "outputs": [],
   "source": [
    "# Create the 10 day window after the shooting\n",
    "import datetime\n",
    "df['date_end'] = 0\n",
    "df['date_end'] = df['date'] + datetime.timedelta(days = 10)\n",
    "\n",
    "# Adding information about Republicans and Democrats\n",
    "df['Rep'] = 0\n",
    "df['Dem'] = 0\n",
    "\n",
    "for i in range(len(df)):\n",
    "    \n",
    "    parties = pd.DataFrame(index = ['Democratic Party', 'Republican Party'])\n",
    "    parties.index.name = 'Party'\n",
    "    data = quotes_with_attributes[(quotes_with_attributes['date'] > df['date'][i]) & (quotes_with_attributes['date'] < df['date_end'][i])]\n",
    "    data = data[(data['Party'] == 'Democratic Party') | (data['Party'] == 'Republican Party')]\n",
    "    data = data.groupby(['Party']).sum()\n",
    "    \n",
    "    # Merge with empty data frame to avoid loc KeyError, percentage of each party\n",
    "    parties = pd.merge(parties, data, how='left', on='Party')\n",
    "    df['Rep'][i] = parties.loc['Republican Party']\n",
    "    df['Dem'][i] = parties.loc['Democratic Party']"
   ]
  },
  {
   "cell_type": "code",
   "execution_count": 51,
   "id": "6f139bc4-7a40-4652-ac39-7e91becde99a",
   "metadata": {},
   "outputs": [
    {
     "data": {
      "image/png": "[encoded data removed]",
      "text/plain": [
       "<Figure size 432x288 with 1 Axes>"
      ]
     },
     "metadata": {},
     "output_type": "display_data"
    },
    {
     "data": {
      "image/png": "[encoded data removed]",
      "text/plain": [
       "<Figure size 432x288 with 1 Axes>"
      ]
     },
     "metadata": {},
     "output_type": "display_data"
    },
    {
     "data": {
      "image/png": "[encoded data removed]",
      "text/plain": [
       "<Figure size 432x288 with 1 Axes>"
      ]
     },
     "metadata": {},
     "output_type": "display_data"
    }
   ],
   "source": [
    "# Transpose the dataframe to be able to construct pie charts\n",
    "pie = df[['Rep', 'Dem']].transpose()\n",
    "\n",
    "# Chosing to plot random shootings\n",
    "from numpy import random\n",
    "\n",
    "x = random.randint(len(df), size=(3))\n",
    "\n",
    "# Plot the charts\n",
    "for i in x:\n",
    "    pie.plot(kind='pie',colors=sns.color_palette('colorblind'), y = i)"
   ]
  },
  {
   "cell_type": "markdown",
   "id": "2e08bd4d-c806-428d-9a20-6f1ddab8d66d",
   "metadata": {},
   "source": [
    "We can observe huge variation in the polarization of the debate and prohiminance of a party in these 3 random shootings. We are also interested to look more in detail day by day after the shooting."
   ]
  },
  {
   "cell_type": "code",
   "execution_count": 53,
   "id": "73387bb9-b1a9-4aec-9575-e984fa4c0e00",
   "metadata": {},
   "outputs": [
    {
     "name": "stderr",
     "output_type": "stream",
     "text": [
      "C:\\Users\\cle-r\\anaconda3\\envs\\ada\\lib\\site-packages\\pandas\\core\\ops\\array_ops.py:73: FutureWarning: Comparison of Timestamp with datetime.date is deprecated in order to match the standard library behavior.  In a future version these will be considered non-comparable.Use 'ts == pd.Timestamp(date)' or 'ts.date() == date' instead.\n",
      "  result = libops.scalar_compare(x.ravel(), y, op)\n",
      "C:\\Users\\cle-r\\anaconda3\\envs\\ada\\lib\\site-packages\\pandas\\core\\ops\\array_ops.py:73: FutureWarning: Comparison of Timestamp with datetime.date is deprecated in order to match the standard library behavior.  In a future version these will be considered non-comparable.Use 'ts == pd.Timestamp(date)' or 'ts.date() == date' instead.\n",
      "  result = libops.scalar_compare(x.ravel(), y, op)\n",
      "C:\\Users\\cle-r\\anaconda3\\envs\\ada\\lib\\site-packages\\pandas\\core\\ops\\array_ops.py:73: FutureWarning: Comparison of Timestamp with datetime.date is deprecated in order to match the standard library behavior.  In a future version these will be considered non-comparable.Use 'ts == pd.Timestamp(date)' or 'ts.date() == date' instead.\n",
      "  result = libops.scalar_compare(x.ravel(), y, op)\n"
     ]
    },
    {
     "data": {
      "image/png": "[encoded data removed]",
      "text/plain": [
       "<Figure size 1440x360 with 3 Axes>"
      ]
     },
     "metadata": {
      "needs_background": "light"
     },
     "output_type": "display_data"
    }
   ],
   "source": [
    "fig, ax = plt.subplots(1,3,figsize=(20,5)) #sharex=True, sharey=True\n",
    "#fig.subplots_adjust(wspace=0.3, hspace=0.3)\n",
    "for i in range (0,3):\n",
    "        data = quotes_with_attributes[(quotes_with_attributes['date'] > df['date'][x[i]]) & (quotes_with_attributes['date'] < df['date_end'][x[i]])]\n",
    "        data = data[(data['Party'] == 'Democratic Party') | (data['Party'] == 'Republican Party')]\n",
    "        data = data.sort_values(by=['date'])\n",
    "        sns.barplot(data=data,x='date', y='numOccurrences', hue='Party', estimator= sum, ci = None, ax = ax[i])\n",
    "        "
   ]
  },
  {
   "cell_type": "code",
   "execution_count": 56,
   "id": "fb97c43d-4a9f-4d22-be78-67e3b20f7f3b",
   "metadata": {},
   "outputs": [],
   "source": [
    "# Creating a percentage column for Democrats for further use\n",
    "df['Dem_perc'] = df['Dem'] / (df['Dem']+df['Rep'])\n",
    "\n",
    "# Replacing NaN with zeros when no quotes where linked with a specific party\n",
    "df[['Dem', 'Rep', 'Dem_perc']] = df[['Dem', 'Rep', 'Dem_perc']].fillna(0)\n"
   ]
  },
  {
   "cell_type": "code",
   "execution_count": 80,
   "id": "7eedb4db-a787-4e79-bd78-c52441565e70",
   "metadata": {},
   "outputs": [
    {
     "data": {
      "text/plain": [
       "0.5289116048277902"
      ]
     },
     "execution_count": 80,
     "metadata": {},
     "output_type": "execute_result"
    }
   ],
   "source": [
    "# Mean percentage of democratic affiliated quotes\n",
    "df['Dem_perc'].mean()"
   ]
  },
  {
   "cell_type": "markdown",
   "id": "e1f657c7-86ef-473e-bbad-d0858507e713",
   "metadata": {},
   "source": [
    "Finally, we will use this dataframe in comparitive plots in part 3.\n",
    "Therefore we save it to a new dataframe (in case we want to overwrite \"df\" further on):"
   ]
  },
  {
   "cell_type": "code",
   "execution_count": 60,
   "id": "d67a84be-c92f-48b2-b560-0cc83b989927",
   "metadata": {},
   "outputs": [],
   "source": [
    "data2 = df"
   ]
  },
  {
   "cell_type": "markdown",
   "id": "495fe526-fc83-4131-a5f4-e176f9fbcaa0",
   "metadata": {},
   "source": [
    "## 3 - Linking the two datasets"
   ]
  },
  {
   "cell_type": "markdown",
   "id": "75b091e0-6394-4e7f-9b99-ac867e8346af",
   "metadata": {},
   "source": [
    "### 3.1 - Plotting both datasets in the same timeline"
   ]
  },
  {
   "cell_type": "markdown",
   "id": "e89631c1-1f41-427d-8048-b7a6f2be3da8",
   "metadata": {},
   "source": [
    "We will start by plotting a single timeline graph with the number of fatalities due to shootings over time, as well as the occurence of gun-related words in the media."
   ]
  },
  {
   "cell_type": "code",
   "execution_count": 61,
   "id": "0dcb1d67-3397-40a4-ac98-de26ef2a6fc6",
   "metadata": {},
   "outputs": [
    {
     "data": {
      "image/png": "[encoded data removed]",
      "text/plain": [
       "<Figure size 936x432 with 2 Axes>"
      ]
     },
     "metadata": {},
     "output_type": "display_data"
    }
   ],
   "source": [
    "fig, ax1 = plt.subplots(figsize=(13,6))\n",
    "\n",
    "# Plotting the quotes over time (blue)\n",
    "color = 'tab:blue'\n",
    "ax1.set_title('Distribution of shootings in the USA (orange) and quotes concerning guns (blue) between 2015 and 2020')\n",
    "ax1.set_xlabel('Date')\n",
    "ax1.set_ylabel('Quotes', color=color)\n",
    "ax1.bar(data1['date'], data1['numOccurrences'], color=color, alpha=0.3, width = 3)\n",
    "ax1.tick_params(axis='y', labelcolor=color)\n",
    "\n",
    "# Same x-axis, but different y axis\n",
    "ax2 = ax1.twinx()\n",
    "\n",
    "# Plotting the fatalities due to shootings over time (orange)\n",
    "color = 'tab:orange'\n",
    "ax2.set_ylabel('Fatalities', color=color)\n",
    "ax2.bar(data2['date'], data2['fatalities'], color=color, alpha=0.95, width = 3)\n",
    "ax2.tick_params(axis='y', labelcolor=color)\n",
    "\n",
    "plt.show()"
   ]
  },
  {
   "cell_type": "markdown",
   "id": "6593afbc-da15-45a1-acf9-a6a215420908",
   "metadata": {},
   "source": [
    "With the above print, we see that this peak is maximal exactly two days after the shooting."
   ]
  },
  {
   "cell_type": "markdown",
   "id": "a1e00dcc-220c-4223-bdb0-7b0d76602cc1",
   "metadata": {},
   "source": [
    "We can see several interesting events in this first plot. For example, the largest peak in fatalities happens around october 2017. It is followed by the second largest peak in quotes talking about guns:"
   ]
  },
  {
   "cell_type": "code",
   "execution_count": 62,
   "id": "80f9a412-f016-437a-a70b-cc6f7053b32d",
   "metadata": {},
   "outputs": [
    {
     "name": "stdout",
     "output_type": "stream",
     "text": [
      "The largest shooting was:\n",
      "index                                                                              33\n",
      "case                                                         Las Vegas Strip massacre\n",
      "location                                                            Las Vegas, Nevada\n",
      "date                                                              2017-10-01 00:00:00\n",
      "summary                             Stephen Craig Paddock, 64, fired a barrage of ...\n",
      "fatalities                                                                         58\n",
      "injured                                                                           546\n",
      "total_victims                                                                     604\n",
      "location1                                                                       Other\n",
      "age_of_shooter                                                                   64.0\n",
      "prior_signs_mental_health_issues                                                  TBD\n",
      "mental_health_details               Perpetrator's history unclear. In 1969 Paddock...\n",
      "weapons_obtained_legally                                                          Yes\n",
      "where_obtained                                                Two gun shops in Nevada\n",
      "weapon_type                         23 firearms, mostly rifles; including scopes, ...\n",
      "weapon_details                      AR-15-style and AK-47-style rifles and \"a larg...\n",
      "race                                                                            White\n",
      "gender                                                                              M\n",
      "sources                             https://www.lvmpd.com/en-us/Documents/1_Octobe...\n",
      "mental_health_sources               https://www.nytimes.com/2017/10/13/us/stephen-...\n",
      "sources_additional_age              https://www.lvmpd.com/en-us/Documents/1_Octobe...\n",
      "latitude                                                                    36.095739\n",
      "longitude                                                                 -115.171544\n",
      "type                                                                             Mass\n",
      "year                                                                             2017\n",
      "town                                                                        Las Vegas\n",
      "state                                                                          Nevada\n",
      "date_end                                                          2017-10-11 00:00:00\n",
      "Rep                                                                            3494.0\n",
      "Dem                                                                            5158.0\n",
      "Dem_perc                                                                     0.596163\n",
      "Name: 0, dtype: object\n",
      "\n",
      "The corresponding peak in quotes discussing guns was:\n",
      "date                     2018-02-15 00:00:00\n",
      "numOccurrences                          6935\n",
      "DateLastShooting         2018-02-14 00:00:00\n",
      "DaysSinceLastShooting                    1.0\n",
      "Name: 29661, dtype: object\n"
     ]
    }
   ],
   "source": [
    "# Print the largest shooting (most fatalities)\n",
    "data2 = data2.sort_values(by='fatalities',ascending=False)\n",
    "data2 = data2.reset_index(drop=True)\n",
    "print(\"The largest shooting was:\")\n",
    "print(data2.iloc[0])\n",
    "\n",
    "# Quotes following the shooting (two days after)\n",
    "data1 = data1.sort_values(by='numOccurrences',ascending=False)\n",
    "print(\"\\nThe corresponding peak in quotes discussing guns was:\")\n",
    "print(data1.iloc[1])"
   ]
  },
  {
   "cell_type": "markdown",
   "id": "b3350b9f-a89c-4be0-8885-ede1db3d3f67",
   "metadata": {},
   "source": [
    "### 3.2 - Correlation between mass shootings and number of quotes"
   ]
  },
  {
   "cell_type": "markdown",
   "id": "1cf70dc2-d85c-47aa-9db7-04e6db268104",
   "metadata": {},
   "source": [
    "Before going into any further analysis, we need to show that there is an association between the occurences of mass shootings (in orange) and the number of quotes in our subset (in blue). In order to do this, we will **test the correlation** between the number of quotes in the subset and the number of days since the last shooting."
   ]
  },
  {
   "cell_type": "code",
   "execution_count": 63,
   "id": "fe62463b-c6bf-4153-a5d5-ffb53c68ebbd",
   "metadata": {},
   "outputs": [
    {
     "data": {
      "text/html": [
       "<div>\n",
       "<style scoped>\n",
       "    .dataframe tbody tr th:only-of-type {\n",
       "        vertical-align: middle;\n",
       "    }\n",
       "\n",
       "    .dataframe tbody tr th {\n",
       "        vertical-align: top;\n",
       "    }\n",
       "\n",
       "    .dataframe thead th {\n",
       "        text-align: right;\n",
       "    }\n",
       "</style>\n",
       "<table border=\"1\" class=\"dataframe\">\n",
       "  <thead>\n",
       "    <tr style=\"text-align: right;\">\n",
       "      <th></th>\n",
       "      <th>date</th>\n",
       "      <th>numOccurrences</th>\n",
       "      <th>DateLastShooting</th>\n",
       "      <th>DaysSinceLastShooting</th>\n",
       "    </tr>\n",
       "  </thead>\n",
       "  <tbody>\n",
       "    <tr>\n",
       "      <th>42305</th>\n",
       "      <td>2019-01-07</td>\n",
       "      <td>7</td>\n",
       "      <td>2018-11-19</td>\n",
       "      <td>49.0</td>\n",
       "    </tr>\n",
       "  </tbody>\n",
       "</table>\n",
       "</div>"
      ],
      "text/plain": [
       "            date  numOccurrences DateLastShooting  DaysSinceLastShooting\n",
       "42305 2019-01-07               7       2018-11-19                   49.0"
      ]
     },
     "execution_count": 63,
     "metadata": {},
     "output_type": "execute_result"
    }
   ],
   "source": [
    "# Create a new column with the day of the last shooting\n",
    "data1['DateLastShooting'] = np.nan\n",
    "\n",
    "data1['date'] = pd.to_datetime(data1['date'])\n",
    "\n",
    "for index, row in data1.iterrows():\n",
    "    row_date = row['date']\n",
    "    past_shootings = data2[data2['date'] < row_date]\n",
    "    last_shooting = np.max(past_shootings['date'])\n",
    "    data1.at[index, 'DateLastShooting'] = last_shooting\n",
    "\n",
    "# Convert column to date-time format\n",
    "data1['DateLastShooting'] = pd.to_datetime(data1['DateLastShooting'])\n",
    "\n",
    "# Create another column with the number of days since the last shooting \n",
    "data1['DaysSinceLastShooting'] = (data1['date'] - data1['DateLastShooting']).dt.days\n",
    "data1.sample()"
   ]
  },
  {
   "cell_type": "code",
   "execution_count": 64,
   "id": "cf38c3da-a60e-413d-a801-26c4b37fd11d",
   "metadata": {},
   "outputs": [
    {
     "data": {
      "text/plain": [
       "(-0.015793336300950606, 0.0005322399711773508)"
      ]
     },
     "execution_count": 64,
     "metadata": {},
     "output_type": "execute_result"
    }
   ],
   "source": [
    "# Drop rows containing missing values\n",
    "data1_filtered = data1.dropna()\n",
    "\n",
    "# Pearson correlation\n",
    "from scipy.stats import stats\n",
    "stats.pearsonr(data1_filtered['DaysSinceLastShooting'], data1_filtered['numOccurrences'])"
   ]
  },
  {
   "cell_type": "markdown",
   "id": "865ad2da-d61a-4e84-b5ca-9233b9feede8",
   "metadata": {},
   "source": [
    "We observe a **highly significant** (p-value << 0.05) **negative correlation** between the number of quotes on a given day and the days since the last shooting. This was the expected result: the more days since the last shooting, the rarer the quotes talking about guns and firearms."
   ]
  },
  {
   "cell_type": "markdown",
   "id": "03647d1b-db26-4322-b415-78bd5dcbed48",
   "metadata": {},
   "source": [
    "### 3.3 - Influence of the number of fatalities on the count of quotes"
   ]
  },
  {
   "cell_type": "markdown",
   "id": "09eadbb9-48b6-4c78-9ffe-16d1fa07ac73",
   "metadata": {},
   "source": [
    "We can see that the largest peak in quotes concerning guns takes place just after a shooting in early 2018:"
   ]
  },
  {
   "cell_type": "code",
   "execution_count": 65,
   "id": "a760548d-256f-425f-8478-ea11a0c76ee6",
   "metadata": {},
   "outputs": [
    {
     "data": {
      "image/png": "[encoded data removed]",
      "text/plain": [
       "<Figure size 648x288 with 2 Axes>"
      ]
     },
     "metadata": {},
     "output_type": "display_data"
    }
   ],
   "source": [
    "# We want to zoom in by looking only at 2018\n",
    "data1_2018 = data1[(data1['date'].dt.year==2018)]\n",
    "data2_2018 = data2[(data2['date'].dt.year==2018)]\n",
    "\n",
    "fig, ax1 = plt.subplots(figsize=(9,4))\n",
    "\n",
    "# Plotting the quotes over time (blue barplot)\n",
    "color = 'tab:blue'\n",
    "ax1.set_title('Distribution of shootings in the USA (orange) and quotes concerning guns (blue) in 2018')\n",
    "ax1.set_xlabel('Date')\n",
    "ax1.set_ylabel('Quotes', color=color)\n",
    "ax1.bar(data1_2018['date'], data1_2018['numOccurrences'], color=color, alpha=0.3, width = 3)\n",
    "ax1.tick_params(axis='y', labelcolor=color)\n",
    "\n",
    "# Same x-axis, but different y axis\n",
    "ax2 = ax1.twinx()\n",
    "\n",
    "# Plotting the fatalities due to shootings over time (orange barplot)\n",
    "color = 'tab:orange'\n",
    "ax2.set_ylabel('Fatalities', color=color)\n",
    "ax2.bar(data2_2018['date'], data2_2018['fatalities'], color=color, alpha=0.9, width = 3)\n",
    "ax2.tick_params(axis='y', labelcolor=color)\n",
    "ax2.set_ylim(0,62)\n",
    "\n",
    "plt.show()"
   ]
  },
  {
   "cell_type": "markdown",
   "id": "9537078d-4238-4d4a-99a0-0e36cfaf6aa3",
   "metadata": {},
   "source": [
    "It seams that this particular event has made much more noise then the others and over a larger period of time. The fact that it was **certainly not the shooting with the most fatalities** (\"only\" 17, compared to 58 for the max) shows that the number of fatalities is clearly not the only parameter that influences the media coverage of the event as well as the amplitude of the discussion on gun control afterwards.\n",
    "\n",
    "**This makes us want to investigate further: what are the other factors that can explain these differences?** Some ideas: \n",
    "- Location of the shooting (what state, but also what type of place: e.g. at a school, workplace...)\n",
    "- Wheather of not the weapon was bought legally\n",
    "- Age, gender and ethnicity of the shooter and/or the victims\n",
    "- The type of weapon that was used\n",
    "- etc."
   ]
  },
  {
   "cell_type": "markdown",
   "id": "59d601a9-11b1-4964-958c-0284137c5200",
   "metadata": {},
   "source": [
    "### 3.4 - Computing the reaction score\n",
    "In order to analyse the media's response to each shooting, we can start by selecting only the quotes from the following N days (for the moment we chose N=10 days). We did this for the top 3 most lethal shootings and plotted the results below. These again emphasize the idea that there is much more than just the number of fatalities (the second most lethal shooting creates a minimal response compared to the others)."
   ]
  },
  {
   "cell_type": "code",
   "execution_count": 66,
   "id": "0c666d48-9462-485c-979b-b137ed7264c7",
   "metadata": {},
   "outputs": [
    {
     "data": {
      "text/html": [
       "<div>\n",
       "<style scoped>\n",
       "    .dataframe tbody tr th:only-of-type {\n",
       "        vertical-align: middle;\n",
       "    }\n",
       "\n",
       "    .dataframe tbody tr th {\n",
       "        vertical-align: top;\n",
       "    }\n",
       "\n",
       "    .dataframe thead th {\n",
       "        text-align: right;\n",
       "    }\n",
       "</style>\n",
       "<table border=\"1\" class=\"dataframe\">\n",
       "  <thead>\n",
       "    <tr style=\"text-align: right;\">\n",
       "      <th></th>\n",
       "      <th>index</th>\n",
       "      <th>case</th>\n",
       "      <th>location</th>\n",
       "      <th>date</th>\n",
       "      <th>summary</th>\n",
       "      <th>fatalities</th>\n",
       "      <th>injured</th>\n",
       "      <th>total_victims</th>\n",
       "      <th>location1</th>\n",
       "      <th>age_of_shooter</th>\n",
       "      <th>...</th>\n",
       "      <th>year</th>\n",
       "      <th>town</th>\n",
       "      <th>state</th>\n",
       "      <th>date_end</th>\n",
       "      <th>Rep</th>\n",
       "      <th>Dem</th>\n",
       "      <th>Dem_perc</th>\n",
       "      <th>numQuotes_after_10</th>\n",
       "      <th>numQuotes_before_10</th>\n",
       "      <th>relative_increase</th>\n",
       "    </tr>\n",
       "  </thead>\n",
       "  <tbody>\n",
       "    <tr>\n",
       "      <th>0</th>\n",
       "      <td>33</td>\n",
       "      <td>Las Vegas Strip massacre</td>\n",
       "      <td>Las Vegas, Nevada</td>\n",
       "      <td>2017-10-01</td>\n",
       "      <td>Stephen Craig Paddock, 64, fired a barrage of ...</td>\n",
       "      <td>58</td>\n",
       "      <td>546</td>\n",
       "      <td>604</td>\n",
       "      <td>Other</td>\n",
       "      <td>64.0</td>\n",
       "      <td>...</td>\n",
       "      <td>2017</td>\n",
       "      <td>Las Vegas</td>\n",
       "      <td>Nevada</td>\n",
       "      <td>2017-10-11</td>\n",
       "      <td>3494.0</td>\n",
       "      <td>5158.0</td>\n",
       "      <td>0.596163</td>\n",
       "      <td>35150</td>\n",
       "      <td>8938</td>\n",
       "      <td>2.932647</td>\n",
       "    </tr>\n",
       "    <tr>\n",
       "      <th>1</th>\n",
       "      <td>43</td>\n",
       "      <td>Orlando nightclub massacre</td>\n",
       "      <td>Orlando, Florida</td>\n",
       "      <td>2016-06-12</td>\n",
       "      <td>Omar Mateen, 29, attacked the Pulse nighclub i...</td>\n",
       "      <td>49</td>\n",
       "      <td>53</td>\n",
       "      <td>102</td>\n",
       "      <td>Other</td>\n",
       "      <td>29.0</td>\n",
       "      <td>...</td>\n",
       "      <td>2016</td>\n",
       "      <td>Orlando</td>\n",
       "      <td>Florida</td>\n",
       "      <td>2016-06-22</td>\n",
       "      <td>35.0</td>\n",
       "      <td>2.0</td>\n",
       "      <td>0.054054</td>\n",
       "      <td>176</td>\n",
       "      <td>25</td>\n",
       "      <td>6.040000</td>\n",
       "    </tr>\n",
       "  </tbody>\n",
       "</table>\n",
       "<p>2 rows × 34 columns</p>\n",
       "</div>"
      ],
      "text/plain": [
       "   index                        case           location       date  \\\n",
       "0     33    Las Vegas Strip massacre  Las Vegas, Nevada 2017-10-01   \n",
       "1     43  Orlando nightclub massacre   Orlando, Florida 2016-06-12   \n",
       "\n",
       "                                             summary  fatalities  injured  \\\n",
       "0  Stephen Craig Paddock, 64, fired a barrage of ...          58      546   \n",
       "1  Omar Mateen, 29, attacked the Pulse nighclub i...          49       53   \n",
       "\n",
       "   total_victims location1  age_of_shooter  ...  year       town    state  \\\n",
       "0            604     Other            64.0  ...  2017  Las Vegas   Nevada   \n",
       "1            102     Other            29.0  ...  2016    Orlando  Florida   \n",
       "\n",
       "    date_end     Rep     Dem  Dem_perc numQuotes_after_10 numQuotes_before_10  \\\n",
       "0 2017-10-11  3494.0  5158.0  0.596163              35150                8938   \n",
       "1 2016-06-22    35.0     2.0  0.054054                176                  25   \n",
       "\n",
       "  relative_increase  \n",
       "0          2.932647  \n",
       "1          6.040000  \n",
       "\n",
       "[2 rows x 34 columns]"
      ]
     },
     "execution_count": 66,
     "metadata": {},
     "output_type": "execute_result"
    }
   ],
   "source": [
    "# We want to zoom in for the 10 days after each shooting\n",
    "from datetime import timedelta\n",
    "\n",
    "# Create empty columns to fill for some key numbers regarding the shootings\n",
    "data2['numQuotes_after_10'] = 0\n",
    "data2['numQuotes_before_10'] = 0\n",
    "data2['relative_increase'] = 0\n",
    "#data2['slope'] = 0\n",
    "\n",
    "for i in range(0,len(data2)):\n",
    "    \n",
    "    # Get the date of the (i+1)th most lethal shooting\n",
    "    shooting_date = data2.sort_values(by='fatalities',ascending=False)['date'].iloc[i]\n",
    "\n",
    "    # Select only the quotes in the 10 days before the selected shooting\n",
    "    shooting_before =  data1[((data1['date'] <= shooting_date))]\n",
    "    shooting_before =  shooting_before[(shooting_before['date'] > shooting_date - timedelta(days=10))]\n",
    "    \n",
    "    # For each shooting (each row in data2), add column with the number of quotes in the previous 10 days\n",
    "    data2['numQuotes_before_10'].iloc[i] = shooting_before['numOccurrences'].sum()\n",
    "    \n",
    "    # Select only the quotes in the 10 days following the selected shooting\n",
    "    shooting_after =  data1[((data1['date'] >= shooting_date))]\n",
    "    shooting_after =  shooting_after[(shooting_after['date'] < shooting_date + timedelta(days=10))]\n",
    "    \n",
    "    # For each shooting (each row in data2), add column with the number of quotes in the next 10 days\n",
    "    data2['numQuotes_after_10'].iloc[i] = shooting_after['numOccurrences'].sum()\n",
    "    \n",
    "    ## Get the slope of decrease in quotes after each shooting, gives a sense of how quick news faded\n",
    "    #import datetime as dt\n",
    "    #from sklearn import linear_model\n",
    "    #shooting_after['date'] = pd.to_datetime(shooting_after['date']).map(dt.datetime.toordinal)\n",
    "    #slope, intr, r, p_v, std = stats.linregress(shooting_after['date'], shooting_after['numOccurrences'])\n",
    "    #data2['slope'].iloc[i] = slope\n",
    "    \n",
    "# For each shooting (each row in data2), add column with the number of quotes in the previous 10 days\n",
    "data2['relative_increase'] = (data2.numQuotes_after_10 - data2.numQuotes_before_10)/data2.numQuotes_before_10\n",
    "    \n",
    "data2.head(n=2)"
   ]
  },
  {
   "cell_type": "code",
   "execution_count": 67,
   "id": "578f4fc5-2b91-4bbd-8df9-8026143202b6",
   "metadata": {},
   "outputs": [
    {
     "data": {
      "image/png": "[encoded data removed]",
      "text/plain": [
       "<Figure size 432x288 with 1 Axes>"
      ]
     },
     "metadata": {
      "needs_background": "light"
     },
     "output_type": "display_data"
    }
   ],
   "source": [
    "# Bring the relative_increase between 0 and 1\n",
    "mini, maxi = data2.relative_increase.min(), data2.relative_increase.max()\n",
    "data2.relative_increase = (data2.relative_increase - mini) /(maxi - mini)\n",
    "plt.hist(data2.relative_increase, bins=10)\n",
    "plt.show()\n",
    "\n",
    "## Standardize the slope\n",
    "#mean, std = data2.slope.mean(), data2.slope.std()\n",
    "#mini, maxi = data2.slope.min(), data2.slope.max()\n",
    "##data2.slope = (data2.slope - mean) / std\n",
    "##plt.hist(data2.slope, bins=50)\n",
    "## Normalize\n",
    "#data2.slope = (data2.slope - mini) /(maxi - mini)"
   ]
  },
  {
   "cell_type": "code",
   "execution_count": 68,
   "id": "2da93eb4-298e-47d4-ba15-57b2cc92edf8",
   "metadata": {},
   "outputs": [
    {
     "data": {
      "text/html": [
       "<div>\n",
       "<style scoped>\n",
       "    .dataframe tbody tr th:only-of-type {\n",
       "        vertical-align: middle;\n",
       "    }\n",
       "\n",
       "    .dataframe tbody tr th {\n",
       "        vertical-align: top;\n",
       "    }\n",
       "\n",
       "    .dataframe thead th {\n",
       "        text-align: right;\n",
       "    }\n",
       "</style>\n",
       "<table border=\"1\" class=\"dataframe\">\n",
       "  <thead>\n",
       "    <tr style=\"text-align: right;\">\n",
       "      <th></th>\n",
       "      <th>index</th>\n",
       "      <th>case</th>\n",
       "      <th>location</th>\n",
       "      <th>date</th>\n",
       "      <th>summary</th>\n",
       "      <th>fatalities</th>\n",
       "      <th>injured</th>\n",
       "      <th>total_victims</th>\n",
       "      <th>location1</th>\n",
       "      <th>age_of_shooter</th>\n",
       "      <th>...</th>\n",
       "      <th>town</th>\n",
       "      <th>state</th>\n",
       "      <th>date_end</th>\n",
       "      <th>Rep</th>\n",
       "      <th>Dem</th>\n",
       "      <th>Dem_perc</th>\n",
       "      <th>numQuotes_after_10</th>\n",
       "      <th>numQuotes_before_10</th>\n",
       "      <th>relative_increase</th>\n",
       "      <th>reaction_score</th>\n",
       "    </tr>\n",
       "  </thead>\n",
       "  <tbody>\n",
       "    <tr>\n",
       "      <th>0</th>\n",
       "      <td>33</td>\n",
       "      <td>Las Vegas Strip massacre</td>\n",
       "      <td>Las Vegas, Nevada</td>\n",
       "      <td>2017-10-01</td>\n",
       "      <td>Stephen Craig Paddock, 64, fired a barrage of ...</td>\n",
       "      <td>58</td>\n",
       "      <td>546</td>\n",
       "      <td>604</td>\n",
       "      <td>Other</td>\n",
       "      <td>64.0</td>\n",
       "      <td>...</td>\n",
       "      <td>Las Vegas</td>\n",
       "      <td>Nevada</td>\n",
       "      <td>2017-10-11</td>\n",
       "      <td>3494.0</td>\n",
       "      <td>5158.0</td>\n",
       "      <td>0.596163</td>\n",
       "      <td>35150</td>\n",
       "      <td>8938</td>\n",
       "      <td>0.491075</td>\n",
       "      <td>0.491075</td>\n",
       "    </tr>\n",
       "    <tr>\n",
       "      <th>1</th>\n",
       "      <td>43</td>\n",
       "      <td>Orlando nightclub massacre</td>\n",
       "      <td>Orlando, Florida</td>\n",
       "      <td>2016-06-12</td>\n",
       "      <td>Omar Mateen, 29, attacked the Pulse nighclub i...</td>\n",
       "      <td>49</td>\n",
       "      <td>53</td>\n",
       "      <td>102</td>\n",
       "      <td>Other</td>\n",
       "      <td>29.0</td>\n",
       "      <td>...</td>\n",
       "      <td>Orlando</td>\n",
       "      <td>Florida</td>\n",
       "      <td>2016-06-22</td>\n",
       "      <td>35.0</td>\n",
       "      <td>2.0</td>\n",
       "      <td>0.054054</td>\n",
       "      <td>176</td>\n",
       "      <td>25</td>\n",
       "      <td>0.879114</td>\n",
       "      <td>0.879114</td>\n",
       "    </tr>\n",
       "  </tbody>\n",
       "</table>\n",
       "<p>2 rows × 35 columns</p>\n",
       "</div>"
      ],
      "text/plain": [
       "   index                        case           location       date  \\\n",
       "0     33    Las Vegas Strip massacre  Las Vegas, Nevada 2017-10-01   \n",
       "1     43  Orlando nightclub massacre   Orlando, Florida 2016-06-12   \n",
       "\n",
       "                                             summary  fatalities  injured  \\\n",
       "0  Stephen Craig Paddock, 64, fired a barrage of ...          58      546   \n",
       "1  Omar Mateen, 29, attacked the Pulse nighclub i...          49       53   \n",
       "\n",
       "   total_victims location1  age_of_shooter  ...       town    state  \\\n",
       "0            604     Other            64.0  ...  Las Vegas   Nevada   \n",
       "1            102     Other            29.0  ...    Orlando  Florida   \n",
       "\n",
       "    date_end     Rep     Dem  Dem_perc numQuotes_after_10 numQuotes_before_10  \\\n",
       "0 2017-10-11  3494.0  5158.0  0.596163              35150                8938   \n",
       "1 2016-06-22    35.0     2.0  0.054054                176                  25   \n",
       "\n",
       "  relative_increase reaction_score  \n",
       "0          0.491075       0.491075  \n",
       "1          0.879114       0.879114  \n",
       "\n",
       "[2 rows x 35 columns]"
      ]
     },
     "execution_count": 68,
     "metadata": {},
     "output_type": "execute_result"
    }
   ],
   "source": [
    "# Compute the reaction score for each shooting\n",
    "data2['reaction_score'] = data2.relative_increase\n",
    "data2.head(n=2)"
   ]
  },
  {
   "cell_type": "markdown",
   "id": "2bb9a514-2d5c-49be-af52-5e7da7e2b3b8",
   "metadata": {},
   "source": [
    "### 3.5 - Feature's influence on reaction score"
   ]
  },
  {
   "cell_type": "markdown",
   "id": "ef916ab1-9421-41d0-9799-b2b5e8b09696",
   "metadata": {},
   "source": [
    "We will start by plotting the average reaction scores for different types of features: location type, weapon type, weapon legality, gender of shooter, etc."
   ]
  },
  {
   "cell_type": "code",
   "execution_count": 69,
   "id": "5dc83ab3-ba7a-417f-a523-20dcc6e7c34f",
   "metadata": {},
   "outputs": [
    {
     "data": {
      "image/png": "[encoded data removed]",
      "text/plain": [
       "<Figure size 504x360 with 1 Axes>"
      ]
     },
     "metadata": {
      "needs_background": "light"
     },
     "output_type": "display_data"
    }
   ],
   "source": [
    "# Some of the locations were written as '\\nWorkplace', we replace with 'Workplace'\n",
    "data2.location1.replace('\\nWorkplace', 'Workplace', inplace=True)\n",
    "\n",
    "# Group all rows per location, and average the values of columns doing so\n",
    "data_by = data2.groupby(['location1']).mean()\n",
    "data_by = data_by.reset_index()\n",
    "\n",
    "# Plot the reaction score average for each location type\n",
    "fig = plt.subplots(figsize=(7,5))\n",
    "\n",
    "# Plot the average reaction score for each location type\n",
    "plt.bar(data_by.location1, data_by.reaction_score)\n",
    "plt.xlabel('Location type')\n",
    "plt.ylabel('Average reaction score')\n",
    "plt.show()"
   ]
  },
  {
   "cell_type": "code",
   "execution_count": 70,
   "id": "c945b3f2-7d0b-4c47-896c-55c560494db1",
   "metadata": {},
   "outputs": [
    {
     "data": {
      "image/png": "[encoded data removed]",
      "text/plain": [
       "<Figure size 504x360 with 1 Axes>"
      ]
     },
     "metadata": {
      "needs_background": "light"
     },
     "output_type": "display_data"
    }
   ],
   "source": [
    "data2.weapon_type.replace('23 firearms, mostly rifles; including scopes, and two modified for \"fully automatic\" firing; two were mounted on tripods', 'Automatic', inplace=True)\n",
    "data2.weapon_type.replace('Semiautomatic rifle, semiautomatic handgun', 'Semiautomatic', inplace=True)\n",
    "data2.weapon_type.replace('semiautomatic rifle', 'Semiautomatic', inplace=True)\n",
    "data2.weapon_type.replace([\"Two assault rifles and two semi-automatic pistols were used in the attack. Police found a remote controlled explosive device at the scene of the crime. At the home were 12 pipe bombs, 2,500 rounds for the AR-15 variants, 2,000 rounds for the pistols, and several hundred for a .22 calibre rifle. In the suspects' car were an additional 1,400 rounds for the rifles and 200 for the handguns.\",'2 assault rifles; semiautomatic handgun\\n'], 'Assault', inplace=True)\n",
    "data2.weapon_type.replace(\"semiautomatic handgun\", 'Semiautomatic', inplace=True)\n",
    "data2.weapon_type.replace(\"semiautomatic handgun\", 'Semiautomatic', inplace=True)\n",
    "data2.weapon_type.replace(\"semiautomatic rifle; semiautomatic handguns\", 'Semiautomatic', inplace=True)\n",
    "data2.weapon_type.replace([\"Semiautomatic handgun', 'semiautomatic handgun\\n\", \n",
    "                           'semiautomatic rifle and semiautomatic handgun',\n",
    "                          'Semiautomatic rifle, semiautomatic handguns',\n",
    "                          'Semiautomatic handgun','semiautomatic handgun\\n',\n",
    "                          'semiautomatic rifles','Two semiautomatic rifles; one semiautomatic handgun',\n",
    "                          'semiautomatic rifle; shotgun'], 'Semiautomatic', inplace=True)\n",
    "data2.weapon_type.replace(['2 handguns','handgun','Two handguns and a rifle','handgun, shotgun',\n",
    "                           'two handguns','Two handguns\\n'], 'Handgun', inplace=True)\n",
    "data2.weapon_type.replace(['shotgun; .38 revolver', \n",
    "                           'Five pistols, one rifle, five magazines of ammunition', 'Rifle',\n",
    "                           'shotgun', '-', 'Long gun', 'shotguns'], 'Other', inplace=True)\n",
    "\n",
    "\n",
    "# Group all rows by weapon type, and average the values of columns doing so\n",
    "data_by = data2.groupby(['weapon_type']).mean()\n",
    "data_by = data_by.reset_index()\n",
    "\n",
    "# Plot the reaction score average for each location type\n",
    "fig = plt.subplots(figsize=(7,5))\n",
    "\n",
    "# Plot the average reaction score for each weapon type\n",
    "plt.bar(data_by.weapon_type, data_by.reaction_score)\n",
    "plt.xlabel('Weapon type')\n",
    "plt.ylabel('Average reaction score')\n",
    "plt.show()"
   ]
  },
  {
   "cell_type": "code",
   "execution_count": 71,
   "id": "ad48a32c-94a2-45b0-a8f6-ea5e62715eae",
   "metadata": {},
   "outputs": [
    {
     "data": {
      "image/png": "[encoded data removed]",
      "text/plain": [
       "<Figure size 288x288 with 1 Axes>"
      ]
     },
     "metadata": {
      "needs_background": "light"
     },
     "output_type": "display_data"
    }
   ],
   "source": [
    "# Get only 'Yes', 'No' and 'Unknown/TBD' answers to legality of weapons\n",
    "data2.weapons_obtained_legally.replace('\\nYes', 'Yes', inplace=True)\n",
    "data2.weapons_obtained_legally.replace('-', 'Unknown', inplace=True)\n",
    "data2.weapons_obtained_legally.replace('TBD', 'Unknown', inplace=True)\n",
    "data2.weapons_obtained_legally.replace('Yes (\"some of the weapons were purchased legally and some of them may not have been\")', 'Yes', inplace=True)\n",
    "data2.weapons_obtained_legally.replace('Kelley passed federal criminal background checks; the US Air Force failed to provide information on his criminal history to the FBI', 'Unknown', inplace=True)\n",
    "data2.weapons_obtained_legally.replace('Unknown', 'Unknown/TBD', inplace=True)\n",
    "\n",
    "# Group all rows by weapon legality, and average the values of columns doing so\n",
    "data_by = data2.groupby(['weapons_obtained_legally']).mean()\n",
    "data_by = data_by.reset_index()\n",
    "\n",
    "# Plot the reaction score average for each location type\n",
    "fig = plt.subplots(figsize=(4,4))\n",
    "\n",
    "# Plot the average reaction score for each weapon legality type\n",
    "plt.bar(data_by.weapons_obtained_legally, data_by.reaction_score)\n",
    "plt.xlabel('Weapon legality')\n",
    "plt.ylabel('Average reaction score')\n",
    "plt.show()"
   ]
  },
  {
   "cell_type": "code",
   "execution_count": 72,
   "id": "a879dd1d-9f07-4d73-8a3d-4f43d06b0f08",
   "metadata": {},
   "outputs": [
    {
     "data": {
      "image/png": "[encoded data removed]",
      "text/plain": [
       "<Figure size 288x288 with 1 Axes>"
      ]
     },
     "metadata": {
      "needs_background": "light"
     },
     "output_type": "display_data"
    }
   ],
   "source": [
    "data2.gender.replace('M', 'Male', inplace=True)\n",
    "data2.gender.replace('F', 'Female', inplace=True)\n",
    "\n",
    "# Group all rows by gender, and average the values of columns doing so\n",
    "data_by = data2.groupby(['gender']).mean()\n",
    "data_by = data_by.reset_index()\n",
    "\n",
    "# Plot the reaction score average for each location type\n",
    "fig = plt.subplots(figsize=(4,4))\n",
    "\n",
    "# Plot the average reaction score for each weapon legality type\n",
    "plt.bar(data_by.gender, data_by.reaction_score)\n",
    "plt.xlabel('Gender of shooter(s)')\n",
    "plt.ylabel('Average reaction score')\n",
    "plt.show()"
   ]
  },
  {
   "cell_type": "code",
   "execution_count": 73,
   "id": "a312c154-43c2-4b58-9c2e-85d7ac3ee624",
   "metadata": {},
   "outputs": [
    {
     "data": {
      "image/png": "[encoded data removed]",
      "text/plain": [
       "<Figure size 504x360 with 1 Axes>"
      ]
     },
     "metadata": {
      "needs_background": "light"
     },
     "output_type": "display_data"
    }
   ],
   "source": [
    "# Get only 'Yes', 'No' and 'Unknown/TBD' answers to legality of weapons\n",
    "data2.race.replace('White ', 'White', inplace=True)\n",
    "data2.race.replace('-', 'Unknown', inplace=True)\n",
    "\n",
    "# Group all rows by gender, and average the values of columns doing so\n",
    "data_by = data2.groupby(['race']).mean()\n",
    "data_by = data_by.reset_index()\n",
    "\n",
    "# Plot the reaction score average for each location type\n",
    "fig = plt.subplots(figsize=(7,5))\n",
    "\n",
    "# Plot the average reaction score for each weapon legality type\n",
    "plt.bar(data_by.race, data_by.reaction_score)\n",
    "plt.xlabel('Race of shooter(s)')\n",
    "plt.ylabel('Average reaction score')\n",
    "plt.show()"
   ]
  },
  {
   "cell_type": "code",
   "execution_count": 74,
   "id": "0b692801-eb3d-4edc-b504-c5e60696a152",
   "metadata": {},
   "outputs": [
    {
     "data": {
      "text/html": [
       "<div>\n",
       "<style scoped>\n",
       "    .dataframe tbody tr th:only-of-type {\n",
       "        vertical-align: middle;\n",
       "    }\n",
       "\n",
       "    .dataframe tbody tr th {\n",
       "        vertical-align: top;\n",
       "    }\n",
       "\n",
       "    .dataframe thead th {\n",
       "        text-align: right;\n",
       "    }\n",
       "</style>\n",
       "<table border=\"1\" class=\"dataframe\">\n",
       "  <thead>\n",
       "    <tr style=\"text-align: right;\">\n",
       "      <th></th>\n",
       "      <th>index</th>\n",
       "      <th>case</th>\n",
       "      <th>location</th>\n",
       "      <th>date</th>\n",
       "      <th>summary</th>\n",
       "      <th>fatalities</th>\n",
       "      <th>injured</th>\n",
       "      <th>total_victims</th>\n",
       "      <th>location1</th>\n",
       "      <th>age_of_shooter</th>\n",
       "      <th>...</th>\n",
       "      <th>latitude</th>\n",
       "      <th>longitude</th>\n",
       "      <th>type</th>\n",
       "      <th>year</th>\n",
       "      <th>town</th>\n",
       "      <th>state</th>\n",
       "      <th>date_end</th>\n",
       "      <th>Rep</th>\n",
       "      <th>Dem</th>\n",
       "      <th>Dem_perc</th>\n",
       "    </tr>\n",
       "  </thead>\n",
       "  <tbody>\n",
       "    <tr>\n",
       "      <th>0</th>\n",
       "      <td>5</td>\n",
       "      <td>Springfield convenience store shooting</td>\n",
       "      <td>Springfield, Missouri</td>\n",
       "      <td>2020-03-16</td>\n",
       "      <td>Joaquin S. Roman, 31, went on a rampage culmin...</td>\n",
       "      <td>4</td>\n",
       "      <td>0</td>\n",
       "      <td>4</td>\n",
       "      <td>Workplace</td>\n",
       "      <td>31.0</td>\n",
       "      <td>...</td>\n",
       "      <td>37.210432</td>\n",
       "      <td>-93.236860</td>\n",
       "      <td>Mass</td>\n",
       "      <td>2020</td>\n",
       "      <td>Springfield</td>\n",
       "      <td>Missouri</td>\n",
       "      <td>2020-03-26</td>\n",
       "      <td>11.0</td>\n",
       "      <td>220.0</td>\n",
       "      <td>0.952381</td>\n",
       "    </tr>\n",
       "    <tr>\n",
       "      <th>1</th>\n",
       "      <td>6</td>\n",
       "      <td>Molson Coors shooting</td>\n",
       "      <td>Milwaukee, Wisconsin</td>\n",
       "      <td>2020-02-26</td>\n",
       "      <td>Anthony Ferrill, 51, an employee armed with tw...</td>\n",
       "      <td>5</td>\n",
       "      <td>0</td>\n",
       "      <td>5</td>\n",
       "      <td>Workplace</td>\n",
       "      <td>51.0</td>\n",
       "      <td>...</td>\n",
       "      <td>43.044511</td>\n",
       "      <td>-87.962537</td>\n",
       "      <td>Mass</td>\n",
       "      <td>2020</td>\n",
       "      <td>Milwaukee</td>\n",
       "      <td>Wisconsin</td>\n",
       "      <td>2020-03-07</td>\n",
       "      <td>37.0</td>\n",
       "      <td>86.0</td>\n",
       "      <td>0.699187</td>\n",
       "    </tr>\n",
       "    <tr>\n",
       "      <th>2</th>\n",
       "      <td>7</td>\n",
       "      <td>Jersey City kosher market shooting</td>\n",
       "      <td>Jersey City, New Jersey</td>\n",
       "      <td>2019-12-10</td>\n",
       "      <td>David N. Anderson, 47, and Francine Graham, 50...</td>\n",
       "      <td>4</td>\n",
       "      <td>3</td>\n",
       "      <td>7</td>\n",
       "      <td>Other</td>\n",
       "      <td>NaN</td>\n",
       "      <td>...</td>\n",
       "      <td>40.707363</td>\n",
       "      <td>-74.083609</td>\n",
       "      <td>Spree</td>\n",
       "      <td>2019</td>\n",
       "      <td>Jersey City</td>\n",
       "      <td>New Jersey</td>\n",
       "      <td>2019-12-20</td>\n",
       "      <td>19.0</td>\n",
       "      <td>237.0</td>\n",
       "      <td>0.925781</td>\n",
       "    </tr>\n",
       "    <tr>\n",
       "      <th>3</th>\n",
       "      <td>8</td>\n",
       "      <td>Pensacola Naval base shooting</td>\n",
       "      <td>Pensacola, Florida</td>\n",
       "      <td>2019-12-06</td>\n",
       "      <td>Ahmed Mohammed al-Shamrani, A Saudi Arabian mi...</td>\n",
       "      <td>3</td>\n",
       "      <td>8</td>\n",
       "      <td>11</td>\n",
       "      <td>Military</td>\n",
       "      <td>NaN</td>\n",
       "      <td>...</td>\n",
       "      <td>30.364707</td>\n",
       "      <td>-87.288567</td>\n",
       "      <td>Mass</td>\n",
       "      <td>2019</td>\n",
       "      <td>Pensacola</td>\n",
       "      <td>Florida</td>\n",
       "      <td>2019-12-16</td>\n",
       "      <td>42.0</td>\n",
       "      <td>188.0</td>\n",
       "      <td>0.817391</td>\n",
       "    </tr>\n",
       "    <tr>\n",
       "      <th>4</th>\n",
       "      <td>9</td>\n",
       "      <td>Odessa-Midland shooting spree</td>\n",
       "      <td>Odessa, Texas</td>\n",
       "      <td>2019-08-31</td>\n",
       "      <td>Seth A. Ator, 36, fired at police officers who...</td>\n",
       "      <td>7</td>\n",
       "      <td>25</td>\n",
       "      <td>32</td>\n",
       "      <td>Other</td>\n",
       "      <td>36.0</td>\n",
       "      <td>...</td>\n",
       "      <td>31.925974</td>\n",
       "      <td>-102.279600</td>\n",
       "      <td>Spree</td>\n",
       "      <td>2019</td>\n",
       "      <td>Odessa</td>\n",
       "      <td>Texas</td>\n",
       "      <td>2019-09-10</td>\n",
       "      <td>775.0</td>\n",
       "      <td>1262.0</td>\n",
       "      <td>0.619539</td>\n",
       "    </tr>\n",
       "  </tbody>\n",
       "</table>\n",
       "<p>5 rows × 31 columns</p>\n",
       "</div>"
      ],
      "text/plain": [
       "   index                                    case                 location  \\\n",
       "0      5  Springfield convenience store shooting    Springfield, Missouri   \n",
       "1      6                   Molson Coors shooting     Milwaukee, Wisconsin   \n",
       "2      7      Jersey City kosher market shooting  Jersey City, New Jersey   \n",
       "3      8           Pensacola Naval base shooting       Pensacola, Florida   \n",
       "4      9           Odessa-Midland shooting spree            Odessa, Texas   \n",
       "\n",
       "        date                                            summary  fatalities  \\\n",
       "0 2020-03-16  Joaquin S. Roman, 31, went on a rampage culmin...           4   \n",
       "1 2020-02-26  Anthony Ferrill, 51, an employee armed with tw...           5   \n",
       "2 2019-12-10  David N. Anderson, 47, and Francine Graham, 50...           4   \n",
       "3 2019-12-06  Ahmed Mohammed al-Shamrani, A Saudi Arabian mi...           3   \n",
       "4 2019-08-31  Seth A. Ator, 36, fired at police officers who...           7   \n",
       "\n",
       "   injured  total_victims  location1  age_of_shooter  ...   latitude  \\\n",
       "0        0              4  Workplace            31.0  ...  37.210432   \n",
       "1        0              5  Workplace            51.0  ...  43.044511   \n",
       "2        3              7      Other             NaN  ...  40.707363   \n",
       "3        8             11   Military             NaN  ...  30.364707   \n",
       "4       25             32      Other            36.0  ...  31.925974   \n",
       "\n",
       "    longitude   type  year         town       state   date_end    Rep     Dem  \\\n",
       "0  -93.236860   Mass  2020  Springfield    Missouri 2020-03-26   11.0   220.0   \n",
       "1  -87.962537   Mass  2020    Milwaukee   Wisconsin 2020-03-07   37.0    86.0   \n",
       "2  -74.083609  Spree  2019  Jersey City  New Jersey 2019-12-20   19.0   237.0   \n",
       "3  -87.288567   Mass  2019    Pensacola     Florida 2019-12-16   42.0   188.0   \n",
       "4 -102.279600  Spree  2019       Odessa       Texas 2019-09-10  775.0  1262.0   \n",
       "\n",
       "   Dem_perc  \n",
       "0  0.952381  \n",
       "1  0.699187  \n",
       "2  0.925781  \n",
       "3  0.817391  \n",
       "4  0.619539  \n",
       "\n",
       "[5 rows x 31 columns]"
      ]
     },
     "execution_count": 74,
     "metadata": {},
     "output_type": "execute_result"
    }
   ],
   "source": [
    "df.head()"
   ]
  },
  {
   "cell_type": "markdown",
   "id": "6cdbd541-569e-46e9-86ed-5300c00ae56e",
   "metadata": {},
   "source": [
    "#### Regression analysis"
   ]
  },
  {
   "cell_type": "code",
   "execution_count": 75,
   "id": "b2818039-e274-4b25-9476-cb351d88745b",
   "metadata": {},
   "outputs": [],
   "source": [
    "regression_data = data2[['fatalities','location1','weapons_obtained_legally', 'Dem_perc']]"
   ]
  },
  {
   "cell_type": "code",
   "execution_count": 76,
   "id": "1c270da6-d30d-4276-a6ee-c802d0a61ef5",
   "metadata": {},
   "outputs": [
    {
     "data": {
      "text/html": [
       "<div>\n",
       "<style scoped>\n",
       "    .dataframe tbody tr th:only-of-type {\n",
       "        vertical-align: middle;\n",
       "    }\n",
       "\n",
       "    .dataframe tbody tr th {\n",
       "        vertical-align: top;\n",
       "    }\n",
       "\n",
       "    .dataframe thead th {\n",
       "        text-align: right;\n",
       "    }\n",
       "</style>\n",
       "<table border=\"1\" class=\"dataframe\">\n",
       "  <thead>\n",
       "    <tr style=\"text-align: right;\">\n",
       "      <th></th>\n",
       "      <th>fatalities</th>\n",
       "      <th>weapons_obtained_legally</th>\n",
       "      <th>Dem_perc</th>\n",
       "      <th>Other_onehot</th>\n",
       "      <th>Religious_onehot</th>\n",
       "      <th>Workplace_onehot</th>\n",
       "      <th>School_onehot</th>\n",
       "      <th>Airport_onehot</th>\n",
       "      <th>Military_onehot</th>\n",
       "    </tr>\n",
       "  </thead>\n",
       "  <tbody>\n",
       "    <tr>\n",
       "      <th>0</th>\n",
       "      <td>58</td>\n",
       "      <td>1.0</td>\n",
       "      <td>0.596163</td>\n",
       "      <td>1</td>\n",
       "      <td>0</td>\n",
       "      <td>0</td>\n",
       "      <td>0</td>\n",
       "      <td>0</td>\n",
       "      <td>0</td>\n",
       "    </tr>\n",
       "    <tr>\n",
       "      <th>1</th>\n",
       "      <td>49</td>\n",
       "      <td>1.0</td>\n",
       "      <td>0.054054</td>\n",
       "      <td>1</td>\n",
       "      <td>0</td>\n",
       "      <td>0</td>\n",
       "      <td>0</td>\n",
       "      <td>0</td>\n",
       "      <td>0</td>\n",
       "    </tr>\n",
       "    <tr>\n",
       "      <th>2</th>\n",
       "      <td>26</td>\n",
       "      <td>0.5</td>\n",
       "      <td>0.446133</td>\n",
       "      <td>0</td>\n",
       "      <td>1</td>\n",
       "      <td>0</td>\n",
       "      <td>0</td>\n",
       "      <td>0</td>\n",
       "      <td>0</td>\n",
       "    </tr>\n",
       "  </tbody>\n",
       "</table>\n",
       "</div>"
      ],
      "text/plain": [
       "   fatalities  weapons_obtained_legally  Dem_perc  Other_onehot  \\\n",
       "0          58                       1.0  0.596163             1   \n",
       "1          49                       1.0  0.054054             1   \n",
       "2          26                       0.5  0.446133             0   \n",
       "\n",
       "   Religious_onehot  Workplace_onehot  School_onehot  Airport_onehot  \\\n",
       "0                 0                 0              0               0   \n",
       "1                 0                 0              0               0   \n",
       "2                 1                 0              0               0   \n",
       "\n",
       "   Military_onehot  \n",
       "0                0  \n",
       "1                0  \n",
       "2                0  "
      ]
     },
     "execution_count": 76,
     "metadata": {},
     "output_type": "execute_result"
    }
   ],
   "source": [
    "# We need to make all the values numbers\n",
    "\n",
    "# Make weapon legality a 0/1 value\n",
    "for i in range(0,len(regression_data)):\n",
    "    regression_data.weapons_obtained_legally.replace('Yes', 1, inplace=True)\n",
    "    regression_data.weapons_obtained_legally.replace('No', 0, inplace=True)\n",
    "    regression_data.weapons_obtained_legally.replace('Unknown/TBD', 0.5, inplace=True)\n",
    "\n",
    "# Onehot encode the location types\n",
    "locations = list(regression_data.location1.unique())\n",
    "\n",
    "for location in locations:\n",
    "    # New column {location}_onehot, with value 1 if location is {location}, 0 otherwise\n",
    "    regression_data[location+'_onehot'] = np.where(regression_data['location1'] == location, 1, 0)\n",
    "        \n",
    "regression_data.drop('location1', axis=1, inplace=True)\n",
    "regression_data.head(n=3)"
   ]
  },
  {
   "cell_type": "code",
   "execution_count": 77,
   "id": "319bb00a-cd40-4098-87ed-975c932563b2",
   "metadata": {},
   "outputs": [
    {
     "data": {
      "text/html": [
       "<div>\n",
       "<style scoped>\n",
       "    .dataframe tbody tr th:only-of-type {\n",
       "        vertical-align: middle;\n",
       "    }\n",
       "\n",
       "    .dataframe tbody tr th {\n",
       "        vertical-align: top;\n",
       "    }\n",
       "\n",
       "    .dataframe thead th {\n",
       "        text-align: right;\n",
       "    }\n",
       "</style>\n",
       "<table border=\"1\" class=\"dataframe\">\n",
       "  <thead>\n",
       "    <tr style=\"text-align: right;\">\n",
       "      <th></th>\n",
       "      <th>fatalities</th>\n",
       "      <th>weapons_obtained_legally</th>\n",
       "      <th>Dem_perc</th>\n",
       "      <th>Other_onehot</th>\n",
       "      <th>Religious_onehot</th>\n",
       "      <th>Workplace_onehot</th>\n",
       "      <th>School_onehot</th>\n",
       "      <th>Airport_onehot</th>\n",
       "      <th>Military_onehot</th>\n",
       "    </tr>\n",
       "  </thead>\n",
       "  <tbody>\n",
       "    <tr>\n",
       "      <th>0</th>\n",
       "      <td>4.606935</td>\n",
       "      <td>0.798839</td>\n",
       "      <td>0.253579</td>\n",
       "      <td>1.222505</td>\n",
       "      <td>-0.255495</td>\n",
       "      <td>-0.836304</td>\n",
       "      <td>-0.255495</td>\n",
       "      <td>-0.144338</td>\n",
       "      <td>-0.206331</td>\n",
       "    </tr>\n",
       "    <tr>\n",
       "      <th>1</th>\n",
       "      <td>3.773520</td>\n",
       "      <td>0.798839</td>\n",
       "      <td>-1.790509</td>\n",
       "      <td>1.222505</td>\n",
       "      <td>-0.255495</td>\n",
       "      <td>-0.836304</td>\n",
       "      <td>-0.255495</td>\n",
       "      <td>-0.144338</td>\n",
       "      <td>-0.206331</td>\n",
       "    </tr>\n",
       "    <tr>\n",
       "      <th>2</th>\n",
       "      <td>1.643680</td>\n",
       "      <td>-0.734931</td>\n",
       "      <td>-0.312126</td>\n",
       "      <td>-0.800951</td>\n",
       "      <td>3.832427</td>\n",
       "      <td>-0.836304</td>\n",
       "      <td>-0.255495</td>\n",
       "      <td>-0.144338</td>\n",
       "      <td>-0.206331</td>\n",
       "    </tr>\n",
       "    <tr>\n",
       "      <th>3</th>\n",
       "      <td>1.273274</td>\n",
       "      <td>0.798839</td>\n",
       "      <td>0.473033</td>\n",
       "      <td>-0.800951</td>\n",
       "      <td>-0.255495</td>\n",
       "      <td>1.170826</td>\n",
       "      <td>-0.255495</td>\n",
       "      <td>-0.144338</td>\n",
       "      <td>-0.206331</td>\n",
       "    </tr>\n",
       "    <tr>\n",
       "      <th>4</th>\n",
       "      <td>0.810265</td>\n",
       "      <td>0.798839</td>\n",
       "      <td>-0.406892</td>\n",
       "      <td>-0.800951</td>\n",
       "      <td>-0.255495</td>\n",
       "      <td>-0.836304</td>\n",
       "      <td>3.832427</td>\n",
       "      <td>-0.144338</td>\n",
       "      <td>-0.206331</td>\n",
       "    </tr>\n",
       "  </tbody>\n",
       "</table>\n",
       "</div>"
      ],
      "text/plain": [
       "   fatalities  weapons_obtained_legally  Dem_perc  Other_onehot  \\\n",
       "0    4.606935                  0.798839  0.253579      1.222505   \n",
       "1    3.773520                  0.798839 -1.790509      1.222505   \n",
       "2    1.643680                 -0.734931 -0.312126     -0.800951   \n",
       "3    1.273274                  0.798839  0.473033     -0.800951   \n",
       "4    0.810265                  0.798839 -0.406892     -0.800951   \n",
       "\n",
       "   Religious_onehot  Workplace_onehot  School_onehot  Airport_onehot  \\\n",
       "0         -0.255495         -0.836304      -0.255495       -0.144338   \n",
       "1         -0.255495         -0.836304      -0.255495       -0.144338   \n",
       "2          3.832427         -0.836304      -0.255495       -0.144338   \n",
       "3         -0.255495          1.170826      -0.255495       -0.144338   \n",
       "4         -0.255495         -0.836304       3.832427       -0.144338   \n",
       "\n",
       "   Military_onehot  \n",
       "0        -0.206331  \n",
       "1        -0.206331  \n",
       "2        -0.206331  \n",
       "3        -0.206331  \n",
       "4        -0.206331  "
      ]
     },
     "execution_count": 77,
     "metadata": {},
     "output_type": "execute_result"
    }
   ],
   "source": [
    "# Get Z-scores for each column\n",
    "for col in regression_data.columns:\n",
    "    \n",
    "    regression_data[col] = regression_data[col].astype('float')\n",
    "    mean = regression_data[col].mean()\n",
    "    std = regression_data[col].std()\n",
    "    \n",
    "    regression_data[col] = (regression_data[col] - mean) / std\n",
    "    \n",
    "regression_data.head()"
   ]
  },
  {
   "cell_type": "code",
   "execution_count": 78,
   "id": "18d85c72-5b85-498c-b55d-bf0b67bfdb2c",
   "metadata": {},
   "outputs": [
    {
     "name": "stdout",
     "output_type": "stream",
     "text": [
      "                            OLS Regression Results                            \n",
      "==============================================================================\n",
      "Dep. Variable:         reaction_score   R-squared:                       0.225\n",
      "Model:                            OLS   Adj. R-squared:                  0.133\n",
      "Method:                 Least Squares   F-statistic:                     2.437\n",
      "Date:                Fri, 17 Dec 2021   Prob (F-statistic):             0.0500\n",
      "Time:                        15:10:22   Log-Likelihood:                 7.1629\n",
      "No. Observations:                  48   AIC:                            -2.326\n",
      "Df Residuals:                      42   BIC:                             8.901\n",
      "Df Model:                           5                                         \n",
      "Covariance Type:            nonrobust                                         \n",
      "============================================================================================\n",
      "                               coef    std err          t      P>|t|      [0.025      0.975]\n",
      "--------------------------------------------------------------------------------------------\n",
      "Intercept                    0.2453      0.032      7.627      0.000       0.180       0.310\n",
      "fatalities                   0.0880      0.034      2.574      0.014       0.019       0.157\n",
      "weapons_obtained_legally     0.0248      0.034      0.734      0.467      -0.043       0.093\n",
      "School_onehot                0.0054      0.034      0.158      0.875      -0.063       0.074\n",
      "Workplace_onehot            -0.0164      0.034     -0.479      0.634      -0.085       0.053\n",
      "Dem_perc                    -0.0369      0.033     -1.105      0.275      -0.104       0.030\n",
      "==============================================================================\n",
      "Omnibus:                       38.643   Durbin-Watson:                   1.466\n",
      "Prob(Omnibus):                  0.000   Jarque-Bera (JB):              105.914\n",
      "Skew:                           2.251   Prob(JB):                     1.00e-23\n",
      "Kurtosis:                       8.718   Cond. No.                         1.51\n",
      "==============================================================================\n",
      "\n",
      "Notes:\n",
      "[1] Standard Errors assume that the covariance matrix of the errors is correctly specified.\n"
     ]
    }
   ],
   "source": [
    "regression_data['reaction_score'] = data2['reaction_score']\n",
    "\n",
    "# Declares the model\n",
    "mod = smf.ols(formula='reaction_score ~ fatalities + weapons_obtained_legally + School_onehot + Workplace_onehot + Dem_perc', data=regression_data)\n",
    "\n",
    "# Fits the model (find the optimal coefficients, adding a random seed ensures consistency)\n",
    "np.random.seed(2)\n",
    "res = mod.fit()\n",
    "\n",
    "print(res.summary())"
   ]
  },
  {
   "cell_type": "markdown",
   "id": "13f407ae-a8f0-4a46-8ea9-18095ebb3091",
   "metadata": {},
   "source": [
    "The parquet file helped us to attribute a party to some speakers when data was available on Wikipedia. However, some shootings occured during periods where either the Quotebank dataset has poor amount of quotes or almost no quotes related to guns where selected by our algorithm. This results in finding very few quotes associated to Democrats or Republicans for some shootings. For instance, some shootings had 2 Republican occurences and 0 Democratic ones. We would like to drop these rows as they provide very extreme percentages and influence our results. We will drop rows with less than 20 quotes associated with a party."
   ]
  },
  {
   "cell_type": "code",
   "execution_count": 91,
   "id": "38da126a-edb0-41fd-b589-6e9bda0f0006",
   "metadata": {},
   "outputs": [
    {
     "name": "stdout",
     "output_type": "stream",
     "text": [
      "                            OLS Regression Results                            \n",
      "==============================================================================\n",
      "Dep. Variable:         reaction_score   R-squared:                       0.013\n",
      "Model:                            OLS   Adj. R-squared:                 -0.010\n",
      "Method:                 Least Squares   F-statistic:                    0.5612\n",
      "Date:                Fri, 17 Dec 2021   Prob (F-statistic):              0.458\n",
      "Time:                        15:45:06   Log-Likelihood:                 4.1266\n",
      "No. Observations:                  45   AIC:                            -4.253\n",
      "Df Residuals:                      43   BIC:                           -0.6399\n",
      "Df Model:                           1                                         \n",
      "Covariance Type:            nonrobust                                         \n",
      "==============================================================================\n",
      "                 coef    std err          t      P>|t|      [0.025      0.975]\n",
      "------------------------------------------------------------------------------\n",
      "Intercept      0.2908      0.088      3.318      0.002       0.114       0.468\n",
      "Dem_perc      -0.1077      0.144     -0.749      0.458      -0.398       0.182\n",
      "==============================================================================\n",
      "Omnibus:                       28.557   Durbin-Watson:                   1.212\n",
      "Prob(Omnibus):                  0.000   Jarque-Bera (JB):               51.569\n",
      "Skew:                           1.905   Prob(JB):                     6.34e-12\n",
      "Kurtosis:                       6.605   Cond. No.                         5.68\n",
      "==============================================================================\n",
      "\n",
      "Notes:\n",
      "[1] Standard Errors assume that the covariance matrix of the errors is correctly specified.\n"
     ]
    }
   ],
   "source": [
    "# Keeping data relative to the parties\n",
    "regression_data = data2[['fatalities', 'Dem', 'Rep', 'Dem_perc', 'reaction_score']]\n",
    "\n",
    "# Droping rows with low number of quotes identified\n",
    "regression_data = regression_data.drop(regression_data[regression_data['Dem'] + regression_data['Dem'] < 20].index)\n",
    "\n",
    "# Declares the model\n",
    "mod = smf.ols(formula='reaction_score ~ Dem_perc', data=regression_data)\n",
    "\n",
    "# Fits the model (find the optimal coefficients, adding a random seed ensures consistency)\n",
    "np.random.seed(2)\n",
    "res = mod.fit()\n",
    "\n",
    "print(res.summary())"
   ]
  },
  {
   "cell_type": "markdown",
   "id": "24a6602a-0bcd-4621-a79a-5b56036f12cb",
   "metadata": {},
   "source": [
    "The p-value for Dem_perc is high (0.46) thus we can not conclude on the influence that the political polarization of the debate has on the reaction score."
   ]
  },
  {
   "cell_type": "markdown",
   "id": "f51dc80d-fbe5-4f35-b528-2bac51d89d89",
   "metadata": {},
   "source": [
    "### PCA"
   ]
  },
  {
   "cell_type": "markdown",
   "id": "04078d4e-4988-49e9-805a-52c3e4dd3697",
   "metadata": {},
   "source": [
    "To study the relationships and correlations between the features, we will perform a principal componant analysis (PCA). "
   ]
  },
  {
   "cell_type": "code",
   "execution_count": 77,
   "id": "faa9b66e-f2c4-434f-abfc-4b73e296179c",
   "metadata": {},
   "outputs": [
    {
     "data": {
      "text/html": [
       "<div>\n",
       "<style scoped>\n",
       "    .dataframe tbody tr th:only-of-type {\n",
       "        vertical-align: middle;\n",
       "    }\n",
       "\n",
       "    .dataframe tbody tr th {\n",
       "        vertical-align: top;\n",
       "    }\n",
       "\n",
       "    .dataframe thead th {\n",
       "        text-align: right;\n",
       "    }\n",
       "</style>\n",
       "<table border=\"1\" class=\"dataframe\">\n",
       "  <thead>\n",
       "    <tr style=\"text-align: right;\">\n",
       "      <th></th>\n",
       "      <th>fatalities</th>\n",
       "      <th>weapons_obtained_legally</th>\n",
       "      <th>Other_onehot</th>\n",
       "      <th>Religious_onehot</th>\n",
       "      <th>Workplace_onehot</th>\n",
       "      <th>School_onehot</th>\n",
       "      <th>Military_onehot</th>\n",
       "      <th>Airport_onehot</th>\n",
       "      <th>reaction_score</th>\n",
       "      <th>PC1</th>\n",
       "      <th>PC2</th>\n",
       "      <th>PC3</th>\n",
       "      <th>PC4</th>\n",
       "      <th>state</th>\n",
       "      <th>fat</th>\n",
       "      <th>State</th>\n",
       "      <th>Fatalities</th>\n",
       "    </tr>\n",
       "  </thead>\n",
       "  <tbody>\n",
       "    <tr>\n",
       "      <th>0</th>\n",
       "      <td>4.606935</td>\n",
       "      <td>0.798839</td>\n",
       "      <td>1.222505</td>\n",
       "      <td>-0.255495</td>\n",
       "      <td>-0.836304</td>\n",
       "      <td>-0.255495</td>\n",
       "      <td>-0.206331</td>\n",
       "      <td>-0.144338</td>\n",
       "      <td>0.491075</td>\n",
       "      <td>3.025417</td>\n",
       "      <td>-1.699458</td>\n",
       "      <td>-0.101752</td>\n",
       "      <td>-2.291346</td>\n",
       "      <td>Nevada</td>\n",
       "      <td>58</td>\n",
       "      <td>Nevada</td>\n",
       "      <td>58</td>\n",
       "    </tr>\n",
       "    <tr>\n",
       "      <th>1</th>\n",
       "      <td>3.773520</td>\n",
       "      <td>0.798839</td>\n",
       "      <td>1.222505</td>\n",
       "      <td>-0.255495</td>\n",
       "      <td>-0.836304</td>\n",
       "      <td>-0.255495</td>\n",
       "      <td>-0.206331</td>\n",
       "      <td>-0.144338</td>\n",
       "      <td>0.879114</td>\n",
       "      <td>2.613038</td>\n",
       "      <td>-1.382719</td>\n",
       "      <td>-0.048731</td>\n",
       "      <td>-1.931412</td>\n",
       "      <td>Florida</td>\n",
       "      <td>49</td>\n",
       "      <td>Florida</td>\n",
       "      <td>49</td>\n",
       "    </tr>\n",
       "    <tr>\n",
       "      <th>2</th>\n",
       "      <td>1.643680</td>\n",
       "      <td>-0.734931</td>\n",
       "      <td>-0.800951</td>\n",
       "      <td>3.832427</td>\n",
       "      <td>-0.836304</td>\n",
       "      <td>-0.255495</td>\n",
       "      <td>-0.206331</td>\n",
       "      <td>-0.144338</td>\n",
       "      <td>0.283103</td>\n",
       "      <td>0.789254</td>\n",
       "      <td>-0.426812</td>\n",
       "      <td>-0.392264</td>\n",
       "      <td>-0.500862</td>\n",
       "      <td>Texas</td>\n",
       "      <td>26</td>\n",
       "      <td>Texas</td>\n",
       "      <td>26</td>\n",
       "    </tr>\n",
       "    <tr>\n",
       "      <th>3</th>\n",
       "      <td>1.273274</td>\n",
       "      <td>0.798839</td>\n",
       "      <td>-0.800951</td>\n",
       "      <td>-0.255495</td>\n",
       "      <td>1.170826</td>\n",
       "      <td>-0.255495</td>\n",
       "      <td>-0.206331</td>\n",
       "      <td>-0.144338</td>\n",
       "      <td>0.506966</td>\n",
       "      <td>0.224163</td>\n",
       "      <td>-1.119829</td>\n",
       "      <td>0.384322</td>\n",
       "      <td>-1.159595</td>\n",
       "      <td>Texas</td>\n",
       "      <td>22</td>\n",
       "      <td>Texas</td>\n",
       "      <td>22</td>\n",
       "    </tr>\n",
       "    <tr>\n",
       "      <th>4</th>\n",
       "      <td>0.810265</td>\n",
       "      <td>0.798839</td>\n",
       "      <td>-0.800951</td>\n",
       "      <td>-0.255495</td>\n",
       "      <td>-0.836304</td>\n",
       "      <td>3.832427</td>\n",
       "      <td>-0.206331</td>\n",
       "      <td>-0.144338</td>\n",
       "      <td>0.612322</td>\n",
       "      <td>2.669606</td>\n",
       "      <td>-0.942671</td>\n",
       "      <td>-1.640746</td>\n",
       "      <td>2.060453</td>\n",
       "      <td>Florida</td>\n",
       "      <td>17</td>\n",
       "      <td>Florida</td>\n",
       "      <td>17</td>\n",
       "    </tr>\n",
       "  </tbody>\n",
       "</table>\n",
       "</div>"
      ],
      "text/plain": [
       "   fatalities  weapons_obtained_legally  Other_onehot  Religious_onehot  \\\n",
       "0    4.606935                  0.798839      1.222505         -0.255495   \n",
       "1    3.773520                  0.798839      1.222505         -0.255495   \n",
       "2    1.643680                 -0.734931     -0.800951          3.832427   \n",
       "3    1.273274                  0.798839     -0.800951         -0.255495   \n",
       "4    0.810265                  0.798839     -0.800951         -0.255495   \n",
       "\n",
       "   Workplace_onehot  School_onehot  Military_onehot  Airport_onehot  \\\n",
       "0         -0.836304      -0.255495        -0.206331       -0.144338   \n",
       "1         -0.836304      -0.255495        -0.206331       -0.144338   \n",
       "2         -0.836304      -0.255495        -0.206331       -0.144338   \n",
       "3          1.170826      -0.255495        -0.206331       -0.144338   \n",
       "4         -0.836304       3.832427        -0.206331       -0.144338   \n",
       "\n",
       "   reaction_score       PC1       PC2       PC3       PC4    state  fat  \\\n",
       "0        0.491075  3.025417 -1.699458 -0.101752 -2.291346   Nevada   58   \n",
       "1        0.879114  2.613038 -1.382719 -0.048731 -1.931412  Florida   49   \n",
       "2        0.283103  0.789254 -0.426812 -0.392264 -0.500862    Texas   26   \n",
       "3        0.506966  0.224163 -1.119829  0.384322 -1.159595    Texas   22   \n",
       "4        0.612322  2.669606 -0.942671 -1.640746  2.060453  Florida   17   \n",
       "\n",
       "     State  Fatalities  \n",
       "0   Nevada          58  \n",
       "1  Florida          49  \n",
       "2    Texas          26  \n",
       "3    Texas          22  \n",
       "4  Florida          17  "
      ]
     },
     "metadata": {},
     "output_type": "display_data"
    }
   ],
   "source": [
    "from sklearn.decomposition import PCA\n",
    "import seaborn as sns\n",
    "import numpy as np\n",
    "import matplotlib.pyplot as plt\n",
    " \n",
    "regression_data['State'] = data2['state']\n",
    "regression_data['Fatalities'] = data2['fatalities']\n",
    "\n",
    "# Do the PCA.\n",
    "pca = PCA(n_components=4)\n",
    "reduced = pca.fit_transform(regression_data[['fatalities', 'weapons_obtained_legally', 'School_onehot', 'Workplace_onehot', 'Military_onehot', 'Airport_onehot']])\n",
    "\n",
    "# Append the principle components for each entry to the dataframe\n",
    "for i in range(0, 4):\n",
    "    regression_data['PC' + str(i + 1)] = reduced[:, i]\n",
    "\n",
    "display(regression_data.head())\n",
    "\n"
   ]
  },
  {
   "cell_type": "code",
   "execution_count": 78,
   "id": "0dd72dbb-64f0-4a4f-b68d-4d64136ce137",
   "metadata": {},
   "outputs": [
    {
     "data": {
      "image/png": "[encoded data removed]",
      "text/plain": [
       "<Figure size 576x432 with 1 Axes>"
      ]
     },
     "metadata": {},
     "output_type": "display_data"
    }
   ],
   "source": [
    "# Do a scree plot\n",
    "ind = np.arange(0, 4)\n",
    "(fig, ax) = plt.subplots(figsize=(8, 6))\n",
    "sns.pointplot(x=ind, y=pca.explained_variance_ratio_)\n",
    "ax.set_title('Scree plot')\n",
    "ax.set_xticks(ind)\n",
    "ax.set_xticklabels(ind)\n",
    "ax.set_xlabel('Component Number')\n",
    "ax.set_ylabel('Explained Variance')\n",
    "plt.show()\n",
    "\n"
   ]
  },
  {
   "cell_type": "code",
   "execution_count": 81,
   "id": "1e00d81e-c519-4fdb-a5d8-520c034bef08",
   "metadata": {},
   "outputs": [
    {
     "data": {
      "image/png": "[encoded data removed]",
      "text/plain": [
       "<Figure size 576x504 with 1 Axes>"
      ]
     },
     "metadata": {},
     "output_type": "display_data"
    }
   ],
   "source": [
    "# Show the points in terms of the first two PCs\n",
    "sns.set(rc={\"figure.figsize\":(8, 7)})\n",
    "g = sns.scatterplot(x='PC1',\n",
    "                    y='PC2',\n",
    "                    hue='state',\n",
    "                    data=regression_data,\n",
    "                    size='Fatalities')\n",
    "plt.legend(bbox_to_anchor=(1.02, 1), loc='upper left', borderaxespad=0)\n",
    "plt.show()"
   ]
  },
  {
   "cell_type": "code",
   "execution_count": 82,
   "id": "b6567fbe-c563-4737-838d-2b5a8c3a6471",
   "metadata": {},
   "outputs": [
    {
     "data": {
      "image/png": "[encoded data removed]",
      "text/plain": [
       "<Figure size 576x576 with 1 Axes>"
      ]
     },
     "metadata": {},
     "output_type": "display_data"
    }
   ],
   "source": [
    "# Plot a variable factor map for the first two dimensions.\n",
    "(fig, ax) = plt.subplots(figsize=(8, 8))\n",
    "for i in range(0, pca.components_.shape[1]):\n",
    "    ax.arrow(0,\n",
    "             0,  # Start the arrow at the origin\n",
    "             pca.components_[0, i],  #0 for PC1\n",
    "             pca.components_[1, i],  #1 for PC2\n",
    "             head_width=0.1,\n",
    "             head_length=0.1)\n",
    "\n",
    "    plt.text(pca.components_[0, i] + 0.05,\n",
    "             pca.components_[1, i] + 0.05,\n",
    "             regression_data.columns.values[i])\n",
    "\n",
    "\n",
    "an = np.linspace(0, 2 * np.pi, 100)\n",
    "plt.plot(np.cos(an), np.sin(an))  # Add a unit circle for scale\n",
    "plt.axis('equal')\n",
    "ax.set_title('Variable factor map')\n",
    "plt.show()"
   ]
  },
  {
   "cell_type": "markdown",
   "id": "2d1e37b0-5155-4cb5-ac3c-452642009f29",
   "metadata": {},
   "source": [
    "The number of fatalities seems to be correlated with 'weapons_obtained_legally'. So shootings with weapons obtained legally tend to have more victims. Also the number of fatalities is correlated with 'other_onehot', which is a location that is neither a school nor a workplace, nor a religious place. Maybe this is because those shootings happen outside and that shootings in the exterior make more victims? "
   ]
  },
  {
   "cell_type": "markdown",
   "id": "3cd68f43-fb66-44ed-a6af-703611f4f580",
   "metadata": {},
   "source": [
    "## 4 - Visualizing the data on a map"
   ]
  },
  {
   "cell_type": "markdown",
   "id": "0b3a16f0-bb4a-48b4-ae40-eb5938fa460b",
   "metadata": {},
   "source": [
    "Now we will move on to visualizing the data on a map."
   ]
  },
  {
   "cell_type": "code",
   "execution_count": 37,
   "id": "48000907-960a-44f0-9b51-a3e73d5d1c03",
   "metadata": {},
   "outputs": [
    {
     "name": "stderr",
     "output_type": "stream",
     "text": [
      "/Users/thomasdefauw/miniconda3/envs/ada/lib/python3.8/site-packages/pyproj/crs/crs.py:131: FutureWarning: '+init=<authority>:<code>' syntax is deprecated. '<authority>:<code>' is the preferred initialization method. When making the change, be mindful of axis order changes: https://pyproj4.github.io/pyproj/stable/gotchas.html#axis-order-changes-in-proj-6\n",
      "  in_crs_string = _prepare_from_proj_string(in_crs_string)\n"
     ]
    }
   ],
   "source": [
    "# Create a STATIC map with Geopandas\n",
    "\n",
    "# Start by importing states geometry\n",
    "import geopandas\n",
    "states = geopandas.read_file('Data/usa-states-census-2014.shp')\n",
    "states = states.to_crs(\"EPSG:3395\")\n",
    "\n",
    "# Create a dataframe \"geo_df\" with a column \"geometry\" with points (longitude,latitude)\n",
    "from shapely.geometry import Point, Polygon\n",
    "geometry = [Point(xy) for xy in zip(df.longitude,df.latitude)]\n",
    "geo_df = geopandas.GeoDataFrame(data2, crs={'init': 'epsg:4326'}, geometry=geometry)"
   ]
  },
  {
   "cell_type": "code",
   "execution_count": 38,
   "id": "2febcf52-00d7-4c41-8110-78e18efba98d",
   "metadata": {},
   "outputs": [
    {
     "data": {
      "text/html": [
       "<div style=\"width:100%;\"><div style=\"position:relative;width:100%;height:0;padding-bottom:60%;\"><span style=\"color:#565656\">Make this Notebook Trusted to load map: File -> Trust Notebook</span><iframe src=\"about:blank\" style=\"position:absolute;width:100%;height:100%;left:0;top:0;border:none !important;\" data-html=%3C%21DOCTYPE%20html%3E%0A%3Chead%3E%20%20%20%20%0A%20%20%20%20%3Cmeta%20http-equiv%3D%22content-type%22%20content%3D%22text/html%3B%20charset%3DUTF-8%22%20/%3E%0A%20%20%20%20%0A%20%20%20%20%20%20%20%20%3Cscript%3E%0A%20%20%20%20%20%20%20%20%20%20%20%20L_NO_TOUCH%20%3D%20false%3B%0A%20%20%20%20%20%20%20%20%20%20%20%20L_DISABLE_3D%20%3D%20false%3B%0A%20%20%20%20%20%20%20%20%3C/script%3E%0A%20%20%20%20%0A%20%20%20%20%3Cstyle%3Ehtml%2C%20body%20%7Bwidth%3A%20100%25%3Bheight%3A%20100%25%3Bmargin%3A%200%3Bpadding%3A%200%3B%7D%3C/style%3E%0A%20%20%20%20%3Cstyle%3E%23map%20%7Bposition%3Aabsolute%3Btop%3A0%3Bbottom%3A0%3Bright%3A0%3Bleft%3A0%3B%7D%3C/style%3E%0A%20%20%20%20%3Cscript%20src%3D%22https%3A//cdn.jsdelivr.net/npm/leaflet%401.6.0/dist/leaflet.js%22%3E%3C/script%3E%0A%20%20%20%20%3Cscript%20src%3D%22https%3A//code.jquery.com/jquery-1.12.4.min.js%22%3E%3C/script%3E%0A%20%20%20%20%3Cscript%20src%3D%22https%3A//maxcdn.bootstrapcdn.com/bootstrap/3.2.0/js/bootstrap.min.js%22%3E%3C/script%3E%0A%20%20%20%20%3Cscript%20src%3D%22https%3A//cdnjs.cloudflare.com/ajax/libs/Leaflet.awesome-markers/2.0.2/leaflet.awesome-markers.js%22%3E%3C/script%3E%0A%20%20%20%20%3Clink%20rel%3D%22stylesheet%22%20href%3D%22https%3A//cdn.jsdelivr.net/npm/leaflet%401.6.0/dist/leaflet.css%22/%3E%0A%20%20%20%20%3Clink%20rel%3D%22stylesheet%22%20href%3D%22https%3A//maxcdn.bootstrapcdn.com/bootstrap/3.2.0/css/bootstrap.min.css%22/%3E%0A%20%20%20%20%3Clink%20rel%3D%22stylesheet%22%20href%3D%22https%3A//maxcdn.bootstrapcdn.com/bootstrap/3.2.0/css/bootstrap-theme.min.css%22/%3E%0A%20%20%20%20%3Clink%20rel%3D%22stylesheet%22%20href%3D%22https%3A//maxcdn.bootstrapcdn.com/font-awesome/4.6.3/css/font-awesome.min.css%22/%3E%0A%20%20%20%20%3Clink%20rel%3D%22stylesheet%22%20href%3D%22https%3A//cdnjs.cloudflare.com/ajax/libs/Leaflet.awesome-markers/2.0.2/leaflet.awesome-markers.css%22/%3E%0A%20%20%20%20%3Clink%20rel%3D%22stylesheet%22%20href%3D%22https%3A//cdn.jsdelivr.net/gh/python-visualization/folium/folium/templates/leaflet.awesome.rotate.min.css%22/%3E%0A%20%20%20%20%0A%20%20%20%20%20%20%20%20%20%20%20%20%3Cmeta%20name%3D%22viewport%22%20content%3D%22width%3Ddevice-width%2C%0A%20%20%20%20%20%20%20%20%20%20%20%20%20%20%20%20initial-scale%3D1.0%2C%20maximum-scale%3D1.0%2C%20user-scalable%3Dno%22%20/%3E%0A%20%20%20%20%20%20%20%20%20%20%20%20%3Cstyle%3E%0A%20%20%20%20%20%20%20%20%20%20%20%20%20%20%20%20%23map_a51a3c7eac2945279f6ee22cdcd4227f%20%7B%0A%20%20%20%20%20%20%20%20%20%20%20%20%20%20%20%20%20%20%20%20position%3A%20relative%3B%0A%20%20%20%20%20%20%20%20%20%20%20%20%20%20%20%20%20%20%20%20width%3A%20100.0%25%3B%0A%20%20%20%20%20%20%20%20%20%20%20%20%20%20%20%20%20%20%20%20height%3A%20100.0%25%3B%0A%20%20%20%20%20%20%20%20%20%20%20%20%20%20%20%20%20%20%20%20left%3A%200.0%25%3B%0A%20%20%20%20%20%20%20%20%20%20%20%20%20%20%20%20%20%20%20%20top%3A%200.0%25%3B%0A%20%20%20%20%20%20%20%20%20%20%20%20%20%20%20%20%7D%0A%20%20%20%20%20%20%20%20%20%20%20%20%3C/style%3E%0A%20%20%20%20%20%20%20%20%0A%3C/head%3E%0A%3Cbody%3E%20%20%20%20%0A%20%20%20%20%0A%20%20%20%20%20%20%20%20%20%20%20%20%3Cdiv%20class%3D%22folium-map%22%20id%3D%22map_a51a3c7eac2945279f6ee22cdcd4227f%22%20%3E%3C/div%3E%0A%20%20%20%20%20%20%20%20%0A%3C/body%3E%0A%3Cscript%3E%20%20%20%20%0A%20%20%20%20%0A%20%20%20%20%20%20%20%20%20%20%20%20var%20map_a51a3c7eac2945279f6ee22cdcd4227f%20%3D%20L.map%28%0A%20%20%20%20%20%20%20%20%20%20%20%20%20%20%20%20%22map_a51a3c7eac2945279f6ee22cdcd4227f%22%2C%0A%20%20%20%20%20%20%20%20%20%20%20%20%20%20%20%20%7B%0A%20%20%20%20%20%20%20%20%20%20%20%20%20%20%20%20%20%20%20%20center%3A%20%5B38.0%2C%20-93.0%5D%2C%0A%20%20%20%20%20%20%20%20%20%20%20%20%20%20%20%20%20%20%20%20crs%3A%20L.CRS.EPSG3857%2C%0A%20%20%20%20%20%20%20%20%20%20%20%20%20%20%20%20%20%20%20%20zoom%3A%204%2C%0A%20%20%20%20%20%20%20%20%20%20%20%20%20%20%20%20%20%20%20%20zoomControl%3A%20false%2C%0A%20%20%20%20%20%20%20%20%20%20%20%20%20%20%20%20%20%20%20%20preferCanvas%3A%20false%2C%0A%20%20%20%20%20%20%20%20%20%20%20%20%20%20%20%20%7D%0A%20%20%20%20%20%20%20%20%20%20%20%20%29%3B%0A%0A%20%20%20%20%20%20%20%20%20%20%20%20%0A%0A%20%20%20%20%20%20%20%20%0A%20%20%20%20%0A%20%20%20%20%20%20%20%20%20%20%20%20var%20tile_layer_2fef887480cc491f8c78d07f7600a11d%20%3D%20L.tileLayer%28%0A%20%20%20%20%20%20%20%20%20%20%20%20%20%20%20%20%22https%3A//%7Bs%7D.tile.openstreetmap.org/%7Bz%7D/%7Bx%7D/%7By%7D.png%22%2C%0A%20%20%20%20%20%20%20%20%20%20%20%20%20%20%20%20%7B%22attribution%22%3A%20%22Data%20by%20%5Cu0026copy%3B%20%5Cu003ca%20href%3D%5C%22http%3A//openstreetmap.org%5C%22%5Cu003eOpenStreetMap%5Cu003c/a%5Cu003e%2C%20under%20%5Cu003ca%20href%3D%5C%22http%3A//www.openstreetmap.org/copyright%5C%22%5Cu003eODbL%5Cu003c/a%5Cu003e.%22%2C%20%22detectRetina%22%3A%20false%2C%20%22maxNativeZoom%22%3A%206%2C%20%22maxZoom%22%3A%206%2C%20%22minZoom%22%3A%204%2C%20%22noWrap%22%3A%20false%2C%20%22opacity%22%3A%201%2C%20%22subdomains%22%3A%20%22abc%22%2C%20%22tms%22%3A%20false%7D%0A%20%20%20%20%20%20%20%20%20%20%20%20%29.addTo%28map_a51a3c7eac2945279f6ee22cdcd4227f%29%3B%0A%20%20%20%20%20%20%20%20%0A%20%20%20%20%0A%20%20%20%20%20%20%20%20%20%20%20%20var%20circle_marker_aff5a7de602e4291b4d89a65b92578a0%20%3D%20L.circleMarker%28%0A%20%20%20%20%20%20%20%20%20%20%20%20%20%20%20%20%5B36.095739%2C%20-115.171544%5D%2C%0A%20%20%20%20%20%20%20%20%20%20%20%20%20%20%20%20%7B%22bubblingMouseEvents%22%3A%20true%2C%20%22color%22%3A%20%22red%22%2C%20%22dashArray%22%3A%20null%2C%20%22dashOffset%22%3A%20null%2C%20%22fill%22%3A%20true%2C%20%22fillColor%22%3A%20%22red%22%2C%20%22fillOpacity%22%3A%200.2%2C%20%22fillRule%22%3A%20%22evenodd%22%2C%20%22lineCap%22%3A%20%22round%22%2C%20%22lineJoin%22%3A%20%22round%22%2C%20%22opacity%22%3A%201.0%2C%20%22radius%22%3A%2013.775634567148725%2C%20%22stroke%22%3A%20true%2C%20%22weight%22%3A%201.5%7D%0A%20%20%20%20%20%20%20%20%20%20%20%20%29.addTo%28map_a51a3c7eac2945279f6ee22cdcd4227f%29%3B%0A%20%20%20%20%20%20%20%20%0A%20%20%20%20%0A%20%20%20%20%20%20%20%20%20%20%20%20circle_marker_aff5a7de602e4291b4d89a65b92578a0.bindTooltip%28%0A%20%20%20%20%20%20%20%20%20%20%20%20%20%20%20%20%60%3Cdiv%3E%0A%20%20%20%20%20%20%20%20%20%20%20%20%20%20%20%20%20%20%20%20%20%3Ch4%3E%3Cb%3ELas%20Vegas%20Strip%20massacre%3C/h4%3E%3C/b%3E%3Cb%3EReaction%20score%3A%20%3C/b%3E0.69%3Cbr%3E--------------------------------%3Cbr%3E%3Cb%3EFatalities%3A%20%3C/b%3E58%3Cbr%3E%3Cb%3ELocation%20type%3A%20%3C/b%3EOther%3Cbr%3E%3Cb%3EWeapon%20type%3A%20%3C/b%3EAutomatic%3Cbr%3E%3Cb%3ELegal%20weapon%3A%20%3C/b%3EYes%3Cbr%3E%3Cb%3EGender%20of%20shooter%3A%20%3C/b%3EMale%3Cbr%3E%3Cb%3ERace%20of%20shooter%3A%20%3C/b%3EWhite%0A%20%20%20%20%20%20%20%20%20%20%20%20%20%20%20%20%20%3C/div%3E%60%2C%0A%20%20%20%20%20%20%20%20%20%20%20%20%20%20%20%20%7B%22sticky%22%3A%20true%7D%0A%20%20%20%20%20%20%20%20%20%20%20%20%29%3B%0A%20%20%20%20%20%20%20%20%0A%20%20%20%20%0A%20%20%20%20%20%20%20%20%20%20%20%20var%20circle_marker_abbc28b68c71425d9464ea4cf9120e55%20%3D%20L.circleMarker%28%0A%20%20%20%20%20%20%20%20%20%20%20%20%20%20%20%20%5B28.519718%2C%20-81.376777%5D%2C%0A%20%20%20%20%20%20%20%20%20%20%20%20%20%20%20%20%7B%22bubblingMouseEvents%22%3A%20true%2C%20%22color%22%3A%20%22red%22%2C%20%22dashArray%22%3A%20null%2C%20%22dashOffset%22%3A%20null%2C%20%22fill%22%3A%20true%2C%20%22fillColor%22%3A%20%22red%22%2C%20%22fillOpacity%22%3A%200.2%2C%20%22fillRule%22%3A%20%22evenodd%22%2C%20%22lineCap%22%3A%20%22round%22%2C%20%22lineJoin%22%3A%20%22round%22%2C%20%22opacity%22%3A%201.0%2C%20%22radius%22%3A%2017.96393869630272%2C%20%22stroke%22%3A%20true%2C%20%22weight%22%3A%201.5%7D%0A%20%20%20%20%20%20%20%20%20%20%20%20%29.addTo%28map_a51a3c7eac2945279f6ee22cdcd4227f%29%3B%0A%20%20%20%20%20%20%20%20%0A%20%20%20%20%0A%20%20%20%20%20%20%20%20%20%20%20%20circle_marker_abbc28b68c71425d9464ea4cf9120e55.bindTooltip%28%0A%20%20%20%20%20%20%20%20%20%20%20%20%20%20%20%20%60%3Cdiv%3E%0A%20%20%20%20%20%20%20%20%20%20%20%20%20%20%20%20%20%20%20%20%20%3Ch4%3E%3Cb%3EOrlando%20nightclub%20massacre%3C/h4%3E%3C/b%3E%3Cb%3EReaction%20score%3A%20%3C/b%3E0.9%3Cbr%3E--------------------------------%3Cbr%3E%3Cb%3EFatalities%3A%20%3C/b%3E49%3Cbr%3E%3Cb%3ELocation%20type%3A%20%3C/b%3EOther%3Cbr%3E%3Cb%3EWeapon%20type%3A%20%3C/b%3ESemiautomatic%3Cbr%3E%3Cb%3ELegal%20weapon%3A%20%3C/b%3EYes%3Cbr%3E%3Cb%3EGender%20of%20shooter%3A%20%3C/b%3EMale%3Cbr%3E%3Cb%3ERace%20of%20shooter%3A%20%3C/b%3EOther%0A%20%20%20%20%20%20%20%20%20%20%20%20%20%20%20%20%20%3C/div%3E%60%2C%0A%20%20%20%20%20%20%20%20%20%20%20%20%20%20%20%20%7B%22sticky%22%3A%20true%7D%0A%20%20%20%20%20%20%20%20%20%20%20%20%29%3B%0A%20%20%20%20%20%20%20%20%0A%20%20%20%20%0A%20%20%20%20%20%20%20%20%20%20%20%20var%20circle_marker_34a3f89f5a0746c0a91f9afb94908c45%20%3D%20L.circleMarker%28%0A%20%20%20%20%20%20%20%20%20%20%20%20%20%20%20%20%5B29.273282%2C%20-98.056488%5D%2C%0A%20%20%20%20%20%20%20%20%20%20%20%20%20%20%20%20%7B%22bubblingMouseEvents%22%3A%20true%2C%20%22color%22%3A%20%22red%22%2C%20%22dashArray%22%3A%20null%2C%20%22dashOffset%22%3A%20null%2C%20%22fill%22%3A%20true%2C%20%22fillColor%22%3A%20%22red%22%2C%20%22fillOpacity%22%3A%200.2%2C%20%22fillRule%22%3A%20%22evenodd%22%2C%20%22lineCap%22%3A%20%22round%22%2C%20%22lineJoin%22%3A%20%22round%22%2C%20%22opacity%22%3A%201.0%2C%20%22radius%22%3A%206.947037119240862%2C%20%22stroke%22%3A%20true%2C%20%22weight%22%3A%201.5%7D%0A%20%20%20%20%20%20%20%20%20%20%20%20%29.addTo%28map_a51a3c7eac2945279f6ee22cdcd4227f%29%3B%0A%20%20%20%20%20%20%20%20%0A%20%20%20%20%0A%20%20%20%20%20%20%20%20%20%20%20%20circle_marker_34a3f89f5a0746c0a91f9afb94908c45.bindTooltip%28%0A%20%20%20%20%20%20%20%20%20%20%20%20%20%20%20%20%60%3Cdiv%3E%0A%20%20%20%20%20%20%20%20%20%20%20%20%20%20%20%20%20%20%20%20%20%3Ch4%3E%3Cb%3ETexas%20First%20Baptist%20Church%20massacre%3C/h4%3E%3C/b%3E%3Cb%3EReaction%20score%3A%20%3C/b%3E0.35%3Cbr%3E--------------------------------%3Cbr%3E%3Cb%3EFatalities%3A%20%3C/b%3E26%3Cbr%3E%3Cb%3ELocation%20type%3A%20%3C/b%3EReligious%3Cbr%3E%3Cb%3EWeapon%20type%3A%20%3C/b%3ESemiautomatic%3Cbr%3E%3Cb%3ELegal%20weapon%3A%20%3C/b%3EUnknown/TBD%3Cbr%3E%3Cb%3EGender%20of%20shooter%3A%20%3C/b%3EMale%3Cbr%3E%3Cb%3ERace%20of%20shooter%3A%20%3C/b%3EWhite%0A%20%20%20%20%20%20%20%20%20%20%20%20%20%20%20%20%20%3C/div%3E%60%2C%0A%20%20%20%20%20%20%20%20%20%20%20%20%20%20%20%20%7B%22sticky%22%3A%20true%7D%0A%20%20%20%20%20%20%20%20%20%20%20%20%29%3B%0A%20%20%20%20%20%20%20%20%0A%20%20%20%20%0A%20%20%20%20%20%20%20%20%20%20%20%20var%20circle_marker_73335bf3b6374003bff5bb951ec517e4%20%3D%20L.circleMarker%28%0A%20%20%20%20%20%20%20%20%20%20%20%20%20%20%20%20%5B31.771068%2C%20-106.375655%5D%2C%0A%20%20%20%20%20%20%20%20%20%20%20%20%20%20%20%20%7B%22bubblingMouseEvents%22%3A%20true%2C%20%22color%22%3A%20%22red%22%2C%20%22dashArray%22%3A%20null%2C%20%22dashOffset%22%3A%20null%2C%20%22fill%22%3A%20true%2C%20%22fillColor%22%3A%20%22red%22%2C%20%22fillOpacity%22%3A%200.2%2C%20%22fillRule%22%3A%20%22evenodd%22%2C%20%22lineCap%22%3A%20%22round%22%2C%20%22lineJoin%22%3A%20%22round%22%2C%20%22opacity%22%3A%201.0%2C%20%22radius%22%3A%2011.436819342181327%2C%20%22stroke%22%3A%20true%2C%20%22weight%22%3A%201.5%7D%0A%20%20%20%20%20%20%20%20%20%20%20%20%29.addTo%28map_a51a3c7eac2945279f6ee22cdcd4227f%29%3B%0A%20%20%20%20%20%20%20%20%0A%20%20%20%20%0A%20%20%20%20%20%20%20%20%20%20%20%20circle_marker_73335bf3b6374003bff5bb951ec517e4.bindTooltip%28%0A%20%20%20%20%20%20%20%20%20%20%20%20%20%20%20%20%60%3Cdiv%3E%0A%20%20%20%20%20%20%20%20%20%20%20%20%20%20%20%20%20%20%20%20%20%3Ch4%3E%3Cb%3EEl%20Paso%20Walmart%20mass%20shooting%3C/h4%3E%3C/b%3E%3Cb%3EReaction%20score%3A%20%3C/b%3E0.57%3Cbr%3E--------------------------------%3Cbr%3E%3Cb%3EFatalities%3A%20%3C/b%3E22%3Cbr%3E%3Cb%3ELocation%20type%3A%20%3C/b%3EWorkplace%3Cbr%3E%3Cb%3EWeapon%20type%3A%20%3C/b%3ESemiautomatic%3Cbr%3E%3Cb%3ELegal%20weapon%3A%20%3C/b%3EYes%3Cbr%3E%3Cb%3EGender%20of%20shooter%3A%20%3C/b%3EMale%3Cbr%3E%3Cb%3ERace%20of%20shooter%3A%20%3C/b%3EWhite%0A%20%20%20%20%20%20%20%20%20%20%20%20%20%20%20%20%20%3C/div%3E%60%2C%0A%20%20%20%20%20%20%20%20%20%20%20%20%20%20%20%20%7B%22sticky%22%3A%20true%7D%0A%20%20%20%20%20%20%20%20%20%20%20%20%29%3B%0A%20%20%20%20%20%20%20%20%0A%20%20%20%20%0A%20%20%20%20%20%20%20%20%20%20%20%20var%20circle_marker_b7bbc6a30aaf4faba6268a771dc97f69%20%3D%20L.circleMarker%28%0A%20%20%20%20%20%20%20%20%20%20%20%20%20%20%20%20%5B26.30483%2C%20-80.269511%5D%2C%0A%20%20%20%20%20%20%20%20%20%20%20%20%20%20%20%20%7B%22bubblingMouseEvents%22%3A%20true%2C%20%22color%22%3A%20%22red%22%2C%20%22dashArray%22%3A%20null%2C%20%22dashOffset%22%3A%20null%2C%20%22fill%22%3A%20true%2C%20%22fillColor%22%3A%20%22red%22%2C%20%22fillOpacity%22%3A%200.2%2C%20%22fillRule%22%3A%20%22evenodd%22%2C%20%22lineCap%22%3A%20%22round%22%2C%20%22lineJoin%22%3A%20%22round%22%2C%20%22opacity%22%3A%201.0%2C%20%22radius%22%3A%2016.511877812887892%2C%20%22stroke%22%3A%20true%2C%20%22weight%22%3A%201.5%7D%0A%20%20%20%20%20%20%20%20%20%20%20%20%29.addTo%28map_a51a3c7eac2945279f6ee22cdcd4227f%29%3B%0A%20%20%20%20%20%20%20%20%0A%20%20%20%20%0A%20%20%20%20%20%20%20%20%20%20%20%20circle_marker_b7bbc6a30aaf4faba6268a771dc97f69.bindTooltip%28%0A%20%20%20%20%20%20%20%20%20%20%20%20%20%20%20%20%60%3Cdiv%3E%0A%20%20%20%20%20%20%20%20%20%20%20%20%20%20%20%20%20%20%20%20%20%3Ch4%3E%3Cb%3EMarjory%20Stoneman%20Douglas%20High%20School%20shooting%3C/h4%3E%3C/b%3E%3Cb%3EReaction%20score%3A%20%3C/b%3E0.83%3Cbr%3E--------------------------------%3Cbr%3E%3Cb%3EFatalities%3A%20%3C/b%3E17%3Cbr%3E%3Cb%3ELocation%20type%3A%20%3C/b%3ESchool%3Cbr%3E%3Cb%3EWeapon%20type%3A%20%3C/b%3ESemiautomatic%3Cbr%3E%3Cb%3ELegal%20weapon%3A%20%3C/b%3EYes%3Cbr%3E%3Cb%3EGender%20of%20shooter%3A%20%3C/b%3EMale%3Cbr%3E%3Cb%3ERace%20of%20shooter%3A%20%3C/b%3EWhite%0A%20%20%20%20%20%20%20%20%20%20%20%20%20%20%20%20%20%3C/div%3E%60%2C%0A%20%20%20%20%20%20%20%20%20%20%20%20%20%20%20%20%7B%22sticky%22%3A%20true%7D%0A%20%20%20%20%20%20%20%20%20%20%20%20%29%3B%0A%20%20%20%20%20%20%20%20%0A%20%20%20%20%0A%20%20%20%20%20%20%20%20%20%20%20%20var%20circle_marker_b82764cb93f04eb28e2211ea63b64e71%20%3D%20L.circleMarker%28%0A%20%20%20%20%20%20%20%20%20%20%20%20%20%20%20%20%5B34.075961%2C%20-117.27789%5D%2C%0A%20%20%20%20%20%20%20%20%20%20%20%20%20%20%20%20%7B%22bubblingMouseEvents%22%3A%20true%2C%20%22color%22%3A%20%22red%22%2C%20%22dashArray%22%3A%20null%2C%20%22dashOffset%22%3A%20null%2C%20%22fill%22%3A%20true%2C%20%22fillColor%22%3A%20%22red%22%2C%20%22fillOpacity%22%3A%200.2%2C%20%22fillRule%22%3A%20%22evenodd%22%2C%20%22lineCap%22%3A%20%22round%22%2C%20%22lineJoin%22%3A%20%22round%22%2C%20%22opacity%22%3A%201.0%2C%20%22radius%22%3A%206.580784902156943%2C%20%22stroke%22%3A%20true%2C%20%22weight%22%3A%201.5%7D%0A%20%20%20%20%20%20%20%20%20%20%20%20%29.addTo%28map_a51a3c7eac2945279f6ee22cdcd4227f%29%3B%0A%20%20%20%20%20%20%20%20%0A%20%20%20%20%0A%20%20%20%20%20%20%20%20%20%20%20%20circle_marker_b82764cb93f04eb28e2211ea63b64e71.bindTooltip%28%0A%20%20%20%20%20%20%20%20%20%20%20%20%20%20%20%20%60%3Cdiv%3E%0A%20%20%20%20%20%20%20%20%20%20%20%20%20%20%20%20%20%20%20%20%20%3Ch4%3E%3Cb%3ESan%20Bernardino%20mass%20shooting%3C/h4%3E%3C/b%3E%3Cb%3EReaction%20score%3A%20%3C/b%3E0.33%3Cbr%3E--------------------------------%3Cbr%3E%3Cb%3EFatalities%3A%20%3C/b%3E14%3Cbr%3E%3Cb%3ELocation%20type%3A%20%3C/b%3EWorkplace%3Cbr%3E%3Cb%3EWeapon%20type%3A%20%3C/b%3EAssault%3Cbr%3E%3Cb%3ELegal%20weapon%3A%20%3C/b%3EYes%3Cbr%3E%3Cb%3EGender%20of%20shooter%3A%20%3C/b%3EMale%20%26%20Female%3Cbr%3E%3Cb%3ERace%20of%20shooter%3A%20%3C/b%3EOther%0A%20%20%20%20%20%20%20%20%20%20%20%20%20%20%20%20%20%3C/div%3E%60%2C%0A%20%20%20%20%20%20%20%20%20%20%20%20%20%20%20%20%7B%22sticky%22%3A%20true%7D%0A%20%20%20%20%20%20%20%20%20%20%20%20%29%3B%0A%20%20%20%20%20%20%20%20%0A%20%20%20%20%0A%20%20%20%20%20%20%20%20%20%20%20%20var%20circle_marker_87bf9da78f0d44e8b5426ab36f5b6a98%20%3D%20L.circleMarker%28%0A%20%20%20%20%20%20%20%20%20%20%20%20%20%20%20%20%5B36.75442%2C%20-76.060378%5D%2C%0A%20%20%20%20%20%20%20%20%20%20%20%20%20%20%20%20%7B%22bubblingMouseEvents%22%3A%20true%2C%20%22color%22%3A%20%22red%22%2C%20%22dashArray%22%3A%20null%2C%20%22dashOffset%22%3A%20null%2C%20%22fill%22%3A%20true%2C%20%22fillColor%22%3A%20%22red%22%2C%20%22fillOpacity%22%3A%200.2%2C%20%22fillRule%22%3A%20%22evenodd%22%2C%20%22lineCap%22%3A%20%22round%22%2C%20%22lineJoin%22%3A%20%22round%22%2C%20%22opacity%22%3A%201.0%2C%20%22radius%22%3A%204.996033417508096%2C%20%22stroke%22%3A%20true%2C%20%22weight%22%3A%201.5%7D%0A%20%20%20%20%20%20%20%20%20%20%20%20%29.addTo%28map_a51a3c7eac2945279f6ee22cdcd4227f%29%3B%0A%20%20%20%20%20%20%20%20%0A%20%20%20%20%0A%20%20%20%20%20%20%20%20%20%20%20%20circle_marker_87bf9da78f0d44e8b5426ab36f5b6a98.bindTooltip%28%0A%20%20%20%20%20%20%20%20%20%20%20%20%20%20%20%20%60%3Cdiv%3E%0A%20%20%20%20%20%20%20%20%20%20%20%20%20%20%20%20%20%20%20%20%20%3Ch4%3E%3Cb%3EVirginia%20Beach%20municipal%20building%20shooting%3C/h4%3E%3C/b%3E%3Cb%3EReaction%20score%3A%20%3C/b%3E0.25%3Cbr%3E--------------------------------%3Cbr%3E%3Cb%3EFatalities%3A%20%3C/b%3E12%3Cbr%3E%3Cb%3ELocation%20type%3A%20%3C/b%3EWorkplace%3Cbr%3E%3Cb%3EWeapon%20type%3A%20%3C/b%3EHandgun%3Cbr%3E%3Cb%3ELegal%20weapon%3A%20%3C/b%3EYes%3Cbr%3E%3Cb%3EGender%20of%20shooter%3A%20%3C/b%3EMale%3Cbr%3E%3Cb%3ERace%20of%20shooter%3A%20%3C/b%3EBlack%0A%20%20%20%20%20%20%20%20%20%20%20%20%20%20%20%20%20%3C/div%3E%60%2C%0A%20%20%20%20%20%20%20%20%20%20%20%20%20%20%20%20%7B%22sticky%22%3A%20true%7D%0A%20%20%20%20%20%20%20%20%20%20%20%20%29%3B%0A%20%20%20%20%20%20%20%20%0A%20%20%20%20%0A%20%20%20%20%20%20%20%20%20%20%20%20var%20circle_marker_c2e7972c0a664f92b6bb1fca76fa4d73%20%3D%20L.circleMarker%28%0A%20%20%20%20%20%20%20%20%20%20%20%20%20%20%20%20%5B34.176946%2C%20-118.874793%5D%2C%0A%20%20%20%20%20%20%20%20%20%20%20%20%20%20%20%20%7B%22bubblingMouseEvents%22%3A%20true%2C%20%22color%22%3A%20%22red%22%2C%20%22dashArray%22%3A%20null%2C%20%22dashOffset%22%3A%20null%2C%20%22fill%22%3A%20true%2C%20%22fillColor%22%3A%20%22red%22%2C%20%22fillOpacity%22%3A%200.2%2C%20%22fillRule%22%3A%20%22evenodd%22%2C%20%22lineCap%22%3A%20%22round%22%2C%20%22lineJoin%22%3A%20%22round%22%2C%20%22opacity%22%3A%201.0%2C%20%22radius%22%3A%205.04434651107223%2C%20%22stroke%22%3A%20true%2C%20%22weight%22%3A%201.5%7D%0A%20%20%20%20%20%20%20%20%20%20%20%20%29.addTo%28map_a51a3c7eac2945279f6ee22cdcd4227f%29%3B%0A%20%20%20%20%20%20%20%20%0A%20%20%20%20%0A%20%20%20%20%20%20%20%20%20%20%20%20circle_marker_c2e7972c0a664f92b6bb1fca76fa4d73.bindTooltip%28%0A%20%20%20%20%20%20%20%20%20%20%20%20%20%20%20%20%60%3Cdiv%3E%0A%20%20%20%20%20%20%20%20%20%20%20%20%20%20%20%20%20%20%20%20%20%3Ch4%3E%3Cb%3EThousand%20Oaks%20nightclub%20shooting%3C/h4%3E%3C/b%3E%3Cb%3EReaction%20score%3A%20%3C/b%3E0.25%3Cbr%3E--------------------------------%3Cbr%3E%3Cb%3EFatalities%3A%20%3C/b%3E12%3Cbr%3E%3Cb%3ELocation%20type%3A%20%3C/b%3EOther%3Cbr%3E%3Cb%3EWeapon%20type%3A%20%3C/b%3ESemiautomatic%3Cbr%3E%3Cb%3ELegal%20weapon%3A%20%3C/b%3EYes%3Cbr%3E%3Cb%3EGender%20of%20shooter%3A%20%3C/b%3EMale%3Cbr%3E%3Cb%3ERace%20of%20shooter%3A%20%3C/b%3EUnknown%0A%20%20%20%20%20%20%20%20%20%20%20%20%20%20%20%20%20%3C/div%3E%60%2C%0A%20%20%20%20%20%20%20%20%20%20%20%20%20%20%20%20%7B%22sticky%22%3A%20true%7D%0A%20%20%20%20%20%20%20%20%20%20%20%20%29%3B%0A%20%20%20%20%20%20%20%20%0A%20%20%20%20%0A%20%20%20%20%20%20%20%20%20%20%20%20var%20circle_marker_43e96afd6f43409ebcf8fe6ef2e78f23%20%3D%20L.circleMarker%28%0A%20%20%20%20%20%20%20%20%20%20%20%20%20%20%20%20%5B40.443898%2C%20-79.921398%5D%2C%0A%20%20%20%20%20%20%20%20%20%20%20%20%20%20%20%20%7B%22bubblingMouseEvents%22%3A%20true%2C%20%22color%22%3A%20%22red%22%2C%20%22dashArray%22%3A%20null%2C%20%22dashOffset%22%3A%20null%2C%20%22fill%22%3A%20true%2C%20%22fillColor%22%3A%20%22red%22%2C%20%22fillOpacity%22%3A%200.2%2C%20%22fillRule%22%3A%20%22evenodd%22%2C%20%22lineCap%22%3A%20%22round%22%2C%20%22lineJoin%22%3A%20%22round%22%2C%20%22opacity%22%3A%201.0%2C%20%22radius%22%3A%205.046734967766079%2C%20%22stroke%22%3A%20true%2C%20%22weight%22%3A%201.5%7D%0A%20%20%20%20%20%20%20%20%20%20%20%20%29.addTo%28map_a51a3c7eac2945279f6ee22cdcd4227f%29%3B%0A%20%20%20%20%20%20%20%20%0A%20%20%20%20%0A%20%20%20%20%20%20%20%20%20%20%20%20circle_marker_43e96afd6f43409ebcf8fe6ef2e78f23.bindTooltip%28%0A%20%20%20%20%20%20%20%20%20%20%20%20%20%20%20%20%60%3Cdiv%3E%0A%20%20%20%20%20%20%20%20%20%20%20%20%20%20%20%20%20%20%20%20%20%3Ch4%3E%3Cb%3ETree%20of%20Life%20synagogue%20shooting%3C/h4%3E%3C/b%3E%3Cb%3EReaction%20score%3A%20%3C/b%3E0.25%3Cbr%3E--------------------------------%3Cbr%3E%3Cb%3EFatalities%3A%20%3C/b%3E11%3Cbr%3E%3Cb%3ELocation%20type%3A%20%3C/b%3EReligious%3Cbr%3E%3Cb%3EWeapon%20type%3A%20%3C/b%3ESemiautomatic%3Cbr%3E%3Cb%3ELegal%20weapon%3A%20%3C/b%3EYes%3Cbr%3E%3Cb%3EGender%20of%20shooter%3A%20%3C/b%3EMale%3Cbr%3E%3Cb%3ERace%20of%20shooter%3A%20%3C/b%3EWhite%0A%20%20%20%20%20%20%20%20%20%20%20%20%20%20%20%20%20%3C/div%3E%60%2C%0A%20%20%20%20%20%20%20%20%20%20%20%20%20%20%20%20%7B%22sticky%22%3A%20true%7D%0A%20%20%20%20%20%20%20%20%20%20%20%20%29%3B%0A%20%20%20%20%20%20%20%20%0A%20%20%20%20%0A%20%20%20%20%20%20%20%20%20%20%20%20var%20circle_marker_d71903ccbdd8498aac42708997c1f6fd%20%3D%20L.circleMarker%28%0A%20%20%20%20%20%20%20%20%20%20%20%20%20%20%20%20%5B29.392825%2C%20-95.141972%5D%2C%0A%20%20%20%20%20%20%20%20%20%20%20%20%20%20%20%20%7B%22bubblingMouseEvents%22%3A%20true%2C%20%22color%22%3A%20%22red%22%2C%20%22dashArray%22%3A%20null%2C%20%22dashOffset%22%3A%20null%2C%20%22fill%22%3A%20true%2C%20%22fillColor%22%3A%20%22red%22%2C%20%22fillOpacity%22%3A%200.2%2C%20%22fillRule%22%3A%20%22evenodd%22%2C%20%22lineCap%22%3A%20%22round%22%2C%20%22lineJoin%22%3A%20%22round%22%2C%20%22opacity%22%3A%201.0%2C%20%22radius%22%3A%204.671907426889084%2C%20%22stroke%22%3A%20true%2C%20%22weight%22%3A%201.5%7D%0A%20%20%20%20%20%20%20%20%20%20%20%20%29.addTo%28map_a51a3c7eac2945279f6ee22cdcd4227f%29%3B%0A%20%20%20%20%20%20%20%20%0A%20%20%20%20%0A%20%20%20%20%20%20%20%20%20%20%20%20circle_marker_d71903ccbdd8498aac42708997c1f6fd.bindTooltip%28%0A%20%20%20%20%20%20%20%20%20%20%20%20%20%20%20%20%60%3Cdiv%3E%0A%20%20%20%20%20%20%20%20%20%20%20%20%20%20%20%20%20%20%20%20%20%3Ch4%3E%3Cb%3ESanta%20Fe%20High%20School%20shooting%3C/h4%3E%3C/b%3E%3Cb%3EReaction%20score%3A%20%3C/b%3E0.23%3Cbr%3E--------------------------------%3Cbr%3E%3Cb%3EFatalities%3A%20%3C/b%3E10%3Cbr%3E%3Cb%3ELocation%20type%3A%20%3C/b%3ESchool%3Cbr%3E%3Cb%3EWeapon%20type%3A%20%3C/b%3EOther%3Cbr%3E%3Cb%3ELegal%20weapon%3A%20%3C/b%3EUnknown/TBD%3Cbr%3E%3Cb%3EGender%20of%20shooter%3A%20%3C/b%3EMale%3Cbr%3E%3Cb%3ERace%20of%20shooter%3A%20%3C/b%3EWhite%0A%20%20%20%20%20%20%20%20%20%20%20%20%20%20%20%20%20%3C/div%3E%60%2C%0A%20%20%20%20%20%20%20%20%20%20%20%20%20%20%20%20%7B%22sticky%22%3A%20true%7D%0A%20%20%20%20%20%20%20%20%20%20%20%20%29%3B%0A%20%20%20%20%20%20%20%20%0A%20%20%20%20%0A%20%20%20%20%20%20%20%20%20%20%20%20var%20circle_marker_4763248866bc4283906ba18163cfcf7d%20%3D%20L.circleMarker%28%0A%20%20%20%20%20%20%20%20%20%20%20%20%20%20%20%20%5B43.289538%2C%20-123.333193%5D%2C%0A%20%20%20%20%20%20%20%20%20%20%20%20%20%20%20%20%7B%22bubblingMouseEvents%22%3A%20true%2C%20%22color%22%3A%20%22red%22%2C%20%22dashArray%22%3A%20null%2C%20%22dashOffset%22%3A%20null%2C%20%22fill%22%3A%20true%2C%20%22fillColor%22%3A%20%22red%22%2C%20%22fillOpacity%22%3A%200.2%2C%20%22fillRule%22%3A%20%22evenodd%22%2C%20%22lineCap%22%3A%20%22round%22%2C%20%22lineJoin%22%3A%20%22round%22%2C%20%22opacity%22%3A%201.0%2C%20%22radius%22%3A%207.230343575362635%2C%20%22stroke%22%3A%20true%2C%20%22weight%22%3A%201.5%7D%0A%20%20%20%20%20%20%20%20%20%20%20%20%29.addTo%28map_a51a3c7eac2945279f6ee22cdcd4227f%29%3B%0A%20%20%20%20%20%20%20%20%0A%20%20%20%20%0A%20%20%20%20%20%20%20%20%20%20%20%20circle_marker_4763248866bc4283906ba18163cfcf7d.bindTooltip%28%0A%20%20%20%20%20%20%20%20%20%20%20%20%20%20%20%20%60%3Cdiv%3E%0A%20%20%20%20%20%20%20%20%20%20%20%20%20%20%20%20%20%20%20%20%20%3Ch4%3E%3Cb%3EUmpqua%20Community%20College%20shooting%3C/h4%3E%3C/b%3E%3Cb%3EReaction%20score%3A%20%3C/b%3E0.36%3Cbr%3E--------------------------------%3Cbr%3E%3Cb%3EFatalities%3A%20%3C/b%3E9%3Cbr%3E%3Cb%3ELocation%20type%3A%20%3C/b%3ESchool%3Cbr%3E%3Cb%3EWeapon%20type%3A%20%3C/b%3EOther%3Cbr%3E%3Cb%3ELegal%20weapon%3A%20%3C/b%3EYes%3Cbr%3E%3Cb%3EGender%20of%20shooter%3A%20%3C/b%3EMale%3Cbr%3E%3Cb%3ERace%20of%20shooter%3A%20%3C/b%3EOther%0A%20%20%20%20%20%20%20%20%20%20%20%20%20%20%20%20%20%3C/div%3E%60%2C%0A%20%20%20%20%20%20%20%20%20%20%20%20%20%20%20%20%7B%22sticky%22%3A%20true%7D%0A%20%20%20%20%20%20%20%20%20%20%20%20%29%3B%0A%20%20%20%20%20%20%20%20%0A%20%20%20%20%0A%20%20%20%20%20%20%20%20%20%20%20%20var%20circle_marker_d163bd081af843599320f1c5cbf50c65%20%3D%20L.circleMarker%28%0A%20%20%20%20%20%20%20%20%20%20%20%20%20%20%20%20%5B39.757312%2C%20-84.184947%5D%2C%0A%20%20%20%20%20%20%20%20%20%20%20%20%20%20%20%20%7B%22bubblingMouseEvents%22%3A%20true%2C%20%22color%22%3A%20%22red%22%2C%20%22dashArray%22%3A%20null%2C%20%22dashOffset%22%3A%20null%2C%20%22fill%22%3A%20true%2C%20%22fillColor%22%3A%20%22red%22%2C%20%22fillOpacity%22%3A%200.2%2C%20%22fillRule%22%3A%20%22evenodd%22%2C%20%22lineCap%22%3A%20%22round%22%2C%20%22lineJoin%22%3A%20%22round%22%2C%20%22opacity%22%3A%201.0%2C%20%22radius%22%3A%209.256112990551772%2C%20%22stroke%22%3A%20true%2C%20%22weight%22%3A%201.5%7D%0A%20%20%20%20%20%20%20%20%20%20%20%20%29.addTo%28map_a51a3c7eac2945279f6ee22cdcd4227f%29%3B%0A%20%20%20%20%20%20%20%20%0A%20%20%20%20%0A%20%20%20%20%20%20%20%20%20%20%20%20circle_marker_d163bd081af843599320f1c5cbf50c65.bindTooltip%28%0A%20%20%20%20%20%20%20%20%20%20%20%20%20%20%20%20%60%3Cdiv%3E%0A%20%20%20%20%20%20%20%20%20%20%20%20%20%20%20%20%20%20%20%20%20%3Ch4%3E%3Cb%3EDayton%20entertainment%20district%20shooting%3C/h4%3E%3C/b%3E%3Cb%3EReaction%20score%3A%20%3C/b%3E0.46%3Cbr%3E--------------------------------%3Cbr%3E%3Cb%3EFatalities%3A%20%3C/b%3E9%3Cbr%3E%3Cb%3ELocation%20type%3A%20%3C/b%3EOther%3Cbr%3E%3Cb%3EWeapon%20type%3A%20%3C/b%3ESemiautomatic%3Cbr%3E%3Cb%3ELegal%20weapon%3A%20%3C/b%3EYes%3Cbr%3E%3Cb%3EGender%20of%20shooter%3A%20%3C/b%3EMale%3Cbr%3E%3Cb%3ERace%20of%20shooter%3A%20%3C/b%3EWhite%0A%20%20%20%20%20%20%20%20%20%20%20%20%20%20%20%20%20%3C/div%3E%60%2C%0A%20%20%20%20%20%20%20%20%20%20%20%20%20%20%20%20%7B%22sticky%22%3A%20true%7D%0A%20%20%20%20%20%20%20%20%20%20%20%20%29%3B%0A%20%20%20%20%20%20%20%20%0A%20%20%20%20%0A%20%20%20%20%20%20%20%20%20%20%20%20var%20circle_marker_6e3755f8a18245b69905c0bf2879f8bf%20%3D%20L.circleMarker%28%0A%20%20%20%20%20%20%20%20%20%20%20%20%20%20%20%20%5B32.788387%2C%20-79.933143%5D%2C%0A%20%20%20%20%20%20%20%20%20%20%20%20%20%20%20%20%7B%22bubblingMouseEvents%22%3A%20true%2C%20%22color%22%3A%20%22red%22%2C%20%22dashArray%22%3A%20null%2C%20%22dashOffset%22%3A%20null%2C%20%22fill%22%3A%20true%2C%20%22fillColor%22%3A%20%22red%22%2C%20%22fillOpacity%22%3A%200.2%2C%20%22fillRule%22%3A%20%22evenodd%22%2C%20%22lineCap%22%3A%20%22round%22%2C%20%22lineJoin%22%3A%20%22round%22%2C%20%22opacity%22%3A%201.0%2C%20%22radius%22%3A%207.347346774133003%2C%20%22stroke%22%3A%20true%2C%20%22weight%22%3A%201.5%7D%0A%20%20%20%20%20%20%20%20%20%20%20%20%29.addTo%28map_a51a3c7eac2945279f6ee22cdcd4227f%29%3B%0A%20%20%20%20%20%20%20%20%0A%20%20%20%20%0A%20%20%20%20%20%20%20%20%20%20%20%20circle_marker_6e3755f8a18245b69905c0bf2879f8bf.bindTooltip%28%0A%20%20%20%20%20%20%20%20%20%20%20%20%20%20%20%20%60%3Cdiv%3E%0A%20%20%20%20%20%20%20%20%20%20%20%20%20%20%20%20%20%20%20%20%20%3Ch4%3E%3Cb%3ECharleston%20Church%20Shooting%3C/h4%3E%3C/b%3E%3Cb%3EReaction%20score%3A%20%3C/b%3E0.37%3Cbr%3E--------------------------------%3Cbr%3E%3Cb%3EFatalities%3A%20%3C/b%3E9%3Cbr%3E%3Cb%3ELocation%20type%3A%20%3C/b%3EReligious%3Cbr%3E%3Cb%3EWeapon%20type%3A%20%3C/b%3EHandgun%3Cbr%3E%3Cb%3ELegal%20weapon%3A%20%3C/b%3EYes%3Cbr%3E%3Cb%3EGender%20of%20shooter%3A%20%3C/b%3EMale%3Cbr%3E%3Cb%3ERace%20of%20shooter%3A%20%3C/b%3EWhite%0A%20%20%20%20%20%20%20%20%20%20%20%20%20%20%20%20%20%3C/div%3E%60%2C%0A%20%20%20%20%20%20%20%20%20%20%20%20%20%20%20%20%7B%22sticky%22%3A%20true%7D%0A%20%20%20%20%20%20%20%20%20%20%20%20%29%3B%0A%20%20%20%20%20%20%20%20%0A%20%20%20%20%0A%20%20%20%20%20%20%20%20%20%20%20%20var%20circle_marker_e4ffcf891e1d49578e290205d724a4e6%20%3D%20L.circleMarker%28%0A%20%20%20%20%20%20%20%20%20%20%20%20%20%20%20%20%5B31.925974%2C%20-102.2796%5D%2C%0A%20%20%20%20%20%20%20%20%20%20%20%20%20%20%20%20%7B%22bubblingMouseEvents%22%3A%20true%2C%20%22color%22%3A%20%22red%22%2C%20%22dashArray%22%3A%20null%2C%20%22dashOffset%22%3A%20null%2C%20%22fill%22%3A%20true%2C%20%22fillColor%22%3A%20%22red%22%2C%20%22fillOpacity%22%3A%200.2%2C%20%22fillRule%22%3A%20%22evenodd%22%2C%20%22lineCap%22%3A%20%22round%22%2C%20%22lineJoin%22%3A%20%22round%22%2C%20%22opacity%22%3A%201.0%2C%20%22radius%22%3A%205.274915695925634%2C%20%22stroke%22%3A%20true%2C%20%22weight%22%3A%201.5%7D%0A%20%20%20%20%20%20%20%20%20%20%20%20%29.addTo%28map_a51a3c7eac2945279f6ee22cdcd4227f%29%3B%0A%20%20%20%20%20%20%20%20%0A%20%20%20%20%0A%20%20%20%20%20%20%20%20%20%20%20%20circle_marker_e4ffcf891e1d49578e290205d724a4e6.bindTooltip%28%0A%20%20%20%20%20%20%20%20%20%20%20%20%20%20%20%20%60%3Cdiv%3E%0A%20%20%20%20%20%20%20%20%20%20%20%20%20%20%20%20%20%20%20%20%20%3Ch4%3E%3Cb%3EOdessa-Midland%20shooting%20spree%3C/h4%3E%3C/b%3E%3Cb%3EReaction%20score%3A%20%3C/b%3E0.26%3Cbr%3E--------------------------------%3Cbr%3E%3Cb%3EFatalities%3A%20%3C/b%3E7%3Cbr%3E%3Cb%3ELocation%20type%3A%20%3C/b%3EOther%3Cbr%3E%3Cb%3EWeapon%20type%3A%20%3C/b%3ESemiautomatic%3Cbr%3E%3Cb%3ELegal%20weapon%3A%20%3C/b%3EUnknown/TBD%3Cbr%3E%3Cb%3EGender%20of%20shooter%3A%20%3C/b%3EMale%3Cbr%3E%3Cb%3ERace%20of%20shooter%3A%20%3C/b%3EWhite%0A%20%20%20%20%20%20%20%20%20%20%20%20%20%20%20%20%20%3C/div%3E%60%2C%0A%20%20%20%20%20%20%20%20%20%20%20%20%20%20%20%20%7B%22sticky%22%3A%20true%7D%0A%20%20%20%20%20%20%20%20%20%20%20%20%29%3B%0A%20%20%20%20%20%20%20%20%0A%20%20%20%20%0A%20%20%20%20%20%20%20%20%20%20%20%20var%20circle_marker_71743510bf014b5495babf51d58097f5%20%3D%20L.circleMarker%28%0A%20%20%20%20%20%20%20%20%20%20%20%20%20%20%20%20%5B42.236689%2C%20-85.674795%5D%2C%0A%20%20%20%20%20%20%20%20%20%20%20%20%20%20%20%20%7B%22bubblingMouseEvents%22%3A%20true%2C%20%22color%22%3A%20%22red%22%2C%20%22dashArray%22%3A%20null%2C%20%22dashOffset%22%3A%20null%2C%20%22fill%22%3A%20true%2C%20%22fillColor%22%3A%20%22red%22%2C%20%22fillOpacity%22%3A%200.2%2C%20%22fillRule%22%3A%20%22evenodd%22%2C%20%22lineCap%22%3A%20%22round%22%2C%20%22lineJoin%22%3A%20%22round%22%2C%20%22opacity%22%3A%201.0%2C%20%22radius%22%3A%202.4371676518882035%2C%20%22stroke%22%3A%20true%2C%20%22weight%22%3A%201.5%7D%0A%20%20%20%20%20%20%20%20%20%20%20%20%29.addTo%28map_a51a3c7eac2945279f6ee22cdcd4227f%29%3B%0A%20%20%20%20%20%20%20%20%0A%20%20%20%20%0A%20%20%20%20%20%20%20%20%20%20%20%20circle_marker_71743510bf014b5495babf51d58097f5.bindTooltip%28%0A%20%20%20%20%20%20%20%20%20%20%20%20%20%20%20%20%60%3Cdiv%3E%0A%20%20%20%20%20%20%20%20%20%20%20%20%20%20%20%20%20%20%20%20%20%3Ch4%3E%3Cb%3EKalamazoo%20shooting%20spree%3C/h4%3E%3C/b%3E%3Cb%3EReaction%20score%3A%20%3C/b%3E0.12%3Cbr%3E--------------------------------%3Cbr%3E%3Cb%3EFatalities%3A%20%3C/b%3E6%3Cbr%3E%3Cb%3ELocation%20type%3A%20%3C/b%3EOther%3Cbr%3E%3Cb%3EWeapon%20type%3A%20%3C/b%3ESemiautomatic%3Cbr%3E%3Cb%3ELegal%20weapon%3A%20%3C/b%3EYes%3Cbr%3E%3Cb%3EGender%20of%20shooter%3A%20%3C/b%3EMale%3Cbr%3E%3Cb%3ERace%20of%20shooter%3A%20%3C/b%3EWhite%0A%20%20%20%20%20%20%20%20%20%20%20%20%20%20%20%20%20%3C/div%3E%60%2C%0A%20%20%20%20%20%20%20%20%20%20%20%20%20%20%20%20%7B%22sticky%22%3A%20true%7D%0A%20%20%20%20%20%20%20%20%20%20%20%20%29%3B%0A%20%20%20%20%20%20%20%20%0A%20%20%20%20%0A%20%20%20%20%20%20%20%20%20%20%20%20var%20circle_marker_e6cc6f7788c647efb50dd6b1d0242646%20%3D%20L.circleMarker%28%0A%20%20%20%20%20%20%20%20%20%20%20%20%20%20%20%20%5B43.044511%2C%20-87.962537%5D%2C%0A%20%20%20%20%20%20%20%20%20%20%20%20%20%20%20%20%7B%22bubblingMouseEvents%22%3A%20true%2C%20%22color%22%3A%20%22red%22%2C%20%22dashArray%22%3A%20null%2C%20%22dashOffset%22%3A%20null%2C%20%22fill%22%3A%20true%2C%20%22fillColor%22%3A%20%22red%22%2C%20%22fillOpacity%22%3A%200.2%2C%20%22fillRule%22%3A%20%22evenodd%22%2C%20%22lineCap%22%3A%20%22round%22%2C%20%22lineJoin%22%3A%20%22round%22%2C%20%22opacity%22%3A%201.0%2C%20%22radius%22%3A%201.6725562054409977%2C%20%22stroke%22%3A%20true%2C%20%22weight%22%3A%201.5%7D%0A%20%20%20%20%20%20%20%20%20%20%20%20%29.addTo%28map_a51a3c7eac2945279f6ee22cdcd4227f%29%3B%0A%20%20%20%20%20%20%20%20%0A%20%20%20%20%0A%20%20%20%20%20%20%20%20%20%20%20%20circle_marker_e6cc6f7788c647efb50dd6b1d0242646.bindTooltip%28%0A%20%20%20%20%20%20%20%20%20%20%20%20%20%20%20%20%60%3Cdiv%3E%0A%20%20%20%20%20%20%20%20%20%20%20%20%20%20%20%20%20%20%20%20%20%3Ch4%3E%3Cb%3EMolson%20Coors%20shooting%3C/h4%3E%3C/b%3E%3Cb%3EReaction%20score%3A%20%3C/b%3E0.08%3Cbr%3E--------------------------------%3Cbr%3E%3Cb%3EFatalities%3A%20%3C/b%3E5%3Cbr%3E%3Cb%3ELocation%20type%3A%20%3C/b%3EWorkplace%3Cbr%3E%3Cb%3EWeapon%20type%3A%20%3C/b%3ESemiautomatic%3Cbr%3E%3Cb%3ELegal%20weapon%3A%20%3C/b%3EUnknown/TBD%3Cbr%3E%3Cb%3EGender%20of%20shooter%3A%20%3C/b%3EMale%3Cbr%3E%3Cb%3ERace%20of%20shooter%3A%20%3C/b%3EBlack%0A%20%20%20%20%20%20%20%20%20%20%20%20%20%20%20%20%20%3C/div%3E%60%2C%0A%20%20%20%20%20%20%20%20%20%20%20%20%20%20%20%20%7B%22sticky%22%3A%20true%7D%0A%20%20%20%20%20%20%20%20%20%20%20%20%29%3B%0A%20%20%20%20%20%20%20%20%0A%20%20%20%20%0A%20%20%20%20%20%20%20%20%20%20%20%20var%20circle_marker_1e433baa47d64720a5e40ded2d29f96c%20%3D%20L.circleMarker%28%0A%20%20%20%20%20%20%20%20%20%20%20%20%20%20%20%20%5B28.580295%2C%20-81.294086%5D%2C%0A%20%20%20%20%20%20%20%20%20%20%20%20%20%20%20%20%7B%22bubblingMouseEvents%22%3A%20true%2C%20%22color%22%3A%20%22red%22%2C%20%22dashArray%22%3A%20null%2C%20%22dashOffset%22%3A%20null%2C%20%22fill%22%3A%20true%2C%20%22fillColor%22%3A%20%22red%22%2C%20%22fillOpacity%22%3A%200.2%2C%20%22fillRule%22%3A%20%22evenodd%22%2C%20%22lineCap%22%3A%20%22round%22%2C%20%22lineJoin%22%3A%20%22round%22%2C%20%22opacity%22%3A%201.0%2C%20%22radius%22%3A%203.13538724634597%2C%20%22stroke%22%3A%20true%2C%20%22weight%22%3A%201.5%7D%0A%20%20%20%20%20%20%20%20%20%20%20%20%29.addTo%28map_a51a3c7eac2945279f6ee22cdcd4227f%29%3B%0A%20%20%20%20%20%20%20%20%0A%20%20%20%20%0A%20%20%20%20%20%20%20%20%20%20%20%20circle_marker_1e433baa47d64720a5e40ded2d29f96c.bindTooltip%28%0A%20%20%20%20%20%20%20%20%20%20%20%20%20%20%20%20%60%3Cdiv%3E%0A%20%20%20%20%20%20%20%20%20%20%20%20%20%20%20%20%20%20%20%20%20%3Ch4%3E%3Cb%3EFlorida%20awning%20manufacturer%20shooting%3C/h4%3E%3C/b%3E%3Cb%3EReaction%20score%3A%20%3C/b%3E0.16%3Cbr%3E--------------------------------%3Cbr%3E%3Cb%3EFatalities%3A%20%3C/b%3E5%3Cbr%3E%3Cb%3ELocation%20type%3A%20%3C/b%3EWorkplace%3Cbr%3E%3Cb%3EWeapon%20type%3A%20%3C/b%3ESemiautomatic%3Cbr%3E%3Cb%3ELegal%20weapon%3A%20%3C/b%3EUnknown/TBD%3Cbr%3E%3Cb%3EGender%20of%20shooter%3A%20%3C/b%3EMale%3Cbr%3E%3Cb%3ERace%20of%20shooter%3A%20%3C/b%3EUnknown%0A%20%20%20%20%20%20%20%20%20%20%20%20%20%20%20%20%20%3C/div%3E%60%2C%0A%20%20%20%20%20%20%20%20%20%20%20%20%20%20%20%20%7B%22sticky%22%3A%20true%7D%0A%20%20%20%20%20%20%20%20%20%20%20%20%29%3B%0A%20%20%20%20%20%20%20%20%0A%20%20%20%20%0A%20%20%20%20%20%20%20%20%20%20%20%20var%20circle_marker_48531652e0c04fbeb2916edc10ed8516%20%3D%20L.circleMarker%28%0A%20%20%20%20%20%20%20%20%20%20%20%20%20%20%20%20%5B26.072751%2C%20-80.143382%5D%2C%0A%20%20%20%20%20%20%20%20%20%20%20%20%20%20%20%20%7B%22bubblingMouseEvents%22%3A%20true%2C%20%22color%22%3A%20%22red%22%2C%20%22dashArray%22%3A%20null%2C%20%22dashOffset%22%3A%20null%2C%20%22fill%22%3A%20true%2C%20%22fillColor%22%3A%20%22red%22%2C%20%22fillOpacity%22%3A%200.2%2C%20%22fillRule%22%3A%20%22evenodd%22%2C%20%22lineCap%22%3A%20%22round%22%2C%20%22lineJoin%22%3A%20%22round%22%2C%20%22opacity%22%3A%201.0%2C%20%22radius%22%3A%208.3054858793368%2C%20%22stroke%22%3A%20true%2C%20%22weight%22%3A%201.5%7D%0A%20%20%20%20%20%20%20%20%20%20%20%20%29.addTo%28map_a51a3c7eac2945279f6ee22cdcd4227f%29%3B%0A%20%20%20%20%20%20%20%20%0A%20%20%20%20%0A%20%20%20%20%20%20%20%20%20%20%20%20circle_marker_48531652e0c04fbeb2916edc10ed8516.bindTooltip%28%0A%20%20%20%20%20%20%20%20%20%20%20%20%20%20%20%20%60%3Cdiv%3E%0A%20%20%20%20%20%20%20%20%20%20%20%20%20%20%20%20%20%20%20%20%20%3Ch4%3E%3Cb%3EFort%20Lauderdale%20airport%20shooting%3C/h4%3E%3C/b%3E%3Cb%3EReaction%20score%3A%20%3C/b%3E0.42%3Cbr%3E--------------------------------%3Cbr%3E%3Cb%3EFatalities%3A%20%3C/b%3E5%3Cbr%3E%3Cb%3ELocation%20type%3A%20%3C/b%3EAirport%3Cbr%3E%3Cb%3EWeapon%20type%3A%20%3C/b%3ESemiautomatic%3Cbr%3E%3Cb%3ELegal%20weapon%3A%20%3C/b%3EYes%3Cbr%3E%3Cb%3EGender%20of%20shooter%3A%20%3C/b%3EMale%3Cbr%3E%3Cb%3ERace%20of%20shooter%3A%20%3C/b%3ELatino%0A%20%20%20%20%20%20%20%20%20%20%20%20%20%20%20%20%20%3C/div%3E%60%2C%0A%20%20%20%20%20%20%20%20%20%20%20%20%20%20%20%20%7B%22sticky%22%3A%20true%7D%0A%20%20%20%20%20%20%20%20%20%20%20%20%29%3B%0A%20%20%20%20%20%20%20%20%0A%20%20%20%20%0A%20%20%20%20%20%20%20%20%20%20%20%20var%20circle_marker_c1390b32908d4538a72aac1dafb2c0d4%20%3D%20L.circleMarker%28%0A%20%20%20%20%20%20%20%20%20%20%20%20%20%20%20%20%5B48.461367%2C%20-122.337918%5D%2C%0A%20%20%20%20%20%20%20%20%20%20%20%20%20%20%20%20%7B%22bubblingMouseEvents%22%3A%20true%2C%20%22color%22%3A%20%22red%22%2C%20%22dashArray%22%3A%20null%2C%20%22dashOffset%22%3A%20null%2C%20%22fill%22%3A%20true%2C%20%22fillColor%22%3A%20%22red%22%2C%20%22fillOpacity%22%3A%200.2%2C%20%22fillRule%22%3A%20%22evenodd%22%2C%20%22lineCap%22%3A%20%22round%22%2C%20%22lineJoin%22%3A%20%22round%22%2C%20%22opacity%22%3A%201.0%2C%20%22radius%22%3A%204.032475309845178%2C%20%22stroke%22%3A%20true%2C%20%22weight%22%3A%201.5%7D%0A%20%20%20%20%20%20%20%20%20%20%20%20%29.addTo%28map_a51a3c7eac2945279f6ee22cdcd4227f%29%3B%0A%20%20%20%20%20%20%20%20%0A%20%20%20%20%0A%20%20%20%20%20%20%20%20%20%20%20%20circle_marker_c1390b32908d4538a72aac1dafb2c0d4.bindTooltip%28%0A%20%20%20%20%20%20%20%20%20%20%20%20%20%20%20%20%60%3Cdiv%3E%0A%20%20%20%20%20%20%20%20%20%20%20%20%20%20%20%20%20%20%20%20%20%3Ch4%3E%3Cb%3ECascade%20Mall%20shooting%3C/h4%3E%3C/b%3E%3Cb%3EReaction%20score%3A%20%3C/b%3E0.2%3Cbr%3E--------------------------------%3Cbr%3E%3Cb%3EFatalities%3A%20%3C/b%3E5%3Cbr%3E%3Cb%3ELocation%20type%3A%20%3C/b%3EOther%3Cbr%3E%3Cb%3EWeapon%20type%3A%20%3C/b%3EOther%3Cbr%3E%3Cb%3ELegal%20weapon%3A%20%3C/b%3EUnknown/TBD%3Cbr%3E%3Cb%3EGender%20of%20shooter%3A%20%3C/b%3EMale%3Cbr%3E%3Cb%3ERace%20of%20shooter%3A%20%3C/b%3EUnknown%0A%20%20%20%20%20%20%20%20%20%20%20%20%20%20%20%20%20%3C/div%3E%60%2C%0A%20%20%20%20%20%20%20%20%20%20%20%20%20%20%20%20%7B%22sticky%22%3A%20true%7D%0A%20%20%20%20%20%20%20%20%20%20%20%20%29%3B%0A%20%20%20%20%20%20%20%20%0A%20%20%20%20%0A%20%20%20%20%20%20%20%20%20%20%20%20var%20circle_marker_b0221ef7cc054b0f9b3432fbe311c94e%20%3D%20L.circleMarker%28%0A%20%20%20%20%20%20%20%20%20%20%20%20%20%20%20%20%5B32.7801052%2C%20-96.8000082%5D%2C%0A%20%20%20%20%20%20%20%20%20%20%20%20%20%20%20%20%7B%22bubblingMouseEvents%22%3A%20true%2C%20%22color%22%3A%20%22red%22%2C%20%22dashArray%22%3A%20null%2C%20%22dashOffset%22%3A%20null%2C%20%22fill%22%3A%20true%2C%20%22fillColor%22%3A%20%22red%22%2C%20%22fillOpacity%22%3A%200.2%2C%20%22fillRule%22%3A%20%22evenodd%22%2C%20%22lineCap%22%3A%20%22round%22%2C%20%22lineJoin%22%3A%20%22round%22%2C%20%22opacity%22%3A%201.0%2C%20%22radius%22%3A%202.8514078971853025%2C%20%22stroke%22%3A%20true%2C%20%22weight%22%3A%201.5%7D%0A%20%20%20%20%20%20%20%20%20%20%20%20%29.addTo%28map_a51a3c7eac2945279f6ee22cdcd4227f%29%3B%0A%20%20%20%20%20%20%20%20%0A%20%20%20%20%0A%20%20%20%20%20%20%20%20%20%20%20%20circle_marker_b0221ef7cc054b0f9b3432fbe311c94e.bindTooltip%28%0A%20%20%20%20%20%20%20%20%20%20%20%20%20%20%20%20%60%3Cdiv%3E%0A%20%20%20%20%20%20%20%20%20%20%20%20%20%20%20%20%20%20%20%20%20%3Ch4%3E%3Cb%3EDallas%20police%20shooting%3C/h4%3E%3C/b%3E%3Cb%3EReaction%20score%3A%20%3C/b%3E0.14%3Cbr%3E--------------------------------%3Cbr%3E%3Cb%3EFatalities%3A%20%3C/b%3E5%3Cbr%3E%3Cb%3ELocation%20type%3A%20%3C/b%3EOther%3Cbr%3E%3Cb%3EWeapon%20type%3A%20%3C/b%3ESemiautomatic%3Cbr%3E%3Cb%3ELegal%20weapon%3A%20%3C/b%3EYes%3Cbr%3E%3Cb%3EGender%20of%20shooter%3A%20%3C/b%3EMale%3Cbr%3E%3Cb%3ERace%20of%20shooter%3A%20%3C/b%3EBlack%0A%20%20%20%20%20%20%20%20%20%20%20%20%20%20%20%20%20%3C/div%3E%60%2C%0A%20%20%20%20%20%20%20%20%20%20%20%20%20%20%20%20%7B%22sticky%22%3A%20true%7D%0A%20%20%20%20%20%20%20%20%20%20%20%20%29%3B%0A%20%20%20%20%20%20%20%20%0A%20%20%20%20%0A%20%20%20%20%20%20%20%20%20%20%20%20var%20circle_marker_b7ed6a8514304dc0b3407d6bea28a78c%20%3D%20L.circleMarker%28%0A%20%20%20%20%20%20%20%20%20%20%20%20%20%20%20%20%5B38.994548%2C%20-76.543657%5D%2C%0A%20%20%20%20%20%20%20%20%20%20%20%20%20%20%20%20%7B%22bubblingMouseEvents%22%3A%20true%2C%20%22color%22%3A%20%22red%22%2C%20%22dashArray%22%3A%20null%2C%20%22dashOffset%22%3A%20null%2C%20%22fill%22%3A%20true%2C%20%22fillColor%22%3A%20%22red%22%2C%20%22fillOpacity%22%3A%200.2%2C%20%22fillRule%22%3A%20%22evenodd%22%2C%20%22lineCap%22%3A%20%22round%22%2C%20%22lineJoin%22%3A%20%22round%22%2C%20%22opacity%22%3A%201.0%2C%20%22radius%22%3A%203.294519264772072%2C%20%22stroke%22%3A%20true%2C%20%22weight%22%3A%201.5%7D%0A%20%20%20%20%20%20%20%20%20%20%20%20%29.addTo%28map_a51a3c7eac2945279f6ee22cdcd4227f%29%3B%0A%20%20%20%20%20%20%20%20%0A%20%20%20%20%0A%20%20%20%20%20%20%20%20%20%20%20%20circle_marker_b7ed6a8514304dc0b3407d6bea28a78c.bindTooltip%28%0A%20%20%20%20%20%20%20%20%20%20%20%20%20%20%20%20%60%3Cdiv%3E%0A%20%20%20%20%20%20%20%20%20%20%20%20%20%20%20%20%20%20%20%20%20%3Ch4%3E%3Cb%3ECapital%20Gazette%20shooting%3C/h4%3E%3C/b%3E%3Cb%3EReaction%20score%3A%20%3C/b%3E0.16%3Cbr%3E--------------------------------%3Cbr%3E%3Cb%3EFatalities%3A%20%3C/b%3E5%3Cbr%3E%3Cb%3ELocation%20type%3A%20%3C/b%3EWorkplace%3Cbr%3E%3Cb%3EWeapon%20type%3A%20%3C/b%3EOther%3Cbr%3E%3Cb%3ELegal%20weapon%3A%20%3C/b%3EYes%3Cbr%3E%3Cb%3EGender%20of%20shooter%3A%20%3C/b%3EMale%3Cbr%3E%3Cb%3ERace%20of%20shooter%3A%20%3C/b%3EWhite%0A%20%20%20%20%20%20%20%20%20%20%20%20%20%20%20%20%20%3C/div%3E%60%2C%0A%20%20%20%20%20%20%20%20%20%20%20%20%20%20%20%20%7B%22sticky%22%3A%20true%7D%0A%20%20%20%20%20%20%20%20%20%20%20%20%29%3B%0A%20%20%20%20%20%20%20%20%0A%20%20%20%20%0A%20%20%20%20%20%20%20%20%20%20%20%20var%20circle_marker_22478c4bb2db4f45bd1b01738c5eabfd%20%3D%20L.circleMarker%28%0A%20%20%20%20%20%20%20%20%20%20%20%20%20%20%20%20%5B41.753725%2C%20-88.331057%5D%2C%0A%20%20%20%20%20%20%20%20%20%20%20%20%20%20%20%20%7B%22bubblingMouseEvents%22%3A%20true%2C%20%22color%22%3A%20%22red%22%2C%20%22dashArray%22%3A%20null%2C%20%22dashOffset%22%3A%20null%2C%20%22fill%22%3A%20true%2C%20%22fillColor%22%3A%20%22red%22%2C%20%22fillOpacity%22%3A%200.2%2C%20%22fillRule%22%3A%20%22evenodd%22%2C%20%22lineCap%22%3A%20%22round%22%2C%20%22lineJoin%22%3A%20%22round%22%2C%20%22opacity%22%3A%201.0%2C%20%22radius%22%3A%208.423746290937276%2C%20%22stroke%22%3A%20true%2C%20%22weight%22%3A%201.5%7D%0A%20%20%20%20%20%20%20%20%20%20%20%20%29.addTo%28map_a51a3c7eac2945279f6ee22cdcd4227f%29%3B%0A%20%20%20%20%20%20%20%20%0A%20%20%20%20%0A%20%20%20%20%20%20%20%20%20%20%20%20circle_marker_22478c4bb2db4f45bd1b01738c5eabfd.bindTooltip%28%0A%20%20%20%20%20%20%20%20%20%20%20%20%20%20%20%20%60%3Cdiv%3E%0A%20%20%20%20%20%20%20%20%20%20%20%20%20%20%20%20%20%20%20%20%20%3Ch4%3E%3Cb%3EHarry%20Pratt%20Co.%20warehouse%20shooting%3C/h4%3E%3C/b%3E%3Cb%3EReaction%20score%3A%20%3C/b%3E0.42%3Cbr%3E--------------------------------%3Cbr%3E%3Cb%3EFatalities%3A%20%3C/b%3E5%3Cbr%3E%3Cb%3ELocation%20type%3A%20%3C/b%3EWorkplace%3Cbr%3E%3Cb%3EWeapon%20type%3A%20%3C/b%3EHandgun%3Cbr%3E%3Cb%3ELegal%20weapon%3A%20%3C/b%3ENo%3Cbr%3E%3Cb%3EGender%20of%20shooter%3A%20%3C/b%3EMale%3Cbr%3E%3Cb%3ERace%20of%20shooter%3A%20%3C/b%3EBlack%0A%20%20%20%20%20%20%20%20%20%20%20%20%20%20%20%20%20%3C/div%3E%60%2C%0A%20%20%20%20%20%20%20%20%20%20%20%20%20%20%20%20%7B%22sticky%22%3A%20true%7D%0A%20%20%20%20%20%20%20%20%20%20%20%20%29%3B%0A%20%20%20%20%20%20%20%20%0A%20%20%20%20%0A%20%20%20%20%20%20%20%20%20%20%20%20var%20circle_marker_45491e2a39374418a931d76e47445dd2%20%3D%20L.circleMarker%28%0A%20%20%20%20%20%20%20%20%20%20%20%20%20%20%20%20%5B35.349388%2C%20-118.916335%5D%2C%0A%20%20%20%20%20%20%20%20%20%20%20%20%20%20%20%20%7B%22bubblingMouseEvents%22%3A%20true%2C%20%22color%22%3A%20%22red%22%2C%20%22dashArray%22%3A%20null%2C%20%22dashOffset%22%3A%20null%2C%20%22fill%22%3A%20true%2C%20%22fillColor%22%3A%20%22red%22%2C%20%22fillOpacity%22%3A%200.2%2C%20%22fillRule%22%3A%20%22evenodd%22%2C%20%22lineCap%22%3A%20%22round%22%2C%20%22lineJoin%22%3A%20%22round%22%2C%20%22opacity%22%3A%201.0%2C%20%22radius%22%3A%200.0768669505480455%2C%20%22stroke%22%3A%20true%2C%20%22weight%22%3A%201.5%7D%0A%20%20%20%20%20%20%20%20%20%20%20%20%29.addTo%28map_a51a3c7eac2945279f6ee22cdcd4227f%29%3B%0A%20%20%20%20%20%20%20%20%0A%20%20%20%20%0A%20%20%20%20%20%20%20%20%20%20%20%20circle_marker_45491e2a39374418a931d76e47445dd2.bindTooltip%28%0A%20%20%20%20%20%20%20%20%20%20%20%20%20%20%20%20%60%3Cdiv%3E%0A%20%20%20%20%20%20%20%20%20%20%20%20%20%20%20%20%20%20%20%20%20%3Ch4%3E%3Cb%3ET%26T%20Trucking%20shooting%3C/h4%3E%3C/b%3E%3Cb%3EReaction%20score%3A%20%3C/b%3E0.0%3Cbr%3E--------------------------------%3Cbr%3E%3Cb%3EFatalities%3A%20%3C/b%3E5%3Cbr%3E%3Cb%3ELocation%20type%3A%20%3C/b%3EWorkplace%3Cbr%3E%3Cb%3EWeapon%20type%3A%20%3C/b%3EHandgun%3Cbr%3E%3Cb%3ELegal%20weapon%3A%20%3C/b%3EYes%3Cbr%3E%3Cb%3EGender%20of%20shooter%3A%20%3C/b%3EMale%3Cbr%3E%3Cb%3ERace%20of%20shooter%3A%20%3C/b%3ELatino%0A%20%20%20%20%20%20%20%20%20%20%20%20%20%20%20%20%20%3C/div%3E%60%2C%0A%20%20%20%20%20%20%20%20%20%20%20%20%20%20%20%20%7B%22sticky%22%3A%20true%7D%0A%20%20%20%20%20%20%20%20%20%20%20%20%29%3B%0A%20%20%20%20%20%20%20%20%0A%20%20%20%20%0A%20%20%20%20%20%20%20%20%20%20%20%20var%20circle_marker_186ea5f6ef234d2db524a32341a8f078%20%3D%20L.circleMarker%28%0A%20%20%20%20%20%20%20%20%20%20%20%20%20%20%20%20%5B35.047157%2C%20-85.311819%5D%2C%0A%20%20%20%20%20%20%20%20%20%20%20%20%20%20%20%20%7B%22bubblingMouseEvents%22%3A%20true%2C%20%22color%22%3A%20%22red%22%2C%20%22dashArray%22%3A%20null%2C%20%22dashOffset%22%3A%20null%2C%20%22fill%22%3A%20true%2C%20%22fillColor%22%3A%20%22red%22%2C%20%22fillOpacity%22%3A%200.2%2C%20%22fillRule%22%3A%20%22evenodd%22%2C%20%22lineCap%22%3A%20%22round%22%2C%20%22lineJoin%22%3A%20%22round%22%2C%20%22opacity%22%3A%201.0%2C%20%22radius%22%3A%204.9499707875401695%2C%20%22stroke%22%3A%20true%2C%20%22weight%22%3A%201.5%7D%0A%20%20%20%20%20%20%20%20%20%20%20%20%29.addTo%28map_a51a3c7eac2945279f6ee22cdcd4227f%29%3B%0A%20%20%20%20%20%20%20%20%0A%20%20%20%20%0A%20%20%20%20%20%20%20%20%20%20%20%20circle_marker_186ea5f6ef234d2db524a32341a8f078.bindTooltip%28%0A%20%20%20%20%20%20%20%20%20%20%20%20%20%20%20%20%60%3Cdiv%3E%0A%20%20%20%20%20%20%20%20%20%20%20%20%20%20%20%20%20%20%20%20%20%3Ch4%3E%3Cb%3EChattanooga%20military%20recruitment%20center%3C/h4%3E%3C/b%3E%3Cb%3EReaction%20score%3A%20%3C/b%3E0.25%3Cbr%3E--------------------------------%3Cbr%3E%3Cb%3EFatalities%3A%20%3C/b%3E5%3Cbr%3E%3Cb%3ELocation%20type%3A%20%3C/b%3EMilitary%3Cbr%3E%3Cb%3EWeapon%20type%3A%20%3C/b%3EAssault%3Cbr%3E%3Cb%3ELegal%20weapon%3A%20%3C/b%3EYes%3Cbr%3E%3Cb%3EGender%20of%20shooter%3A%20%3C/b%3EMale%3Cbr%3E%3Cb%3ERace%20of%20shooter%3A%20%3C/b%3EOther%0A%20%20%20%20%20%20%20%20%20%20%20%20%20%20%20%20%20%3C/div%3E%60%2C%0A%20%20%20%20%20%20%20%20%20%20%20%20%20%20%20%20%7B%22sticky%22%3A%20true%7D%0A%20%20%20%20%20%20%20%20%20%20%20%20%29%3B%0A%20%20%20%20%20%20%20%20%0A%20%20%20%20%0A%20%20%20%20%20%20%20%20%20%20%20%20var%20circle_marker_dc71685e18804510adbadd6a4093c7a8%20%3D%20L.circleMarker%28%0A%20%20%20%20%20%20%20%20%20%20%20%20%20%20%20%20%5B27.471043%2C%20-81.45847%5D%2C%0A%20%20%20%20%20%20%20%20%20%20%20%20%20%20%20%20%7B%22bubblingMouseEvents%22%3A%20true%2C%20%22color%22%3A%20%22red%22%2C%20%22dashArray%22%3A%20null%2C%20%22dashOffset%22%3A%20null%2C%20%22fill%22%3A%20true%2C%20%22fillColor%22%3A%20%22red%22%2C%20%22fillOpacity%22%3A%200.2%2C%20%22fillRule%22%3A%20%22evenodd%22%2C%20%22lineCap%22%3A%20%22round%22%2C%20%22lineJoin%22%3A%20%22round%22%2C%20%22opacity%22%3A%201.0%2C%20%22radius%22%3A%203.0662858656681182%2C%20%22stroke%22%3A%20true%2C%20%22weight%22%3A%201.5%7D%0A%20%20%20%20%20%20%20%20%20%20%20%20%29.addTo%28map_a51a3c7eac2945279f6ee22cdcd4227f%29%3B%0A%20%20%20%20%20%20%20%20%0A%20%20%20%20%0A%20%20%20%20%20%20%20%20%20%20%20%20circle_marker_dc71685e18804510adbadd6a4093c7a8.bindTooltip%28%0A%20%20%20%20%20%20%20%20%20%20%20%20%20%20%20%20%60%3Cdiv%3E%0A%20%20%20%20%20%20%20%20%20%20%20%20%20%20%20%20%20%20%20%20%20%3Ch4%3E%3Cb%3ESunTrust%20bank%20shooting%3C/h4%3E%3C/b%3E%3Cb%3EReaction%20score%3A%20%3C/b%3E0.15%3Cbr%3E--------------------------------%3Cbr%3E%3Cb%3EFatalities%3A%20%3C/b%3E5%3Cbr%3E%3Cb%3ELocation%20type%3A%20%3C/b%3EWorkplace%3Cbr%3E%3Cb%3EWeapon%20type%3A%20%3C/b%3EHandgun%3Cbr%3E%3Cb%3ELegal%20weapon%3A%20%3C/b%3EYes%3Cbr%3E%3Cb%3EGender%20of%20shooter%3A%20%3C/b%3EMale%3Cbr%3E%3Cb%3ERace%20of%20shooter%3A%20%3C/b%3EWhite%0A%20%20%20%20%20%20%20%20%20%20%20%20%20%20%20%20%20%3C/div%3E%60%2C%0A%20%20%20%20%20%20%20%20%20%20%20%20%20%20%20%20%7B%22sticky%22%3A%20true%7D%0A%20%20%20%20%20%20%20%20%20%20%20%20%29%3B%0A%20%20%20%20%20%20%20%20%0A%20%20%20%20%0A%20%20%20%20%20%20%20%20%20%20%20%20var%20circle_marker_7d40194cda23411fa3a1ff4e44d031d6%20%3D%20L.circleMarker%28%0A%20%20%20%20%20%20%20%20%20%20%20%20%20%20%20%20%5B40.018759%2C%20-122.393089%5D%2C%0A%20%20%20%20%20%20%20%20%20%20%20%20%20%20%20%20%7B%22bubblingMouseEvents%22%3A%20true%2C%20%22color%22%3A%20%22red%22%2C%20%22dashArray%22%3A%20null%2C%20%22dashOffset%22%3A%20null%2C%20%22fill%22%3A%20true%2C%20%22fillColor%22%3A%20%22red%22%2C%20%22fillOpacity%22%3A%200.2%2C%20%22fillRule%22%3A%20%22evenodd%22%2C%20%22lineCap%22%3A%20%22round%22%2C%20%22lineJoin%22%3A%20%22round%22%2C%20%22opacity%22%3A%201.0%2C%20%22radius%22%3A%203.1088860069881057%2C%20%22stroke%22%3A%20true%2C%20%22weight%22%3A%201.5%7D%0A%20%20%20%20%20%20%20%20%20%20%20%20%29.addTo%28map_a51a3c7eac2945279f6ee22cdcd4227f%29%3B%0A%20%20%20%20%20%20%20%20%0A%20%20%20%20%0A%20%20%20%20%20%20%20%20%20%20%20%20circle_marker_7d40194cda23411fa3a1ff4e44d031d6.bindTooltip%28%0A%20%20%20%20%20%20%20%20%20%20%20%20%20%20%20%20%60%3Cdiv%3E%0A%20%20%20%20%20%20%20%20%20%20%20%20%20%20%20%20%20%20%20%20%20%3Ch4%3E%3Cb%3ERancho%20Tehama%20shooting%20spree%3C/h4%3E%3C/b%3E%3Cb%3EReaction%20score%3A%20%3C/b%3E0.16%3Cbr%3E--------------------------------%3Cbr%3E%3Cb%3EFatalities%3A%20%3C/b%3E5%3Cbr%3E%3Cb%3ELocation%20type%3A%20%3C/b%3EOther%3Cbr%3E%3Cb%3EWeapon%20type%3A%20%3C/b%3ESemiautomatic%3Cbr%3E%3Cb%3ELegal%20weapon%3A%20%3C/b%3ENo%3Cbr%3E%3Cb%3EGender%20of%20shooter%3A%20%3C/b%3EMale%3Cbr%3E%3Cb%3ERace%20of%20shooter%3A%20%3C/b%3EWhite%0A%20%20%20%20%20%20%20%20%20%20%20%20%20%20%20%20%20%3C/div%3E%60%2C%0A%20%20%20%20%20%20%20%20%20%20%20%20%20%20%20%20%7B%22sticky%22%3A%20true%7D%0A%20%20%20%20%20%20%20%20%20%20%20%20%29%3B%0A%20%20%20%20%20%20%20%20%0A%20%20%20%20%0A%20%20%20%20%20%20%20%20%20%20%20%20var%20circle_marker_09ded9f087c5450faf9e51ab14b0cb59%20%3D%20L.circleMarker%28%0A%20%20%20%20%20%20%20%20%20%20%20%20%20%20%20%20%5B37.210432%2C%20-93.23686%5D%2C%0A%20%20%20%20%20%20%20%20%20%20%20%20%20%20%20%20%7B%22bubblingMouseEvents%22%3A%20true%2C%20%22color%22%3A%20%22red%22%2C%20%22dashArray%22%3A%20null%2C%20%22dashOffset%22%3A%20null%2C%20%22fill%22%3A%20true%2C%20%22fillColor%22%3A%20%22red%22%2C%20%22fillOpacity%22%3A%200.2%2C%20%22fillRule%22%3A%20%22evenodd%22%2C%20%22lineCap%22%3A%20%22round%22%2C%20%22lineJoin%22%3A%20%22round%22%2C%20%22opacity%22%3A%201.0%2C%20%22radius%22%3A%203.124050095524445%2C%20%22stroke%22%3A%20true%2C%20%22weight%22%3A%201.5%7D%0A%20%20%20%20%20%20%20%20%20%20%20%20%29.addTo%28map_a51a3c7eac2945279f6ee22cdcd4227f%29%3B%0A%20%20%20%20%20%20%20%20%0A%20%20%20%20%0A%20%20%20%20%20%20%20%20%20%20%20%20circle_marker_09ded9f087c5450faf9e51ab14b0cb59.bindTooltip%28%0A%20%20%20%20%20%20%20%20%20%20%20%20%20%20%20%20%60%3Cdiv%3E%0A%20%20%20%20%20%20%20%20%20%20%20%20%20%20%20%20%20%20%20%20%20%3Ch4%3E%3Cb%3ESpringfield%20convenience%20store%20shooting%3C/h4%3E%3C/b%3E%3Cb%3EReaction%20score%3A%20%3C/b%3E0.16%3Cbr%3E--------------------------------%3Cbr%3E%3Cb%3EFatalities%3A%20%3C/b%3E4%3Cbr%3E%3Cb%3ELocation%20type%3A%20%3C/b%3EWorkplace%3Cbr%3E%3Cb%3EWeapon%20type%3A%20%3C/b%3EOther%3Cbr%3E%3Cb%3ELegal%20weapon%3A%20%3C/b%3EUnknown/TBD%3Cbr%3E%3Cb%3EGender%20of%20shooter%3A%20%3C/b%3EMale%3Cbr%3E%3Cb%3ERace%20of%20shooter%3A%20%3C/b%3EUnknown%0A%20%20%20%20%20%20%20%20%20%20%20%20%20%20%20%20%20%3C/div%3E%60%2C%0A%20%20%20%20%20%20%20%20%20%20%20%20%20%20%20%20%7B%22sticky%22%3A%20true%7D%0A%20%20%20%20%20%20%20%20%20%20%20%20%29%3B%0A%20%20%20%20%20%20%20%20%0A%20%20%20%20%0A%20%20%20%20%20%20%20%20%20%20%20%20var%20circle_marker_743e469a17434e678035b2a54eef4caf%20%3D%20L.circleMarker%28%0A%20%20%20%20%20%20%20%20%20%20%20%20%20%20%20%20%5B40.707363%2C%20-74.083609%5D%2C%0A%20%20%20%20%20%20%20%20%20%20%20%20%20%20%20%20%7B%22bubblingMouseEvents%22%3A%20true%2C%20%22color%22%3A%20%22red%22%2C%20%22dashArray%22%3A%20null%2C%20%22dashOffset%22%3A%20null%2C%20%22fill%22%3A%20true%2C%20%22fillColor%22%3A%20%22red%22%2C%20%22fillOpacity%22%3A%200.2%2C%20%22fillRule%22%3A%20%22evenodd%22%2C%20%22lineCap%22%3A%20%22round%22%2C%20%22lineJoin%22%3A%20%22round%22%2C%20%22opacity%22%3A%201.0%2C%20%22radius%22%3A%204.517877687429921%2C%20%22stroke%22%3A%20true%2C%20%22weight%22%3A%201.5%7D%0A%20%20%20%20%20%20%20%20%20%20%20%20%29.addTo%28map_a51a3c7eac2945279f6ee22cdcd4227f%29%3B%0A%20%20%20%20%20%20%20%20%0A%20%20%20%20%0A%20%20%20%20%20%20%20%20%20%20%20%20circle_marker_743e469a17434e678035b2a54eef4caf.bindTooltip%28%0A%20%20%20%20%20%20%20%20%20%20%20%20%20%20%20%20%60%3Cdiv%3E%0A%20%20%20%20%20%20%20%20%20%20%20%20%20%20%20%20%20%20%20%20%20%3Ch4%3E%3Cb%3EJersey%20City%20kosher%20market%20shooting%3C/h4%3E%3C/b%3E%3Cb%3EReaction%20score%3A%20%3C/b%3E0.23%3Cbr%3E--------------------------------%3Cbr%3E%3Cb%3EFatalities%3A%20%3C/b%3E4%3Cbr%3E%3Cb%3ELocation%20type%3A%20%3C/b%3EOther%3Cbr%3E%3Cb%3EWeapon%20type%3A%20%3C/b%3EOther%3Cbr%3E%3Cb%3ELegal%20weapon%3A%20%3C/b%3EUnknown/TBD%3Cbr%3E%3Cb%3EGender%20of%20shooter%3A%20%3C/b%3EMale%20%26%20Female%3Cbr%3E%3Cb%3ERace%20of%20shooter%3A%20%3C/b%3EBlack%0A%20%20%20%20%20%20%20%20%20%20%20%20%20%20%20%20%20%3C/div%3E%60%2C%0A%20%20%20%20%20%20%20%20%20%20%20%20%20%20%20%20%7B%22sticky%22%3A%20true%7D%0A%20%20%20%20%20%20%20%20%20%20%20%20%29%3B%0A%20%20%20%20%20%20%20%20%0A%20%20%20%20%0A%20%20%20%20%20%20%20%20%20%20%20%20var%20circle_marker_bcdc4408a6314767be8e3f5eb0b2f525%20%3D%20L.circleMarker%28%0A%20%20%20%20%20%20%20%20%20%20%20%20%20%20%20%20%5B40.052151%2C%20-79.389166%5D%2C%0A%20%20%20%20%20%20%20%20%20%20%20%20%20%20%20%20%7B%22bubblingMouseEvents%22%3A%20true%2C%20%22color%22%3A%20%22red%22%2C%20%22dashArray%22%3A%20null%2C%20%22dashOffset%22%3A%20null%2C%20%22fill%22%3A%20true%2C%20%22fillColor%22%3A%20%22red%22%2C%20%22fillOpacity%22%3A%200.2%2C%20%22fillRule%22%3A%20%22evenodd%22%2C%20%22lineCap%22%3A%20%22round%22%2C%20%22lineJoin%22%3A%20%22round%22%2C%20%22opacity%22%3A%201.0%2C%20%22radius%22%3A%202.8037525812305097%2C%20%22stroke%22%3A%20true%2C%20%22weight%22%3A%201.5%7D%0A%20%20%20%20%20%20%20%20%20%20%20%20%29.addTo%28map_a51a3c7eac2945279f6ee22cdcd4227f%29%3B%0A%20%20%20%20%20%20%20%20%0A%20%20%20%20%0A%20%20%20%20%20%20%20%20%20%20%20%20circle_marker_bcdc4408a6314767be8e3f5eb0b2f525.bindTooltip%28%0A%20%20%20%20%20%20%20%20%20%20%20%20%20%20%20%20%60%3Cdiv%3E%0A%20%20%20%20%20%20%20%20%20%20%20%20%20%20%20%20%20%20%20%20%20%3Ch4%3E%3Cb%3EPennsylvania%20carwash%20shooting%3C/h4%3E%3C/b%3E%3Cb%3EReaction%20score%3A%20%3C/b%3E0.14%3Cbr%3E--------------------------------%3Cbr%3E%3Cb%3EFatalities%3A%20%3C/b%3E4%3Cbr%3E%3Cb%3ELocation%20type%3A%20%3C/b%3EOther%3Cbr%3E%3Cb%3EWeapon%20type%3A%20%3C/b%3ESemiautomatic%3Cbr%3E%3Cb%3ELegal%20weapon%3A%20%3C/b%3EUnknown/TBD%3Cbr%3E%3Cb%3EGender%20of%20shooter%3A%20%3C/b%3EMale%3Cbr%3E%3Cb%3ERace%20of%20shooter%3A%20%3C/b%3EWhite%0A%20%20%20%20%20%20%20%20%20%20%20%20%20%20%20%20%20%3C/div%3E%60%2C%0A%20%20%20%20%20%20%20%20%20%20%20%20%20%20%20%20%7B%22sticky%22%3A%20true%7D%0A%20%20%20%20%20%20%20%20%20%20%20%20%29%3B%0A%20%20%20%20%20%20%20%20%0A%20%20%20%20%0A%20%20%20%20%20%20%20%20%20%20%20%20var%20circle_marker_c4fe0677e3b94ebd9fc7a7b816fc8987%20%3D%20L.circleMarker%28%0A%20%20%20%20%20%20%20%20%20%20%20%20%20%20%20%20%5B36.052521%2C%20-86.616944%5D%2C%0A%20%20%20%20%20%20%20%20%20%20%20%20%20%20%20%20%7B%22bubblingMouseEvents%22%3A%20true%2C%20%22color%22%3A%20%22red%22%2C%20%22dashArray%22%3A%20null%2C%20%22dashOffset%22%3A%20null%2C%20%22fill%22%3A%20true%2C%20%22fillColor%22%3A%20%22red%22%2C%20%22fillOpacity%22%3A%200.2%2C%20%22fillRule%22%3A%20%22evenodd%22%2C%20%22lineCap%22%3A%20%22round%22%2C%20%22lineJoin%22%3A%20%22round%22%2C%20%22opacity%22%3A%201.0%2C%20%22radius%22%3A%202.163993492291865%2C%20%22stroke%22%3A%20true%2C%20%22weight%22%3A%201.5%7D%0A%20%20%20%20%20%20%20%20%20%20%20%20%29.addTo%28map_a51a3c7eac2945279f6ee22cdcd4227f%29%3B%0A%20%20%20%20%20%20%20%20%0A%20%20%20%20%0A%20%20%20%20%20%20%20%20%20%20%20%20circle_marker_c4fe0677e3b94ebd9fc7a7b816fc8987.bindTooltip%28%0A%20%20%20%20%20%20%20%20%20%20%20%20%20%20%20%20%60%3Cdiv%3E%0A%20%20%20%20%20%20%20%20%20%20%20%20%20%20%20%20%20%20%20%20%20%3Ch4%3E%3Cb%3EWaffle%20House%20shooting%3C/h4%3E%3C/b%3E%3Cb%3EReaction%20score%3A%20%3C/b%3E0.11%3Cbr%3E--------------------------------%3Cbr%3E%3Cb%3EFatalities%3A%20%3C/b%3E4%3Cbr%3E%3Cb%3ELocation%20type%3A%20%3C/b%3EOther%3Cbr%3E%3Cb%3EWeapon%20type%3A%20%3C/b%3ESemiautomatic%3Cbr%3E%3Cb%3ELegal%20weapon%3A%20%3C/b%3EYes%3Cbr%3E%3Cb%3EGender%20of%20shooter%3A%20%3C/b%3EMale%3Cbr%3E%3Cb%3ERace%20of%20shooter%3A%20%3C/b%3EWhite%0A%20%20%20%20%20%20%20%20%20%20%20%20%20%20%20%20%20%3C/div%3E%60%2C%0A%20%20%20%20%20%20%20%20%20%20%20%20%20%20%20%20%7B%22sticky%22%3A%20true%7D%0A%20%20%20%20%20%20%20%20%20%20%20%20%29%3B%0A%20%20%20%20%20%20%20%20%0A%20%20%20%20%0A%20%20%20%20%20%20%20%20%20%20%20%20var%20circle_marker_9c8d1b6633f14db19aa614b2391ef205%20%3D%20L.circleMarker%28%0A%20%20%20%20%20%20%20%20%20%20%20%20%20%20%20%20%5B39.452189%2C%20-76.309988%5D%2C%0A%20%20%20%20%20%20%20%20%20%20%20%20%20%20%20%20%7B%22bubblingMouseEvents%22%3A%20true%2C%20%22color%22%3A%20%22red%22%2C%20%22dashArray%22%3A%20null%2C%20%22dashOffset%22%3A%20null%2C%20%22fill%22%3A%20true%2C%20%22fillColor%22%3A%20%22red%22%2C%20%22fillOpacity%22%3A%200.2%2C%20%22fillRule%22%3A%20%22evenodd%22%2C%20%22lineCap%22%3A%20%22round%22%2C%20%22lineJoin%22%3A%20%22round%22%2C%20%22opacity%22%3A%201.0%2C%20%22radius%22%3A%203.3195943991483725%2C%20%22stroke%22%3A%20true%2C%20%22weight%22%3A%201.5%7D%0A%20%20%20%20%20%20%20%20%20%20%20%20%29.addTo%28map_a51a3c7eac2945279f6ee22cdcd4227f%29%3B%0A%20%20%20%20%20%20%20%20%0A%20%20%20%20%0A%20%20%20%20%20%20%20%20%20%20%20%20circle_marker_9c8d1b6633f14db19aa614b2391ef205.bindTooltip%28%0A%20%20%20%20%20%20%20%20%20%20%20%20%20%20%20%20%60%3Cdiv%3E%0A%20%20%20%20%20%20%20%20%20%20%20%20%20%20%20%20%20%20%20%20%20%3Ch4%3E%3Cb%3EEdgewood%20businees%20park%20shooting%3C/h4%3E%3C/b%3E%3Cb%3EReaction%20score%3A%20%3C/b%3E0.17%3Cbr%3E--------------------------------%3Cbr%3E%3Cb%3EFatalities%3A%20%3C/b%3E3%3Cbr%3E%3Cb%3ELocation%20type%3A%20%3C/b%3EWorkplace%3Cbr%3E%3Cb%3EWeapon%20type%3A%20%3C/b%3EHandgun%3Cbr%3E%3Cb%3ELegal%20weapon%3A%20%3C/b%3ENo%3Cbr%3E%3Cb%3EGender%20of%20shooter%3A%20%3C/b%3EMale%3Cbr%3E%3Cb%3ERace%20of%20shooter%3A%20%3C/b%3EBlack%0A%20%20%20%20%20%20%20%20%20%20%20%20%20%20%20%20%20%3C/div%3E%60%2C%0A%20%20%20%20%20%20%20%20%20%20%20%20%20%20%20%20%7B%22sticky%22%3A%20true%7D%0A%20%20%20%20%20%20%20%20%20%20%20%20%29%3B%0A%20%20%20%20%20%20%20%20%0A%20%20%20%20%0A%20%20%20%20%20%20%20%20%20%20%20%20var%20circle_marker_2bebefc017fe4dabb873e54dd12c60eb%20%3D%20L.circleMarker%28%0A%20%20%20%20%20%20%20%20%20%20%20%20%20%20%20%20%5B38.135992%2C%20-97.425145%5D%2C%0A%20%20%20%20%20%20%20%20%20%20%20%20%20%20%20%20%7B%22bubblingMouseEvents%22%3A%20true%2C%20%22color%22%3A%20%22red%22%2C%20%22dashArray%22%3A%20null%2C%20%22dashOffset%22%3A%20null%2C%20%22fill%22%3A%20true%2C%20%22fillColor%22%3A%20%22red%22%2C%20%22fillOpacity%22%3A%200.2%2C%20%22fillRule%22%3A%20%22evenodd%22%2C%20%22lineCap%22%3A%20%22round%22%2C%20%22lineJoin%22%3A%20%22round%22%2C%20%22opacity%22%3A%201.0%2C%20%22radius%22%3A%205.271882391215726%2C%20%22stroke%22%3A%20true%2C%20%22weight%22%3A%201.5%7D%0A%20%20%20%20%20%20%20%20%20%20%20%20%29.addTo%28map_a51a3c7eac2945279f6ee22cdcd4227f%29%3B%0A%20%20%20%20%20%20%20%20%0A%20%20%20%20%0A%20%20%20%20%20%20%20%20%20%20%20%20circle_marker_2bebefc017fe4dabb873e54dd12c60eb.bindTooltip%28%0A%20%20%20%20%20%20%20%20%20%20%20%20%20%20%20%20%60%3Cdiv%3E%0A%20%20%20%20%20%20%20%20%20%20%20%20%20%20%20%20%20%20%20%20%20%3Ch4%3E%3Cb%3EExcel%20Industries%20mass%20shooting%3C/h4%3E%3C/b%3E%3Cb%3EReaction%20score%3A%20%3C/b%3E0.26%3Cbr%3E--------------------------------%3Cbr%3E%3Cb%3EFatalities%3A%20%3C/b%3E3%3Cbr%3E%3Cb%3ELocation%20type%3A%20%3C/b%3EWorkplace%3Cbr%3E%3Cb%3EWeapon%20type%3A%20%3C/b%3ESemiautomatic%3Cbr%3E%3Cb%3ELegal%20weapon%3A%20%3C/b%3EYes%3Cbr%3E%3Cb%3EGender%20of%20shooter%3A%20%3C/b%3EMale%3Cbr%3E%3Cb%3ERace%20of%20shooter%3A%20%3C/b%3EBlack%0A%20%20%20%20%20%20%20%20%20%20%20%20%20%20%20%20%20%3C/div%3E%60%2C%0A%20%20%20%20%20%20%20%20%20%20%20%20%20%20%20%20%7B%22sticky%22%3A%20true%7D%0A%20%20%20%20%20%20%20%20%20%20%20%20%29%3B%0A%20%20%20%20%20%20%20%20%0A%20%20%20%20%0A%20%20%20%20%20%20%20%20%20%20%20%20var%20circle_marker_c2c66b0813904865afc0e67bb14add91%20%3D%20L.circleMarker%28%0A%20%20%20%20%20%20%20%20%20%20%20%20%20%20%20%20%5B30.364707%2C%20-87.288567%5D%2C%0A%20%20%20%20%20%20%20%20%20%20%20%20%20%20%20%20%7B%22bubblingMouseEvents%22%3A%20true%2C%20%22color%22%3A%20%22red%22%2C%20%22dashArray%22%3A%20null%2C%20%22dashOffset%22%3A%20null%2C%20%22fill%22%3A%20true%2C%20%22fillColor%22%3A%20%22red%22%2C%20%22fillOpacity%22%3A%200.2%2C%20%22fillRule%22%3A%20%22evenodd%22%2C%20%22lineCap%22%3A%20%22round%22%2C%20%22lineJoin%22%3A%20%22round%22%2C%20%22opacity%22%3A%201.0%2C%20%22radius%22%3A%204.987185836611623%2C%20%22stroke%22%3A%20true%2C%20%22weight%22%3A%201.5%7D%0A%20%20%20%20%20%20%20%20%20%20%20%20%29.addTo%28map_a51a3c7eac2945279f6ee22cdcd4227f%29%3B%0A%20%20%20%20%20%20%20%20%0A%20%20%20%20%0A%20%20%20%20%20%20%20%20%20%20%20%20circle_marker_c2c66b0813904865afc0e67bb14add91.bindTooltip%28%0A%20%20%20%20%20%20%20%20%20%20%20%20%20%20%20%20%60%3Cdiv%3E%0A%20%20%20%20%20%20%20%20%20%20%20%20%20%20%20%20%20%20%20%20%20%3Ch4%3E%3Cb%3EPensacola%20Naval%20base%20shooting%3C/h4%3E%3C/b%3E%3Cb%3EReaction%20score%3A%20%3C/b%3E0.25%3Cbr%3E--------------------------------%3Cbr%3E%3Cb%3EFatalities%3A%20%3C/b%3E3%3Cbr%3E%3Cb%3ELocation%20type%3A%20%3C/b%3EMilitary%3Cbr%3E%3Cb%3EWeapon%20type%3A%20%3C/b%3ESemiautomatic%3Cbr%3E%3Cb%3ELegal%20weapon%3A%20%3C/b%3EUnknown/TBD%3Cbr%3E%3Cb%3EGender%20of%20shooter%3A%20%3C/b%3EMale%3Cbr%3E%3Cb%3ERace%20of%20shooter%3A%20%3C/b%3EUnknown%0A%20%20%20%20%20%20%20%20%20%20%20%20%20%20%20%20%20%3C/div%3E%60%2C%0A%20%20%20%20%20%20%20%20%20%20%20%20%20%20%20%20%7B%22sticky%22%3A%20true%7D%0A%20%20%20%20%20%20%20%20%20%20%20%20%29%3B%0A%20%20%20%20%20%20%20%20%0A%20%20%20%20%0A%20%20%20%20%20%20%20%20%20%20%20%20var%20circle_marker_e2d64fb8e4104ccc829926cc8e0176bc%20%3D%20L.circleMarker%28%0A%20%20%20%20%20%20%20%20%20%20%20%20%20%20%20%20%5B36.997191%2C%20-121.584819%5D%2C%0A%20%20%20%20%20%20%20%20%20%20%20%20%20%20%20%20%7B%22bubblingMouseEvents%22%3A%20true%2C%20%22color%22%3A%20%22red%22%2C%20%22dashArray%22%3A%20null%2C%20%22dashOffset%22%3A%20null%2C%20%22fill%22%3A%20true%2C%20%22fillColor%22%3A%20%22red%22%2C%20%22fillOpacity%22%3A%200.2%2C%20%22fillRule%22%3A%20%22evenodd%22%2C%20%22lineCap%22%3A%20%22round%22%2C%20%22lineJoin%22%3A%20%22round%22%2C%20%22opacity%22%3A%201.0%2C%20%22radius%22%3A%201.6725910005006583%2C%20%22stroke%22%3A%20true%2C%20%22weight%22%3A%201.5%7D%0A%20%20%20%20%20%20%20%20%20%20%20%20%29.addTo%28map_a51a3c7eac2945279f6ee22cdcd4227f%29%3B%0A%20%20%20%20%20%20%20%20%0A%20%20%20%20%0A%20%20%20%20%20%20%20%20%20%20%20%20circle_marker_e2d64fb8e4104ccc829926cc8e0176bc.bindTooltip%28%0A%20%20%20%20%20%20%20%20%20%20%20%20%20%20%20%20%60%3Cdiv%3E%0A%20%20%20%20%20%20%20%20%20%20%20%20%20%20%20%20%20%20%20%20%20%3Ch4%3E%3Cb%3EGilroy%20garlic%20festival%20shooting%3C/h4%3E%3C/b%3E%3Cb%3EReaction%20score%3A%20%3C/b%3E0.08%3Cbr%3E--------------------------------%3Cbr%3E%3Cb%3EFatalities%3A%20%3C/b%3E3%3Cbr%3E%3Cb%3ELocation%20type%3A%20%3C/b%3EOther%3Cbr%3E%3Cb%3EWeapon%20type%3A%20%3C/b%3ESemiautomatic%3Cbr%3E%3Cb%3ELegal%20weapon%3A%20%3C/b%3EYes%3Cbr%3E%3Cb%3EGender%20of%20shooter%3A%20%3C/b%3EMale%3Cbr%3E%3Cb%3ERace%20of%20shooter%3A%20%3C/b%3EUnknown%0A%20%20%20%20%20%20%20%20%20%20%20%20%20%20%20%20%20%3C/div%3E%60%2C%0A%20%20%20%20%20%20%20%20%20%20%20%20%20%20%20%20%7B%22sticky%22%3A%20true%7D%0A%20%20%20%20%20%20%20%20%20%20%20%20%29%3B%0A%20%20%20%20%20%20%20%20%0A%20%20%20%20%0A%20%20%20%20%20%20%20%20%20%20%20%20var%20circle_marker_0bfbd1b8c9db4314aeb1d081c16ff467%20%3D%20L.circleMarker%28%0A%20%20%20%20%20%20%20%20%20%20%20%20%20%20%20%20%5B38.83755%2C%20-104.814251%5D%2C%0A%20%20%20%20%20%20%20%20%20%20%20%20%20%20%20%20%7B%22bubblingMouseEvents%22%3A%20true%2C%20%22color%22%3A%20%22red%22%2C%20%22dashArray%22%3A%20null%2C%20%22dashOffset%22%3A%20null%2C%20%22fill%22%3A%20true%2C%20%22fillColor%22%3A%20%22red%22%2C%20%22fillOpacity%22%3A%200.2%2C%20%22fillRule%22%3A%20%22evenodd%22%2C%20%22lineCap%22%3A%20%22round%22%2C%20%22lineJoin%22%3A%20%22round%22%2C%20%22opacity%22%3A%201.0%2C%20%22radius%22%3A%205.1831989164162975%2C%20%22stroke%22%3A%20true%2C%20%22weight%22%3A%201.5%7D%0A%20%20%20%20%20%20%20%20%20%20%20%20%29.addTo%28map_a51a3c7eac2945279f6ee22cdcd4227f%29%3B%0A%20%20%20%20%20%20%20%20%0A%20%20%20%20%0A%20%20%20%20%20%20%20%20%20%20%20%20circle_marker_0bfbd1b8c9db4314aeb1d081c16ff467.bindTooltip%28%0A%20%20%20%20%20%20%20%20%20%20%20%20%20%20%20%20%60%3Cdiv%3E%0A%20%20%20%20%20%20%20%20%20%20%20%20%20%20%20%20%20%20%20%20%20%3Ch4%3E%3Cb%3EColorado%20Springs%20shooting%20rampage%3C/h4%3E%3C/b%3E%3Cb%3EReaction%20score%3A%20%3C/b%3E0.26%3Cbr%3E--------------------------------%3Cbr%3E%3Cb%3EFatalities%3A%20%3C/b%3E3%3Cbr%3E%3Cb%3ELocation%20type%3A%20%3C/b%3EOther%3Cbr%3E%3Cb%3EWeapon%20type%3A%20%3C/b%3EHandgun%3Cbr%3E%3Cb%3ELegal%20weapon%3A%20%3C/b%3EYes%3Cbr%3E%3Cb%3EGender%20of%20shooter%3A%20%3C/b%3EMale%3Cbr%3E%3Cb%3ERace%20of%20shooter%3A%20%3C/b%3EWhite%0A%20%20%20%20%20%20%20%20%20%20%20%20%20%20%20%20%20%3C/div%3E%60%2C%0A%20%20%20%20%20%20%20%20%20%20%20%20%20%20%20%20%7B%22sticky%22%3A%20true%7D%0A%20%20%20%20%20%20%20%20%20%20%20%20%29%3B%0A%20%20%20%20%20%20%20%20%0A%20%20%20%20%0A%20%20%20%20%20%20%20%20%20%20%20%20var%20circle_marker_796a8bea05b24ea8b90c0bd48651ef37%20%3D%20L.circleMarker%28%0A%20%20%20%20%20%20%20%20%20%20%20%20%20%20%20%20%5B38.881031%2C%20-104.849057%5D%2C%0A%20%20%20%20%20%20%20%20%20%20%20%20%20%20%20%20%7B%22bubblingMouseEvents%22%3A%20true%2C%20%22color%22%3A%20%22red%22%2C%20%22dashArray%22%3A%20null%2C%20%22dashOffset%22%3A%20null%2C%20%22fill%22%3A%20true%2C%20%22fillColor%22%3A%20%22red%22%2C%20%22fillOpacity%22%3A%200.2%2C%20%22fillRule%22%3A%20%22evenodd%22%2C%20%22lineCap%22%3A%20%22round%22%2C%20%22lineJoin%22%3A%20%22round%22%2C%20%22opacity%22%3A%201.0%2C%20%22radius%22%3A%202.9015928059474625%2C%20%22stroke%22%3A%20true%2C%20%22weight%22%3A%201.5%7D%0A%20%20%20%20%20%20%20%20%20%20%20%20%29.addTo%28map_a51a3c7eac2945279f6ee22cdcd4227f%29%3B%0A%20%20%20%20%20%20%20%20%0A%20%20%20%20%0A%20%20%20%20%20%20%20%20%20%20%20%20circle_marker_796a8bea05b24ea8b90c0bd48651ef37.bindTooltip%28%0A%20%20%20%20%20%20%20%20%20%20%20%20%20%20%20%20%60%3Cdiv%3E%0A%20%20%20%20%20%20%20%20%20%20%20%20%20%20%20%20%20%20%20%20%20%3Ch4%3E%3Cb%3EPlanned%20Parenthood%20clinic%3C/h4%3E%3C/b%3E%3Cb%3EReaction%20score%3A%20%3C/b%3E0.15%3Cbr%3E--------------------------------%3Cbr%3E%3Cb%3EFatalities%3A%20%3C/b%3E3%3Cbr%3E%3Cb%3ELocation%20type%3A%20%3C/b%3EWorkplace%3Cbr%3E%3Cb%3EWeapon%20type%3A%20%3C/b%3EOther%3Cbr%3E%3Cb%3ELegal%20weapon%3A%20%3C/b%3EUnknown/TBD%3Cbr%3E%3Cb%3EGender%20of%20shooter%3A%20%3C/b%3EMale%3Cbr%3E%3Cb%3ERace%20of%20shooter%3A%20%3C/b%3EWhite%0A%20%20%20%20%20%20%20%20%20%20%20%20%20%20%20%20%20%3C/div%3E%60%2C%0A%20%20%20%20%20%20%20%20%20%20%20%20%20%20%20%20%7B%22sticky%22%3A%20true%7D%0A%20%20%20%20%20%20%20%20%20%20%20%20%29%3B%0A%20%20%20%20%20%20%20%20%0A%20%20%20%20%0A%20%20%20%20%20%20%20%20%20%20%20%20var%20circle_marker_5307549a821b4faf8ff7702df9e4a836%20%3D%20L.circleMarker%28%0A%20%20%20%20%20%20%20%20%20%20%20%20%20%20%20%20%5B40.785142%2C%20-77.839411%5D%2C%0A%20%20%20%20%20%20%20%20%20%20%20%20%20%20%20%20%7B%22bubblingMouseEvents%22%3A%20true%2C%20%22color%22%3A%20%22red%22%2C%20%22dashArray%22%3A%20null%2C%20%22dashOffset%22%3A%20null%2C%20%22fill%22%3A%20true%2C%20%22fillColor%22%3A%20%22red%22%2C%20%22fillOpacity%22%3A%200.2%2C%20%22fillRule%22%3A%20%22evenodd%22%2C%20%22lineCap%22%3A%20%22round%22%2C%20%22lineJoin%22%3A%20%22round%22%2C%20%22opacity%22%3A%201.0%2C%20%22radius%22%3A%202.2779973614956583%2C%20%22stroke%22%3A%20true%2C%20%22weight%22%3A%201.5%7D%0A%20%20%20%20%20%20%20%20%20%20%20%20%29.addTo%28map_a51a3c7eac2945279f6ee22cdcd4227f%29%3B%0A%20%20%20%20%20%20%20%20%0A%20%20%20%20%0A%20%20%20%20%20%20%20%20%20%20%20%20circle_marker_5307549a821b4faf8ff7702df9e4a836.bindTooltip%28%0A%20%20%20%20%20%20%20%20%20%20%20%20%20%20%20%20%60%3Cdiv%3E%0A%20%20%20%20%20%20%20%20%20%20%20%20%20%20%20%20%20%20%20%20%20%3Ch4%3E%3Cb%3EPennsylvania%20hotel%20bar%20shooting%3C/h4%3E%3C/b%3E%3Cb%3EReaction%20score%3A%20%3C/b%3E0.11%3Cbr%3E--------------------------------%3Cbr%3E%3Cb%3EFatalities%3A%20%3C/b%3E3%3Cbr%3E%3Cb%3ELocation%20type%3A%20%3C/b%3EOther%3Cbr%3E%3Cb%3EWeapon%20type%3A%20%3C/b%3EHandgun%3Cbr%3E%3Cb%3ELegal%20weapon%3A%20%3C/b%3EYes%3Cbr%3E%3Cb%3EGender%20of%20shooter%3A%20%3C/b%3EMale%3Cbr%3E%3Cb%3ERace%20of%20shooter%3A%20%3C/b%3EWhite%0A%20%20%20%20%20%20%20%20%20%20%20%20%20%20%20%20%20%3C/div%3E%60%2C%0A%20%20%20%20%20%20%20%20%20%20%20%20%20%20%20%20%7B%22sticky%22%3A%20true%7D%0A%20%20%20%20%20%20%20%20%20%20%20%20%29%3B%0A%20%20%20%20%20%20%20%20%0A%20%20%20%20%0A%20%20%20%20%20%20%20%20%20%20%20%20var%20circle_marker_202bd3a07f404e52bf8a0c4286fb0665%20%3D%20L.circleMarker%28%0A%20%20%20%20%20%20%20%20%20%20%20%20%20%20%20%20%5B41.847667%2C%20-87.622009%5D%2C%0A%20%20%20%20%20%20%20%20%20%20%20%20%20%20%20%20%7B%22bubblingMouseEvents%22%3A%20true%2C%20%22color%22%3A%20%22red%22%2C%20%22dashArray%22%3A%20null%2C%20%22dashOffset%22%3A%20null%2C%20%22fill%22%3A%20true%2C%20%22fillColor%22%3A%20%22red%22%2C%20%22fillOpacity%22%3A%200.2%2C%20%22fillRule%22%3A%20%22evenodd%22%2C%20%22lineCap%22%3A%20%22round%22%2C%20%22lineJoin%22%3A%20%22round%22%2C%20%22opacity%22%3A%201.0%2C%20%22radius%22%3A%208.835724355430722%2C%20%22stroke%22%3A%20true%2C%20%22weight%22%3A%201.5%7D%0A%20%20%20%20%20%20%20%20%20%20%20%20%29.addTo%28map_a51a3c7eac2945279f6ee22cdcd4227f%29%3B%0A%20%20%20%20%20%20%20%20%0A%20%20%20%20%0A%20%20%20%20%20%20%20%20%20%20%20%20circle_marker_202bd3a07f404e52bf8a0c4286fb0665.bindTooltip%28%0A%20%20%20%20%20%20%20%20%20%20%20%20%20%20%20%20%60%3Cdiv%3E%0A%20%20%20%20%20%20%20%20%20%20%20%20%20%20%20%20%20%20%20%20%20%3Ch4%3E%3Cb%3EMercy%20Hospital%20shooting%3C/h4%3E%3C/b%3E%3Cb%3EReaction%20score%3A%20%3C/b%3E0.44%3Cbr%3E--------------------------------%3Cbr%3E%3Cb%3EFatalities%3A%20%3C/b%3E3%3Cbr%3E%3Cb%3ELocation%20type%3A%20%3C/b%3EWorkplace%3Cbr%3E%3Cb%3EWeapon%20type%3A%20%3C/b%3ESemiautomatic%3Cbr%3E%3Cb%3ELegal%20weapon%3A%20%3C/b%3EUnknown/TBD%3Cbr%3E%3Cb%3EGender%20of%20shooter%3A%20%3C/b%3EMale%3Cbr%3E%3Cb%3ERace%20of%20shooter%3A%20%3C/b%3ELatino%0A%20%20%20%20%20%20%20%20%20%20%20%20%20%20%20%20%20%3C/div%3E%60%2C%0A%20%20%20%20%20%20%20%20%20%20%20%20%20%20%20%20%7B%22sticky%22%3A%20true%7D%0A%20%20%20%20%20%20%20%20%20%20%20%20%29%3B%0A%20%20%20%20%20%20%20%20%0A%20%20%20%20%0A%20%20%20%20%20%20%20%20%20%20%20%20var%20circle_marker_f310b318e4634b5d9a7e29e0f2e9d0c7%20%3D%20L.circleMarker%28%0A%20%20%20%20%20%20%20%20%20%20%20%20%20%20%20%20%5B39.101981%2C%20-84.511782%5D%2C%0A%20%20%20%20%20%20%20%20%20%20%20%20%20%20%20%20%7B%22bubblingMouseEvents%22%3A%20true%2C%20%22color%22%3A%20%22red%22%2C%20%22dashArray%22%3A%20null%2C%20%22dashOffset%22%3A%20null%2C%20%22fill%22%3A%20true%2C%20%22fillColor%22%3A%20%22red%22%2C%20%22fillOpacity%22%3A%200.2%2C%20%22fillRule%22%3A%20%22evenodd%22%2C%20%22lineCap%22%3A%20%22round%22%2C%20%22lineJoin%22%3A%20%22round%22%2C%20%22opacity%22%3A%201.0%2C%20%22radius%22%3A%203.107745507344026%2C%20%22stroke%22%3A%20true%2C%20%22weight%22%3A%201.5%7D%0A%20%20%20%20%20%20%20%20%20%20%20%20%29.addTo%28map_a51a3c7eac2945279f6ee22cdcd4227f%29%3B%0A%20%20%20%20%20%20%20%20%0A%20%20%20%20%0A%20%20%20%20%20%20%20%20%20%20%20%20circle_marker_f310b318e4634b5d9a7e29e0f2e9d0c7.bindTooltip%28%0A%20%20%20%20%20%20%20%20%20%20%20%20%20%20%20%20%60%3Cdiv%3E%0A%20%20%20%20%20%20%20%20%20%20%20%20%20%20%20%20%20%20%20%20%20%3Ch4%3E%3Cb%3EFifth%20Third%20Center%20shooting%3C/h4%3E%3C/b%3E%3Cb%3EReaction%20score%3A%20%3C/b%3E0.16%3Cbr%3E--------------------------------%3Cbr%3E%3Cb%3EFatalities%3A%20%3C/b%3E3%3Cbr%3E%3Cb%3ELocation%20type%3A%20%3C/b%3EWorkplace%3Cbr%3E%3Cb%3EWeapon%20type%3A%20%3C/b%3ESemiautomatic%3Cbr%3E%3Cb%3ELegal%20weapon%3A%20%3C/b%3EYes%3Cbr%3E%3Cb%3EGender%20of%20shooter%3A%20%3C/b%3EMale%3Cbr%3E%3Cb%3ERace%20of%20shooter%3A%20%3C/b%3ELatino%0A%20%20%20%20%20%20%20%20%20%20%20%20%20%20%20%20%20%3C/div%3E%60%2C%0A%20%20%20%20%20%20%20%20%20%20%20%20%20%20%20%20%7B%22sticky%22%3A%20true%7D%0A%20%20%20%20%20%20%20%20%20%20%20%20%29%3B%0A%20%20%20%20%20%20%20%20%0A%20%20%20%20%0A%20%20%20%20%20%20%20%20%20%20%20%20var%20circle_marker_2c6b0c93791f461f9a552a9d10b2d0ad%20%3D%20L.circleMarker%28%0A%20%20%20%20%20%20%20%20%20%20%20%20%20%20%20%20%5B39.455658%2C%20-76.208485%5D%2C%0A%20%20%20%20%20%20%20%20%20%20%20%20%20%20%20%20%7B%22bubblingMouseEvents%22%3A%20true%2C%20%22color%22%3A%20%22red%22%2C%20%22dashArray%22%3A%20null%2C%20%22dashOffset%22%3A%20null%2C%20%22fill%22%3A%20true%2C%20%22fillColor%22%3A%20%22red%22%2C%20%22fillOpacity%22%3A%200.2%2C%20%22fillRule%22%3A%20%22evenodd%22%2C%20%22lineCap%22%3A%20%22round%22%2C%20%22lineJoin%22%3A%20%22round%22%2C%20%22opacity%22%3A%201.0%2C%20%22radius%22%3A%202.919624003619745%2C%20%22stroke%22%3A%20true%2C%20%22weight%22%3A%201.5%7D%0A%20%20%20%20%20%20%20%20%20%20%20%20%29.addTo%28map_a51a3c7eac2945279f6ee22cdcd4227f%29%3B%0A%20%20%20%20%20%20%20%20%0A%20%20%20%20%0A%20%20%20%20%20%20%20%20%20%20%20%20circle_marker_2c6b0c93791f461f9a552a9d10b2d0ad.bindTooltip%28%0A%20%20%20%20%20%20%20%20%20%20%20%20%20%20%20%20%60%3Cdiv%3E%0A%20%20%20%20%20%20%20%20%20%20%20%20%20%20%20%20%20%20%20%20%20%3Ch4%3E%3Cb%3ERite%20Aid%20warehouse%20shooting%3C/h4%3E%3C/b%3E%3Cb%3EReaction%20score%3A%20%3C/b%3E0.15%3Cbr%3E--------------------------------%3Cbr%3E%3Cb%3EFatalities%3A%20%3C/b%3E3%3Cbr%3E%3Cb%3ELocation%20type%3A%20%3C/b%3EWorkplace%3Cbr%3E%3Cb%3EWeapon%20type%3A%20%3C/b%3ESemiautomatic%3Cbr%3E%3Cb%3ELegal%20weapon%3A%20%3C/b%3EYes%3Cbr%3E%3Cb%3EGender%20of%20shooter%3A%20%3C/b%3EFemale%3Cbr%3E%3Cb%3ERace%20of%20shooter%3A%20%3C/b%3EBlack%0A%20%20%20%20%20%20%20%20%20%20%20%20%20%20%20%20%20%3C/div%3E%60%2C%0A%20%20%20%20%20%20%20%20%20%20%20%20%20%20%20%20%7B%22sticky%22%3A%20true%7D%0A%20%20%20%20%20%20%20%20%20%20%20%20%29%3B%0A%20%20%20%20%20%20%20%20%0A%20%20%20%20%0A%20%20%20%20%20%20%20%20%20%20%20%20var%20circle_marker_df26d131743245fd99defe595d315521%20%3D%20L.circleMarker%28%0A%20%20%20%20%20%20%20%20%20%20%20%20%20%20%20%20%5B39.876374%2C%20-104.986132%5D%2C%0A%20%20%20%20%20%20%20%20%20%20%20%20%20%20%20%20%7B%22bubblingMouseEvents%22%3A%20true%2C%20%22color%22%3A%20%22red%22%2C%20%22dashArray%22%3A%20null%2C%20%22dashOffset%22%3A%20null%2C%20%22fill%22%3A%20true%2C%20%22fillColor%22%3A%20%22red%22%2C%20%22fillOpacity%22%3A%200.2%2C%20%22fillRule%22%3A%20%22evenodd%22%2C%20%22lineCap%22%3A%20%22round%22%2C%20%22lineJoin%22%3A%20%22round%22%2C%20%22opacity%22%3A%201.0%2C%20%22radius%22%3A%202.9799150427241488%2C%20%22stroke%22%3A%20true%2C%20%22weight%22%3A%201.5%7D%0A%20%20%20%20%20%20%20%20%20%20%20%20%29.addTo%28map_a51a3c7eac2945279f6ee22cdcd4227f%29%3B%0A%20%20%20%20%20%20%20%20%0A%20%20%20%20%0A%20%20%20%20%20%20%20%20%20%20%20%20circle_marker_df26d131743245fd99defe595d315521.bindTooltip%28%0A%20%20%20%20%20%20%20%20%20%20%20%20%20%20%20%20%60%3Cdiv%3E%0A%20%20%20%20%20%20%20%20%20%20%20%20%20%20%20%20%20%20%20%20%20%3Ch4%3E%3Cb%3EWalmart%20shooting%20in%20suburban%20Denver%3C/h4%3E%3C/b%3E%3Cb%3EReaction%20score%3A%20%3C/b%3E0.15%3Cbr%3E--------------------------------%3Cbr%3E%3Cb%3EFatalities%3A%20%3C/b%3E3%3Cbr%3E%3Cb%3ELocation%20type%3A%20%3C/b%3EOther%3Cbr%3E%3Cb%3EWeapon%20type%3A%20%3C/b%3ESemiautomatic%3Cbr%3E%3Cb%3ELegal%20weapon%3A%20%3C/b%3EUnknown/TBD%3Cbr%3E%3Cb%3EGender%20of%20shooter%3A%20%3C/b%3EMale%3Cbr%3E%3Cb%3ERace%20of%20shooter%3A%20%3C/b%3EWhite%0A%20%20%20%20%20%20%20%20%20%20%20%20%20%20%20%20%20%3C/div%3E%60%2C%0A%20%20%20%20%20%20%20%20%20%20%20%20%20%20%20%20%7B%22sticky%22%3A%20true%7D%0A%20%20%20%20%20%20%20%20%20%20%20%20%29%3B%0A%20%20%20%20%20%20%20%20%0A%20%20%20%20%0A%20%20%20%20%20%20%20%20%20%20%20%20var%20circle_marker_8bf44f322b1f48ba9d0a2ebb23e5d16b%20%3D%20L.circleMarker%28%0A%20%20%20%20%20%20%20%20%20%20%20%20%20%20%20%20%5B30.433601%2C%20-91.081403%5D%2C%0A%20%20%20%20%20%20%20%20%20%20%20%20%20%20%20%20%7B%22bubblingMouseEvents%22%3A%20true%2C%20%22color%22%3A%20%22red%22%2C%20%22dashArray%22%3A%20null%2C%20%22dashOffset%22%3A%20null%2C%20%22fill%22%3A%20true%2C%20%22fillColor%22%3A%20%22red%22%2C%20%22fillOpacity%22%3A%200.2%2C%20%22fillRule%22%3A%20%22evenodd%22%2C%20%22lineCap%22%3A%20%22round%22%2C%20%22lineJoin%22%3A%20%22round%22%2C%20%22opacity%22%3A%201.0%2C%20%22radius%22%3A%202.926074748297341%2C%20%22stroke%22%3A%20true%2C%20%22weight%22%3A%201.5%7D%0A%20%20%20%20%20%20%20%20%20%20%20%20%29.addTo%28map_a51a3c7eac2945279f6ee22cdcd4227f%29%3B%0A%20%20%20%20%20%20%20%20%0A%20%20%20%20%0A%20%20%20%20%20%20%20%20%20%20%20%20circle_marker_8bf44f322b1f48ba9d0a2ebb23e5d16b.bindTooltip%28%0A%20%20%20%20%20%20%20%20%20%20%20%20%20%20%20%20%60%3Cdiv%3E%0A%20%20%20%20%20%20%20%20%20%20%20%20%20%20%20%20%20%20%20%20%20%3Ch4%3E%3Cb%3EBaton%20Rouge%20police%20shooting%3C/h4%3E%3C/b%3E%3Cb%3EReaction%20score%3A%20%3C/b%3E0.15%3Cbr%3E--------------------------------%3Cbr%3E%3Cb%3EFatalities%3A%20%3C/b%3E3%3Cbr%3E%3Cb%3ELocation%20type%3A%20%3C/b%3EOther%3Cbr%3E%3Cb%3EWeapon%20type%3A%20%3C/b%3ESemiautomatic%3Cbr%3E%3Cb%3ELegal%20weapon%3A%20%3C/b%3EUnknown/TBD%3Cbr%3E%3Cb%3EGender%20of%20shooter%3A%20%3C/b%3EMale%3Cbr%3E%3Cb%3ERace%20of%20shooter%3A%20%3C/b%3EBlack%0A%20%20%20%20%20%20%20%20%20%20%20%20%20%20%20%20%20%3C/div%3E%60%2C%0A%20%20%20%20%20%20%20%20%20%20%20%20%20%20%20%20%7B%22sticky%22%3A%20true%7D%0A%20%20%20%20%20%20%20%20%20%20%20%20%29%3B%0A%20%20%20%20%20%20%20%20%0A%20%20%20%20%0A%20%20%20%20%20%20%20%20%20%20%20%20var%20circle_marker_1a635e8ef9ff4033b93be6823e3d5e83%20%3D%20L.circleMarker%28%0A%20%20%20%20%20%20%20%20%20%20%20%20%20%20%20%20%5B38.392496%2C%20-122.366528%5D%2C%0A%20%20%20%20%20%20%20%20%20%20%20%20%20%20%20%20%7B%22bubblingMouseEvents%22%3A%20true%2C%20%22color%22%3A%20%22red%22%2C%20%22dashArray%22%3A%20null%2C%20%22dashOffset%22%3A%20null%2C%20%22fill%22%3A%20true%2C%20%22fillColor%22%3A%20%22red%22%2C%20%22fillOpacity%22%3A%200.2%2C%20%22fillRule%22%3A%20%22evenodd%22%2C%20%22lineCap%22%3A%20%22round%22%2C%20%22lineJoin%22%3A%20%22round%22%2C%20%22opacity%22%3A%201.0%2C%20%22radius%22%3A%2020.0%2C%20%22stroke%22%3A%20true%2C%20%22weight%22%3A%201.5%7D%0A%20%20%20%20%20%20%20%20%20%20%20%20%29.addTo%28map_a51a3c7eac2945279f6ee22cdcd4227f%29%3B%0A%20%20%20%20%20%20%20%20%0A%20%20%20%20%0A%20%20%20%20%20%20%20%20%20%20%20%20circle_marker_1a635e8ef9ff4033b93be6823e3d5e83.bindTooltip%28%0A%20%20%20%20%20%20%20%20%20%20%20%20%20%20%20%20%60%3Cdiv%3E%0A%20%20%20%20%20%20%20%20%20%20%20%20%20%20%20%20%20%20%20%20%20%3Ch4%3E%3Cb%3EYountville%20veterans%20home%20shooting%3C/h4%3E%3C/b%3E%3Cb%3EReaction%20score%3A%20%3C/b%3E1.0%3Cbr%3E--------------------------------%3Cbr%3E%3Cb%3EFatalities%3A%20%3C/b%3E3%3Cbr%3E%3Cb%3ELocation%20type%3A%20%3C/b%3EWorkplace%3Cbr%3E%3Cb%3EWeapon%20type%3A%20%3C/b%3ESemiautomatic%3Cbr%3E%3Cb%3ELegal%20weapon%3A%20%3C/b%3EYes%3Cbr%3E%3Cb%3EGender%20of%20shooter%3A%20%3C/b%3EMale%3Cbr%3E%3Cb%3ERace%20of%20shooter%3A%20%3C/b%3EAsian%0A%20%20%20%20%20%20%20%20%20%20%20%20%20%20%20%20%20%3C/div%3E%60%2C%0A%20%20%20%20%20%20%20%20%20%20%20%20%20%20%20%20%7B%22sticky%22%3A%20true%7D%0A%20%20%20%20%20%20%20%20%20%20%20%20%29%3B%0A%20%20%20%20%20%20%20%20%0A%20%20%20%20%0A%20%20%20%20%20%20%20%20%20%20%20%20var%20circle_marker_e3b59f6f25f2448eb2103161d43c0654%20%3D%20L.circleMarker%28%0A%20%20%20%20%20%20%20%20%20%20%20%20%20%20%20%20%5B36.746378%2C%20-119.800319%5D%2C%0A%20%20%20%20%20%20%20%20%20%20%20%20%20%20%20%20%7B%22bubblingMouseEvents%22%3A%20true%2C%20%22color%22%3A%20%22red%22%2C%20%22dashArray%22%3A%20null%2C%20%22dashOffset%22%3A%20null%2C%20%22fill%22%3A%20true%2C%20%22fillColor%22%3A%20%22red%22%2C%20%22fillOpacity%22%3A%200.2%2C%20%22fillRule%22%3A%20%22evenodd%22%2C%20%22lineCap%22%3A%20%22round%22%2C%20%22lineJoin%22%3A%20%22round%22%2C%20%22opacity%22%3A%201.0%2C%20%22radius%22%3A%2018.85097391998742%2C%20%22stroke%22%3A%20true%2C%20%22weight%22%3A%201.5%7D%0A%20%20%20%20%20%20%20%20%20%20%20%20%29.addTo%28map_a51a3c7eac2945279f6ee22cdcd4227f%29%3B%0A%20%20%20%20%20%20%20%20%0A%20%20%20%20%0A%20%20%20%20%20%20%20%20%20%20%20%20circle_marker_e3b59f6f25f2448eb2103161d43c0654.bindTooltip%28%0A%20%20%20%20%20%20%20%20%20%20%20%20%20%20%20%20%60%3Cdiv%3E%0A%20%20%20%20%20%20%20%20%20%20%20%20%20%20%20%20%20%20%20%20%20%3Ch4%3E%3Cb%3EFresno%20downtown%20shooting%3C/h4%3E%3C/b%3E%3Cb%3EReaction%20score%3A%20%3C/b%3E0.94%3Cbr%3E--------------------------------%3Cbr%3E%3Cb%3EFatalities%3A%20%3C/b%3E3%3Cbr%3E%3Cb%3ELocation%20type%3A%20%3C/b%3EOther%3Cbr%3E%3Cb%3EWeapon%20type%3A%20%3C/b%3EHandgun%3Cbr%3E%3Cb%3ELegal%20weapon%3A%20%3C/b%3EUnknown/TBD%3Cbr%3E%3Cb%3EGender%20of%20shooter%3A%20%3C/b%3EMale%3Cbr%3E%3Cb%3ERace%20of%20shooter%3A%20%3C/b%3EBlack%0A%20%20%20%20%20%20%20%20%20%20%20%20%20%20%20%20%20%3C/div%3E%60%2C%0A%20%20%20%20%20%20%20%20%20%20%20%20%20%20%20%20%7B%22sticky%22%3A%20true%7D%0A%20%20%20%20%20%20%20%20%20%20%20%20%29%3B%0A%20%20%20%20%20%20%20%20%0A%20%20%20%20%0A%20%20%20%20%20%20%20%20%20%20%20%20var%20circle_marker_5ea59c24341140f0a625ed8480cd06d9%20%3D%20L.circleMarker%28%0A%20%20%20%20%20%20%20%20%20%20%20%20%20%20%20%20%5B39.959034%2C%20-82.596508%5D%2C%0A%20%20%20%20%20%20%20%20%20%20%20%20%20%20%20%20%7B%22bubblingMouseEvents%22%3A%20true%2C%20%22color%22%3A%20%22red%22%2C%20%22dashArray%22%3A%20null%2C%20%22dashOffset%22%3A%20null%2C%20%22fill%22%3A%20true%2C%20%22fillColor%22%3A%20%22red%22%2C%20%22fillOpacity%22%3A%200.2%2C%20%22fillRule%22%3A%20%22evenodd%22%2C%20%22lineCap%22%3A%20%22round%22%2C%20%22lineJoin%22%3A%20%22round%22%2C%20%22opacity%22%3A%201.0%2C%20%22radius%22%3A%202.84255526785599%2C%20%22stroke%22%3A%20true%2C%20%22weight%22%3A%201.5%7D%0A%20%20%20%20%20%20%20%20%20%20%20%20%29.addTo%28map_a51a3c7eac2945279f6ee22cdcd4227f%29%3B%0A%20%20%20%20%20%20%20%20%0A%20%20%20%20%0A%20%20%20%20%20%20%20%20%20%20%20%20circle_marker_5ea59c24341140f0a625ed8480cd06d9.bindTooltip%28%0A%20%20%20%20%20%20%20%20%20%20%20%20%20%20%20%20%60%3Cdiv%3E%0A%20%20%20%20%20%20%20%20%20%20%20%20%20%20%20%20%20%20%20%20%20%3Ch4%3E%3Cb%3ERural%20Ohio%20nursing%20home%20shooting%3C/h4%3E%3C/b%3E%3Cb%3EReaction%20score%3A%20%3C/b%3E0.14%3Cbr%3E--------------------------------%3Cbr%3E%3Cb%3EFatalities%3A%20%3C/b%3E3%3Cbr%3E%3Cb%3ELocation%20type%3A%20%3C/b%3EWorkplace%3Cbr%3E%3Cb%3EWeapon%20type%3A%20%3C/b%3EHandgun%3Cbr%3E%3Cb%3ELegal%20weapon%3A%20%3C/b%3EUnknown/TBD%3Cbr%3E%3Cb%3EGender%20of%20shooter%3A%20%3C/b%3EMale%3Cbr%3E%3Cb%3ERace%20of%20shooter%3A%20%3C/b%3EWhite%0A%20%20%20%20%20%20%20%20%20%20%20%20%20%20%20%20%20%3C/div%3E%60%2C%0A%20%20%20%20%20%20%20%20%20%20%20%20%20%20%20%20%7B%22sticky%22%3A%20true%7D%0A%20%20%20%20%20%20%20%20%20%20%20%20%29%3B%0A%20%20%20%20%20%20%20%20%0A%20%20%20%20%0A%20%20%20%20%20%20%20%20%20%20%20%20var%20circle_marker_3be37246e8ed41aa90a96d2395ea59a7%20%3D%20L.circleMarker%28%0A%20%20%20%20%20%20%20%20%20%20%20%20%20%20%20%20%5B41.529546%2C%20-75.94722%5D%2C%0A%20%20%20%20%20%20%20%20%20%20%20%20%20%20%20%20%7B%22bubblingMouseEvents%22%3A%20true%2C%20%22color%22%3A%20%22red%22%2C%20%22dashArray%22%3A%20null%2C%20%22dashOffset%22%3A%20null%2C%20%22fill%22%3A%20true%2C%20%22fillColor%22%3A%20%22red%22%2C%20%22fillOpacity%22%3A%200.2%2C%20%22fillRule%22%3A%20%22evenodd%22%2C%20%22lineCap%22%3A%20%22round%22%2C%20%22lineJoin%22%3A%20%22round%22%2C%20%22opacity%22%3A%201.0%2C%20%22stroke%22%3A%20true%2C%20%22weight%22%3A%201.5%7D%0A%20%20%20%20%20%20%20%20%20%20%20%20%29.addTo%28map_a51a3c7eac2945279f6ee22cdcd4227f%29%3B%0A%20%20%20%20%20%20%20%20%0A%20%20%20%20%0A%20%20%20%20%20%20%20%20%20%20%20%20circle_marker_3be37246e8ed41aa90a96d2395ea59a7.bindTooltip%28%0A%20%20%20%20%20%20%20%20%20%20%20%20%20%20%20%20%60%3Cdiv%3E%0A%20%20%20%20%20%20%20%20%20%20%20%20%20%20%20%20%20%20%20%20%20%3Ch4%3E%3Cb%3EPennsylvania%20supermarket%20shooting%3C/h4%3E%3C/b%3E%3Cb%3EReaction%20score%3A%20%3C/b%3E0.0%3Cbr%3E--------------------------------%3Cbr%3E%3Cb%3EFatalities%3A%20%3C/b%3E3%3Cbr%3E%3Cb%3ELocation%20type%3A%20%3C/b%3EWorkplace%3Cbr%3E%3Cb%3EWeapon%20type%3A%20%3C/b%3EOther%3Cbr%3E%3Cb%3ELegal%20weapon%3A%20%3C/b%3EUnknown/TBD%3Cbr%3E%3Cb%3EGender%20of%20shooter%3A%20%3C/b%3EMale%3Cbr%3E%3Cb%3ERace%20of%20shooter%3A%20%3C/b%3EWhite%0A%20%20%20%20%20%20%20%20%20%20%20%20%20%20%20%20%20%3C/div%3E%60%2C%0A%20%20%20%20%20%20%20%20%20%20%20%20%20%20%20%20%7B%22sticky%22%3A%20true%7D%0A%20%20%20%20%20%20%20%20%20%20%20%20%29%3B%0A%20%20%20%20%20%20%20%20%0A%20%20%20%20%0A%20%20%20%20%20%20%20%20%20%20%20%20var%20circle_marker_0fead4842e2a4a22841743338d16e830%20%3D%20L.circleMarker%28%0A%20%20%20%20%20%20%20%20%20%20%20%20%20%20%20%20%5B37.765947%2C%20-122.406087%5D%2C%0A%20%20%20%20%20%20%20%20%20%20%20%20%20%20%20%20%7B%22bubblingMouseEvents%22%3A%20true%2C%20%22color%22%3A%20%22red%22%2C%20%22dashArray%22%3A%20null%2C%20%22dashOffset%22%3A%20null%2C%20%22fill%22%3A%20true%2C%20%22fillColor%22%3A%20%22red%22%2C%20%22fillOpacity%22%3A%200.2%2C%20%22fillRule%22%3A%20%22evenodd%22%2C%20%22lineCap%22%3A%20%22round%22%2C%20%22lineJoin%22%3A%20%22round%22%2C%20%22opacity%22%3A%201.0%2C%20%22radius%22%3A%203.2006012014802723%2C%20%22stroke%22%3A%20true%2C%20%22weight%22%3A%201.5%7D%0A%20%20%20%20%20%20%20%20%20%20%20%20%29.addTo%28map_a51a3c7eac2945279f6ee22cdcd4227f%29%3B%0A%20%20%20%20%20%20%20%20%0A%20%20%20%20%0A%20%20%20%20%20%20%20%20%20%20%20%20circle_marker_0fead4842e2a4a22841743338d16e830.bindTooltip%28%0A%20%20%20%20%20%20%20%20%20%20%20%20%20%20%20%20%60%3Cdiv%3E%0A%20%20%20%20%20%20%20%20%20%20%20%20%20%20%20%20%20%20%20%20%20%3Ch4%3E%3Cb%3ESan%20Francisco%20UPS%20shooting%3C/h4%3E%3C/b%3E%3Cb%3EReaction%20score%3A%20%3C/b%3E0.16%3Cbr%3E--------------------------------%3Cbr%3E%3Cb%3EFatalities%3A%20%3C/b%3E3%3Cbr%3E%3Cb%3ELocation%20type%3A%20%3C/b%3EWorkplace%3Cbr%3E%3Cb%3EWeapon%20type%3A%20%3C/b%3EHandgun%3Cbr%3E%3Cb%3ELegal%20weapon%3A%20%3C/b%3ENo%3Cbr%3E%3Cb%3EGender%20of%20shooter%3A%20%3C/b%3EMale%3Cbr%3E%3Cb%3ERace%20of%20shooter%3A%20%3C/b%3EAsian%0A%20%20%20%20%20%20%20%20%20%20%20%20%20%20%20%20%20%3C/div%3E%60%2C%0A%20%20%20%20%20%20%20%20%20%20%20%20%20%20%20%20%7B%22sticky%22%3A%20true%7D%0A%20%20%20%20%20%20%20%20%20%20%20%20%29%3B%0A%20%20%20%20%20%20%20%20%0A%20%20%20%20%0A%20%20%20%20%20%20%20%20%20%20%20%20var%20circle_marker_4e4fc5f0a40d4bcba98fdf8c06953cc0%20%3D%20L.circleMarker%28%0A%20%20%20%20%20%20%20%20%20%20%20%20%20%20%20%20%5B44.204124%2C%20-88.467541%5D%2C%0A%20%20%20%20%20%20%20%20%20%20%20%20%20%20%20%20%7B%22bubblingMouseEvents%22%3A%20true%2C%20%22color%22%3A%20%22red%22%2C%20%22dashArray%22%3A%20null%2C%20%22dashOffset%22%3A%20null%2C%20%22fill%22%3A%20true%2C%20%22fillColor%22%3A%20%22red%22%2C%20%22fillOpacity%22%3A%200.2%2C%20%22fillRule%22%3A%20%22evenodd%22%2C%20%22lineCap%22%3A%20%22round%22%2C%20%22lineJoin%22%3A%20%22round%22%2C%20%22opacity%22%3A%201.0%2C%20%22radius%22%3A%2011.445102034025211%2C%20%22stroke%22%3A%20true%2C%20%22weight%22%3A%201.5%7D%0A%20%20%20%20%20%20%20%20%20%20%20%20%29.addTo%28map_a51a3c7eac2945279f6ee22cdcd4227f%29%3B%0A%20%20%20%20%20%20%20%20%0A%20%20%20%20%0A%20%20%20%20%20%20%20%20%20%20%20%20circle_marker_4e4fc5f0a40d4bcba98fdf8c06953cc0.bindTooltip%28%0A%20%20%20%20%20%20%20%20%20%20%20%20%20%20%20%20%60%3Cdiv%3E%0A%20%20%20%20%20%20%20%20%20%20%20%20%20%20%20%20%20%20%20%20%20%3Ch4%3E%3Cb%3ETrestle%20Trail%20bridge%20shooting%3C/h4%3E%3C/b%3E%3Cb%3EReaction%20score%3A%20%3C/b%3E0.57%3Cbr%3E--------------------------------%3Cbr%3E%3Cb%3EFatalities%3A%20%3C/b%3E3%3Cbr%3E%3Cb%3ELocation%20type%3A%20%3C/b%3EOther%3Cbr%3E%3Cb%3EWeapon%20type%3A%20%3C/b%3EHandgun%3Cbr%3E%3Cb%3ELegal%20weapon%3A%20%3C/b%3EYes%3Cbr%3E%3Cb%3EGender%20of%20shooter%3A%20%3C/b%3EMale%3Cbr%3E%3Cb%3ERace%20of%20shooter%3A%20%3C/b%3ELatino%0A%20%20%20%20%20%20%20%20%20%20%20%20%20%20%20%20%20%3C/div%3E%60%2C%0A%20%20%20%20%20%20%20%20%20%20%20%20%20%20%20%20%7B%22sticky%22%3A%20true%7D%0A%20%20%20%20%20%20%20%20%20%20%20%20%29%3B%0A%20%20%20%20%20%20%20%20%0A%3C/script%3E onload=\"this.contentDocument.open();this.contentDocument.write(    decodeURIComponent(this.getAttribute('data-html')));this.contentDocument.close();\" allowfullscreen webkitallowfullscreen mozallowfullscreen></iframe></div></div>"
      ],
      "text/plain": [
       "<folium.folium.Map at 0x228fca130>"
      ]
     },
     "execution_count": 38,
     "metadata": {},
     "output_type": "execute_result"
    }
   ],
   "source": [
    "# Now let's make it interactive using Folium maps\n",
    "import folium\n",
    "m = folium.Map(location=[38,-93], zoom_start=4, zoomControl= False, max_zoom=6, min_zoom=4)#, tiles='cartodbpositron')\n",
    "               #min_lot=0,\n",
    "               #max_lot=500,\n",
    "               #min_lat=40,\n",
    "               #max_lat=80,\n",
    "               #max_bounds=True)\n",
    "\n",
    "# Create a column called 'coord' that stores the coordinstes in a list form\n",
    "geo_df['coord'] = geo_df[['latitude', 'longitude']].values.tolist()\n",
    "\n",
    "# Create a new list with the popup texts\n",
    "popup_text=[0]*len(geo_df)\n",
    "for i in range(len(geo_df)):\n",
    "    popup_text[i] = (\"<h4><b>\" + str(geo_df.case.iloc[i]) + \"</h4></b>\"\n",
    "    + \"<b>Reaction score: </b>\"+ str(geo_df.reaction_score.iloc[i].round(2)) \n",
    "    + \"<br>--------------------------------\"\n",
    "    + \"<br><b>Fatalities: </b>\" + str(geo_df.fatalities.iloc[i]) \n",
    "    + \"<br><b>Location type: </b>\" + str(geo_df.location1.iloc[i])\n",
    "    + \"<br><b>Weapon type: </b>\" + str(geo_df.weapon_type.iloc[i])\n",
    "    + \"<br><b>Legal weapon: </b>\" + str(geo_df.weapons_obtained_legally.iloc[i])\n",
    "    + \"<br><b>Gender of shooter: </b>\" + str(geo_df.gender.iloc[i])\n",
    "    + \"<br><b>Race of shooter: </b>\" + str(geo_df.race.iloc[i]))\n",
    "\n",
    "# Plot all points (i.e. all shootings), marker size proportional to reaction score\n",
    "for i in range(len(geo_df)):\n",
    "    \n",
    "    # Choose color for points on map depending on a condition\n",
    "    if geo_df.location1.iloc[i] == 'School': color = 'red'\n",
    "    else: color = 'blue'\n",
    "    # Choose one color for all points\n",
    "    color = 'red'\n",
    "    \n",
    "    folium.CircleMarker(location=geo_df.coord.iloc[i], \n",
    "                        radius=geo_df.reaction_score.values[i]*20, \n",
    "                        weight=1.5,\n",
    "                        color = color,\n",
    "                        fill_color=color,\n",
    "                       tooltip = popup_text[i]).add_to(m)\n",
    "\n",
    "m"
   ]
  },
  {
   "cell_type": "code",
   "execution_count": 39,
   "id": "d476f285-0b86-4e20-b6ae-c5c3e56dc3b1",
   "metadata": {},
   "outputs": [],
   "source": [
    "m.save('map.html')"
   ]
  },
  {
   "cell_type": "code",
   "execution_count": 40,
   "id": "9c15746c-41c9-455b-99f4-ec3933992104",
   "metadata": {},
   "outputs": [
    {
     "data": {
      "image/png": "[encoded data removed]",
      "text/plain": [
       "<Figure size 1080x432 with 1 Axes>"
      ]
     },
     "metadata": {
      "needs_background": "light"
     },
     "output_type": "display_data"
    }
   ],
   "source": [
    "# Plot the map of the USA with the shootings\n",
    "fig = plt.figure(1,figsize=(15,6))\n",
    "ax = fig.add_subplot()\n",
    "\n",
    "# Plot the states and their boundary\n",
    "states.plot(ax=ax, color='#dde4f0', linewidth=.4)\n",
    "states.boundary.plot(ax=ax, linewidth=.3, color='#818a99')\n",
    "\n",
    "# Plot the shootings, size of marker proportional to reaction score\n",
    "geo_df = geo_df.to_crs(\"EPSG:3395\")\n",
    "geo_df.plot(ax=ax, color='red', marker='.' , markersize=geo_df.reaction_score.values*1000)\n",
    "#geo_df.plot(ax=ax, color='green', marker='.' , markersize=geo_df.fatalities.values*100)\n",
    "\n",
    "# Show a lebel for the number of fatalities for each point\n",
    "for x, y, label in zip(geo_df.geometry.x, geo_df.geometry.y, geo_df.fatalities):\n",
    "    ax.annotate(str(label), xy=(x,y), size=13)"
   ]
  },
  {
   "cell_type": "markdown",
   "id": "4bcced12-6a76-43a0-8955-12f8a0e7b251",
   "metadata": {},
   "source": [
    "## 5. Machine learning based analysis of word occurences"
   ]
  },
  {
   "cell_type": "markdown",
   "id": "085b1ee8-f0ca-46c3-a24e-b6e49a0291d9",
   "metadata": {},
   "source": [
    "We have conducted some preliminary analysis with our subset of quotes, containing the words 'shoot, gun, firearm'. We have seen that these words are indeed correlated with events of mass shootings.\n",
    "\n",
    "But let's to \"reverse\" the analysis, and check **what are the words that are associated the most with the occurences of mass shootings**. \n",
    "\n",
    "For this matter, we went backto the whole dataset, and labelled the quotes depending on wether they were emitted after a shooting or not. \n",
    "\n",
    "We run the code on a google colab, but it is pasted bellow : "
   ]
  },
  {
   "cell_type": "markdown",
   "id": "f455f438-ee2b-4c27-be54-a0a2132542e6",
   "metadata": {},
   "source": [
    "```python\n",
    "\n",
    "#from google.colab import drive\n",
    "#drive.mount('/content/drive')\n",
    "\n",
    "import bz2\n",
    "import json\n",
    "import random\n",
    "\n",
    "import spacy, nltk, gensim, sklearn\n",
    "nlp = spacy.load(\"en_core_web_sm\")\n",
    "import pandas as pd\n",
    "import datetime\n",
    "\n",
    "\n",
    "#we want to get a list of meaningful (= non stopwords) words that occur a lot after shootings.\n",
    "\n",
    "#before loading the quotes, we need to get the dates of the shootings\n",
    "df = pd.read_csv('data/MassShootings.csv')\n",
    "\n",
    "#Convert date column to datetime format for better handling\n",
    "df['date'] = pd.to_datetime(df['date'])\n",
    "\n",
    "#Quotebank dataset is limited to years 2015-2020. Need to use same time span:\n",
    "df = df.drop(df[df['date'].dt.year < 2015].index)\n",
    "df = df.drop(df[df['date'].dt.year > 2020].index)\n",
    "\n",
    "dates = list(df['date'])\n",
    "\n",
    "#we create a list containing all the dates of the shootings\n",
    "#+ the 9 next days after each shootings\n",
    "date_list = list()\n",
    "for date in dates:\n",
    "  for x in range(10):\n",
    "    date_list.append(date + datetime.timedelta(days=x))\n",
    "\n",
    "print(f'Number of shootings : {len(dates)}')\n",
    "print(f'length of date_list : {len(date_list)}')\n",
    "#print(date_list)\n",
    "\n",
    "\n",
    "#now we want to take only the quotes from quotebank that are in date_list\n",
    "import pandas as pd\n",
    "# run in jupyter notebook: multiprocess lib instead of multiprocessing\n",
    "import multiprocess\n",
    "\n",
    "def process_year(year):\n",
    "    df = pd.DataFrame()\n",
    "    path_to_file = 'data/quotes-'+year+'.json.bz2'\n",
    "    with bz2.open(path_to_file, 'rb') as s_file:\n",
    "        for index, instance in enumerate(s_file):\n",
    "            # takes one quote out of 1000 for the baseline group (random.random() gives a random float between\n",
    "            # 0 and 1), to create the dict of words occurrence\n",
    "            if (random.random()>0.999) :\n",
    "                instance = json.loads(instance)\n",
    "                instance['date'] = pd.to_datetime(instance['date'])\n",
    "                # if the quote is in the 10 days after a shooting, it is in the after group\n",
    "                if instance['date'] in date_list:\n",
    "                    quote_g = 'after'\n",
    "                else:\n",
    "                    quote_g = 'baseline'\n",
    "                # summarise the word content of the quote\n",
    "                quote = nlp(str(instance['quotation']).lower())\n",
    "                tokens = [token.text for token in quote]\n",
    "                words = {}\n",
    "                for token in tokens:\n",
    "                    # we get rid of the stopwords\n",
    "                    if token not in nlp.Defaults.stop_words: #and not token.is_punct:\n",
    "                        if token in words.keys():\n",
    "                            words[token] +=1\n",
    "                        else:\n",
    "                            words[token] = 1\n",
    "                    else:\n",
    "                        continue\n",
    "                # store quote name\n",
    "                quote_id = 'quote_' + str(year) + '_' + str(index)\n",
    "                for word in words.keys():\n",
    "                    df = df.append({'quote': quote_id, 'word': word, 'count': words[word], 'group': quote_g}, ignore_index=True)\n",
    "    df.to_csv('df_base_after_'+str(year)+'.csv', index=False)\n",
    "    print('Year: ' + str(year) + ' done!')\n",
    "    return()\n",
    "\n",
    "def process_full_data(years): \n",
    "    pool = multiprocess.Pool(processes=6)\n",
    "    pool.map(process_year, years)\n",
    "    pool.close()\n",
    "    pool.join() \n",
    "\n",
    "years=['2015','2016','2017','2018','2019','2020']\n",
    "if __name__=='__main__':   \n",
    "    process_full_data(years)\n",
    "```"
   ]
  },
  {
   "cell_type": "markdown",
   "id": "c18eb4eb-2e6b-4c71-b77d-85fb2565479b",
   "metadata": {},
   "source": [
    "Now we that we have our datasets, we want to perform a classification analysis using random forests."
   ]
  },
  {
   "cell_type": "code",
   "execution_count": 2,
   "id": "6b72df47-fbd7-43ee-bd09-3cff826425aa",
   "metadata": {},
   "outputs": [
    {
     "name": "stdout",
     "output_type": "stream",
     "text": [
      "word                 aaron  abilities  ability  able  abortion  abroad  \\\n",
      "quote                                                                    \n",
      "quote_2015_10001704    0.0        0.0      0.0   0.0       0.0     0.0   \n",
      "quote_2015_10012249    0.0        0.0      0.0   0.0       0.0     0.0   \n",
      "quote_2015_10013538    0.0        0.0      0.0   0.0       0.0     0.0   \n",
      "quote_2015_10013842    0.0        0.0      0.0   0.0       0.0     0.0   \n",
      "quote_2015_100206      0.0        0.0      0.0   0.0       0.0     0.0   \n",
      "\n",
      "word                 absence  absolute  absolutely  abuse  ...  yield  york  \\\n",
      "quote                                                      ...                \n",
      "quote_2015_10001704      0.0       0.0         0.0    0.0  ...    0.0   0.0   \n",
      "quote_2015_10012249      0.0       0.0         0.0    0.0  ...    0.0   0.0   \n",
      "quote_2015_10013538      0.0       0.0         0.0    0.0  ...    0.0   0.0   \n",
      "quote_2015_10013842      0.0       0.0         0.0    0.0  ...    0.0   0.0   \n",
      "quote_2015_100206        0.0       0.0         0.0    0.1  ...    0.0   0.0   \n",
      "\n",
      "word                 young  younger  youth  yung  zealand  zero  zone  zones  \n",
      "quote                                                                         \n",
      "quote_2015_10001704    0.0      0.0    0.0   0.0      0.0   0.0   0.0    0.0  \n",
      "quote_2015_10012249    0.0      0.0    0.0   0.0      0.0   0.0   0.0    0.0  \n",
      "quote_2015_10013538    0.0      0.0    0.0   0.0      0.0   0.0   0.0    0.0  \n",
      "quote_2015_10013842    0.0      0.0    0.0   0.0      0.0   0.0   0.0    0.0  \n",
      "quote_2015_100206      0.0      0.0    0.0   0.0      0.0   0.0   0.0    0.0  \n",
      "\n",
      "[5 rows x 4215 columns]\n",
      "(30254, 4215)\n"
     ]
    }
   ],
   "source": [
    "import pandas as pd\n",
    "import numpy as np\n",
    "import random\n",
    "from sklearn.ensemble import RandomForestClassifier\n",
    "from sklearn.datasets import make_classification\n",
    "\n",
    "# We concatenate the csv files from all the years.\n",
    "# We use the 'pivot' function to reshape from a melted format to a matrix\n",
    "data2015 = pd.read_csv('Data/df_base_after_2015.csv')\n",
    "data2016 = pd.read_csv('Data/df_base_after_2016.csv')\n",
    "data2017 = pd.read_csv('Data/df_base_after_2017.csv')\n",
    "data2018 = pd.read_csv('Data/df_base_after_2018.csv')\n",
    "data2019 = pd.read_csv('Data/df_base_after_2019.csv')\n",
    "data2020 = pd.read_csv('Data/df_base_after_2020.csv')\n",
    "\n",
    "list_of_files = [data2015, data2016, data2017, data2018, data2019, data2020]\n",
    "all_data = pd.concat(list_of_files, axis=0)\n",
    "\n",
    "# we subset the \"baseline\" quotes as the outnumber greatly the 'after' quotes\n",
    "baseline_quotes = list(set(all_data[all_data['group'] == 'baseline'].quote.tolist()))\n",
    "after_quotes = list(set(all_data[all_data['group'] == 'after'].quote.tolist()))\n",
    "subset_baseline_quotes = random.sample(baseline_quotes, len(baseline_quotes)//4)\n",
    "kept_quotes = subset_baseline_quotes + after_quotes\n",
    "\n",
    "all_data = all_data[all_data['quote'].isin(kept_quotes)]\n",
    "\n",
    "all_data = all_data[all_data['word'].astype(str).str.isalpha()]\n",
    "# we keep only words that occur more than 10 times \n",
    "all_data = all_data.groupby('word').filter(lambda x: len(x) > 10)\n",
    "\n",
    "X = all_data.pivot(index='quote', columns='word', values='count')\n",
    "# for computation efficency, we sample the data \n",
    "\n",
    "# X = quotes_data.pivot(index='quote', columns='word', values='count')\n",
    "# X = pd.concat(list_of_files, axis=0)\n",
    "# replace missing values by 0\n",
    "X.fillna(0, inplace=True)\n",
    "# counts to frequencies\n",
    "X = X.div(X.sum(axis=1), axis=0)\n",
    "print(X.head())\n",
    "print(X.shape)\n",
    "\n",
    "X.to_csv('Data/base_after_full.csv')"
   ]
  },
  {
   "cell_type": "code",
   "execution_count": 6,
   "id": "1fd06ff4-1e84-436c-bed3-07e3790974d4",
   "metadata": {},
   "outputs": [
    {
     "data": {
      "text/html": [
       "<div>\n",
       "<style scoped>\n",
       "    .dataframe tbody tr th:only-of-type {\n",
       "        vertical-align: middle;\n",
       "    }\n",
       "\n",
       "    .dataframe tbody tr th {\n",
       "        vertical-align: top;\n",
       "    }\n",
       "\n",
       "    .dataframe thead th {\n",
       "        text-align: right;\n",
       "    }\n",
       "</style>\n",
       "<table border=\"1\" class=\"dataframe\">\n",
       "  <thead>\n",
       "    <tr style=\"text-align: right;\">\n",
       "      <th></th>\n",
       "      <th>aaron</th>\n",
       "      <th>abilities</th>\n",
       "      <th>ability</th>\n",
       "      <th>able</th>\n",
       "      <th>abortion</th>\n",
       "      <th>abroad</th>\n",
       "      <th>absence</th>\n",
       "      <th>absolute</th>\n",
       "      <th>absolutely</th>\n",
       "      <th>abuse</th>\n",
       "      <th>...</th>\n",
       "      <th>yield</th>\n",
       "      <th>york</th>\n",
       "      <th>young</th>\n",
       "      <th>younger</th>\n",
       "      <th>youth</th>\n",
       "      <th>yung</th>\n",
       "      <th>zealand</th>\n",
       "      <th>zero</th>\n",
       "      <th>zone</th>\n",
       "      <th>zones</th>\n",
       "    </tr>\n",
       "    <tr>\n",
       "      <th>quote</th>\n",
       "      <th></th>\n",
       "      <th></th>\n",
       "      <th></th>\n",
       "      <th></th>\n",
       "      <th></th>\n",
       "      <th></th>\n",
       "      <th></th>\n",
       "      <th></th>\n",
       "      <th></th>\n",
       "      <th></th>\n",
       "      <th></th>\n",
       "      <th></th>\n",
       "      <th></th>\n",
       "      <th></th>\n",
       "      <th></th>\n",
       "      <th></th>\n",
       "      <th></th>\n",
       "      <th></th>\n",
       "      <th></th>\n",
       "      <th></th>\n",
       "      <th></th>\n",
       "    </tr>\n",
       "  </thead>\n",
       "  <tbody>\n",
       "    <tr>\n",
       "      <th>quote_2015_10001704</th>\n",
       "      <td>0.0</td>\n",
       "      <td>0.0</td>\n",
       "      <td>0.0</td>\n",
       "      <td>0.0</td>\n",
       "      <td>0.0</td>\n",
       "      <td>0.0</td>\n",
       "      <td>0.0</td>\n",
       "      <td>0.0</td>\n",
       "      <td>0.0</td>\n",
       "      <td>0.0</td>\n",
       "      <td>...</td>\n",
       "      <td>0.0</td>\n",
       "      <td>0.0</td>\n",
       "      <td>0.0</td>\n",
       "      <td>0.0</td>\n",
       "      <td>0.0</td>\n",
       "      <td>0.0</td>\n",
       "      <td>0.0</td>\n",
       "      <td>0.0</td>\n",
       "      <td>0.0</td>\n",
       "      <td>0.0</td>\n",
       "    </tr>\n",
       "    <tr>\n",
       "      <th>quote_2015_10012249</th>\n",
       "      <td>0.0</td>\n",
       "      <td>0.0</td>\n",
       "      <td>0.0</td>\n",
       "      <td>0.0</td>\n",
       "      <td>0.0</td>\n",
       "      <td>0.0</td>\n",
       "      <td>0.0</td>\n",
       "      <td>0.0</td>\n",
       "      <td>0.0</td>\n",
       "      <td>0.0</td>\n",
       "      <td>...</td>\n",
       "      <td>0.0</td>\n",
       "      <td>0.0</td>\n",
       "      <td>0.0</td>\n",
       "      <td>0.0</td>\n",
       "      <td>0.0</td>\n",
       "      <td>0.0</td>\n",
       "      <td>0.0</td>\n",
       "      <td>0.0</td>\n",
       "      <td>0.0</td>\n",
       "      <td>0.0</td>\n",
       "    </tr>\n",
       "    <tr>\n",
       "      <th>quote_2015_10013538</th>\n",
       "      <td>0.0</td>\n",
       "      <td>0.0</td>\n",
       "      <td>0.0</td>\n",
       "      <td>0.0</td>\n",
       "      <td>0.0</td>\n",
       "      <td>0.0</td>\n",
       "      <td>0.0</td>\n",
       "      <td>0.0</td>\n",
       "      <td>0.0</td>\n",
       "      <td>0.0</td>\n",
       "      <td>...</td>\n",
       "      <td>0.0</td>\n",
       "      <td>0.0</td>\n",
       "      <td>0.0</td>\n",
       "      <td>0.0</td>\n",
       "      <td>0.0</td>\n",
       "      <td>0.0</td>\n",
       "      <td>0.0</td>\n",
       "      <td>0.0</td>\n",
       "      <td>0.0</td>\n",
       "      <td>0.0</td>\n",
       "    </tr>\n",
       "    <tr>\n",
       "      <th>quote_2015_10013842</th>\n",
       "      <td>0.0</td>\n",
       "      <td>0.0</td>\n",
       "      <td>0.0</td>\n",
       "      <td>0.0</td>\n",
       "      <td>0.0</td>\n",
       "      <td>0.0</td>\n",
       "      <td>0.0</td>\n",
       "      <td>0.0</td>\n",
       "      <td>0.0</td>\n",
       "      <td>0.0</td>\n",
       "      <td>...</td>\n",
       "      <td>0.0</td>\n",
       "      <td>0.0</td>\n",
       "      <td>0.0</td>\n",
       "      <td>0.0</td>\n",
       "      <td>0.0</td>\n",
       "      <td>0.0</td>\n",
       "      <td>0.0</td>\n",
       "      <td>0.0</td>\n",
       "      <td>0.0</td>\n",
       "      <td>0.0</td>\n",
       "    </tr>\n",
       "    <tr>\n",
       "      <th>quote_2015_100206</th>\n",
       "      <td>0.0</td>\n",
       "      <td>0.0</td>\n",
       "      <td>0.0</td>\n",
       "      <td>0.0</td>\n",
       "      <td>0.0</td>\n",
       "      <td>0.0</td>\n",
       "      <td>0.0</td>\n",
       "      <td>0.0</td>\n",
       "      <td>0.0</td>\n",
       "      <td>0.1</td>\n",
       "      <td>...</td>\n",
       "      <td>0.0</td>\n",
       "      <td>0.0</td>\n",
       "      <td>0.0</td>\n",
       "      <td>0.0</td>\n",
       "      <td>0.0</td>\n",
       "      <td>0.0</td>\n",
       "      <td>0.0</td>\n",
       "      <td>0.0</td>\n",
       "      <td>0.0</td>\n",
       "      <td>0.0</td>\n",
       "    </tr>\n",
       "  </tbody>\n",
       "</table>\n",
       "<p>5 rows × 4215 columns</p>\n",
       "</div>"
      ],
      "text/plain": [
       "                     aaron  abilities  ability  able  abortion  abroad  \\\n",
       "quote                                                                    \n",
       "quote_2015_10001704    0.0        0.0      0.0   0.0       0.0     0.0   \n",
       "quote_2015_10012249    0.0        0.0      0.0   0.0       0.0     0.0   \n",
       "quote_2015_10013538    0.0        0.0      0.0   0.0       0.0     0.0   \n",
       "quote_2015_10013842    0.0        0.0      0.0   0.0       0.0     0.0   \n",
       "quote_2015_100206      0.0        0.0      0.0   0.0       0.0     0.0   \n",
       "\n",
       "                     absence  absolute  absolutely  abuse  ...  yield  york  \\\n",
       "quote                                                      ...                \n",
       "quote_2015_10001704      0.0       0.0         0.0    0.0  ...    0.0   0.0   \n",
       "quote_2015_10012249      0.0       0.0         0.0    0.0  ...    0.0   0.0   \n",
       "quote_2015_10013538      0.0       0.0         0.0    0.0  ...    0.0   0.0   \n",
       "quote_2015_10013842      0.0       0.0         0.0    0.0  ...    0.0   0.0   \n",
       "quote_2015_100206        0.0       0.0         0.0    0.1  ...    0.0   0.0   \n",
       "\n",
       "                     young  younger  youth  yung  zealand  zero  zone  zones  \n",
       "quote                                                                         \n",
       "quote_2015_10001704    0.0      0.0    0.0   0.0      0.0   0.0   0.0    0.0  \n",
       "quote_2015_10012249    0.0      0.0    0.0   0.0      0.0   0.0   0.0    0.0  \n",
       "quote_2015_10013538    0.0      0.0    0.0   0.0      0.0   0.0   0.0    0.0  \n",
       "quote_2015_10013842    0.0      0.0    0.0   0.0      0.0   0.0   0.0    0.0  \n",
       "quote_2015_100206      0.0      0.0    0.0   0.0      0.0   0.0   0.0    0.0  \n",
       "\n",
       "[5 rows x 4215 columns]"
      ]
     },
     "execution_count": 6,
     "metadata": {},
     "output_type": "execute_result"
    }
   ],
   "source": [
    "X = pd.read_csv('Data/base_after_full.csv', index_col='quote')\n",
    "X.head()"
   ]
  },
  {
   "cell_type": "code",
   "execution_count": 7,
   "id": "581dcbcc-f73b-4626-94ff-fec2718463ea",
   "metadata": {},
   "outputs": [
    {
     "name": "stdout",
     "output_type": "stream",
     "text": [
      "[1 1 1 ... 1 1 1]\n"
     ]
    }
   ],
   "source": [
    "from sklearn import preprocessing\n",
    "le = preprocessing.LabelEncoder()\n",
    "# we extract the label information from the quotes_data df\n",
    "y = [list(set(all_data.loc[all_data['quote'] == quote, 'group'].tolist()))[0] for quote in X.index]\n",
    "le.fit(y)\n",
    "y = le.transform(y)\n",
    "print(y)"
   ]
  },
  {
   "cell_type": "code",
   "execution_count": 8,
   "id": "577e375b-e48f-4de5-b68b-7409b5b262ac",
   "metadata": {},
   "outputs": [
    {
     "name": "stdout",
     "output_type": "stream",
     "text": [
      "accuracy : 0.512317559316046\n"
     ]
    }
   ],
   "source": [
    "from sklearn.model_selection import train_test_split\n",
    "from sklearn.metrics import balanced_accuracy_score\n",
    "\n",
    "# split into train and test data\n",
    "X_train, X_test, y_train, y_test = train_test_split(X, y, stratify=y, test_size=0.1, random_state=42)\n",
    "\n",
    "# init and fit the random forest\n",
    "rf = RandomForestClassifier(n_estimators=400,\n",
    "                            class_weight='balanced_subsample',\n",
    "                            max_depth=10,\n",
    "                            bootstrap=True,\n",
    "                            random_state=0)\n",
    "rf.fit(X_train, y_train)\n",
    "\n",
    "# get the accuracy of the classifier\n",
    "results = balanced_accuracy_score(y_test, rf.predict(X_test))\n",
    "print(f'accuracy : {results}')"
   ]
  },
  {
   "cell_type": "markdown",
   "id": "a5069418-6513-48ad-a8e8-191e7feeff39",
   "metadata": {},
   "source": [
    "The accuracy is really bad (almost as good as random), but this is due to the fact that most of the quotes that were labelled 'after' were not actually about a shooting. We would need to run our analysis on more data to get a better result. "
   ]
  },
  {
   "cell_type": "code",
   "execution_count": 9,
   "id": "64215ec0-dcad-4244-9e67-1e86a43b4bb7",
   "metadata": {},
   "outputs": [
    {
     "name": "stdout",
     "output_type": "stream",
     "text": [
      "(4215,)\n",
      "(15,)\n"
     ]
    },
    {
     "data": {
      "image/png": "[encoded data removed]",
      "text/plain": [
       "<Figure size 432x288 with 1 Axes>"
      ]
     },
     "metadata": {
      "needs_background": "light"
     },
     "output_type": "display_data"
    }
   ],
   "source": [
    "# based on: https://scikit-learn.org/stable/auto_examples/ensemble/plot_forest_importances.html\n",
    "# Here we explore the feature importances\n",
    "import matplotlib.pyplot as plt\n",
    "\n",
    "# we gather the importance of features (words) as the MDI, and the std of MDI\n",
    "feature_names = X.columns\n",
    "importances = rf.feature_importances_\n",
    "std = np.std([tree.feature_importances_ for tree in rf.estimators_], axis=0)\n",
    "\n",
    "# we keep only the most informative (important) features\n",
    "forest_importances = pd.Series(importances, index=feature_names)\n",
    "print(forest_importances.shape)\n",
    "thr = 0.005\n",
    "most_std = std[forest_importances > thr]\n",
    "most_important = forest_importances[forest_importances > thr]\n",
    "print(most_important.shape)\n",
    "\n",
    "# plotting\n",
    "fig, ax = plt.subplots()\n",
    "most_important.plot.bar(yerr=most_std, ax=ax)\n",
    "ax.set_title(\"Feature importances using MDI\")\n",
    "ax.set_ylabel(\"Mean decrease in impurity\")\n",
    "fig.tight_layout()\n",
    "plt.savefig(\"feat_importances_mdpi.pdf\", format=\"pdf\", bbox_inches=\"tight\")\n"
   ]
  },
  {
   "cell_type": "markdown",
   "id": "fdd070f6-e627-4b9e-ac28-29fafcc19114",
   "metadata": {},
   "source": [
    "Even though our results are not very significative, it is still interesting to see what words pop out. In particular, we observe words related to :  \n",
    "\n",
    "- State ('national', 'gouvernment', 'organization')\n",
    "- Ressources ('help', 'economic', 'need',)\n",
    "\n",
    "For further analysis, it could have been interesting to run the same random forest analysis but on data that was carefully labelled ('rela; that way all the noise from the unrelated quotes "
   ]
  },
  {
   "cell_type": "code",
   "execution_count": null,
   "id": "ad651bc4-4690-45b5-b354-0231b46a8663",
   "metadata": {},
   "outputs": [],
   "source": []
  }
 ],
 "metadata": {
  "kernelspec": {
   "display_name": "Python 3 (ipykernel)",
   "language": "python",
   "name": "python3"
  },
  "language_info": {
   "codemirror_mode": {
    "name": "ipython",
    "version": 3
   },
   "file_extension": ".py",
   "mimetype": "text/x-python",
   "name": "python",
   "nbconvert_exporter": "python",
   "pygments_lexer": "ipython3",
   "version": "3.8.11"
  }
 },
 "nbformat": 4,
 "nbformat_minor": 5
}
