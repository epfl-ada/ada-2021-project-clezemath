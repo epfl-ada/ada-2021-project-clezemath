{
 "cells": [
  {
   "cell_type": "markdown",
   "metadata": {},
   "source": [
    "# Data Filtering\n",
    "In this part, we filter the data in order to obtain the quotes extracted from American news."
   ]
  },
  {
   "cell_type": "code",
   "execution_count": 41,
   "metadata": {},
   "outputs": [
    {
     "name": "stdout",
     "output_type": "stream",
     "text": [
      "Requirement already satisfied: tld in c:\\users\\doo\\anaconda3\\lib\\site-packages (0.12.6)\n"
     ]
    },
    {
     "name": "stderr",
     "output_type": "stream",
     "text": [
      "WARNING: Ignoring invalid distribution -orch (c:\\users\\doo\\anaconda3\\lib\\site-packages)\n",
      "WARNING: Ignoring invalid distribution -orch (c:\\users\\doo\\anaconda3\\lib\\site-packages)\n",
      "WARNING: Ignoring invalid distribution -orch (c:\\users\\doo\\anaconda3\\lib\\site-packages)\n",
      "WARNING: Ignoring invalid distribution -orch (c:\\users\\doo\\anaconda3\\lib\\site-packages)\n",
      "WARNING: Ignoring invalid distribution -orch (c:\\users\\doo\\anaconda3\\lib\\site-packages)\n"
     ]
    },
    {
     "name": "stdout",
     "output_type": "stream",
     "text": [
      "Requirement already satisfied: pandas in c:\\users\\doo\\anaconda3\\lib\\site-packages (1.3.4)\n",
      "Requirement already satisfied: pyarrow in c:\\users\\doo\\anaconda3\\lib\\site-packages (6.0.0)\n",
      "Requirement already satisfied: numpy>=1.17.3 in c:\\users\\doo\\anaconda3\\lib\\site-packages (from pandas) (1.20.3)\n",
      "Requirement already satisfied: pytz>=2017.3 in c:\\users\\doo\\anaconda3\\lib\\site-packages (from pandas) (2021.3)\n",
      "Requirement already satisfied: python-dateutil>=2.7.3 in c:\\users\\doo\\anaconda3\\lib\\site-packages (from pandas) (2.8.2)\n",
      "Requirement already satisfied: six>=1.5 in c:\\users\\doo\\anaconda3\\lib\\site-packages (from python-dateutil>=2.7.3->pandas) (1.16.0)\n"
     ]
    },
    {
     "name": "stderr",
     "output_type": "stream",
     "text": [
      "WARNING: Ignoring invalid distribution -orch (c:\\users\\doo\\anaconda3\\lib\\site-packages)\n",
      "WARNING: Ignoring invalid distribution -orch (c:\\users\\doo\\anaconda3\\lib\\site-packages)\n",
      "WARNING: Ignoring invalid distribution -orch (c:\\users\\doo\\anaconda3\\lib\\site-packages)\n",
      "WARNING: Ignoring invalid distribution -orch (c:\\users\\doo\\anaconda3\\lib\\site-packages)\n",
      "WARNING: Ignoring invalid distribution -orch (c:\\users\\doo\\anaconda3\\lib\\site-packages)\n"
     ]
    }
   ],
   "source": [
    "#Import useful libraries\n",
    "import pandas as pd\n",
    "import numpy as np\n",
    "import matplotlib.pyplot as plt\n",
    "%matplotlib inline\n",
    "import seaborn as sns\n",
    "!pip install tld\n",
    "!pip install pandas pyarrow\n",
    "from tld import get_tld\n",
    "import json\n",
    "import bz2\n",
    "from scipy import stats\n",
    "import statsmodels.api as sm\n",
    "import statsmodels.formula.api as smf\n",
    "from tqdm import tqdm\n",
    "# Disable some pandas warnings we don't need\n",
    "pd.options.mode.chained_assignment = None"
   ]
  },
  {
   "cell_type": "markdown",
   "metadata": {},
   "source": [
    "The data is loaded here."
   ]
  },
  {
   "cell_type": "code",
   "execution_count": 42,
   "metadata": {},
   "outputs": [
    {
     "data": {
      "text/html": [
       "<div>\n",
       "<style scoped>\n",
       "    .dataframe tbody tr th:only-of-type {\n",
       "        vertical-align: middle;\n",
       "    }\n",
       "\n",
       "    .dataframe tbody tr th {\n",
       "        vertical-align: top;\n",
       "    }\n",
       "\n",
       "    .dataframe thead th {\n",
       "        text-align: right;\n",
       "    }\n",
       "</style>\n",
       "<table border=\"1\" class=\"dataframe\">\n",
       "  <thead>\n",
       "    <tr style=\"text-align: right;\">\n",
       "      <th></th>\n",
       "      <th>quoteID</th>\n",
       "      <th>quotation</th>\n",
       "      <th>speaker</th>\n",
       "      <th>qids</th>\n",
       "      <th>date</th>\n",
       "      <th>numOccurrences</th>\n",
       "      <th>probas</th>\n",
       "      <th>urls</th>\n",
       "      <th>phase</th>\n",
       "      <th>country</th>\n",
       "    </tr>\n",
       "  </thead>\n",
       "  <tbody>\n",
       "    <tr>\n",
       "      <th>0</th>\n",
       "      <td>2015-11-17-031545</td>\n",
       "      <td>However, that had nothing to do with the blast...</td>\n",
       "      <td>Dawood Ibrahim</td>\n",
       "      <td>[Q553191]</td>\n",
       "      <td>2015-11-17 13:32:58</td>\n",
       "      <td>3</td>\n",
       "      <td>[[Dawood Ibrahim, 0.6072], [None, 0.338], [San...</td>\n",
       "      <td>[http://www.newindianexpress.com/nation/Part-o...</td>\n",
       "      <td>E</td>\n",
       "      <td>IN</td>\n",
       "    </tr>\n",
       "    <tr>\n",
       "      <th>1</th>\n",
       "      <td>2015-12-29-000719</td>\n",
       "      <td>91 percent of suspected terrorists who attempt...</td>\n",
       "      <td>Patrick Murphy</td>\n",
       "      <td>[Q17418821, Q21170773, Q2224935, Q23418906, Q3...</td>\n",
       "      <td>2015-12-29 15:42:57</td>\n",
       "      <td>4</td>\n",
       "      <td>[[Patrick Murphy, 0.8398], [None, 0.1579], [Je...</td>\n",
       "      <td>[http://politifact.com/florida/statements/2015...</td>\n",
       "      <td>E</td>\n",
       "      <td>US</td>\n",
       "    </tr>\n",
       "    <tr>\n",
       "      <th>2</th>\n",
       "      <td>2015-06-15-000921</td>\n",
       "      <td>a powerful and compelling motive to lie about ...</td>\n",
       "      <td>None</td>\n",
       "      <td>[]</td>\n",
       "      <td>2015-06-15 21:39:12</td>\n",
       "      <td>1</td>\n",
       "      <td>[[None, 0.7388], [Joseph Thompson, 0.2313], [A...</td>\n",
       "      <td>[http://dailylocal.com/general-news/20150613/n...</td>\n",
       "      <td>E</td>\n",
       "      <td>None</td>\n",
       "    </tr>\n",
       "    <tr>\n",
       "      <th>3</th>\n",
       "      <td>2015-12-08-003771</td>\n",
       "      <td>After the failure of the U.S. Congress to pass...</td>\n",
       "      <td>Roy Cooper</td>\n",
       "      <td>[Q16106910, Q7372694, Q7372695]</td>\n",
       "      <td>2015-12-08 16:15:05</td>\n",
       "      <td>1</td>\n",
       "      <td>[[Roy Cooper, 0.928], [None, 0.0574], [Frank P...</td>\n",
       "      <td>[http://digtriad.com/story/news/2015/12/08/sho...</td>\n",
       "      <td>E</td>\n",
       "      <td>None</td>\n",
       "    </tr>\n",
       "    <tr>\n",
       "      <th>4</th>\n",
       "      <td>2015-01-09-024195</td>\n",
       "      <td>I got back inside and then they started shooti...</td>\n",
       "      <td>Herman Torres</td>\n",
       "      <td>[Q18285204]</td>\n",
       "      <td>2015-01-09 03:39:35</td>\n",
       "      <td>1</td>\n",
       "      <td>[[Herman Torres, 0.9218], [None, 0.0782]]</td>\n",
       "      <td>[http://www.wesh.com/news/orange-county-sherif...</td>\n",
       "      <td>E</td>\n",
       "      <td>US</td>\n",
       "    </tr>\n",
       "  </tbody>\n",
       "</table>\n",
       "</div>"
      ],
      "text/plain": [
       "             quoteID                                          quotation  \\\n",
       "0  2015-11-17-031545  However, that had nothing to do with the blast...   \n",
       "1  2015-12-29-000719  91 percent of suspected terrorists who attempt...   \n",
       "2  2015-06-15-000921  a powerful and compelling motive to lie about ...   \n",
       "3  2015-12-08-003771  After the failure of the U.S. Congress to pass...   \n",
       "4  2015-01-09-024195  I got back inside and then they started shooti...   \n",
       "\n",
       "          speaker                                               qids  \\\n",
       "0  Dawood Ibrahim                                          [Q553191]   \n",
       "1  Patrick Murphy  [Q17418821, Q21170773, Q2224935, Q23418906, Q3...   \n",
       "2            None                                                 []   \n",
       "3      Roy Cooper                    [Q16106910, Q7372694, Q7372695]   \n",
       "4   Herman Torres                                        [Q18285204]   \n",
       "\n",
       "                 date  numOccurrences  \\\n",
       "0 2015-11-17 13:32:58               3   \n",
       "1 2015-12-29 15:42:57               4   \n",
       "2 2015-06-15 21:39:12               1   \n",
       "3 2015-12-08 16:15:05               1   \n",
       "4 2015-01-09 03:39:35               1   \n",
       "\n",
       "                                              probas  \\\n",
       "0  [[Dawood Ibrahim, 0.6072], [None, 0.338], [San...   \n",
       "1  [[Patrick Murphy, 0.8398], [None, 0.1579], [Je...   \n",
       "2  [[None, 0.7388], [Joseph Thompson, 0.2313], [A...   \n",
       "3  [[Roy Cooper, 0.928], [None, 0.0574], [Frank P...   \n",
       "4          [[Herman Torres, 0.9218], [None, 0.0782]]   \n",
       "\n",
       "                                                urls phase country  \n",
       "0  [http://www.newindianexpress.com/nation/Part-o...     E      IN  \n",
       "1  [http://politifact.com/florida/statements/2015...     E      US  \n",
       "2  [http://dailylocal.com/general-news/20150613/n...     E    None  \n",
       "3  [http://digtriad.com/story/news/2015/12/08/sho...     E    None  \n",
       "4  [http://www.wesh.com/news/orange-county-sherif...     E      US  "
      ]
     },
     "execution_count": 42,
     "metadata": {},
     "output_type": "execute_result"
    }
   ],
   "source": [
    "with bz2.open(\"data/quotes-cropped-with-country.json.bz2\", 'rb') as s_file: \n",
    "    df_original = pd.read_json(s_file, lines=True)\n",
    "df_original.head()"
   ]
  },
  {
   "cell_type": "markdown",
   "metadata": {},
   "source": [
    "Only US data is selected."
   ]
  },
  {
   "cell_type": "code",
   "execution_count": 43,
   "metadata": {},
   "outputs": [
    {
     "data": {
      "text/html": [
       "<div>\n",
       "<style scoped>\n",
       "    .dataframe tbody tr th:only-of-type {\n",
       "        vertical-align: middle;\n",
       "    }\n",
       "\n",
       "    .dataframe tbody tr th {\n",
       "        vertical-align: top;\n",
       "    }\n",
       "\n",
       "    .dataframe thead th {\n",
       "        text-align: right;\n",
       "    }\n",
       "</style>\n",
       "<table border=\"1\" class=\"dataframe\">\n",
       "  <thead>\n",
       "    <tr style=\"text-align: right;\">\n",
       "      <th></th>\n",
       "      <th>quoteID</th>\n",
       "      <th>quotation</th>\n",
       "      <th>speaker</th>\n",
       "      <th>qids</th>\n",
       "      <th>date</th>\n",
       "      <th>numOccurrences</th>\n",
       "      <th>probas</th>\n",
       "      <th>urls</th>\n",
       "      <th>phase</th>\n",
       "      <th>country</th>\n",
       "    </tr>\n",
       "  </thead>\n",
       "  <tbody>\n",
       "    <tr>\n",
       "      <th>1</th>\n",
       "      <td>2015-12-29-000719</td>\n",
       "      <td>91 percent of suspected terrorists who attempt...</td>\n",
       "      <td>Patrick Murphy</td>\n",
       "      <td>[Q17418821, Q21170773, Q2224935, Q23418906, Q3...</td>\n",
       "      <td>2015-12-29 15:42:57</td>\n",
       "      <td>4</td>\n",
       "      <td>[[Patrick Murphy, 0.8398], [None, 0.1579], [Je...</td>\n",
       "      <td>[http://politifact.com/florida/statements/2015...</td>\n",
       "      <td>E</td>\n",
       "      <td>US</td>\n",
       "    </tr>\n",
       "    <tr>\n",
       "      <th>4</th>\n",
       "      <td>2015-01-09-024195</td>\n",
       "      <td>I got back inside and then they started shooti...</td>\n",
       "      <td>Herman Torres</td>\n",
       "      <td>[Q18285204]</td>\n",
       "      <td>2015-01-09 03:39:35</td>\n",
       "      <td>1</td>\n",
       "      <td>[[Herman Torres, 0.9218], [None, 0.0782]]</td>\n",
       "      <td>[http://www.wesh.com/news/orange-county-sherif...</td>\n",
       "      <td>E</td>\n",
       "      <td>US</td>\n",
       "    </tr>\n",
       "    <tr>\n",
       "      <th>20</th>\n",
       "      <td>2015-11-26-034388</td>\n",
       "      <td>I'm letting him try to find it for himself. He...</td>\n",
       "      <td>Byron Scott</td>\n",
       "      <td>[Q538009]</td>\n",
       "      <td>2015-11-26 18:51:56</td>\n",
       "      <td>3</td>\n",
       "      <td>[[Byron Scott, 0.8244], [None, 0.1685], [Kobe ...</td>\n",
       "      <td>[http://www.latimes.com/sports/lakers/la-sp-la...</td>\n",
       "      <td>E</td>\n",
       "      <td>US</td>\n",
       "    </tr>\n",
       "    <tr>\n",
       "      <th>24</th>\n",
       "      <td>2015-07-30-026870</td>\n",
       "      <td>He described a shooting that looked nothing li...</td>\n",
       "      <td>Lawrence Middleton</td>\n",
       "      <td>[Q16091535]</td>\n",
       "      <td>2015-07-30 05:00:00</td>\n",
       "      <td>12</td>\n",
       "      <td>[[Lawrence Middleton, 0.8756], [None, 0.1233],...</td>\n",
       "      <td>[http://feeds.latimes.com/~r/features/books/~3...</td>\n",
       "      <td>E</td>\n",
       "      <td>US</td>\n",
       "    </tr>\n",
       "    <tr>\n",
       "      <th>26</th>\n",
       "      <td>2015-08-21-026312</td>\n",
       "      <td>He was not armed, he did not have a gun, our i...</td>\n",
       "      <td>None</td>\n",
       "      <td>[]</td>\n",
       "      <td>2015-08-21 20:54:00</td>\n",
       "      <td>2</td>\n",
       "      <td>[[None, 0.8635], [Sam Dotson, 0.1133], [Michae...</td>\n",
       "      <td>[http://www.latimes.com/nation/la-na-black-mis...</td>\n",
       "      <td>E</td>\n",
       "      <td>US</td>\n",
       "    </tr>\n",
       "  </tbody>\n",
       "</table>\n",
       "</div>"
      ],
      "text/plain": [
       "              quoteID                                          quotation  \\\n",
       "1   2015-12-29-000719  91 percent of suspected terrorists who attempt...   \n",
       "4   2015-01-09-024195  I got back inside and then they started shooti...   \n",
       "20  2015-11-26-034388  I'm letting him try to find it for himself. He...   \n",
       "24  2015-07-30-026870  He described a shooting that looked nothing li...   \n",
       "26  2015-08-21-026312  He was not armed, he did not have a gun, our i...   \n",
       "\n",
       "               speaker                                               qids  \\\n",
       "1       Patrick Murphy  [Q17418821, Q21170773, Q2224935, Q23418906, Q3...   \n",
       "4        Herman Torres                                        [Q18285204]   \n",
       "20         Byron Scott                                          [Q538009]   \n",
       "24  Lawrence Middleton                                        [Q16091535]   \n",
       "26                None                                                 []   \n",
       "\n",
       "                  date  numOccurrences  \\\n",
       "1  2015-12-29 15:42:57               4   \n",
       "4  2015-01-09 03:39:35               1   \n",
       "20 2015-11-26 18:51:56               3   \n",
       "24 2015-07-30 05:00:00              12   \n",
       "26 2015-08-21 20:54:00               2   \n",
       "\n",
       "                                               probas  \\\n",
       "1   [[Patrick Murphy, 0.8398], [None, 0.1579], [Je...   \n",
       "4           [[Herman Torres, 0.9218], [None, 0.0782]]   \n",
       "20  [[Byron Scott, 0.8244], [None, 0.1685], [Kobe ...   \n",
       "24  [[Lawrence Middleton, 0.8756], [None, 0.1233],...   \n",
       "26  [[None, 0.8635], [Sam Dotson, 0.1133], [Michae...   \n",
       "\n",
       "                                                 urls phase country  \n",
       "1   [http://politifact.com/florida/statements/2015...     E      US  \n",
       "4   [http://www.wesh.com/news/orange-county-sherif...     E      US  \n",
       "20  [http://www.latimes.com/sports/lakers/la-sp-la...     E      US  \n",
       "24  [http://feeds.latimes.com/~r/features/books/~3...     E      US  \n",
       "26  [http://www.latimes.com/nation/la-na-black-mis...     E      US  "
      ]
     },
     "execution_count": 43,
     "metadata": {},
     "output_type": "execute_result"
    }
   ],
   "source": [
    "df_us=df_original[df_original['country']=='US']\n",
    "df_us.head()"
   ]
  },
  {
   "cell_type": "markdown",
   "metadata": {},
   "source": [
    "We select only quotes from US national news."
   ]
  },
  {
   "cell_type": "code",
   "execution_count": 44,
   "metadata": {},
   "outputs": [
    {
     "data": {
      "text/html": [
       "<div>\n",
       "<style scoped>\n",
       "    .dataframe tbody tr th:only-of-type {\n",
       "        vertical-align: middle;\n",
       "    }\n",
       "\n",
       "    .dataframe tbody tr th {\n",
       "        vertical-align: top;\n",
       "    }\n",
       "\n",
       "    .dataframe thead th {\n",
       "        text-align: right;\n",
       "    }\n",
       "</style>\n",
       "<table border=\"1\" class=\"dataframe\">\n",
       "  <thead>\n",
       "    <tr style=\"text-align: right;\">\n",
       "      <th></th>\n",
       "      <th>quoteID</th>\n",
       "      <th>quotation</th>\n",
       "      <th>speaker</th>\n",
       "      <th>qids</th>\n",
       "      <th>date</th>\n",
       "      <th>numOccurrences</th>\n",
       "      <th>probas</th>\n",
       "      <th>urls</th>\n",
       "      <th>phase</th>\n",
       "      <th>country</th>\n",
       "    </tr>\n",
       "  </thead>\n",
       "  <tbody>\n",
       "    <tr>\n",
       "      <th>1</th>\n",
       "      <td>2015-12-29-000719</td>\n",
       "      <td>91 percent of suspected terrorists who attempt...</td>\n",
       "      <td>Patrick Murphy</td>\n",
       "      <td>[Q17418821, Q21170773, Q2224935, Q23418906, Q3...</td>\n",
       "      <td>2015-12-29 15:42:57</td>\n",
       "      <td>4</td>\n",
       "      <td>[[Patrick Murphy, 0.8398], [None, 0.1579], [Je...</td>\n",
       "      <td>[http://politifact.com/florida/statements/2015...</td>\n",
       "      <td>E</td>\n",
       "      <td>US</td>\n",
       "    </tr>\n",
       "    <tr>\n",
       "      <th>4</th>\n",
       "      <td>2015-01-09-024195</td>\n",
       "      <td>I got back inside and then they started shooti...</td>\n",
       "      <td>Herman Torres</td>\n",
       "      <td>[Q18285204]</td>\n",
       "      <td>2015-01-09 03:39:35</td>\n",
       "      <td>1</td>\n",
       "      <td>[[Herman Torres, 0.9218], [None, 0.0782]]</td>\n",
       "      <td>[http://www.wesh.com/news/orange-county-sherif...</td>\n",
       "      <td>E</td>\n",
       "      <td>US</td>\n",
       "    </tr>\n",
       "    <tr>\n",
       "      <th>20</th>\n",
       "      <td>2015-11-26-034388</td>\n",
       "      <td>I'm letting him try to find it for himself. He...</td>\n",
       "      <td>Byron Scott</td>\n",
       "      <td>[Q538009]</td>\n",
       "      <td>2015-11-26 18:51:56</td>\n",
       "      <td>3</td>\n",
       "      <td>[[Byron Scott, 0.8244], [None, 0.1685], [Kobe ...</td>\n",
       "      <td>[http://www.latimes.com/sports/lakers/la-sp-la...</td>\n",
       "      <td>E</td>\n",
       "      <td>US</td>\n",
       "    </tr>\n",
       "    <tr>\n",
       "      <th>24</th>\n",
       "      <td>2015-07-30-026870</td>\n",
       "      <td>He described a shooting that looked nothing li...</td>\n",
       "      <td>Lawrence Middleton</td>\n",
       "      <td>[Q16091535]</td>\n",
       "      <td>2015-07-30 05:00:00</td>\n",
       "      <td>12</td>\n",
       "      <td>[[Lawrence Middleton, 0.8756], [None, 0.1233],...</td>\n",
       "      <td>[http://feeds.latimes.com/~r/features/books/~3...</td>\n",
       "      <td>E</td>\n",
       "      <td>US</td>\n",
       "    </tr>\n",
       "    <tr>\n",
       "      <th>26</th>\n",
       "      <td>2015-08-21-026312</td>\n",
       "      <td>He was not armed, he did not have a gun, our i...</td>\n",
       "      <td>None</td>\n",
       "      <td>[]</td>\n",
       "      <td>2015-08-21 20:54:00</td>\n",
       "      <td>2</td>\n",
       "      <td>[[None, 0.8635], [Sam Dotson, 0.1133], [Michae...</td>\n",
       "      <td>[http://www.latimes.com/nation/la-na-black-mis...</td>\n",
       "      <td>E</td>\n",
       "      <td>US</td>\n",
       "    </tr>\n",
       "  </tbody>\n",
       "</table>\n",
       "</div>"
      ],
      "text/plain": [
       "              quoteID                                          quotation  \\\n",
       "1   2015-12-29-000719  91 percent of suspected terrorists who attempt...   \n",
       "4   2015-01-09-024195  I got back inside and then they started shooti...   \n",
       "20  2015-11-26-034388  I'm letting him try to find it for himself. He...   \n",
       "24  2015-07-30-026870  He described a shooting that looked nothing li...   \n",
       "26  2015-08-21-026312  He was not armed, he did not have a gun, our i...   \n",
       "\n",
       "               speaker                                               qids  \\\n",
       "1       Patrick Murphy  [Q17418821, Q21170773, Q2224935, Q23418906, Q3...   \n",
       "4        Herman Torres                                        [Q18285204]   \n",
       "20         Byron Scott                                          [Q538009]   \n",
       "24  Lawrence Middleton                                        [Q16091535]   \n",
       "26                None                                                 []   \n",
       "\n",
       "                  date  numOccurrences  \\\n",
       "1  2015-12-29 15:42:57               4   \n",
       "4  2015-01-09 03:39:35               1   \n",
       "20 2015-11-26 18:51:56               3   \n",
       "24 2015-07-30 05:00:00              12   \n",
       "26 2015-08-21 20:54:00               2   \n",
       "\n",
       "                                               probas  \\\n",
       "1   [[Patrick Murphy, 0.8398], [None, 0.1579], [Je...   \n",
       "4           [[Herman Torres, 0.9218], [None, 0.0782]]   \n",
       "20  [[Byron Scott, 0.8244], [None, 0.1685], [Kobe ...   \n",
       "24  [[Lawrence Middleton, 0.8756], [None, 0.1233],...   \n",
       "26  [[None, 0.8635], [Sam Dotson, 0.1133], [Michae...   \n",
       "\n",
       "                                                 urls phase country  \n",
       "1   [http://politifact.com/florida/statements/2015...     E      US  \n",
       "4   [http://www.wesh.com/news/orange-county-sherif...     E      US  \n",
       "20  [http://www.latimes.com/sports/lakers/la-sp-la...     E      US  \n",
       "24  [http://feeds.latimes.com/~r/features/books/~3...     E      US  \n",
       "26  [http://www.latimes.com/nation/la-na-black-mis...     E      US  "
      ]
     },
     "execution_count": 44,
     "metadata": {},
     "output_type": "execute_result"
    }
   ],
   "source": [
    "def not_international(xs):\n",
    "    for x in xs:\n",
    "        if not 'international' in x:\n",
    "            return True\n",
    "    return False\n",
    "    \n",
    "index=df_us.apply(lambda x : not_international(x['urls']),axis=1 )\n",
    "df_us=df_us[index]\n",
    "df_us.head()"
   ]
  },
  {
   "cell_type": "markdown",
   "metadata": {},
   "source": [
    "The 'quotation' column is extracted, and we assign a default target -1 to each quote.\n",
    "The target value depends on the correlation between the quotation and our context: the value 1 indicates that the quote is related to discussions about mass shooting or gun controls, 0 otherwise."
   ]
  },
  {
   "cell_type": "code",
   "execution_count": 45,
   "metadata": {},
   "outputs": [
    {
     "data": {
      "text/html": [
       "<div>\n",
       "<style scoped>\n",
       "    .dataframe tbody tr th:only-of-type {\n",
       "        vertical-align: middle;\n",
       "    }\n",
       "\n",
       "    .dataframe tbody tr th {\n",
       "        vertical-align: top;\n",
       "    }\n",
       "\n",
       "    .dataframe thead th {\n",
       "        text-align: right;\n",
       "    }\n",
       "</style>\n",
       "<table border=\"1\" class=\"dataframe\">\n",
       "  <thead>\n",
       "    <tr style=\"text-align: right;\">\n",
       "      <th></th>\n",
       "      <th>quotation</th>\n",
       "      <th>target</th>\n",
       "    </tr>\n",
       "  </thead>\n",
       "  <tbody>\n",
       "    <tr>\n",
       "      <th>1</th>\n",
       "      <td>91 percent of suspected terrorists who attempt...</td>\n",
       "      <td>-1</td>\n",
       "    </tr>\n",
       "    <tr>\n",
       "      <th>4</th>\n",
       "      <td>I got back inside and then they started shooti...</td>\n",
       "      <td>-1</td>\n",
       "    </tr>\n",
       "    <tr>\n",
       "      <th>20</th>\n",
       "      <td>I'm letting him try to find it for himself. He...</td>\n",
       "      <td>-1</td>\n",
       "    </tr>\n",
       "    <tr>\n",
       "      <th>24</th>\n",
       "      <td>He described a shooting that looked nothing li...</td>\n",
       "      <td>-1</td>\n",
       "    </tr>\n",
       "    <tr>\n",
       "      <th>26</th>\n",
       "      <td>He was not armed, he did not have a gun, our i...</td>\n",
       "      <td>-1</td>\n",
       "    </tr>\n",
       "  </tbody>\n",
       "</table>\n",
       "</div>"
      ],
      "text/plain": [
       "                                            quotation  target\n",
       "1   91 percent of suspected terrorists who attempt...      -1\n",
       "4   I got back inside and then they started shooti...      -1\n",
       "20  I'm letting him try to find it for himself. He...      -1\n",
       "24  He described a shooting that looked nothing li...      -1\n",
       "26  He was not armed, he did not have a gun, our i...      -1"
      ]
     },
     "execution_count": 45,
     "metadata": {},
     "output_type": "execute_result"
    }
   ],
   "source": [
    "quotations=pd.DataFrame(df_us['quotation'])\n",
    "quotations['target']=-1\n",
    "quotations.head()"
   ]
  },
  {
   "cell_type": "markdown",
   "metadata": {},
   "source": [
    "The file is saved. It will be used in the prediction phase."
   ]
  },
  {
   "cell_type": "code",
   "execution_count": 28,
   "metadata": {},
   "outputs": [],
   "source": [
    "quotations.to_csv('data/us_quotations.csv',index=False)"
   ]
  },
  {
   "cell_type": "markdown",
   "metadata": {},
   "source": [
    "# Natural Language Processing\n",
    "In this phase, we train the Bert model to predict the quotations' target."
   ]
  },
  {
   "cell_type": "code",
   "execution_count": 1,
   "metadata": {},
   "outputs": [],
   "source": [
    "import random\n",
    "import pandas as pd\n",
    "from transformers import BertTokenizer, BertForSequenceClassification\n",
    "from sklearn.utils import shuffle\n",
    "from transformers import AdamW\n",
    "import torch\n",
    "from tqdm.auto import tqdm\n",
    "from torch.nn.utils.rnn import pad_sequence"
   ]
  },
  {
   "cell_type": "markdown",
   "metadata": {},
   "source": [
    "The DataLoader class is created to iteratively group the data into batches."
   ]
  },
  {
   "cell_type": "code",
   "execution_count": 26,
   "metadata": {},
   "outputs": [],
   "source": [
    "class DataLoader:\n",
    "    def __init__(self, df, batch_size, device):\n",
    "        labels = torch.tensor(df.label.to_list()).to(device)\n",
    "        seq = pad_sequence(df.tensor.to_list(), batch_first=True).to(device)\n",
    "        mask = torch.zeros_like(seq)  # Attention mask, so we don't infer on padding\n",
    "        for i, j in enumerate(df.tensor):\n",
    "            mask[i, 0:len(j)] = 1\n",
    "\n",
    "        self.data = [(seq[b:b + batch_size],\n",
    "                       mask[b:b + batch_size],\n",
    "                       labels[b:b + batch_size]) for b in range(0, len(df), batch_size)]\n",
    "\n",
    "    def __iter__(self):\n",
    "        for b in self.data:\n",
    "            yield b\n",
    "\n",
    "    def __len__(self):\n",
    "        return len(self.data)"
   ]
  },
  {
   "cell_type": "markdown",
   "metadata": {},
   "source": [
    "We define the function to compute the accuracy rate."
   ]
  },
  {
   "cell_type": "code",
   "execution_count": 33,
   "metadata": {},
   "outputs": [],
   "source": [
    "def compute_accuracy(model, batch):\n",
    "    model.eval()\n",
    "    count = 0\n",
    "    acc = 0\n",
    "    for seq, mask, labels in tqdm(batch):\n",
    "        pred = model(seq, attention_mask=mask)[0].argmax(axis=1)\n",
    "        acc += (pred == labels).sum().item()\n",
    "        count += len(labels)\n",
    "    accuracy = acc / count\n",
    "    print('accuracy:', accuracy)"
   ]
  },
  {
   "cell_type": "markdown",
   "metadata": {},
   "source": [
    "In order to perform supervised learning, we manually classify and label 1500 quotes. Our training and validation sets are based on them.\n",
    "As we can see from the summary, 1016 quotes are labelled with target 1 and 484 quotes have got target 0."
   ]
  },
  {
   "cell_type": "code",
   "execution_count": 27,
   "metadata": {},
   "outputs": [
    {
     "name": "stdout",
     "output_type": "stream",
     "text": [
      "1016\n",
      "484\n"
     ]
    },
    {
     "data": {
      "text/html": [
       "<div>\n",
       "<style scoped>\n",
       "    .dataframe tbody tr th:only-of-type {\n",
       "        vertical-align: middle;\n",
       "    }\n",
       "\n",
       "    .dataframe tbody tr th {\n",
       "        vertical-align: top;\n",
       "    }\n",
       "\n",
       "    .dataframe thead th {\n",
       "        text-align: right;\n",
       "    }\n",
       "</style>\n",
       "<table border=\"1\" class=\"dataframe\">\n",
       "  <thead>\n",
       "    <tr style=\"text-align: right;\">\n",
       "      <th></th>\n",
       "      <th>quotation</th>\n",
       "      <th>label</th>\n",
       "    </tr>\n",
       "  </thead>\n",
       "  <tbody>\n",
       "    <tr>\n",
       "      <th>15</th>\n",
       "      <td>This is going to happen outside the gun indust...</td>\n",
       "      <td>1</td>\n",
       "    </tr>\n",
       "    <tr>\n",
       "      <th>97</th>\n",
       "      <td>It's all passion and desire while on location ...</td>\n",
       "      <td>0</td>\n",
       "    </tr>\n",
       "    <tr>\n",
       "      <th>167</th>\n",
       "      <td>NRA goes to court over local gun laws in Pa.</td>\n",
       "      <td>1</td>\n",
       "    </tr>\n",
       "    <tr>\n",
       "      <th>269</th>\n",
       "      <td>The facts of this tragedy remain under investi...</td>\n",
       "      <td>1</td>\n",
       "    </tr>\n",
       "    <tr>\n",
       "      <th>352</th>\n",
       "      <td>Was it your intention... to kill Mr. Torres wi...</td>\n",
       "      <td>1</td>\n",
       "    </tr>\n",
       "  </tbody>\n",
       "</table>\n",
       "</div>"
      ],
      "text/plain": [
       "                                             quotation  label\n",
       "15   This is going to happen outside the gun indust...      1\n",
       "97   It's all passion and desire while on location ...      0\n",
       "167       NRA goes to court over local gun laws in Pa.      1\n",
       "269  The facts of this tragedy remain under investi...      1\n",
       "352  Was it your intention... to kill Mr. Torres wi...      1"
      ]
     },
     "execution_count": 27,
     "metadata": {},
     "output_type": "execute_result"
    }
   ],
   "source": [
    "df = pd.read_csv('Data/us_quotations.csv')\n",
    "df = df[df['label'] != -1]\n",
    "print((df['label'] == 1).sum())\n",
    "print((df['label'] == 0).sum())\n",
    "df.head()"
   ]
  },
  {
   "cell_type": "markdown",
   "metadata": {},
   "source": [
    "Each quotation is tokenized with BertTokenizer."
   ]
  },
  {
   "cell_type": "code",
   "execution_count": 28,
   "metadata": {},
   "outputs": [
    {
     "data": {
      "text/html": [
       "<div>\n",
       "<style scoped>\n",
       "    .dataframe tbody tr th:only-of-type {\n",
       "        vertical-align: middle;\n",
       "    }\n",
       "\n",
       "    .dataframe tbody tr th {\n",
       "        vertical-align: top;\n",
       "    }\n",
       "\n",
       "    .dataframe thead th {\n",
       "        text-align: right;\n",
       "    }\n",
       "</style>\n",
       "<table border=\"1\" class=\"dataframe\">\n",
       "  <thead>\n",
       "    <tr style=\"text-align: right;\">\n",
       "      <th></th>\n",
       "      <th>label</th>\n",
       "      <th>tensor</th>\n",
       "      <th>length</th>\n",
       "    </tr>\n",
       "  </thead>\n",
       "  <tbody>\n",
       "    <tr>\n",
       "      <th>15</th>\n",
       "      <td>1</td>\n",
       "      <td>[tensor(101), tensor(1188), tensor(1110), tens...</td>\n",
       "      <td>29</td>\n",
       "    </tr>\n",
       "    <tr>\n",
       "      <th>97</th>\n",
       "      <td>0</td>\n",
       "      <td>[tensor(101), tensor(1135), tensor(112), tenso...</td>\n",
       "      <td>56</td>\n",
       "    </tr>\n",
       "    <tr>\n",
       "      <th>167</th>\n",
       "      <td>1</td>\n",
       "      <td>[tensor(101), tensor(151), tensor(9664), tenso...</td>\n",
       "      <td>14</td>\n",
       "    </tr>\n",
       "    <tr>\n",
       "      <th>269</th>\n",
       "      <td>1</td>\n",
       "      <td>[tensor(101), tensor(1109), tensor(9193), tens...</td>\n",
       "      <td>65</td>\n",
       "    </tr>\n",
       "    <tr>\n",
       "      <th>352</th>\n",
       "      <td>1</td>\n",
       "      <td>[tensor(101), tensor(3982), tensor(1122), tens...</td>\n",
       "      <td>18</td>\n",
       "    </tr>\n",
       "  </tbody>\n",
       "</table>\n",
       "</div>"
      ],
      "text/plain": [
       "     label                                             tensor  length\n",
       "15       1  [tensor(101), tensor(1188), tensor(1110), tens...      29\n",
       "97       0  [tensor(101), tensor(1135), tensor(112), tenso...      56\n",
       "167      1  [tensor(101), tensor(151), tensor(9664), tenso...      14\n",
       "269      1  [tensor(101), tensor(1109), tensor(9193), tens...      65\n",
       "352      1  [tensor(101), tensor(3982), tensor(1122), tens...      18"
      ]
     },
     "execution_count": 28,
     "metadata": {},
     "output_type": "execute_result"
    }
   ],
   "source": [
    "tokenizer = BertTokenizer.from_pretrained(\"bert-base-cased\")\n",
    "df['tensor'] = df.quotation.apply(lambda x: torch.tensor(tokenizer.encode(x),\n",
    "                                                             dtype=torch.long))\n",
    "df['length'] = df.tensor.apply(len)\n",
    "df = df[['label', 'tensor', 'length']]\n",
    "df.head()"
   ]
  },
  {
   "cell_type": "markdown",
   "metadata": {},
   "source": [
    "The data is shuffled. Then, we take 1000 quotes into the training set, while the 500 remaining quotes compose the validation set."
   ]
  },
  {
   "cell_type": "code",
   "execution_count": 29,
   "metadata": {},
   "outputs": [],
   "source": [
    "df = shuffle(df)\n",
    "train_data = df[:1000]\n",
    "eval_data = df[1000:]\n",
    "train_batch = DataLoader(train_data, 4, 'cuda')\n",
    "eval_batch = DataLoader(eval_data, 4, 'cuda')"
   ]
  },
  {
   "cell_type": "code",
   "execution_count": null,
   "metadata": {},
   "outputs": [],
   "source": [
    "A pre-trained Bert model is loaded here. We choose to use AdamW optimizer with learning rate 1e-5."
   ]
  },
  {
   "cell_type": "code",
   "execution_count": 30,
   "metadata": {},
   "outputs": [
    {
     "name": "stderr",
     "output_type": "stream",
     "text": [
      "Some weights of the model checkpoint at bert-base-cased were not used when initializing BertForSequenceClassification: ['cls.predictions.transform.LayerNorm.bias', 'cls.predictions.transform.dense.bias', 'cls.predictions.bias', 'cls.predictions.decoder.weight', 'cls.predictions.transform.dense.weight', 'cls.seq_relationship.weight', 'cls.predictions.transform.LayerNorm.weight', 'cls.seq_relationship.bias']\n",
      "- This IS expected if you are initializing BertForSequenceClassification from the checkpoint of a model trained on another task or with another architecture (e.g. initializing a BertForSequenceClassification model from a BertForPreTraining model).\n",
      "- This IS NOT expected if you are initializing BertForSequenceClassification from the checkpoint of a model that you expect to be exactly identical (initializing a BertForSequenceClassification model from a BertForSequenceClassification model).\n",
      "Some weights of BertForSequenceClassification were not initialized from the model checkpoint at bert-base-cased and are newly initialized: ['classifier.weight', 'classifier.bias']\n",
      "You should probably TRAIN this model on a down-stream task to be able to use it for predictions and inference.\n"
     ]
    }
   ],
   "source": [
    "model = BertForSequenceClassification.from_pretrained('bert-base-cased').to('cuda')\n",
    "optimizer = AdamW(model.parameters(), lr=1e-5)"
   ]
  },
  {
   "cell_type": "markdown",
   "metadata": {},
   "source": [
    "Now the model is trained and the accuracy rate is shown."
   ]
  },
  {
   "cell_type": "code",
   "execution_count": 36,
   "metadata": {},
   "outputs": [
    {
     "name": "stdout",
     "output_type": "stream",
     "text": [
      "Epoch: 0\n"
     ]
    },
    {
     "data": {
      "application/vnd.jupyter.widget-view+json": {
       "model_id": "e4546e518e7249d0b41410fbfb1f3765",
       "version_major": 2,
       "version_minor": 0
      },
      "text/plain": [
       "HBox(children=(FloatProgress(value=0.0, max=250.0), HTML(value='')))"
      ]
     },
     "metadata": {},
     "output_type": "display_data"
    },
    {
     "name": "stdout",
     "output_type": "stream",
     "text": [
      "\n"
     ]
    },
    {
     "data": {
      "application/vnd.jupyter.widget-view+json": {
       "model_id": "44695dbe8e82407b9306d196cd9e2ad4",
       "version_major": 2,
       "version_minor": 0
      },
      "text/plain": [
       "HBox(children=(FloatProgress(value=0.0, max=125.0), HTML(value='')))"
      ]
     },
     "metadata": {},
     "output_type": "display_data"
    },
    {
     "name": "stdout",
     "output_type": "stream",
     "text": [
      "\n",
      "accuracy: 0.966\n"
     ]
    }
   ],
   "source": [
    "for epoch in range(1):\n",
    "    acc_loss = 0\n",
    "    print('Epoch:', epoch)\n",
    "    model.train()\n",
    "    for i, (seq, mask, labels) in enumerate(tqdm(train_batch)):\n",
    "        optimizer.zero_grad()\n",
    "        loss, pred = model(seq, attention_mask=mask, labels=labels)[:2]\n",
    "        acc_loss += loss.item()\n",
    "        loss.backward()\n",
    "        torch.nn.utils.clip_grad_norm_(model.parameters(), 1)\n",
    "        optimizer.step()\n",
    "    compute_accuracy(model, eval_batch)"
   ]
  },
  {
   "cell_type": "code",
   "execution_count": 37,
   "metadata": {},
   "outputs": [],
   "source": [
    "model.save_pretrained('bert_model')"
   ]
  },
  {
   "cell_type": "markdown",
   "metadata": {},
   "source": [
    "The prediction is made on each quotation in our dataset, through the trained model."
   ]
  },
  {
   "cell_type": "code",
   "execution_count": 39,
   "metadata": {},
   "outputs": [
    {
     "name": "stdout",
     "output_type": "stream",
     "text": [
      "processing data\n",
      "start prediction\n"
     ]
    },
    {
     "data": {
      "application/vnd.jupyter.widget-view+json": {
       "model_id": "8933c242e2844aca95cf12b662e64256",
       "version_major": 2,
       "version_minor": 0
      },
      "text/plain": [
       "HBox(children=(FloatProgress(value=0.0, max=107457.0), HTML(value='')))"
      ]
     },
     "metadata": {},
     "output_type": "display_data"
    },
    {
     "name": "stdout",
     "output_type": "stream",
     "text": [
      "\n"
     ]
    }
   ],
   "source": [
    "df = pd.read_csv('Data/us_quotations.csv')\n",
    "print('processing data')\n",
    "tokenizer = BertTokenizer.from_pretrained(\"bert-base-cased\")\n",
    "df['tensor'] = df.quotation.apply(lambda x: torch.tensor(tokenizer.encode(x[:512]),\n",
    "                                                         dtype=torch.long))\n",
    "\n",
    "test_batch = DataLoader(df, 1, 'cuda')\n",
    "\n",
    "model = BertForSequenceClassification.from_pretrained('bert_model').to('cuda')\n",
    "predictions = []\n",
    "model.eval()\n",
    "print('start prediction')\n",
    "for seq, mask, labels in tqdm(test_batch):\n",
    "    pred = model(seq, attention_mask=mask)[0].argmax(axis=1)\n",
    "    predictions.append(pred.item())\n",
    "\n",
    "df['label'] = predictions\n",
    "df[['quotation', 'label']].to_csv('data/us_predicted_quotations.csv', index=False)"
   ]
  },
  {
   "cell_type": "markdown",
   "metadata": {},
   "source": [
    "After the prediction phase, the assigned targets are merged to the original data."
   ]
  },
  {
   "cell_type": "code",
   "execution_count": 49,
   "metadata": {},
   "outputs": [
    {
     "data": {
      "text/html": [
       "<div>\n",
       "<style scoped>\n",
       "    .dataframe tbody tr th:only-of-type {\n",
       "        vertical-align: middle;\n",
       "    }\n",
       "\n",
       "    .dataframe tbody tr th {\n",
       "        vertical-align: top;\n",
       "    }\n",
       "\n",
       "    .dataframe thead th {\n",
       "        text-align: right;\n",
       "    }\n",
       "</style>\n",
       "<table border=\"1\" class=\"dataframe\">\n",
       "  <thead>\n",
       "    <tr style=\"text-align: right;\">\n",
       "      <th></th>\n",
       "      <th>quoteID</th>\n",
       "      <th>quotation</th>\n",
       "      <th>speaker</th>\n",
       "      <th>qids</th>\n",
       "      <th>date</th>\n",
       "      <th>numOccurrences</th>\n",
       "      <th>probas</th>\n",
       "      <th>urls</th>\n",
       "      <th>phase</th>\n",
       "      <th>country</th>\n",
       "      <th>label</th>\n",
       "    </tr>\n",
       "  </thead>\n",
       "  <tbody>\n",
       "    <tr>\n",
       "      <th>1</th>\n",
       "      <td>2015-12-29-000719</td>\n",
       "      <td>91 percent of suspected terrorists who attempt...</td>\n",
       "      <td>Patrick Murphy</td>\n",
       "      <td>[Q17418821, Q21170773, Q2224935, Q23418906, Q3...</td>\n",
       "      <td>2015-12-29 15:42:57</td>\n",
       "      <td>4</td>\n",
       "      <td>[[Patrick Murphy, 0.8398], [None, 0.1579], [Je...</td>\n",
       "      <td>[http://politifact.com/florida/statements/2015...</td>\n",
       "      <td>E</td>\n",
       "      <td>US</td>\n",
       "      <td>1</td>\n",
       "    </tr>\n",
       "    <tr>\n",
       "      <th>4</th>\n",
       "      <td>2015-01-09-024195</td>\n",
       "      <td>I got back inside and then they started shooti...</td>\n",
       "      <td>Herman Torres</td>\n",
       "      <td>[Q18285204]</td>\n",
       "      <td>2015-01-09 03:39:35</td>\n",
       "      <td>1</td>\n",
       "      <td>[[Herman Torres, 0.9218], [None, 0.0782]]</td>\n",
       "      <td>[http://www.wesh.com/news/orange-county-sherif...</td>\n",
       "      <td>E</td>\n",
       "      <td>US</td>\n",
       "      <td>1</td>\n",
       "    </tr>\n",
       "    <tr>\n",
       "      <th>20</th>\n",
       "      <td>2015-11-26-034388</td>\n",
       "      <td>I'm letting him try to find it for himself. He...</td>\n",
       "      <td>Byron Scott</td>\n",
       "      <td>[Q538009]</td>\n",
       "      <td>2015-11-26 18:51:56</td>\n",
       "      <td>3</td>\n",
       "      <td>[[Byron Scott, 0.8244], [None, 0.1685], [Kobe ...</td>\n",
       "      <td>[http://www.latimes.com/sports/lakers/la-sp-la...</td>\n",
       "      <td>E</td>\n",
       "      <td>US</td>\n",
       "      <td>0</td>\n",
       "    </tr>\n",
       "    <tr>\n",
       "      <th>24</th>\n",
       "      <td>2015-07-30-026870</td>\n",
       "      <td>He described a shooting that looked nothing li...</td>\n",
       "      <td>Lawrence Middleton</td>\n",
       "      <td>[Q16091535]</td>\n",
       "      <td>2015-07-30 05:00:00</td>\n",
       "      <td>12</td>\n",
       "      <td>[[Lawrence Middleton, 0.8756], [None, 0.1233],...</td>\n",
       "      <td>[http://feeds.latimes.com/~r/features/books/~3...</td>\n",
       "      <td>E</td>\n",
       "      <td>US</td>\n",
       "      <td>1</td>\n",
       "    </tr>\n",
       "    <tr>\n",
       "      <th>26</th>\n",
       "      <td>2015-08-21-026312</td>\n",
       "      <td>He was not armed, he did not have a gun, our i...</td>\n",
       "      <td>None</td>\n",
       "      <td>[]</td>\n",
       "      <td>2015-08-21 20:54:00</td>\n",
       "      <td>2</td>\n",
       "      <td>[[None, 0.8635], [Sam Dotson, 0.1133], [Michae...</td>\n",
       "      <td>[http://www.latimes.com/nation/la-na-black-mis...</td>\n",
       "      <td>E</td>\n",
       "      <td>US</td>\n",
       "      <td>1</td>\n",
       "    </tr>\n",
       "  </tbody>\n",
       "</table>\n",
       "</div>"
      ],
      "text/plain": [
       "              quoteID                                          quotation  \\\n",
       "1   2015-12-29-000719  91 percent of suspected terrorists who attempt...   \n",
       "4   2015-01-09-024195  I got back inside and then they started shooti...   \n",
       "20  2015-11-26-034388  I'm letting him try to find it for himself. He...   \n",
       "24  2015-07-30-026870  He described a shooting that looked nothing li...   \n",
       "26  2015-08-21-026312  He was not armed, he did not have a gun, our i...   \n",
       "\n",
       "               speaker                                               qids  \\\n",
       "1       Patrick Murphy  [Q17418821, Q21170773, Q2224935, Q23418906, Q3...   \n",
       "4        Herman Torres                                        [Q18285204]   \n",
       "20         Byron Scott                                          [Q538009]   \n",
       "24  Lawrence Middleton                                        [Q16091535]   \n",
       "26                None                                                 []   \n",
       "\n",
       "                  date  numOccurrences  \\\n",
       "1  2015-12-29 15:42:57               4   \n",
       "4  2015-01-09 03:39:35               1   \n",
       "20 2015-11-26 18:51:56               3   \n",
       "24 2015-07-30 05:00:00              12   \n",
       "26 2015-08-21 20:54:00               2   \n",
       "\n",
       "                                               probas  \\\n",
       "1   [[Patrick Murphy, 0.8398], [None, 0.1579], [Je...   \n",
       "4           [[Herman Torres, 0.9218], [None, 0.0782]]   \n",
       "20  [[Byron Scott, 0.8244], [None, 0.1685], [Kobe ...   \n",
       "24  [[Lawrence Middleton, 0.8756], [None, 0.1233],...   \n",
       "26  [[None, 0.8635], [Sam Dotson, 0.1133], [Michae...   \n",
       "\n",
       "                                                 urls phase country  label  \n",
       "1   [http://politifact.com/florida/statements/2015...     E      US      1  \n",
       "4   [http://www.wesh.com/news/orange-county-sherif...     E      US      1  \n",
       "20  [http://www.latimes.com/sports/lakers/la-sp-la...     E      US      0  \n",
       "24  [http://feeds.latimes.com/~r/features/books/~3...     E      US      1  \n",
       "26  [http://www.latimes.com/nation/la-na-black-mis...     E      US      1  "
      ]
     },
     "execution_count": 49,
     "metadata": {},
     "output_type": "execute_result"
    }
   ],
   "source": [
    "df_us['label']=predictions\n",
    "df_us.head()"
   ]
  },
  {
   "cell_type": "markdown",
   "metadata": {},
   "source": [
    "We can notice that our dataset contains about 80 thousands of quotes related to discussions about shootings and gun controls, while the other ones are not related to our topics."
   ]
  },
  {
   "cell_type": "code",
   "execution_count": 50,
   "metadata": {},
   "outputs": [
    {
     "name": "stdout",
     "output_type": "stream",
     "text": [
      "79158\n",
      "28299\n"
     ]
    }
   ],
   "source": [
    "print((df_us['label']==1).sum())\n",
    "print((df_us['label']==0).sum())"
   ]
  },
  {
   "cell_type": "code",
   "execution_count": null,
   "metadata": {},
   "outputs": [],
   "source": [
    "Some examples of related and unrelated quotes are printed."
   ]
  },
  {
   "cell_type": "code",
   "execution_count": 55,
   "metadata": {},
   "outputs": [
    {
     "data": {
      "text/plain": [
       "1     91 percent of suspected terrorists who attempt...\n",
       "4     I got back inside and then they started shooti...\n",
       "24    He described a shooting that looked nothing li...\n",
       "26    He was not armed, he did not have a gun, our i...\n",
       "33    Law abiding Americans owning guns is not the p...\n",
       "Name: quotation, dtype: object"
      ]
     },
     "execution_count": 55,
     "metadata": {},
     "output_type": "execute_result"
    }
   ],
   "source": [
    "df_us[df_us['label']==1]['quotation'].head()"
   ]
  },
  {
   "cell_type": "code",
   "execution_count": 57,
   "metadata": {},
   "outputs": [
    {
     "name": "stdout",
     "output_type": "stream",
     "text": [
      "20    I'm letting him try to find it for himself. He...\n",
      "27    I didn't think of that at all. I should have s...\n",
      "35    Maybe a lot of people don't know this, but Sea...\n",
      "36    Measles vaccine in modified form also effectiv...\n",
      "69    Studio licensing practices means it often take...\n",
      "Name: quotation, dtype: object\n"
     ]
    }
   ],
   "source": [
    "df_us[df_us['label']==0]['quotation'].head()"
   ]
  },
  {
   "cell_type": "markdown",
   "metadata": {},
   "source": [
    "The unrelated quotes are removed from the dataset."
   ]
  },
  {
   "cell_type": "code",
   "execution_count": 58,
   "metadata": {},
   "outputs": [
    {
     "data": {
      "text/html": [
       "<div>\n",
       "<style scoped>\n",
       "    .dataframe tbody tr th:only-of-type {\n",
       "        vertical-align: middle;\n",
       "    }\n",
       "\n",
       "    .dataframe tbody tr th {\n",
       "        vertical-align: top;\n",
       "    }\n",
       "\n",
       "    .dataframe thead th {\n",
       "        text-align: right;\n",
       "    }\n",
       "</style>\n",
       "<table border=\"1\" class=\"dataframe\">\n",
       "  <thead>\n",
       "    <tr style=\"text-align: right;\">\n",
       "      <th></th>\n",
       "      <th>quoteID</th>\n",
       "      <th>quotation</th>\n",
       "      <th>speaker</th>\n",
       "      <th>qids</th>\n",
       "      <th>date</th>\n",
       "      <th>numOccurrences</th>\n",
       "      <th>probas</th>\n",
       "      <th>urls</th>\n",
       "      <th>phase</th>\n",
       "      <th>country</th>\n",
       "      <th>label</th>\n",
       "    </tr>\n",
       "  </thead>\n",
       "  <tbody>\n",
       "    <tr>\n",
       "      <th>1</th>\n",
       "      <td>2015-12-29-000719</td>\n",
       "      <td>91 percent of suspected terrorists who attempt...</td>\n",
       "      <td>Patrick Murphy</td>\n",
       "      <td>[Q17418821, Q21170773, Q2224935, Q23418906, Q3...</td>\n",
       "      <td>2015-12-29 15:42:57</td>\n",
       "      <td>4</td>\n",
       "      <td>[[Patrick Murphy, 0.8398], [None, 0.1579], [Je...</td>\n",
       "      <td>[http://politifact.com/florida/statements/2015...</td>\n",
       "      <td>E</td>\n",
       "      <td>US</td>\n",
       "      <td>1</td>\n",
       "    </tr>\n",
       "    <tr>\n",
       "      <th>4</th>\n",
       "      <td>2015-01-09-024195</td>\n",
       "      <td>I got back inside and then they started shooti...</td>\n",
       "      <td>Herman Torres</td>\n",
       "      <td>[Q18285204]</td>\n",
       "      <td>2015-01-09 03:39:35</td>\n",
       "      <td>1</td>\n",
       "      <td>[[Herman Torres, 0.9218], [None, 0.0782]]</td>\n",
       "      <td>[http://www.wesh.com/news/orange-county-sherif...</td>\n",
       "      <td>E</td>\n",
       "      <td>US</td>\n",
       "      <td>1</td>\n",
       "    </tr>\n",
       "    <tr>\n",
       "      <th>24</th>\n",
       "      <td>2015-07-30-026870</td>\n",
       "      <td>He described a shooting that looked nothing li...</td>\n",
       "      <td>Lawrence Middleton</td>\n",
       "      <td>[Q16091535]</td>\n",
       "      <td>2015-07-30 05:00:00</td>\n",
       "      <td>12</td>\n",
       "      <td>[[Lawrence Middleton, 0.8756], [None, 0.1233],...</td>\n",
       "      <td>[http://feeds.latimes.com/~r/features/books/~3...</td>\n",
       "      <td>E</td>\n",
       "      <td>US</td>\n",
       "      <td>1</td>\n",
       "    </tr>\n",
       "    <tr>\n",
       "      <th>26</th>\n",
       "      <td>2015-08-21-026312</td>\n",
       "      <td>He was not armed, he did not have a gun, our i...</td>\n",
       "      <td>None</td>\n",
       "      <td>[]</td>\n",
       "      <td>2015-08-21 20:54:00</td>\n",
       "      <td>2</td>\n",
       "      <td>[[None, 0.8635], [Sam Dotson, 0.1133], [Michae...</td>\n",
       "      <td>[http://www.latimes.com/nation/la-na-black-mis...</td>\n",
       "      <td>E</td>\n",
       "      <td>US</td>\n",
       "      <td>1</td>\n",
       "    </tr>\n",
       "    <tr>\n",
       "      <th>33</th>\n",
       "      <td>2015-12-07-058906</td>\n",
       "      <td>Law abiding Americans owning guns is not the p...</td>\n",
       "      <td>Ralph Peters</td>\n",
       "      <td>[Q7287957]</td>\n",
       "      <td>2015-12-07 20:31:06</td>\n",
       "      <td>1</td>\n",
       "      <td>[[Ralph Peters, 0.8094], [Stuart Varney, 0.142...</td>\n",
       "      <td>[http://www.ibtimes.co.uk/obama-such-total-py-...</td>\n",
       "      <td>E</td>\n",
       "      <td>US</td>\n",
       "      <td>1</td>\n",
       "    </tr>\n",
       "  </tbody>\n",
       "</table>\n",
       "</div>"
      ],
      "text/plain": [
       "              quoteID                                          quotation  \\\n",
       "1   2015-12-29-000719  91 percent of suspected terrorists who attempt...   \n",
       "4   2015-01-09-024195  I got back inside and then they started shooti...   \n",
       "24  2015-07-30-026870  He described a shooting that looked nothing li...   \n",
       "26  2015-08-21-026312  He was not armed, he did not have a gun, our i...   \n",
       "33  2015-12-07-058906  Law abiding Americans owning guns is not the p...   \n",
       "\n",
       "               speaker                                               qids  \\\n",
       "1       Patrick Murphy  [Q17418821, Q21170773, Q2224935, Q23418906, Q3...   \n",
       "4        Herman Torres                                        [Q18285204]   \n",
       "24  Lawrence Middleton                                        [Q16091535]   \n",
       "26                None                                                 []   \n",
       "33        Ralph Peters                                         [Q7287957]   \n",
       "\n",
       "                  date  numOccurrences  \\\n",
       "1  2015-12-29 15:42:57               4   \n",
       "4  2015-01-09 03:39:35               1   \n",
       "24 2015-07-30 05:00:00              12   \n",
       "26 2015-08-21 20:54:00               2   \n",
       "33 2015-12-07 20:31:06               1   \n",
       "\n",
       "                                               probas  \\\n",
       "1   [[Patrick Murphy, 0.8398], [None, 0.1579], [Je...   \n",
       "4           [[Herman Torres, 0.9218], [None, 0.0782]]   \n",
       "24  [[Lawrence Middleton, 0.8756], [None, 0.1233],...   \n",
       "26  [[None, 0.8635], [Sam Dotson, 0.1133], [Michae...   \n",
       "33  [[Ralph Peters, 0.8094], [Stuart Varney, 0.142...   \n",
       "\n",
       "                                                 urls phase country  label  \n",
       "1   [http://politifact.com/florida/statements/2015...     E      US      1  \n",
       "4   [http://www.wesh.com/news/orange-county-sherif...     E      US      1  \n",
       "24  [http://feeds.latimes.com/~r/features/books/~3...     E      US      1  \n",
       "26  [http://www.latimes.com/nation/la-na-black-mis...     E      US      1  \n",
       "33  [http://www.ibtimes.co.uk/obama-such-total-py-...     E      US      1  "
      ]
     },
     "execution_count": 58,
     "metadata": {},
     "output_type": "execute_result"
    }
   ],
   "source": [
    "df_us=df_us[df_us['label']==1]\n",
    "df_us.head()"
   ]
  },
  {
   "cell_type": "code",
   "execution_count": 60,
   "metadata": {},
   "outputs": [
    {
     "name": "stderr",
     "output_type": "stream",
     "text": [
      "C:\\Users\\Doo\\AppData\\Local\\Temp/ipykernel_24428/4278808387.py:1: FutureWarning: In a future version of pandas all arguments of DataFrame.drop except for the argument 'labels' will be keyword-only\n",
      "  df_us.drop('label',1).to_csv('data/us_quotes.csv',index=False)\n"
     ]
    }
   ],
   "source": [
    "df_us.drop('label',1).to_csv('data/us_quotes.csv',index=False)"
   ]
  },
  {
   "cell_type": "code",
   "execution_count": null,
   "metadata": {},
   "outputs": [],
   "source": []
  }
 ],
 "metadata": {
  "kernelspec": {
   "display_name": "Python 3 (ipykernel)",
   "language": "python",
   "name": "python3"
  },
  "language_info": {
   "codemirror_mode": {
    "name": "ipython",
    "version": 3
   },
   "file_extension": ".py",
   "mimetype": "text/x-python",
   "name": "python",
   "nbconvert_exporter": "python",
   "pygments_lexer": "ipython3",
   "version": "3.8.5"
  }
 },
 "nbformat": 4,
 "nbformat_minor": 4
}
